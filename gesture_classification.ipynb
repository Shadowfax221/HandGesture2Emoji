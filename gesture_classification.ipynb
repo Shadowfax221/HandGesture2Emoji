{
 "cells": [
  {
   "cell_type": "code",
   "execution_count": 28,
   "metadata": {},
   "outputs": [
    {
     "name": "stdout",
     "output_type": "stream",
     "text": [
      "['call', 'dislike', 'fist', 'four', 'like', 'mute', 'ok', 'one', 'palm', 'peace', 'peace_inverted', 'rock', 'stop', 'stop_inverted', 'three', 'three2', 'two_up', 'two_up_inverted']\n"
     ]
    }
   ],
   "source": [
    "# TMP: print all labels\n",
    "import os\n",
    "\n",
    "# Path to your dataset directory\n",
    "dataset_directory = \"E:/MyDatasets/hagrid_dataset_512\"\n",
    "\n",
    "# List to hold folder names\n",
    "folder_names = []\n",
    "\n",
    "# Check if the directory exists\n",
    "if os.path.exists(dataset_directory):\n",
    "    # Iterate over all items in the directory\n",
    "    for item in os.listdir(dataset_directory):\n",
    "        # Construct full path\n",
    "        item_path = os.path.join(dataset_directory, item)\n",
    "        # Check if it's a directory and not a file\n",
    "        if os.path.isdir(item_path):\n",
    "            folder_names.append(item)  # Add the folder name to the list\n",
    "else:\n",
    "    print(f\"Directory does not exist: {dataset_directory}\")\n",
    "\n",
    "# Now, folder_names list contains all the folder names in the specified directory\n",
    "print(folder_names)\n"
   ]
  },
  {
   "cell_type": "markdown",
   "metadata": {},
   "source": [
    "# Gesture Classification\n",
    "\n",
    "This notebook is used to train classification models from csv dataset. \n",
    "\n",
    "> shift and rotation \n",
    "\n",
    "<a href=\"#evaluation\">Go to Evaluation Cell</a>"
   ]
  },
  {
   "cell_type": "code",
   "execution_count": 1,
   "metadata": {},
   "outputs": [
    {
     "name": "stdout",
     "output_type": "stream",
     "text": [
      "WARNING:tensorflow:From c:\\Users\\Ian\\git\\553.806_Capstone_HandGesture\\.venv\\Lib\\site-packages\\keras\\src\\losses.py:2976: The name tf.losses.sparse_softmax_cross_entropy is deprecated. Please use tf.compat.v1.losses.sparse_softmax_cross_entropy instead.\n",
      "\n"
     ]
    }
   ],
   "source": [
    "import numpy as np\n",
    "import pandas as pd\n",
    "import matplotlib.pyplot as plt\n",
    "\n",
    "import tensorflow as tf\n",
    "from sklearn.model_selection import train_test_split\n",
    "\n",
    "RANDOM_SEED = 42"
   ]
  },
  {
   "cell_type": "code",
   "execution_count": 2,
   "metadata": {},
   "outputs": [],
   "source": [
    "# set up\n",
    "from DataPrepare import HandDataPrepare\n",
    "HandLandmarkPrepare = HandDataPrepare()\n",
    "\n",
    "dataset = 'datasets/HandLandmarks.csv'\n",
    "model_save_path = 'models/gesture_classifier.hdf5'\n",
    "tflite_save_path = 'models/gesture_classifier.tflite'\n",
    "\n",
    "LABELS = HandLandmarkPrepare.LABELS\n",
    "NUM_CLASSES = HandLandmarkPrepare.NUM_CLASSES"
   ]
  },
  {
   "cell_type": "markdown",
   "metadata": {},
   "source": [
    "## Dataset Preparation"
   ]
  },
  {
   "cell_type": "code",
   "execution_count": 3,
   "metadata": {},
   "outputs": [],
   "source": [
    "# Load the datasets and apply train_test_split\n",
    "df = pd.read_csv(dataset, header=None, dtype='float32')\n",
    "\n",
    "y_dataset = df.iloc[:, 0].values.astype('int32')\n",
    "X_dataset = df.iloc[:, 1:].values"
   ]
  },
  {
   "cell_type": "code",
   "execution_count": 4,
   "metadata": {},
   "outputs": [
    {
     "data": {
      "text/plain": [
       "array([[ 1.        ,  0.        ,  0.        , ..., -0.10216434,\n",
       "        -0.13508339, -0.03064877],\n",
       "       [ 0.        ,  0.        ,  0.        , ...,  0.14574052,\n",
       "        -0.14397112, -0.05501493],\n",
       "       [ 0.        ,  0.        ,  0.        , ...,  0.11213671,\n",
       "        -0.14468998, -0.03186031],\n",
       "       ...,\n",
       "       [ 0.        ,  0.        ,  0.        , ...,  0.03444985,\n",
       "        -0.13605247, -0.00870891],\n",
       "       [ 1.        ,  0.        ,  0.        , ..., -0.08305884,\n",
       "        -0.10387042, -0.01509997],\n",
       "       [ 1.        ,  0.        ,  0.        , ..., -0.07646123,\n",
       "        -0.09891637, -0.00968494]], dtype=float32)"
      ]
     },
     "execution_count": 4,
     "metadata": {},
     "output_type": "execute_result"
    }
   ],
   "source": [
    "X_dataset"
   ]
  },
  {
   "cell_type": "code",
   "execution_count": 5,
   "metadata": {},
   "outputs": [],
   "source": [
    "X_train, X_test, y_train, y_test = train_test_split(X_dataset, y_dataset, train_size=0.75, random_state=RANDOM_SEED)"
   ]
  },
  {
   "cell_type": "code",
   "execution_count": 6,
   "metadata": {},
   "outputs": [
    {
     "data": {
      "text/plain": [
       "array([11, 10,  4, ...,  5,  0,  7])"
      ]
     },
     "execution_count": 6,
     "metadata": {},
     "output_type": "execute_result"
    }
   ],
   "source": [
    "y_train"
   ]
  },
  {
   "cell_type": "code",
   "execution_count": 7,
   "metadata": {},
   "outputs": [
    {
     "data": {
      "text/plain": [
       "array([ 0.00000000e+00,  0.00000000e+00,  0.00000000e+00,  0.00000000e+00,\n",
       "       -3.84705365e-02, -4.04734761e-02, -5.18343132e-03, -5.13279475e-02,\n",
       "       -7.90716410e-02, -8.85298010e-03, -4.31692600e-02, -1.11090571e-01,\n",
       "       -1.25077050e-02, -2.77799889e-02, -1.24602810e-01, -1.57617237e-02,\n",
       "        7.92261845e-18, -1.02456622e-01, -4.73904982e-03,  2.17009895e-02,\n",
       "       -1.41244307e-01, -1.19626960e-02,  3.50580178e-02, -1.62744284e-01,\n",
       "       -1.69818103e-02,  4.68660519e-02, -1.79199353e-01, -2.05787234e-02,\n",
       "        3.27351689e-02, -9.29414183e-02, -6.57391502e-03,  5.62498607e-02,\n",
       "       -1.37038067e-01, -1.24754729e-02,  6.82639554e-02, -1.62858278e-01,\n",
       "       -1.60586387e-02,  7.92608112e-02, -1.82582468e-01, -1.89216938e-02,\n",
       "        5.86342514e-02, -7.90141895e-02, -9.51563288e-03,  8.14785138e-02,\n",
       "       -1.20038964e-01, -1.52714122e-02,  9.30225775e-02, -1.44597679e-01,\n",
       "       -1.92355644e-02,  1.01017691e-01, -1.64029121e-01, -2.17267089e-02,\n",
       "        7.89035335e-02, -6.14919700e-02, -1.30737266e-02,  9.88399163e-02,\n",
       "       -9.11327228e-02, -1.56485997e-02,  1.07850499e-01, -1.09716140e-01,\n",
       "       -1.64962467e-02,  1.14126325e-01, -1.25828877e-01, -1.68874506e-02],\n",
       "      dtype=float32)"
      ]
     },
     "execution_count": 7,
     "metadata": {},
     "output_type": "execute_result"
    }
   ],
   "source": [
    "X_train[0]"
   ]
  },
  {
   "cell_type": "code",
   "execution_count": 8,
   "metadata": {},
   "outputs": [
    {
     "name": "stdout",
     "output_type": "stream",
     "text": [
      "(9000,) (9000, 64) (3000,) (3000, 64)\n"
     ]
    }
   ],
   "source": [
    "print(y_train.shape, X_train.shape, y_test.shape, X_test.shape)"
   ]
  },
  {
   "cell_type": "markdown",
   "metadata": {},
   "source": [
    "## Model Building"
   ]
  },
  {
   "cell_type": "code",
   "execution_count": 9,
   "metadata": {},
   "outputs": [
    {
     "name": "stdout",
     "output_type": "stream",
     "text": [
      "WARNING:tensorflow:From c:\\Users\\Ian\\git\\553.806_Capstone_HandGesture\\.venv\\Lib\\site-packages\\keras\\src\\backend.py:1398: The name tf.executing_eagerly_outside_functions is deprecated. Please use tf.compat.v1.executing_eagerly_outside_functions instead.\n",
      "\n"
     ]
    }
   ],
   "source": [
    "model = tf.keras.models.Sequential([\n",
    "    tf.keras.layers.Input((NUM_CLASSES * 3 + 1, )),\n",
    "    tf.keras.layers.Dropout(0.1),\n",
    "    tf.keras.layers.Dense(128, activation='relu'),  # Increased units\n",
    "    tf.keras.layers.BatchNormalization(),  # Added Batch Normalization\n",
    "    tf.keras.layers.Dropout(0.1),  # Adjusted dropout rate\n",
    "    tf.keras.layers.Dense(128, activation='relu'),  # Increased units\n",
    "    tf.keras.layers.BatchNormalization(),  # Added Batch Normalization\n",
    "    tf.keras.layers.Dense(64, activation='relu'),  # Increased units\n",
    "    tf.keras.layers.Dense(NUM_CLASSES, activation='softmax')\n",
    "])"
   ]
  },
  {
   "cell_type": "code",
   "execution_count": 10,
   "metadata": {},
   "outputs": [
    {
     "name": "stdout",
     "output_type": "stream",
     "text": [
      "Model: \"sequential\"\n",
      "_________________________________________________________________\n",
      " Layer (type)                Output Shape              Param #   \n",
      "=================================================================\n",
      " dropout (Dropout)           (None, 64)                0         \n",
      "                                                                 \n",
      " dense (Dense)               (None, 128)               8320      \n",
      "                                                                 \n",
      " batch_normalization (Batch  (None, 128)               512       \n",
      " Normalization)                                                  \n",
      "                                                                 \n",
      " dropout_1 (Dropout)         (None, 128)               0         \n",
      "                                                                 \n",
      " dense_1 (Dense)             (None, 128)               16512     \n",
      "                                                                 \n",
      " batch_normalization_1 (Bat  (None, 128)               512       \n",
      " chNormalization)                                                \n",
      "                                                                 \n",
      " dense_2 (Dense)             (None, 64)                8256      \n",
      "                                                                 \n",
      " dense_3 (Dense)             (None, 12)                780       \n",
      "                                                                 \n",
      "=================================================================\n",
      "Total params: 34892 (136.30 KB)\n",
      "Trainable params: 34380 (134.30 KB)\n",
      "Non-trainable params: 512 (2.00 KB)\n",
      "_________________________________________________________________\n"
     ]
    }
   ],
   "source": [
    "model.summary()"
   ]
  },
  {
   "cell_type": "code",
   "execution_count": 11,
   "metadata": {},
   "outputs": [],
   "source": [
    "# Model checkpoint callback\n",
    "cp_callback = tf.keras.callbacks.ModelCheckpoint(\n",
    "    model_save_path, verbose=1, save_weights_only=False)\n",
    "# Callback for early stopping\n",
    "es_callback = tf.keras.callbacks.EarlyStopping(patience=30, verbose=1)"
   ]
  },
  {
   "cell_type": "code",
   "execution_count": 12,
   "metadata": {},
   "outputs": [
    {
     "name": "stdout",
     "output_type": "stream",
     "text": [
      "WARNING:tensorflow:From c:\\Users\\Ian\\git\\553.806_Capstone_HandGesture\\.venv\\Lib\\site-packages\\keras\\src\\optimizers\\__init__.py:309: The name tf.train.Optimizer is deprecated. Please use tf.compat.v1.train.Optimizer instead.\n",
      "\n"
     ]
    }
   ],
   "source": [
    "# Model compilation\n",
    "model.compile(\n",
    "    optimizer='adam',\n",
    "    loss='sparse_categorical_crossentropy',\n",
    "    metrics=['accuracy']\n",
    ")"
   ]
  },
  {
   "cell_type": "markdown",
   "metadata": {},
   "source": [
    "## Model Training"
   ]
  },
  {
   "cell_type": "code",
   "execution_count": 13,
   "metadata": {},
   "outputs": [
    {
     "data": {
      "text/plain": [
       "<keras.src.callbacks.EarlyStopping at 0x15feb9e2b50>"
      ]
     },
     "execution_count": 13,
     "metadata": {},
     "output_type": "execute_result"
    }
   ],
   "source": [
    "es_callback"
   ]
  },
  {
   "cell_type": "code",
   "execution_count": 14,
   "metadata": {},
   "outputs": [
    {
     "name": "stdout",
     "output_type": "stream",
     "text": [
      "Epoch 1/1000\n",
      "WARNING:tensorflow:From c:\\Users\\Ian\\git\\553.806_Capstone_HandGesture\\.venv\\Lib\\site-packages\\keras\\src\\utils\\tf_utils.py:492: The name tf.ragged.RaggedTensorValue is deprecated. Please use tf.compat.v1.ragged.RaggedTensorValue instead.\n",
      "\n"
     ]
    },
    {
     "name": "stdout",
     "output_type": "stream",
     "text": [
      "WARNING:tensorflow:From c:\\Users\\Ian\\git\\553.806_Capstone_HandGesture\\.venv\\Lib\\site-packages\\keras\\src\\engine\\base_layer_utils.py:384: The name tf.executing_eagerly_outside_functions is deprecated. Please use tf.compat.v1.executing_eagerly_outside_functions instead.\n",
      "\n",
      "54/71 [=====================>........] - ETA: 0s - loss: 1.8273 - accuracy: 0.4236\n",
      "Epoch 1: saving model to models\\gesture_classifier.hdf5\n",
      "71/71 [==============================] - 3s 8ms/step - loss: 1.6538 - accuracy: 0.4859 - val_loss: 2.4020 - val_accuracy: 0.0850\n",
      "Epoch 2/1000\n",
      "37/71 [==============>...............] - ETA: 0s - loss: 0.8496 - accuracy: 0.7508"
     ]
    },
    {
     "name": "stderr",
     "output_type": "stream",
     "text": [
      "c:\\Users\\Ian\\git\\553.806_Capstone_HandGesture\\.venv\\Lib\\site-packages\\keras\\src\\engine\\training.py:3103: UserWarning: You are saving your model as an HDF5 file via `model.save()`. This file format is considered legacy. We recommend using instead the native Keras format, e.g. `model.save('my_model.keras')`.\n",
      "  saving_api.save_model(\n"
     ]
    },
    {
     "name": "stdout",
     "output_type": "stream",
     "text": [
      "56/71 [======================>.......] - ETA: 0s - loss: 0.7977 - accuracy: 0.7617\n",
      "Epoch 2: saving model to models\\gesture_classifier.hdf5\n",
      "71/71 [==============================] - 0s 4ms/step - loss: 0.7702 - accuracy: 0.7691 - val_loss: 2.3220 - val_accuracy: 0.0853\n",
      "Epoch 3/1000\n",
      "56/71 [======================>.......] - ETA: 0s - loss: 0.5405 - accuracy: 0.8283\n",
      "Epoch 3: saving model to models\\gesture_classifier.hdf5\n",
      "71/71 [==============================] - 0s 4ms/step - loss: 0.5228 - accuracy: 0.8342 - val_loss: 2.1511 - val_accuracy: 0.0910\n",
      "Epoch 4/1000\n",
      "71/71 [==============================] - ETA: 0s - loss: 0.4152 - accuracy: 0.8677\n",
      "Epoch 4: saving model to models\\gesture_classifier.hdf5\n",
      "71/71 [==============================] - 0s 4ms/step - loss: 0.4152 - accuracy: 0.8677 - val_loss: 1.7384 - val_accuracy: 0.2440\n",
      "Epoch 5/1000\n",
      "57/71 [=======================>......] - ETA: 0s - loss: 0.3662 - accuracy: 0.8829\n",
      "Epoch 5: saving model to models\\gesture_classifier.hdf5\n",
      "71/71 [==============================] - 0s 4ms/step - loss: 0.3555 - accuracy: 0.8863 - val_loss: 1.1328 - val_accuracy: 0.6770\n",
      "Epoch 6/1000\n",
      "57/71 [=======================>......] - ETA: 0s - loss: 0.3131 - accuracy: 0.8986\n",
      "Epoch 6: saving model to models\\gesture_classifier.hdf5\n",
      "71/71 [==============================] - 0s 4ms/step - loss: 0.3154 - accuracy: 0.8990 - val_loss: 0.6573 - val_accuracy: 0.8830\n",
      "Epoch 7/1000\n",
      "55/71 [======================>.......] - ETA: 0s - loss: 0.2985 - accuracy: 0.9036\n",
      "Epoch 7: saving model to models\\gesture_classifier.hdf5\n",
      "71/71 [==============================] - 0s 4ms/step - loss: 0.2991 - accuracy: 0.9031 - val_loss: 0.3579 - val_accuracy: 0.9353\n",
      "Epoch 8/1000\n",
      "55/71 [======================>.......] - ETA: 0s - loss: 0.2578 - accuracy: 0.9186\n",
      "Epoch 8: saving model to models\\gesture_classifier.hdf5\n",
      "71/71 [==============================] - 0s 4ms/step - loss: 0.2639 - accuracy: 0.9170 - val_loss: 0.2076 - val_accuracy: 0.9573\n",
      "Epoch 9/1000\n",
      "57/71 [=======================>......] - ETA: 0s - loss: 0.2700 - accuracy: 0.9128\n",
      "Epoch 9: saving model to models\\gesture_classifier.hdf5\n",
      "71/71 [==============================] - 0s 4ms/step - loss: 0.2572 - accuracy: 0.9176 - val_loss: 0.1503 - val_accuracy: 0.9637\n",
      "Epoch 10/1000\n",
      "57/71 [=======================>......] - ETA: 0s - loss: 0.2446 - accuracy: 0.9242\n",
      "Epoch 10: saving model to models\\gesture_classifier.hdf5\n",
      "71/71 [==============================] - 0s 4ms/step - loss: 0.2472 - accuracy: 0.9243 - val_loss: 0.1250 - val_accuracy: 0.9713\n",
      "Epoch 11/1000\n",
      "56/71 [======================>.......] - ETA: 0s - loss: 0.2410 - accuracy: 0.9242\n",
      "Epoch 11: saving model to models\\gesture_classifier.hdf5\n",
      "71/71 [==============================] - 0s 4ms/step - loss: 0.2375 - accuracy: 0.9258 - val_loss: 0.1326 - val_accuracy: 0.9667\n",
      "Epoch 12/1000\n",
      "55/71 [======================>.......] - ETA: 0s - loss: 0.2282 - accuracy: 0.9223\n",
      "Epoch 12: saving model to models\\gesture_classifier.hdf5\n",
      "71/71 [==============================] - 0s 4ms/step - loss: 0.2309 - accuracy: 0.9230 - val_loss: 0.1316 - val_accuracy: 0.9657\n",
      "Epoch 13/1000\n",
      "55/71 [======================>.......] - ETA: 0s - loss: 0.2164 - accuracy: 0.9311\n",
      "Epoch 13: saving model to models\\gesture_classifier.hdf5\n",
      "71/71 [==============================] - 0s 4ms/step - loss: 0.2206 - accuracy: 0.9304 - val_loss: 0.1368 - val_accuracy: 0.9627\n",
      "Epoch 14/1000\n",
      "56/71 [======================>.......] - ETA: 0s - loss: 0.2092 - accuracy: 0.9304\n",
      "Epoch 14: saving model to models\\gesture_classifier.hdf5\n",
      "71/71 [==============================] - 0s 4ms/step - loss: 0.2092 - accuracy: 0.9310 - val_loss: 0.1203 - val_accuracy: 0.9703\n",
      "Epoch 15/1000\n",
      "56/71 [======================>.......] - ETA: 0s - loss: 0.2059 - accuracy: 0.9348\n",
      "Epoch 15: saving model to models\\gesture_classifier.hdf5\n",
      "71/71 [==============================] - 0s 4ms/step - loss: 0.2053 - accuracy: 0.9350 - val_loss: 0.1123 - val_accuracy: 0.9690\n",
      "Epoch 16/1000\n",
      "56/71 [======================>.......] - ETA: 0s - loss: 0.1931 - accuracy: 0.9386\n",
      "Epoch 16: saving model to models\\gesture_classifier.hdf5\n",
      "71/71 [==============================] - 0s 4ms/step - loss: 0.1945 - accuracy: 0.9392 - val_loss: 0.0997 - val_accuracy: 0.9730\n",
      "Epoch 17/1000\n",
      "55/71 [======================>.......] - ETA: 0s - loss: 0.1890 - accuracy: 0.9405\n",
      "Epoch 17: saving model to models\\gesture_classifier.hdf5\n",
      "71/71 [==============================] - 0s 4ms/step - loss: 0.1848 - accuracy: 0.9416 - val_loss: 0.1084 - val_accuracy: 0.9700\n",
      "Epoch 18/1000\n",
      "56/71 [======================>.......] - ETA: 0s - loss: 0.1766 - accuracy: 0.9420\n",
      "Epoch 18: saving model to models\\gesture_classifier.hdf5\n",
      "71/71 [==============================] - 0s 4ms/step - loss: 0.1733 - accuracy: 0.9434 - val_loss: 0.1221 - val_accuracy: 0.9657\n",
      "Epoch 19/1000\n",
      "56/71 [======================>.......] - ETA: 0s - loss: 0.1806 - accuracy: 0.9425\n",
      "Epoch 19: saving model to models\\gesture_classifier.hdf5\n",
      "71/71 [==============================] - 0s 4ms/step - loss: 0.1822 - accuracy: 0.9430 - val_loss: 0.1000 - val_accuracy: 0.9743\n",
      "Epoch 20/1000\n",
      "56/71 [======================>.......] - ETA: 0s - loss: 0.1815 - accuracy: 0.9397\n",
      "Epoch 20: saving model to models\\gesture_classifier.hdf5\n",
      "71/71 [==============================] - 0s 4ms/step - loss: 0.1797 - accuracy: 0.9414 - val_loss: 0.1098 - val_accuracy: 0.9700\n",
      "Epoch 21/1000\n",
      "56/71 [======================>.......] - ETA: 0s - loss: 0.1671 - accuracy: 0.9463\n",
      "Epoch 21: saving model to models\\gesture_classifier.hdf5\n",
      "71/71 [==============================] - 0s 4ms/step - loss: 0.1675 - accuracy: 0.9458 - val_loss: 0.1012 - val_accuracy: 0.9717\n",
      "Epoch 22/1000\n",
      "54/71 [=====================>........] - ETA: 0s - loss: 0.1640 - accuracy: 0.9489\n",
      "Epoch 22: saving model to models\\gesture_classifier.hdf5\n",
      "71/71 [==============================] - 0s 4ms/step - loss: 0.1645 - accuracy: 0.9488 - val_loss: 0.1138 - val_accuracy: 0.9690\n",
      "Epoch 23/1000\n",
      "55/71 [======================>.......] - ETA: 0s - loss: 0.1632 - accuracy: 0.9473\n",
      "Epoch 23: saving model to models\\gesture_classifier.hdf5\n",
      "71/71 [==============================] - 0s 4ms/step - loss: 0.1668 - accuracy: 0.9463 - val_loss: 0.1078 - val_accuracy: 0.9710\n",
      "Epoch 24/1000\n",
      "55/71 [======================>.......] - ETA: 0s - loss: 0.1601 - accuracy: 0.9483\n",
      "Epoch 24: saving model to models\\gesture_classifier.hdf5\n",
      "71/71 [==============================] - 0s 4ms/step - loss: 0.1578 - accuracy: 0.9500 - val_loss: 0.1031 - val_accuracy: 0.9723\n",
      "Epoch 25/1000\n",
      "57/71 [=======================>......] - ETA: 0s - loss: 0.1670 - accuracy: 0.9424\n",
      "Epoch 25: saving model to models\\gesture_classifier.hdf5\n",
      "71/71 [==============================] - 0s 4ms/step - loss: 0.1627 - accuracy: 0.9444 - val_loss: 0.1022 - val_accuracy: 0.9713\n",
      "Epoch 26/1000\n",
      "58/71 [=======================>......] - ETA: 0s - loss: 0.1506 - accuracy: 0.9485\n",
      "Epoch 26: saving model to models\\gesture_classifier.hdf5\n",
      "71/71 [==============================] - 0s 4ms/step - loss: 0.1519 - accuracy: 0.9481 - val_loss: 0.1075 - val_accuracy: 0.9707\n",
      "Epoch 27/1000\n",
      "56/71 [======================>.......] - ETA: 0s - loss: 0.1487 - accuracy: 0.9521\n",
      "Epoch 27: saving model to models\\gesture_classifier.hdf5\n",
      "71/71 [==============================] - 0s 4ms/step - loss: 0.1467 - accuracy: 0.9518 - val_loss: 0.0964 - val_accuracy: 0.9743\n",
      "Epoch 28/1000\n",
      "67/71 [===========================>..] - ETA: 0s - loss: 0.1428 - accuracy: 0.9544\n",
      "Epoch 28: saving model to models\\gesture_classifier.hdf5\n",
      "71/71 [==============================] - 0s 4ms/step - loss: 0.1431 - accuracy: 0.9533 - val_loss: 0.1082 - val_accuracy: 0.9727\n",
      "Epoch 29/1000\n",
      "56/71 [======================>.......] - ETA: 0s - loss: 0.1379 - accuracy: 0.9587\n",
      "Epoch 29: saving model to models\\gesture_classifier.hdf5\n",
      "71/71 [==============================] - 0s 4ms/step - loss: 0.1390 - accuracy: 0.9582 - val_loss: 0.1073 - val_accuracy: 0.9710\n",
      "Epoch 30/1000\n",
      "58/71 [=======================>......] - ETA: 0s - loss: 0.1414 - accuracy: 0.9566\n",
      "Epoch 30: saving model to models\\gesture_classifier.hdf5\n",
      "71/71 [==============================] - 0s 4ms/step - loss: 0.1408 - accuracy: 0.9552 - val_loss: 0.1108 - val_accuracy: 0.9673\n",
      "Epoch 31/1000\n",
      "57/71 [=======================>......] - ETA: 0s - loss: 0.1362 - accuracy: 0.9529\n",
      "Epoch 31: saving model to models\\gesture_classifier.hdf5\n",
      "71/71 [==============================] - 0s 4ms/step - loss: 0.1398 - accuracy: 0.9526 - val_loss: 0.1091 - val_accuracy: 0.9717\n",
      "Epoch 32/1000\n",
      "57/71 [=======================>......] - ETA: 0s - loss: 0.1412 - accuracy: 0.9560\n",
      "Epoch 32: saving model to models\\gesture_classifier.hdf5\n",
      "71/71 [==============================] - 0s 4ms/step - loss: 0.1386 - accuracy: 0.9554 - val_loss: 0.0977 - val_accuracy: 0.9727\n",
      "Epoch 33/1000\n",
      "58/71 [=======================>......] - ETA: 0s - loss: 0.1433 - accuracy: 0.9549\n",
      "Epoch 33: saving model to models\\gesture_classifier.hdf5\n",
      "71/71 [==============================] - 0s 4ms/step - loss: 0.1391 - accuracy: 0.9558 - val_loss: 0.1029 - val_accuracy: 0.9730\n",
      "Epoch 34/1000\n",
      "58/71 [=======================>......] - ETA: 0s - loss: 0.1422 - accuracy: 0.9562\n",
      "Epoch 34: saving model to models\\gesture_classifier.hdf5\n",
      "71/71 [==============================] - 0s 4ms/step - loss: 0.1404 - accuracy: 0.9569 - val_loss: 0.1013 - val_accuracy: 0.9733\n",
      "Epoch 35/1000\n",
      "59/71 [=======================>......] - ETA: 0s - loss: 0.1389 - accuracy: 0.9570\n",
      "Epoch 35: saving model to models\\gesture_classifier.hdf5\n",
      "71/71 [==============================] - 0s 4ms/step - loss: 0.1428 - accuracy: 0.9558 - val_loss: 0.1067 - val_accuracy: 0.9740\n",
      "Epoch 36/1000\n",
      "58/71 [=======================>......] - ETA: 0s - loss: 0.1279 - accuracy: 0.9586\n",
      "Epoch 36: saving model to models\\gesture_classifier.hdf5\n",
      "71/71 [==============================] - 0s 4ms/step - loss: 0.1310 - accuracy: 0.9583 - val_loss: 0.1003 - val_accuracy: 0.9717\n",
      "Epoch 37/1000\n",
      "58/71 [=======================>......] - ETA: 0s - loss: 0.1391 - accuracy: 0.9555\n",
      "Epoch 37: saving model to models\\gesture_classifier.hdf5\n",
      "71/71 [==============================] - 0s 4ms/step - loss: 0.1349 - accuracy: 0.9566 - val_loss: 0.1005 - val_accuracy: 0.9690\n",
      "Epoch 38/1000\n",
      "57/71 [=======================>......] - ETA: 0s - loss: 0.1402 - accuracy: 0.9561\n",
      "Epoch 38: saving model to models\\gesture_classifier.hdf5\n",
      "71/71 [==============================] - 0s 4ms/step - loss: 0.1404 - accuracy: 0.9570 - val_loss: 0.0905 - val_accuracy: 0.9740\n",
      "Epoch 39/1000\n",
      "55/71 [======================>.......] - ETA: 0s - loss: 0.1249 - accuracy: 0.9601\n",
      "Epoch 39: saving model to models\\gesture_classifier.hdf5\n",
      "71/71 [==============================] - 0s 4ms/step - loss: 0.1288 - accuracy: 0.9583 - val_loss: 0.1022 - val_accuracy: 0.9697\n",
      "Epoch 40/1000\n",
      "58/71 [=======================>......] - ETA: 0s - loss: 0.1244 - accuracy: 0.9586\n",
      "Epoch 40: saving model to models\\gesture_classifier.hdf5\n",
      "71/71 [==============================] - 0s 4ms/step - loss: 0.1247 - accuracy: 0.9584 - val_loss: 0.1012 - val_accuracy: 0.9717\n",
      "Epoch 41/1000\n",
      "58/71 [=======================>......] - ETA: 0s - loss: 0.1223 - accuracy: 0.9600\n",
      "Epoch 41: saving model to models\\gesture_classifier.hdf5\n",
      "71/71 [==============================] - 0s 4ms/step - loss: 0.1240 - accuracy: 0.9591 - val_loss: 0.0937 - val_accuracy: 0.9733\n",
      "Epoch 42/1000\n",
      "58/71 [=======================>......] - ETA: 0s - loss: 0.1325 - accuracy: 0.9574\n",
      "Epoch 42: saving model to models\\gesture_classifier.hdf5\n",
      "71/71 [==============================] - 0s 4ms/step - loss: 0.1308 - accuracy: 0.9578 - val_loss: 0.0939 - val_accuracy: 0.9750\n",
      "Epoch 43/1000\n",
      "56/71 [======================>.......] - ETA: 0s - loss: 0.1273 - accuracy: 0.9587\n",
      "Epoch 43: saving model to models\\gesture_classifier.hdf5\n",
      "71/71 [==============================] - 0s 4ms/step - loss: 0.1283 - accuracy: 0.9580 - val_loss: 0.1040 - val_accuracy: 0.9727\n",
      "Epoch 44/1000\n",
      "58/71 [=======================>......] - ETA: 0s - loss: 0.1161 - accuracy: 0.9600\n",
      "Epoch 44: saving model to models\\gesture_classifier.hdf5\n",
      "71/71 [==============================] - 0s 4ms/step - loss: 0.1192 - accuracy: 0.9588 - val_loss: 0.0885 - val_accuracy: 0.9773\n",
      "Epoch 45/1000\n",
      "58/71 [=======================>......] - ETA: 0s - loss: 0.1186 - accuracy: 0.9581\n",
      "Epoch 45: saving model to models\\gesture_classifier.hdf5\n",
      "71/71 [==============================] - 0s 4ms/step - loss: 0.1237 - accuracy: 0.9576 - val_loss: 0.1048 - val_accuracy: 0.9690\n",
      "Epoch 46/1000\n",
      "69/71 [============================>.] - ETA: 0s - loss: 0.1270 - accuracy: 0.9604\n",
      "Epoch 46: saving model to models\\gesture_classifier.hdf5\n",
      "71/71 [==============================] - 0s 4ms/step - loss: 0.1275 - accuracy: 0.9602 - val_loss: 0.0999 - val_accuracy: 0.9710\n",
      "Epoch 47/1000\n",
      "58/71 [=======================>......] - ETA: 0s - loss: 0.1234 - accuracy: 0.9588\n",
      "Epoch 47: saving model to models\\gesture_classifier.hdf5\n",
      "71/71 [==============================] - 0s 4ms/step - loss: 0.1243 - accuracy: 0.9591 - val_loss: 0.1022 - val_accuracy: 0.9770\n",
      "Epoch 48/1000\n",
      "57/71 [=======================>......] - ETA: 0s - loss: 0.1214 - accuracy: 0.9608\n",
      "Epoch 48: saving model to models\\gesture_classifier.hdf5\n",
      "71/71 [==============================] - 0s 4ms/step - loss: 0.1222 - accuracy: 0.9607 - val_loss: 0.0980 - val_accuracy: 0.9763\n",
      "Epoch 49/1000\n",
      "59/71 [=======================>......] - ETA: 0s - loss: 0.1208 - accuracy: 0.9588\n",
      "Epoch 49: saving model to models\\gesture_classifier.hdf5\n",
      "71/71 [==============================] - 0s 4ms/step - loss: 0.1204 - accuracy: 0.9592 - val_loss: 0.0994 - val_accuracy: 0.9750\n",
      "Epoch 50/1000\n",
      "58/71 [=======================>......] - ETA: 0s - loss: 0.1154 - accuracy: 0.9620\n",
      "Epoch 50: saving model to models\\gesture_classifier.hdf5\n",
      "71/71 [==============================] - 0s 4ms/step - loss: 0.1149 - accuracy: 0.9622 - val_loss: 0.1106 - val_accuracy: 0.9707\n",
      "Epoch 51/1000\n",
      "58/71 [=======================>......] - ETA: 0s - loss: 0.1136 - accuracy: 0.9609\n",
      "Epoch 51: saving model to models\\gesture_classifier.hdf5\n",
      "71/71 [==============================] - 0s 4ms/step - loss: 0.1169 - accuracy: 0.9613 - val_loss: 0.0950 - val_accuracy: 0.9773\n",
      "Epoch 52/1000\n",
      "58/71 [=======================>......] - ETA: 0s - loss: 0.1172 - accuracy: 0.9620\n",
      "Epoch 52: saving model to models\\gesture_classifier.hdf5\n",
      "71/71 [==============================] - 0s 4ms/step - loss: 0.1170 - accuracy: 0.9618 - val_loss: 0.1112 - val_accuracy: 0.9710\n",
      "Epoch 53/1000\n",
      "58/71 [=======================>......] - ETA: 0s - loss: 0.1152 - accuracy: 0.9603\n",
      "Epoch 53: saving model to models\\gesture_classifier.hdf5\n",
      "71/71 [==============================] - 0s 4ms/step - loss: 0.1179 - accuracy: 0.9601 - val_loss: 0.1167 - val_accuracy: 0.9680\n",
      "Epoch 54/1000\n",
      "58/71 [=======================>......] - ETA: 0s - loss: 0.1154 - accuracy: 0.9603\n",
      "Epoch 54: saving model to models\\gesture_classifier.hdf5\n",
      "71/71 [==============================] - 0s 4ms/step - loss: 0.1162 - accuracy: 0.9609 - val_loss: 0.0917 - val_accuracy: 0.9760\n",
      "Epoch 55/1000\n",
      "57/71 [=======================>......] - ETA: 0s - loss: 0.1110 - accuracy: 0.9633\n",
      "Epoch 55: saving model to models\\gesture_classifier.hdf5\n",
      "71/71 [==============================] - 0s 4ms/step - loss: 0.1162 - accuracy: 0.9621 - val_loss: 0.0994 - val_accuracy: 0.9763\n",
      "Epoch 56/1000\n",
      "57/71 [=======================>......] - ETA: 0s - loss: 0.1235 - accuracy: 0.9570\n",
      "Epoch 56: saving model to models\\gesture_classifier.hdf5\n",
      "71/71 [==============================] - 0s 4ms/step - loss: 0.1281 - accuracy: 0.9568 - val_loss: 0.1037 - val_accuracy: 0.9737\n",
      "Epoch 57/1000\n",
      "58/71 [=======================>......] - ETA: 0s - loss: 0.1139 - accuracy: 0.9609\n",
      "Epoch 57: saving model to models\\gesture_classifier.hdf5\n",
      "71/71 [==============================] - 0s 4ms/step - loss: 0.1180 - accuracy: 0.9602 - val_loss: 0.1145 - val_accuracy: 0.9690\n",
      "Epoch 58/1000\n",
      "59/71 [=======================>......] - ETA: 0s - loss: 0.1091 - accuracy: 0.9652\n",
      "Epoch 58: saving model to models\\gesture_classifier.hdf5\n",
      "71/71 [==============================] - 0s 4ms/step - loss: 0.1081 - accuracy: 0.9649 - val_loss: 0.0965 - val_accuracy: 0.9760\n",
      "Epoch 59/1000\n",
      "55/71 [======================>.......] - ETA: 0s - loss: 0.1067 - accuracy: 0.9658\n",
      "Epoch 59: saving model to models\\gesture_classifier.hdf5\n",
      "71/71 [==============================] - 0s 4ms/step - loss: 0.1106 - accuracy: 0.9642 - val_loss: 0.1100 - val_accuracy: 0.9703\n",
      "Epoch 60/1000\n",
      "57/71 [=======================>......] - ETA: 0s - loss: 0.1189 - accuracy: 0.9586\n",
      "Epoch 60: saving model to models\\gesture_classifier.hdf5\n",
      "71/71 [==============================] - 0s 4ms/step - loss: 0.1189 - accuracy: 0.9591 - val_loss: 0.1092 - val_accuracy: 0.9733\n",
      "Epoch 61/1000\n",
      "57/71 [=======================>......] - ETA: 0s - loss: 0.1048 - accuracy: 0.9655\n",
      "Epoch 61: saving model to models\\gesture_classifier.hdf5\n",
      "71/71 [==============================] - 0s 4ms/step - loss: 0.1094 - accuracy: 0.9638 - val_loss: 0.0987 - val_accuracy: 0.9710\n",
      "Epoch 62/1000\n",
      "68/71 [===========================>..] - ETA: 0s - loss: 0.1117 - accuracy: 0.9646\n",
      "Epoch 62: saving model to models\\gesture_classifier.hdf5\n",
      "71/71 [==============================] - 0s 4ms/step - loss: 0.1143 - accuracy: 0.9641 - val_loss: 0.1199 - val_accuracy: 0.9710\n",
      "Epoch 63/1000\n",
      "58/71 [=======================>......] - ETA: 0s - loss: 0.1089 - accuracy: 0.9620\n",
      "Epoch 63: saving model to models\\gesture_classifier.hdf5\n",
      "71/71 [==============================] - 0s 4ms/step - loss: 0.1129 - accuracy: 0.9621 - val_loss: 0.1057 - val_accuracy: 0.9747\n",
      "Epoch 64/1000\n",
      "56/71 [======================>.......] - ETA: 0s - loss: 0.1085 - accuracy: 0.9661\n",
      "Epoch 64: saving model to models\\gesture_classifier.hdf5\n",
      "71/71 [==============================] - 0s 4ms/step - loss: 0.1091 - accuracy: 0.9650 - val_loss: 0.0995 - val_accuracy: 0.9733\n",
      "Epoch 65/1000\n",
      "58/71 [=======================>......] - ETA: 0s - loss: 0.1086 - accuracy: 0.9642\n",
      "Epoch 65: saving model to models\\gesture_classifier.hdf5\n",
      "71/71 [==============================] - 0s 4ms/step - loss: 0.1090 - accuracy: 0.9647 - val_loss: 0.0931 - val_accuracy: 0.9743\n",
      "Epoch 66/1000\n",
      "58/71 [=======================>......] - ETA: 0s - loss: 0.1249 - accuracy: 0.9608\n",
      "Epoch 66: saving model to models\\gesture_classifier.hdf5\n",
      "71/71 [==============================] - 0s 4ms/step - loss: 0.1226 - accuracy: 0.9619 - val_loss: 0.1179 - val_accuracy: 0.9663\n",
      "Epoch 67/1000\n",
      "58/71 [=======================>......] - ETA: 0s - loss: 0.1183 - accuracy: 0.9612\n",
      "Epoch 67: saving model to models\\gesture_classifier.hdf5\n",
      "71/71 [==============================] - 0s 4ms/step - loss: 0.1153 - accuracy: 0.9624 - val_loss: 0.0974 - val_accuracy: 0.9767\n",
      "Epoch 68/1000\n",
      "58/71 [=======================>......] - ETA: 0s - loss: 0.1014 - accuracy: 0.9663\n",
      "Epoch 68: saving model to models\\gesture_classifier.hdf5\n",
      "71/71 [==============================] - 0s 4ms/step - loss: 0.1057 - accuracy: 0.9653 - val_loss: 0.0994 - val_accuracy: 0.9743\n",
      "Epoch 69/1000\n",
      "59/71 [=======================>......] - ETA: 0s - loss: 0.1108 - accuracy: 0.9631\n",
      "Epoch 69: saving model to models\\gesture_classifier.hdf5\n",
      "71/71 [==============================] - 0s 4ms/step - loss: 0.1069 - accuracy: 0.9647 - val_loss: 0.0960 - val_accuracy: 0.9740\n",
      "Epoch 70/1000\n",
      "58/71 [=======================>......] - ETA: 0s - loss: 0.1139 - accuracy: 0.9620\n",
      "Epoch 70: saving model to models\\gesture_classifier.hdf5\n",
      "71/71 [==============================] - 0s 4ms/step - loss: 0.1130 - accuracy: 0.9621 - val_loss: 0.0959 - val_accuracy: 0.9730\n",
      "Epoch 71/1000\n",
      "58/71 [=======================>......] - ETA: 0s - loss: 0.1038 - accuracy: 0.9652\n",
      "Epoch 71: saving model to models\\gesture_classifier.hdf5\n",
      "71/71 [==============================] - 0s 4ms/step - loss: 0.1020 - accuracy: 0.9660 - val_loss: 0.0955 - val_accuracy: 0.9747\n",
      "Epoch 72/1000\n",
      "58/71 [=======================>......] - ETA: 0s - loss: 0.0971 - accuracy: 0.9662\n",
      "Epoch 72: saving model to models\\gesture_classifier.hdf5\n",
      "71/71 [==============================] - 0s 4ms/step - loss: 0.0994 - accuracy: 0.9656 - val_loss: 0.1166 - val_accuracy: 0.9697\n",
      "Epoch 73/1000\n",
      "58/71 [=======================>......] - ETA: 0s - loss: 0.1064 - accuracy: 0.9652\n",
      "Epoch 73: saving model to models\\gesture_classifier.hdf5\n",
      "71/71 [==============================] - 0s 4ms/step - loss: 0.1036 - accuracy: 0.9661 - val_loss: 0.1001 - val_accuracy: 0.9720\n",
      "Epoch 74/1000\n",
      "57/71 [=======================>......] - ETA: 0s - loss: 0.1085 - accuracy: 0.9661\n",
      "Epoch 74: saving model to models\\gesture_classifier.hdf5\n",
      "71/71 [==============================] - 0s 4ms/step - loss: 0.1083 - accuracy: 0.9662 - val_loss: 0.0938 - val_accuracy: 0.9773\n",
      "Epoch 74: early stopping\n"
     ]
    },
    {
     "data": {
      "text/plain": [
       "<keras.src.callbacks.History at 0x15feaccf990>"
      ]
     },
     "execution_count": 14,
     "metadata": {},
     "output_type": "execute_result"
    }
   ],
   "source": [
    "model.fit(\n",
    "    X_train,\n",
    "    y_train,\n",
    "    epochs=1000,\n",
    "    batch_size=128,\n",
    "    validation_data=(X_test, y_test),\n",
    "    callbacks=[cp_callback, es_callback]\n",
    ")"
   ]
  },
  {
   "cell_type": "code",
   "execution_count": 15,
   "metadata": {},
   "outputs": [
    {
     "name": "stdout",
     "output_type": "stream",
     "text": [
      "24/24 [==============================] - 0s 2ms/step - loss: 0.0938 - accuracy: 0.9773\n"
     ]
    }
   ],
   "source": [
    "# Model evaluation\n",
    "val_loss, val_acc = model.evaluate(X_test, y_test, batch_size=128)"
   ]
  },
  {
   "cell_type": "code",
   "execution_count": 16,
   "metadata": {},
   "outputs": [],
   "source": [
    "# Loading the saved model\n",
    "model = tf.keras.models.load_model(model_save_path)"
   ]
  },
  {
   "cell_type": "code",
   "execution_count": 17,
   "metadata": {},
   "outputs": [
    {
     "name": "stdout",
     "output_type": "stream",
     "text": [
      "1/1 [==============================] - 0s 186ms/step\n",
      "[5.34415130e-06 8.98806810e-01 1.00351743e-01 4.32010012e-04\n",
      " 1.33324975e-05 1.70505391e-05 3.58284306e-04 3.59955970e-06\n",
      " 1.86644763e-06 9.23605876e-06 7.40073176e-07 5.34275202e-09]\n",
      "1\n"
     ]
    }
   ],
   "source": [
    "# Inference test\n",
    "predict_result = model.predict(np.array([X_test[0]]))\n",
    "print(np.squeeze(predict_result))\n",
    "print(np.argmax(np.squeeze(predict_result)))"
   ]
  },
  {
   "cell_type": "markdown",
   "metadata": {},
   "source": [
    "# Confusion matrix"
   ]
  },
  {
   "cell_type": "code",
   "execution_count": 18,
   "metadata": {},
   "outputs": [],
   "source": [
    "import seaborn as sns\n",
    "from sklearn.metrics import confusion_matrix, classification_report\n",
    "\n",
    "def print_confusion_matrix(y_true, y_pred, report=True):\n",
    "    labels = sorted(list(set(y_true)))\n",
    "    cmx_data = confusion_matrix(y_true, y_pred, labels=labels)\n",
    "    \n",
    "    df_cmx = pd.DataFrame(cmx_data, index=labels, columns=labels)\n",
    " \n",
    "    fig, ax = plt.subplots(figsize=(7, 6))\n",
    "    sns.heatmap(df_cmx, annot=True, fmt='g' ,square=False)\n",
    "    ax.set_ylim(len(set(y_true)), 0)\n",
    "    plt.show()\n",
    "    \n",
    "    if report:\n",
    "        print('Classification Report')\n",
    "        print(classification_report(y_test, y_pred))"
   ]
  },
  {
   "cell_type": "markdown",
   "metadata": {},
   "source": [
    "<a id=\"evaluation\"></a>\n",
    "\n",
    "### Evaluation "
   ]
  },
  {
   "cell_type": "code",
   "execution_count": 19,
   "metadata": {},
   "outputs": [
    {
     "name": "stdout",
     "output_type": "stream",
     "text": [
      "42/94 [============>.................] - ETA: 0s"
     ]
    },
    {
     "name": "stdout",
     "output_type": "stream",
     "text": [
      "94/94 [==============================] - 0s 1ms/step\n"
     ]
    },
    {
     "data": {
      "image/png": "[encoded data removed]",
      "text/plain": [
       "<Figure size 700x600 with 2 Axes>"
      ]
     },
     "metadata": {},
     "output_type": "display_data"
    },
    {
     "name": "stdout",
     "output_type": "stream",
     "text": [
      "Classification Report\n",
      "              precision    recall  f1-score   support\n",
      "\n",
      "           0       1.00      0.97      0.98       250\n",
      "           1       0.96      0.98      0.97       248\n",
      "           2       0.97      0.98      0.97       254\n",
      "           3       0.98      0.98      0.98       259\n",
      "           4       0.93      0.99      0.96       255\n",
      "           5       0.98      1.00      0.99       261\n",
      "           6       0.98      0.92      0.95       239\n",
      "           7       1.00      0.95      0.97       235\n",
      "           8       1.00      0.98      0.99       254\n",
      "           9       1.00      0.98      0.99       236\n",
      "          10       0.96      0.99      0.97       264\n",
      "          11       0.99      1.00      0.99       245\n",
      "\n",
      "    accuracy                           0.98      3000\n",
      "   macro avg       0.98      0.98      0.98      3000\n",
      "weighted avg       0.98      0.98      0.98      3000\n",
      "\n"
     ]
    }
   ],
   "source": [
    "Y_pred = model.predict(X_test)\n",
    "y_pred = np.argmax(Y_pred, axis=1)\n",
    "\n",
    "print_confusion_matrix(y_test, y_pred)"
   ]
  },
  {
   "cell_type": "markdown",
   "metadata": {},
   "source": [
    "## Convert to model for Tensorflow-Lite"
   ]
  },
  {
   "cell_type": "code",
   "execution_count": 20,
   "metadata": {},
   "outputs": [
    {
     "name": "stderr",
     "output_type": "stream",
     "text": [
      "c:\\Users\\Ian\\git\\553.806_Capstone_HandGesture\\.venv\\Lib\\site-packages\\keras\\src\\engine\\training.py:3103: UserWarning: You are saving your model as an HDF5 file via `model.save()`. This file format is considered legacy. We recommend using instead the native Keras format, e.g. `model.save('my_model.keras')`.\n",
      "  saving_api.save_model(\n"
     ]
    }
   ],
   "source": [
    "# Save as a model dedicated to inference\n",
    "model.save(model_save_path, include_optimizer=False)"
   ]
  },
  {
   "cell_type": "code",
   "execution_count": 21,
   "metadata": {},
   "outputs": [
    {
     "name": "stdout",
     "output_type": "stream",
     "text": [
      "INFO:tensorflow:Assets written to: C:\\Users\\Ian\\AppData\\Local\\Temp\\tmpglgp2i2r\\assets\n"
     ]
    },
    {
     "name": "stderr",
     "output_type": "stream",
     "text": [
      "INFO:tensorflow:Assets written to: C:\\Users\\Ian\\AppData\\Local\\Temp\\tmpglgp2i2r\\assets\n"
     ]
    },
    {
     "data": {
      "text/plain": [
       "40376"
      ]
     },
     "execution_count": 21,
     "metadata": {},
     "output_type": "execute_result"
    }
   ],
   "source": [
    "# Transform model (quantization)\n",
    "converter = tf.lite.TFLiteConverter.from_keras_model(model)\n",
    "converter.optimizations = [tf.lite.Optimize.DEFAULT]\n",
    "tflite_quantized_model = converter.convert()\n",
    "\n",
    "open(tflite_save_path, 'wb').write(tflite_quantized_model)"
   ]
  },
  {
   "cell_type": "markdown",
   "metadata": {},
   "source": [
    "### Inference test"
   ]
  },
  {
   "cell_type": "code",
   "execution_count": 22,
   "metadata": {},
   "outputs": [],
   "source": [
    "interpreter = tf.lite.Interpreter(model_path=tflite_save_path)\n",
    "interpreter.allocate_tensors()\n",
    "# Get I / O tensor\n",
    "input_details = interpreter.get_input_details()\n",
    "output_details = interpreter.get_output_details()"
   ]
  },
  {
   "cell_type": "code",
   "execution_count": 23,
   "metadata": {},
   "outputs": [],
   "source": [
    "interpreter.set_tensor(input_details[0]['index'], np.array([X_test[0]]))"
   ]
  },
  {
   "cell_type": "code",
   "execution_count": 24,
   "metadata": {},
   "outputs": [
    {
     "data": {
      "text/plain": [
       "array([[ 1.00000000e+00,  0.00000000e+00,  0.00000000e+00,\n",
       "         0.00000000e+00, -9.98144783e-03, -2.23025344e-02,\n",
       "        -6.88415999e-03, -1.77429337e-02, -4.67161685e-02,\n",
       "        -1.12438109e-02, -2.39255875e-02, -6.48192242e-02,\n",
       "        -1.62647236e-02, -3.07960026e-02, -7.62352794e-02,\n",
       "        -1.95785016e-02,  3.75132959e-17, -6.53303191e-02,\n",
       "        -4.71468054e-04,  2.75991624e-04, -7.58573189e-02,\n",
       "        -9.61074326e-03, -3.19577032e-03, -5.69726638e-02,\n",
       "        -1.42947678e-02, -2.59770849e-03, -5.04614040e-02,\n",
       "        -1.66317876e-02,  1.11168632e-02, -6.28402531e-02,\n",
       "        -1.64122332e-03,  1.04519129e-02, -6.97992146e-02,\n",
       "        -1.06204376e-02,  4.95113898e-03, -4.94120605e-02,\n",
       "        -1.10188648e-02,  4.78710653e-03, -4.57057171e-02,\n",
       "        -9.86819528e-03,  2.06429958e-02, -5.75499795e-02,\n",
       "        -4.91535058e-03,  2.00364944e-02, -6.24663867e-02,\n",
       "        -1.36479540e-02,  1.37048271e-02, -4.45249192e-02,\n",
       "        -9.57841892e-03,  1.24939857e-02, -4.03831378e-02,\n",
       "        -5.21471398e-03,  2.87793446e-02, -5.05357943e-02,\n",
       "        -9.17651784e-03,  2.86700930e-02, -5.46022989e-02,\n",
       "        -1.21939685e-02,  2.26832815e-02, -4.29874659e-02,\n",
       "        -7.68101728e-03,  2.09192764e-02, -3.92488614e-02,\n",
       "        -3.64306546e-03]], dtype=float32)"
      ]
     },
     "execution_count": 24,
     "metadata": {},
     "output_type": "execute_result"
    }
   ],
   "source": [
    "np.array([X_test[0]])"
   ]
  },
  {
   "cell_type": "code",
   "execution_count": 25,
   "metadata": {},
   "outputs": [
    {
     "name": "stdout",
     "output_type": "stream",
     "text": [
      "[3.7963555e-06 8.0753505e-01 1.9163644e-01 2.4791746e-04 1.1826835e-05\n",
      " 1.6896969e-05 5.2427425e-04 2.7658637e-06 1.8526412e-06 1.8325853e-05\n",
      " 8.3531842e-07 5.9611156e-09]\n",
      "1\n",
      "CPU times: total: 0 ns\n",
      "Wall time: 0 ns\n"
     ]
    }
   ],
   "source": [
    "%%time\n",
    "# Inference implementation\n",
    "interpreter.invoke()\n",
    "tflite_results = interpreter.get_tensor(output_details[0]['index'])\n",
    "\n",
    "print(np.squeeze(tflite_results))\n",
    "print(np.argmax(np.squeeze(tflite_results)))"
   ]
  }
 ],
 "metadata": {
  "kernelspec": {
   "display_name": ".venv",
   "language": "python",
   "name": "python3"
  },
  "language_info": {
   "codemirror_mode": {
    "name": "ipython",
    "version": 3
   },
   "file_extension": ".py",
   "mimetype": "text/x-python",
   "name": "python",
   "nbconvert_exporter": "python",
   "pygments_lexer": "ipython3",
   "version": "3.11.8"
  }
 },
 "nbformat": 4,
 "nbformat_minor": 2
}
