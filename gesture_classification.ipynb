{
 "cells": [
  {
   "cell_type": "markdown",
   "metadata": {},
   "source": [
    "# Gesture Classification\n",
    "\n",
    "This notebook is used to train classification models from csv dataset. \n",
    "\n",
    "<a href=\"#evaluation\">Go to Evaluation Cell</a>"
   ]
  },
  {
   "cell_type": "code",
   "execution_count": 1,
   "metadata": {},
   "outputs": [
    {
     "name": "stdout",
     "output_type": "stream",
     "text": [
      "WARNING:tensorflow:From c:\\Users\\Ian\\git\\553.806_Capstone_HandGesture\\.venv\\Lib\\site-packages\\keras\\src\\losses.py:2976: The name tf.losses.sparse_softmax_cross_entropy is deprecated. Please use tf.compat.v1.losses.sparse_softmax_cross_entropy instead.\n",
      "\n"
     ]
    }
   ],
   "source": [
    "import numpy as np\n",
    "import pandas as pd\n",
    "import matplotlib.pyplot as plt\n",
    "\n",
    "import tensorflow as tf\n",
    "from sklearn.model_selection import train_test_split\n",
    "\n",
    "RANDOM_SEED = 42"
   ]
  },
  {
   "cell_type": "code",
   "execution_count": 2,
   "metadata": {},
   "outputs": [],
   "source": [
    "# set up\n",
    "dataset = 'datasets/HandLandmarks1000.csv'\n",
    "\n",
    "model_save_path = 'models/gesture_classifier.hdf5'\n",
    "tflite_save_path = 'models/gesture_classifier.tflite'\n",
    "\n",
    "LABELS = ['call', 'dislike', 'fist', 'like', 'mute', 'ok', 'one', 'palm', 'peace', 'rock', 'stop', 'stop_inverted'] \n",
    "NUM_CLASSES = len(LABELS)"
   ]
  },
  {
   "cell_type": "markdown",
   "metadata": {},
   "source": [
    "## Dataset Preparation"
   ]
  },
  {
   "cell_type": "code",
   "execution_count": 3,
   "metadata": {},
   "outputs": [],
   "source": [
    "# Load the datasets and apply train_test_split\n",
    "df = pd.read_csv(dataset, header=None, dtype='float32')\n",
    "\n",
    "y_dataset = df.iloc[:, 0].values.astype('int32')\n",
    "X_dataset = df.iloc[:, 1:].values\n",
    "\n",
    "X_train, X_test, y_train, y_test = train_test_split(X_dataset, y_dataset, train_size=0.75, random_state=RANDOM_SEED)"
   ]
  },
  {
   "cell_type": "code",
   "execution_count": 4,
   "metadata": {},
   "outputs": [
    {
     "data": {
      "text/plain": [
       "array([11, 10,  4, ...,  5,  0,  7])"
      ]
     },
     "execution_count": 4,
     "metadata": {},
     "output_type": "execute_result"
    }
   ],
   "source": [
    "y_train"
   ]
  },
  {
   "cell_type": "code",
   "execution_count": 5,
   "metadata": {},
   "outputs": [
    {
     "data": {
      "text/plain": [
       "array([[ 0.        ,  0.37109262,  0.37854972, ...,  0.3962902 ,\n",
       "         0.24901247, -0.02008493],\n",
       "       [ 1.        ,  0.75501627,  0.43193364, ...,  0.7827449 ,\n",
       "         0.32504714, -0.0193696 ],\n",
       "       [ 1.        ,  0.5183266 ,  0.70544964, ...,  0.39134496,\n",
       "         0.6377189 , -0.05509105],\n",
       "       ...,\n",
       "       [ 1.        ,  0.68599534,  0.68687624, ...,  0.7628145 ,\n",
       "         0.5603018 , -0.05664702],\n",
       "       [ 0.        ,  0.39546585,  0.6009588 , ...,  0.506768  ,\n",
       "         0.7457703 , -0.02445626],\n",
       "       [ 1.        ,  0.75015366,  0.48553923, ...,  0.8280829 ,\n",
       "         0.37854958, -0.03483592]], dtype=float32)"
      ]
     },
     "execution_count": 5,
     "metadata": {},
     "output_type": "execute_result"
    }
   ],
   "source": [
    "X_train"
   ]
  },
  {
   "cell_type": "code",
   "execution_count": 6,
   "metadata": {},
   "outputs": [
    {
     "name": "stdout",
     "output_type": "stream",
     "text": [
      "(9000,) (9000, 64) (3000,) (3000, 64)\n"
     ]
    }
   ],
   "source": [
    "print(y_train.shape, X_train.shape, y_test.shape, X_test.shape)"
   ]
  },
  {
   "cell_type": "markdown",
   "metadata": {},
   "source": [
    "## Model Building"
   ]
  },
  {
   "cell_type": "code",
   "execution_count": 7,
   "metadata": {},
   "outputs": [
    {
     "name": "stdout",
     "output_type": "stream",
     "text": [
      "WARNING:tensorflow:From c:\\Users\\Ian\\git\\553.806_Capstone_HandGesture\\.venv\\Lib\\site-packages\\keras\\src\\backend.py:1398: The name tf.executing_eagerly_outside_functions is deprecated. Please use tf.compat.v1.executing_eagerly_outside_functions instead.\n",
      "\n"
     ]
    }
   ],
   "source": [
    "model = tf.keras.models.Sequential([\n",
    "    tf.keras.layers.Input((21 * 3 + 1, )),\n",
    "    tf.keras.layers.Dropout(0.1),\n",
    "    tf.keras.layers.Dense(128, activation='relu'),  # Increased units\n",
    "    tf.keras.layers.BatchNormalization(),  # Added Batch Normalization\n",
    "    tf.keras.layers.Dropout(0.1),  # Adjusted dropout rate\n",
    "    tf.keras.layers.Dense(128, activation='relu'),  # Increased units\n",
    "    tf.keras.layers.BatchNormalization(),  # Added Batch Normalization\n",
    "    tf.keras.layers.Dense(64, activation='relu'),  # Increased units\n",
    "    tf.keras.layers.Dense(NUM_CLASSES, activation='softmax')\n",
    "])"
   ]
  },
  {
   "cell_type": "code",
   "execution_count": 8,
   "metadata": {},
   "outputs": [
    {
     "name": "stdout",
     "output_type": "stream",
     "text": [
      "Model: \"sequential\"\n",
      "_________________________________________________________________\n",
      " Layer (type)                Output Shape              Param #   \n",
      "=================================================================\n",
      " dropout (Dropout)           (None, 64)                0         \n",
      "                                                                 \n",
      " dense (Dense)               (None, 128)               8320      \n",
      "                                                                 \n",
      " batch_normalization (Batch  (None, 128)               512       \n",
      " Normalization)                                                  \n",
      "                                                                 \n",
      " dropout_1 (Dropout)         (None, 128)               0         \n",
      "                                                                 \n",
      " dense_1 (Dense)             (None, 128)               16512     \n",
      "                                                                 \n",
      " batch_normalization_1 (Bat  (None, 128)               512       \n",
      " chNormalization)                                                \n",
      "                                                                 \n",
      " dense_2 (Dense)             (None, 64)                8256      \n",
      "                                                                 \n",
      " dense_3 (Dense)             (None, 12)                780       \n",
      "                                                                 \n",
      "=================================================================\n",
      "Total params: 34892 (136.30 KB)\n",
      "Trainable params: 34380 (134.30 KB)\n",
      "Non-trainable params: 512 (2.00 KB)\n",
      "_________________________________________________________________\n"
     ]
    }
   ],
   "source": [
    "model.summary()"
   ]
  },
  {
   "cell_type": "code",
   "execution_count": 9,
   "metadata": {},
   "outputs": [],
   "source": [
    "# Model checkpoint callback\n",
    "cp_callback = tf.keras.callbacks.ModelCheckpoint(\n",
    "    model_save_path, verbose=1, save_weights_only=False)\n",
    "# Callback for early stopping\n",
    "es_callback = tf.keras.callbacks.EarlyStopping(patience=30, verbose=1)"
   ]
  },
  {
   "cell_type": "code",
   "execution_count": 10,
   "metadata": {},
   "outputs": [
    {
     "name": "stdout",
     "output_type": "stream",
     "text": [
      "WARNING:tensorflow:From c:\\Users\\Ian\\git\\553.806_Capstone_HandGesture\\.venv\\Lib\\site-packages\\keras\\src\\optimizers\\__init__.py:309: The name tf.train.Optimizer is deprecated. Please use tf.compat.v1.train.Optimizer instead.\n",
      "\n"
     ]
    }
   ],
   "source": [
    "# Model compilation\n",
    "model.compile(\n",
    "    optimizer='adam',\n",
    "    loss='sparse_categorical_crossentropy',\n",
    "    metrics=['accuracy']\n",
    ")"
   ]
  },
  {
   "cell_type": "markdown",
   "metadata": {},
   "source": [
    "## Model Training"
   ]
  },
  {
   "cell_type": "code",
   "execution_count": 11,
   "metadata": {},
   "outputs": [
    {
     "data": {
      "text/plain": [
       "<keras.src.callbacks.EarlyStopping at 0x1dbfc7a2a90>"
      ]
     },
     "execution_count": 11,
     "metadata": {},
     "output_type": "execute_result"
    }
   ],
   "source": [
    "es_callback"
   ]
  },
  {
   "cell_type": "code",
   "execution_count": 12,
   "metadata": {},
   "outputs": [
    {
     "name": "stdout",
     "output_type": "stream",
     "text": [
      "Epoch 1/1000\n",
      "WARNING:tensorflow:From c:\\Users\\Ian\\git\\553.806_Capstone_HandGesture\\.venv\\Lib\\site-packages\\keras\\src\\utils\\tf_utils.py:492: The name tf.ragged.RaggedTensorValue is deprecated. Please use tf.compat.v1.ragged.RaggedTensorValue instead.\n",
      "\n"
     ]
    },
    {
     "name": "stdout",
     "output_type": "stream",
     "text": [
      "WARNING:tensorflow:From c:\\Users\\Ian\\git\\553.806_Capstone_HandGesture\\.venv\\Lib\\site-packages\\keras\\src\\engine\\base_layer_utils.py:384: The name tf.executing_eagerly_outside_functions is deprecated. Please use tf.compat.v1.executing_eagerly_outside_functions instead.\n",
      "\n",
      "67/71 [===========================>..] - ETA: 0s - loss: 2.3690 - accuracy: 0.1976\n",
      "Epoch 1: saving model to models\\keypoint_classifier.hdf5\n",
      "71/71 [==============================] - 3s 8ms/step - loss: 2.3574 - accuracy: 0.2010 - val_loss: 2.4468 - val_accuracy: 0.1083\n",
      "Epoch 2/1000\n",
      "50/71 [====================>.........] - ETA: 0s - loss: 2.0318 - accuracy: 0.3066"
     ]
    },
    {
     "name": "stderr",
     "output_type": "stream",
     "text": [
      "c:\\Users\\Ian\\git\\553.806_Capstone_HandGesture\\.venv\\Lib\\site-packages\\keras\\src\\engine\\training.py:3103: UserWarning: You are saving your model as an HDF5 file via `model.save()`. This file format is considered legacy. We recommend using instead the native Keras format, e.g. `model.save('my_model.keras')`.\n",
      "  saving_api.save_model(\n"
     ]
    },
    {
     "name": "stdout",
     "output_type": "stream",
     "text": [
      "67/71 [===========================>..] - ETA: 0s - loss: 2.0201 - accuracy: 0.3090\n",
      "Epoch 2: saving model to models\\keypoint_classifier.hdf5\n",
      "71/71 [==============================] - 0s 5ms/step - loss: 2.0155 - accuracy: 0.3111 - val_loss: 2.3059 - val_accuracy: 0.2140\n",
      "Epoch 3/1000\n",
      "68/71 [===========================>..] - ETA: 0s - loss: 1.8643 - accuracy: 0.3639\n",
      "Epoch 3: saving model to models\\keypoint_classifier.hdf5\n",
      "71/71 [==============================] - 0s 5ms/step - loss: 1.8662 - accuracy: 0.3627 - val_loss: 1.9692 - val_accuracy: 0.4213\n",
      "Epoch 4/1000\n",
      "71/71 [==============================] - ETA: 0s - loss: 1.7540 - accuracy: 0.4037\n",
      "Epoch 4: saving model to models\\keypoint_classifier.hdf5\n",
      "71/71 [==============================] - 0s 5ms/step - loss: 1.7540 - accuracy: 0.4037 - val_loss: 1.7306 - val_accuracy: 0.4500\n",
      "Epoch 5/1000\n",
      "67/71 [===========================>..] - ETA: 0s - loss: 1.6393 - accuracy: 0.4452\n",
      "Epoch 5: saving model to models\\keypoint_classifier.hdf5\n",
      "71/71 [==============================] - 0s 5ms/step - loss: 1.6408 - accuracy: 0.4438 - val_loss: 1.4913 - val_accuracy: 0.5633\n",
      "Epoch 6/1000\n",
      "55/71 [======================>.......] - ETA: 0s - loss: 1.5537 - accuracy: 0.4733\n",
      "Epoch 6: saving model to models\\keypoint_classifier.hdf5\n",
      "71/71 [==============================] - 0s 4ms/step - loss: 1.5269 - accuracy: 0.4819 - val_loss: 1.2929 - val_accuracy: 0.6370\n",
      "Epoch 7/1000\n",
      "71/71 [==============================] - ETA: 0s - loss: 1.4046 - accuracy: 0.5259\n",
      "Epoch 7: saving model to models\\keypoint_classifier.hdf5\n",
      "71/71 [==============================] - 0s 5ms/step - loss: 1.4046 - accuracy: 0.5259 - val_loss: 1.2000 - val_accuracy: 0.5887\n",
      "Epoch 8/1000\n",
      "63/71 [=========================>....] - ETA: 0s - loss: 1.2748 - accuracy: 0.5632\n",
      "Epoch 8: saving model to models\\keypoint_classifier.hdf5\n",
      "71/71 [==============================] - 0s 5ms/step - loss: 1.2725 - accuracy: 0.5640 - val_loss: 0.9246 - val_accuracy: 0.7013\n",
      "Epoch 9/1000\n",
      "66/71 [==========================>...] - ETA: 0s - loss: 1.1547 - accuracy: 0.6003\n",
      "Epoch 9: saving model to models\\keypoint_classifier.hdf5\n",
      "71/71 [==============================] - 0s 4ms/step - loss: 1.1538 - accuracy: 0.6021 - val_loss: 0.9745 - val_accuracy: 0.6737\n",
      "Epoch 10/1000\n",
      "56/71 [======================>.......] - ETA: 0s - loss: 1.0621 - accuracy: 0.6409\n",
      "Epoch 10: saving model to models\\keypoint_classifier.hdf5\n",
      "71/71 [==============================] - 0s 5ms/step - loss: 1.0546 - accuracy: 0.6422 - val_loss: 0.6835 - val_accuracy: 0.7823\n",
      "Epoch 11/1000\n",
      "69/71 [============================>.] - ETA: 0s - loss: 0.9558 - accuracy: 0.6663\n",
      "Epoch 11: saving model to models\\keypoint_classifier.hdf5\n",
      "71/71 [==============================] - 0s 4ms/step - loss: 0.9562 - accuracy: 0.6661 - val_loss: 0.6355 - val_accuracy: 0.7537\n",
      "Epoch 12/1000\n",
      "66/71 [==========================>...] - ETA: 0s - loss: 0.8815 - accuracy: 0.6977\n",
      "Epoch 12: saving model to models\\keypoint_classifier.hdf5\n",
      "71/71 [==============================] - 0s 5ms/step - loss: 0.8836 - accuracy: 0.6958 - val_loss: 0.7404 - val_accuracy: 0.7440\n",
      "Epoch 13/1000\n",
      "69/71 [============================>.] - ETA: 0s - loss: 0.8110 - accuracy: 0.7167\n",
      "Epoch 13: saving model to models\\keypoint_classifier.hdf5\n",
      "71/71 [==============================] - 0s 4ms/step - loss: 0.8107 - accuracy: 0.7176 - val_loss: 0.3894 - val_accuracy: 0.8763\n",
      "Epoch 14/1000\n",
      "66/71 [==========================>...] - ETA: 0s - loss: 0.7580 - accuracy: 0.7322\n",
      "Epoch 14: saving model to models\\keypoint_classifier.hdf5\n",
      "71/71 [==============================] - 0s 4ms/step - loss: 0.7578 - accuracy: 0.7329 - val_loss: 0.3679 - val_accuracy: 0.8857\n",
      "Epoch 15/1000\n",
      "70/71 [============================>.] - ETA: 0s - loss: 0.7365 - accuracy: 0.7467\n",
      "Epoch 15: saving model to models\\keypoint_classifier.hdf5\n",
      "71/71 [==============================] - 0s 4ms/step - loss: 0.7355 - accuracy: 0.7470 - val_loss: 0.4695 - val_accuracy: 0.8470\n",
      "Epoch 16/1000\n",
      "70/71 [============================>.] - ETA: 0s - loss: 0.6816 - accuracy: 0.7660\n",
      "Epoch 16: saving model to models\\keypoint_classifier.hdf5\n",
      "71/71 [==============================] - 0s 4ms/step - loss: 0.6827 - accuracy: 0.7654 - val_loss: 0.2951 - val_accuracy: 0.9177\n",
      "Epoch 17/1000\n",
      "66/71 [==========================>...] - ETA: 0s - loss: 0.6615 - accuracy: 0.7694\n",
      "Epoch 17: saving model to models\\keypoint_classifier.hdf5\n",
      "71/71 [==============================] - 0s 4ms/step - loss: 0.6593 - accuracy: 0.7694 - val_loss: 0.3618 - val_accuracy: 0.8823\n",
      "Epoch 18/1000\n",
      "54/71 [=====================>........] - ETA: 0s - loss: 0.6472 - accuracy: 0.7775\n",
      "Epoch 18: saving model to models\\keypoint_classifier.hdf5\n",
      "71/71 [==============================] - 0s 4ms/step - loss: 0.6402 - accuracy: 0.7787 - val_loss: 0.2842 - val_accuracy: 0.9157\n",
      "Epoch 19/1000\n",
      "54/71 [=====================>........] - ETA: 0s - loss: 0.6088 - accuracy: 0.7833\n",
      "Epoch 19: saving model to models\\keypoint_classifier.hdf5\n",
      "71/71 [==============================] - 0s 4ms/step - loss: 0.6023 - accuracy: 0.7860 - val_loss: 0.3481 - val_accuracy: 0.8753\n",
      "Epoch 20/1000\n",
      "70/71 [============================>.] - ETA: 0s - loss: 0.5948 - accuracy: 0.7913\n",
      "Epoch 20: saving model to models\\keypoint_classifier.hdf5\n",
      "71/71 [==============================] - 0s 4ms/step - loss: 0.5950 - accuracy: 0.7911 - val_loss: 0.3947 - val_accuracy: 0.8737\n",
      "Epoch 21/1000\n",
      "54/71 [=====================>........] - ETA: 0s - loss: 0.5723 - accuracy: 0.7975\n",
      "Epoch 21: saving model to models\\keypoint_classifier.hdf5\n",
      "71/71 [==============================] - 0s 4ms/step - loss: 0.5761 - accuracy: 0.7967 - val_loss: 0.3606 - val_accuracy: 0.8847\n",
      "Epoch 22/1000\n",
      "71/71 [==============================] - ETA: 0s - loss: 0.5652 - accuracy: 0.8001\n",
      "Epoch 22: saving model to models\\keypoint_classifier.hdf5\n",
      "71/71 [==============================] - 0s 4ms/step - loss: 0.5652 - accuracy: 0.8001 - val_loss: 0.2891 - val_accuracy: 0.9163\n",
      "Epoch 23/1000\n",
      "54/71 [=====================>........] - ETA: 0s - loss: 0.5516 - accuracy: 0.7992\n",
      "Epoch 23: saving model to models\\keypoint_classifier.hdf5\n",
      "71/71 [==============================] - 0s 4ms/step - loss: 0.5450 - accuracy: 0.8032 - val_loss: 0.4752 - val_accuracy: 0.8450\n",
      "Epoch 24/1000\n",
      "70/71 [============================>.] - ETA: 0s - loss: 0.5337 - accuracy: 0.8066\n",
      "Epoch 24: saving model to models\\keypoint_classifier.hdf5\n",
      "71/71 [==============================] - 0s 4ms/step - loss: 0.5351 - accuracy: 0.8061 - val_loss: 0.3337 - val_accuracy: 0.8800\n",
      "Epoch 25/1000\n",
      "70/71 [============================>.] - ETA: 0s - loss: 0.5260 - accuracy: 0.8119\n",
      "Epoch 25: saving model to models\\keypoint_classifier.hdf5\n",
      "71/71 [==============================] - 0s 4ms/step - loss: 0.5274 - accuracy: 0.8113 - val_loss: 0.3064 - val_accuracy: 0.9050\n",
      "Epoch 26/1000\n",
      "70/71 [============================>.] - ETA: 0s - loss: 0.5143 - accuracy: 0.8170\n",
      "Epoch 26: saving model to models\\keypoint_classifier.hdf5\n",
      "71/71 [==============================] - 0s 4ms/step - loss: 0.5147 - accuracy: 0.8167 - val_loss: 0.2237 - val_accuracy: 0.9313\n",
      "Epoch 27/1000\n",
      "66/71 [==========================>...] - ETA: 0s - loss: 0.4836 - accuracy: 0.8242\n",
      "Epoch 27: saving model to models\\keypoint_classifier.hdf5\n",
      "71/71 [==============================] - 0s 4ms/step - loss: 0.4839 - accuracy: 0.8240 - val_loss: 0.2382 - val_accuracy: 0.9303\n",
      "Epoch 28/1000\n",
      "70/71 [============================>.] - ETA: 0s - loss: 0.4992 - accuracy: 0.8234\n",
      "Epoch 28: saving model to models\\keypoint_classifier.hdf5\n",
      "71/71 [==============================] - 0s 4ms/step - loss: 0.4985 - accuracy: 0.8237 - val_loss: 0.2225 - val_accuracy: 0.9317\n",
      "Epoch 29/1000\n",
      "68/71 [===========================>..] - ETA: 0s - loss: 0.4730 - accuracy: 0.8323\n",
      "Epoch 29: saving model to models\\keypoint_classifier.hdf5\n",
      "71/71 [==============================] - 0s 4ms/step - loss: 0.4749 - accuracy: 0.8317 - val_loss: 0.2837 - val_accuracy: 0.8947\n",
      "Epoch 30/1000\n",
      "71/71 [==============================] - ETA: 0s - loss: 0.4775 - accuracy: 0.8297\n",
      "Epoch 30: saving model to models\\keypoint_classifier.hdf5\n",
      "71/71 [==============================] - 0s 4ms/step - loss: 0.4775 - accuracy: 0.8297 - val_loss: 0.2341 - val_accuracy: 0.9240\n",
      "Epoch 31/1000\n",
      "68/71 [===========================>..] - ETA: 0s - loss: 0.4592 - accuracy: 0.8406\n",
      "Epoch 31: saving model to models\\keypoint_classifier.hdf5\n",
      "71/71 [==============================] - 0s 4ms/step - loss: 0.4581 - accuracy: 0.8407 - val_loss: 0.2488 - val_accuracy: 0.9233\n",
      "Epoch 32/1000\n",
      "69/71 [============================>.] - ETA: 0s - loss: 0.4531 - accuracy: 0.8393\n",
      "Epoch 32: saving model to models\\keypoint_classifier.hdf5\n",
      "71/71 [==============================] - 0s 4ms/step - loss: 0.4562 - accuracy: 0.8386 - val_loss: 0.5137 - val_accuracy: 0.8240\n",
      "Epoch 33/1000\n",
      "70/71 [============================>.] - ETA: 0s - loss: 0.4398 - accuracy: 0.8453\n",
      "Epoch 33: saving model to models\\keypoint_classifier.hdf5\n",
      "71/71 [==============================] - 0s 4ms/step - loss: 0.4412 - accuracy: 0.8451 - val_loss: 0.2168 - val_accuracy: 0.9293\n",
      "Epoch 34/1000\n",
      "70/71 [============================>.] - ETA: 0s - loss: 0.4410 - accuracy: 0.8427\n",
      "Epoch 34: saving model to models\\keypoint_classifier.hdf5\n",
      "71/71 [==============================] - 0s 4ms/step - loss: 0.4409 - accuracy: 0.8426 - val_loss: 0.2787 - val_accuracy: 0.9107\n",
      "Epoch 35/1000\n",
      "70/71 [============================>.] - ETA: 0s - loss: 0.4259 - accuracy: 0.8442\n",
      "Epoch 35: saving model to models\\keypoint_classifier.hdf5\n",
      "71/71 [==============================] - 0s 4ms/step - loss: 0.4260 - accuracy: 0.8438 - val_loss: 0.3053 - val_accuracy: 0.9013\n",
      "Epoch 36/1000\n",
      "66/71 [==========================>...] - ETA: 0s - loss: 0.4281 - accuracy: 0.8464\n",
      "Epoch 36: saving model to models\\keypoint_classifier.hdf5\n",
      "71/71 [==============================] - 0s 6ms/step - loss: 0.4288 - accuracy: 0.8451 - val_loss: 0.2253 - val_accuracy: 0.9373\n",
      "Epoch 37/1000\n",
      "61/71 [========================>.....] - ETA: 0s - loss: 0.4244 - accuracy: 0.8468\n",
      "Epoch 37: saving model to models\\keypoint_classifier.hdf5\n",
      "71/71 [==============================] - 0s 5ms/step - loss: 0.4233 - accuracy: 0.8462 - val_loss: 0.2280 - val_accuracy: 0.9263\n",
      "Epoch 38/1000\n",
      "62/71 [=========================>....] - ETA: 0s - loss: 0.4172 - accuracy: 0.8504\n",
      "Epoch 38: saving model to models\\keypoint_classifier.hdf5\n",
      "71/71 [==============================] - 0s 5ms/step - loss: 0.4185 - accuracy: 0.8521 - val_loss: 0.2514 - val_accuracy: 0.9097\n",
      "Epoch 39/1000\n",
      "68/71 [===========================>..] - ETA: 0s - loss: 0.4066 - accuracy: 0.8549\n",
      "Epoch 39: saving model to models\\keypoint_classifier.hdf5\n",
      "71/71 [==============================] - 0s 4ms/step - loss: 0.4052 - accuracy: 0.8554 - val_loss: 0.2688 - val_accuracy: 0.9117\n",
      "Epoch 40/1000\n",
      "68/71 [===========================>..] - ETA: 0s - loss: 0.3979 - accuracy: 0.8579\n",
      "Epoch 40: saving model to models\\keypoint_classifier.hdf5\n",
      "71/71 [==============================] - 0s 5ms/step - loss: 0.4018 - accuracy: 0.8568 - val_loss: 0.4422 - val_accuracy: 0.8477\n",
      "Epoch 41/1000\n",
      "64/71 [==========================>...] - ETA: 0s - loss: 0.4053 - accuracy: 0.8531\n",
      "Epoch 41: saving model to models\\keypoint_classifier.hdf5\n",
      "71/71 [==============================] - 0s 5ms/step - loss: 0.4055 - accuracy: 0.8529 - val_loss: 0.1952 - val_accuracy: 0.9413\n",
      "Epoch 42/1000\n",
      "64/71 [==========================>...] - ETA: 0s - loss: 0.4050 - accuracy: 0.8566\n",
      "Epoch 42: saving model to models\\keypoint_classifier.hdf5\n",
      "71/71 [==============================] - 0s 5ms/step - loss: 0.4030 - accuracy: 0.8569 - val_loss: 0.3026 - val_accuracy: 0.9020\n",
      "Epoch 43/1000\n",
      "59/71 [=======================>......] - ETA: 0s - loss: 0.3932 - accuracy: 0.8602\n",
      "Epoch 43: saving model to models\\keypoint_classifier.hdf5\n",
      "71/71 [==============================] - 0s 5ms/step - loss: 0.3983 - accuracy: 0.8572 - val_loss: 0.2949 - val_accuracy: 0.9043\n",
      "Epoch 44/1000\n",
      "68/71 [===========================>..] - ETA: 0s - loss: 0.3826 - accuracy: 0.8635\n",
      "Epoch 44: saving model to models\\keypoint_classifier.hdf5\n",
      "71/71 [==============================] - 0s 5ms/step - loss: 0.3847 - accuracy: 0.8632 - val_loss: 0.2384 - val_accuracy: 0.9270\n",
      "Epoch 45/1000\n",
      "59/71 [=======================>......] - ETA: 0s - loss: 0.3977 - accuracy: 0.8541\n",
      "Epoch 45: saving model to models\\keypoint_classifier.hdf5\n",
      "71/71 [==============================] - 0s 5ms/step - loss: 0.3934 - accuracy: 0.8556 - val_loss: 0.2446 - val_accuracy: 0.9213\n",
      "Epoch 46/1000\n",
      "62/71 [=========================>....] - ETA: 0s - loss: 0.3805 - accuracy: 0.8633\n",
      "Epoch 46: saving model to models\\keypoint_classifier.hdf5\n",
      "71/71 [==============================] - 0s 5ms/step - loss: 0.3782 - accuracy: 0.8637 - val_loss: 0.3771 - val_accuracy: 0.8823\n",
      "Epoch 47/1000\n",
      "68/71 [===========================>..] - ETA: 0s - loss: 0.3954 - accuracy: 0.8571\n",
      "Epoch 47: saving model to models\\keypoint_classifier.hdf5\n",
      "71/71 [==============================] - 0s 6ms/step - loss: 0.3955 - accuracy: 0.8571 - val_loss: 0.1930 - val_accuracy: 0.9457\n",
      "Epoch 48/1000\n",
      "61/71 [========================>.....] - ETA: 0s - loss: 0.3779 - accuracy: 0.8596\n",
      "Epoch 48: saving model to models\\keypoint_classifier.hdf5\n",
      "71/71 [==============================] - 0s 5ms/step - loss: 0.3785 - accuracy: 0.8604 - val_loss: 0.2384 - val_accuracy: 0.9260\n",
      "Epoch 49/1000\n",
      "61/71 [========================>.....] - ETA: 0s - loss: 0.3690 - accuracy: 0.8633\n",
      "Epoch 49: saving model to models\\keypoint_classifier.hdf5\n",
      "71/71 [==============================] - 0s 5ms/step - loss: 0.3711 - accuracy: 0.8638 - val_loss: 0.3465 - val_accuracy: 0.8830\n",
      "Epoch 50/1000\n",
      "68/71 [===========================>..] - ETA: 0s - loss: 0.3727 - accuracy: 0.8626\n",
      "Epoch 50: saving model to models\\keypoint_classifier.hdf5\n",
      "71/71 [==============================] - 0s 5ms/step - loss: 0.3723 - accuracy: 0.8622 - val_loss: 0.2952 - val_accuracy: 0.9097\n",
      "Epoch 51/1000\n",
      "62/71 [=========================>....] - ETA: 0s - loss: 0.3636 - accuracy: 0.8669\n",
      "Epoch 51: saving model to models\\keypoint_classifier.hdf5\n",
      "71/71 [==============================] - 0s 5ms/step - loss: 0.3613 - accuracy: 0.8670 - val_loss: 0.2091 - val_accuracy: 0.9397\n",
      "Epoch 52/1000\n",
      "66/71 [==========================>...] - ETA: 0s - loss: 0.3674 - accuracy: 0.8614\n",
      "Epoch 52: saving model to models\\keypoint_classifier.hdf5\n",
      "71/71 [==============================] - 0s 5ms/step - loss: 0.3656 - accuracy: 0.8610 - val_loss: 0.2713 - val_accuracy: 0.9217\n",
      "Epoch 53/1000\n",
      "56/71 [======================>.......] - ETA: 0s - loss: 0.3732 - accuracy: 0.8679\n",
      "Epoch 53: saving model to models\\keypoint_classifier.hdf5\n",
      "71/71 [==============================] - 0s 5ms/step - loss: 0.3724 - accuracy: 0.8669 - val_loss: 0.2902 - val_accuracy: 0.8977\n",
      "Epoch 54/1000\n",
      "58/71 [=======================>......] - ETA: 0s - loss: 0.3764 - accuracy: 0.8636\n",
      "Epoch 54: saving model to models\\keypoint_classifier.hdf5\n",
      "71/71 [==============================] - 0s 5ms/step - loss: 0.3739 - accuracy: 0.8651 - val_loss: 0.2273 - val_accuracy: 0.9360\n",
      "Epoch 55/1000\n",
      "60/71 [========================>.....] - ETA: 0s - loss: 0.3521 - accuracy: 0.8747\n",
      "Epoch 55: saving model to models\\keypoint_classifier.hdf5\n",
      "71/71 [==============================] - 0s 5ms/step - loss: 0.3548 - accuracy: 0.8731 - val_loss: 0.2672 - val_accuracy: 0.9143\n",
      "Epoch 56/1000\n",
      "64/71 [==========================>...] - ETA: 0s - loss: 0.3757 - accuracy: 0.8669\n",
      "Epoch 56: saving model to models\\keypoint_classifier.hdf5\n",
      "71/71 [==============================] - 0s 5ms/step - loss: 0.3771 - accuracy: 0.8650 - val_loss: 0.2599 - val_accuracy: 0.9180\n",
      "Epoch 57/1000\n",
      "67/71 [===========================>..] - ETA: 0s - loss: 0.3541 - accuracy: 0.8705\n",
      "Epoch 57: saving model to models\\keypoint_classifier.hdf5\n",
      "71/71 [==============================] - 0s 5ms/step - loss: 0.3531 - accuracy: 0.8709 - val_loss: 0.2290 - val_accuracy: 0.9367\n",
      "Epoch 58/1000\n",
      "69/71 [============================>.] - ETA: 0s - loss: 0.3516 - accuracy: 0.8702\n",
      "Epoch 58: saving model to models\\keypoint_classifier.hdf5\n",
      "71/71 [==============================] - 0s 4ms/step - loss: 0.3523 - accuracy: 0.8704 - val_loss: 0.2073 - val_accuracy: 0.9290\n",
      "Epoch 59/1000\n",
      "69/71 [============================>.] - ETA: 0s - loss: 0.3500 - accuracy: 0.8766\n",
      "Epoch 59: saving model to models\\keypoint_classifier.hdf5\n",
      "71/71 [==============================] - 0s 4ms/step - loss: 0.3490 - accuracy: 0.8772 - val_loss: 0.4236 - val_accuracy: 0.8657\n",
      "Epoch 60/1000\n",
      "69/71 [============================>.] - ETA: 0s - loss: 0.3351 - accuracy: 0.8785\n",
      "Epoch 60: saving model to models\\keypoint_classifier.hdf5\n",
      "71/71 [==============================] - 0s 4ms/step - loss: 0.3373 - accuracy: 0.8781 - val_loss: 0.1786 - val_accuracy: 0.9483\n",
      "Epoch 61/1000\n",
      "70/71 [============================>.] - ETA: 0s - loss: 0.3346 - accuracy: 0.8798\n",
      "Epoch 61: saving model to models\\keypoint_classifier.hdf5\n",
      "71/71 [==============================] - 0s 4ms/step - loss: 0.3341 - accuracy: 0.8801 - val_loss: 0.2062 - val_accuracy: 0.9403\n",
      "Epoch 62/1000\n",
      "70/71 [============================>.] - ETA: 0s - loss: 0.3345 - accuracy: 0.8788\n",
      "Epoch 62: saving model to models\\keypoint_classifier.hdf5\n",
      "71/71 [==============================] - 0s 4ms/step - loss: 0.3350 - accuracy: 0.8787 - val_loss: 0.4095 - val_accuracy: 0.8543\n",
      "Epoch 63/1000\n",
      "69/71 [============================>.] - ETA: 0s - loss: 0.3283 - accuracy: 0.8792\n",
      "Epoch 63: saving model to models\\keypoint_classifier.hdf5\n",
      "71/71 [==============================] - 0s 4ms/step - loss: 0.3307 - accuracy: 0.8791 - val_loss: 0.2011 - val_accuracy: 0.9380\n",
      "Epoch 64/1000\n",
      "67/71 [===========================>..] - ETA: 0s - loss: 0.3363 - accuracy: 0.8778\n",
      "Epoch 64: saving model to models\\keypoint_classifier.hdf5\n",
      "71/71 [==============================] - 0s 5ms/step - loss: 0.3329 - accuracy: 0.8793 - val_loss: 0.2465 - val_accuracy: 0.9177\n",
      "Epoch 65/1000\n",
      "69/71 [============================>.] - ETA: 0s - loss: 0.3288 - accuracy: 0.8795\n",
      "Epoch 65: saving model to models\\keypoint_classifier.hdf5\n",
      "71/71 [==============================] - 0s 4ms/step - loss: 0.3295 - accuracy: 0.8800 - val_loss: 0.2376 - val_accuracy: 0.9347\n",
      "Epoch 66/1000\n",
      "70/71 [============================>.] - ETA: 0s - loss: 0.3325 - accuracy: 0.8778\n",
      "Epoch 66: saving model to models\\keypoint_classifier.hdf5\n",
      "71/71 [==============================] - 0s 4ms/step - loss: 0.3332 - accuracy: 0.8776 - val_loss: 0.5093 - val_accuracy: 0.8517\n",
      "Epoch 67/1000\n",
      "68/71 [===========================>..] - ETA: 0s - loss: 0.3471 - accuracy: 0.8751\n",
      "Epoch 67: saving model to models\\keypoint_classifier.hdf5\n",
      "71/71 [==============================] - 0s 4ms/step - loss: 0.3503 - accuracy: 0.8741 - val_loss: 0.2211 - val_accuracy: 0.9357\n",
      "Epoch 68/1000\n",
      "71/71 [==============================] - ETA: 0s - loss: 0.3416 - accuracy: 0.8749\n",
      "Epoch 68: saving model to models\\keypoint_classifier.hdf5\n",
      "71/71 [==============================] - 0s 4ms/step - loss: 0.3416 - accuracy: 0.8749 - val_loss: 0.2148 - val_accuracy: 0.9427\n",
      "Epoch 69/1000\n",
      "71/71 [==============================] - ETA: 0s - loss: 0.3269 - accuracy: 0.8822\n",
      "Epoch 69: saving model to models\\keypoint_classifier.hdf5\n",
      "71/71 [==============================] - 0s 4ms/step - loss: 0.3269 - accuracy: 0.8822 - val_loss: 0.2333 - val_accuracy: 0.9137\n",
      "Epoch 70/1000\n",
      "71/71 [==============================] - ETA: 0s - loss: 0.3305 - accuracy: 0.8783\n",
      "Epoch 70: saving model to models\\keypoint_classifier.hdf5\n",
      "71/71 [==============================] - 0s 4ms/step - loss: 0.3305 - accuracy: 0.8783 - val_loss: 0.1862 - val_accuracy: 0.9510\n",
      "Epoch 71/1000\n",
      "60/71 [========================>.....] - ETA: 0s - loss: 0.3139 - accuracy: 0.8852\n",
      "Epoch 71: saving model to models\\keypoint_classifier.hdf5\n",
      "71/71 [==============================] - 0s 6ms/step - loss: 0.3200 - accuracy: 0.8826 - val_loss: 0.2585 - val_accuracy: 0.9130\n",
      "Epoch 72/1000\n",
      "70/71 [============================>.] - ETA: 0s - loss: 0.3241 - accuracy: 0.8810\n",
      "Epoch 72: saving model to models\\keypoint_classifier.hdf5\n",
      "71/71 [==============================] - 0s 4ms/step - loss: 0.3233 - accuracy: 0.8813 - val_loss: 0.2448 - val_accuracy: 0.9230\n",
      "Epoch 73/1000\n",
      "70/71 [============================>.] - ETA: 0s - loss: 0.3229 - accuracy: 0.8817\n",
      "Epoch 73: saving model to models\\keypoint_classifier.hdf5\n",
      "71/71 [==============================] - 0s 4ms/step - loss: 0.3229 - accuracy: 0.8818 - val_loss: 0.2142 - val_accuracy: 0.9407\n",
      "Epoch 74/1000\n",
      "54/71 [=====================>........] - ETA: 0s - loss: 0.3163 - accuracy: 0.8877\n",
      "Epoch 74: saving model to models\\keypoint_classifier.hdf5\n",
      "71/71 [==============================] - 0s 4ms/step - loss: 0.3142 - accuracy: 0.8872 - val_loss: 0.2509 - val_accuracy: 0.9143\n",
      "Epoch 75/1000\n",
      "70/71 [============================>.] - ETA: 0s - loss: 0.3155 - accuracy: 0.8846\n",
      "Epoch 75: saving model to models\\keypoint_classifier.hdf5\n",
      "71/71 [==============================] - 0s 4ms/step - loss: 0.3160 - accuracy: 0.8843 - val_loss: 0.3074 - val_accuracy: 0.8973\n",
      "Epoch 76/1000\n",
      "54/71 [=====================>........] - ETA: 0s - loss: 0.3194 - accuracy: 0.8857\n",
      "Epoch 76: saving model to models\\keypoint_classifier.hdf5\n",
      "71/71 [==============================] - 0s 4ms/step - loss: 0.3158 - accuracy: 0.8871 - val_loss: 0.2201 - val_accuracy: 0.9310\n",
      "Epoch 77/1000\n",
      "54/71 [=====================>........] - ETA: 0s - loss: 0.3067 - accuracy: 0.8872\n",
      "Epoch 77: saving model to models\\keypoint_classifier.hdf5\n",
      "71/71 [==============================] - 0s 4ms/step - loss: 0.3038 - accuracy: 0.8890 - val_loss: 0.1853 - val_accuracy: 0.9500\n",
      "Epoch 78/1000\n",
      "67/71 [===========================>..] - ETA: 0s - loss: 0.3220 - accuracy: 0.8814\n",
      "Epoch 78: saving model to models\\keypoint_classifier.hdf5\n",
      "71/71 [==============================] - 0s 5ms/step - loss: 0.3221 - accuracy: 0.8813 - val_loss: 0.2467 - val_accuracy: 0.9180\n",
      "Epoch 79/1000\n",
      "69/71 [============================>.] - ETA: 0s - loss: 0.3264 - accuracy: 0.8825\n",
      "Epoch 79: saving model to models\\keypoint_classifier.hdf5\n",
      "71/71 [==============================] - 0s 4ms/step - loss: 0.3272 - accuracy: 0.8820 - val_loss: 0.2193 - val_accuracy: 0.9347\n",
      "Epoch 80/1000\n",
      "71/71 [==============================] - ETA: 0s - loss: 0.3151 - accuracy: 0.8864\n",
      "Epoch 80: saving model to models\\keypoint_classifier.hdf5\n",
      "71/71 [==============================] - 0s 4ms/step - loss: 0.3151 - accuracy: 0.8864 - val_loss: 0.2400 - val_accuracy: 0.9253\n",
      "Epoch 81/1000\n",
      "54/71 [=====================>........] - ETA: 0s - loss: 0.3089 - accuracy: 0.8859\n",
      "Epoch 81: saving model to models\\keypoint_classifier.hdf5\n",
      "71/71 [==============================] - 0s 4ms/step - loss: 0.3172 - accuracy: 0.8847 - val_loss: 0.1896 - val_accuracy: 0.9460\n",
      "Epoch 82/1000\n",
      "70/71 [============================>.] - ETA: 0s - loss: 0.2991 - accuracy: 0.8919\n",
      "Epoch 82: saving model to models\\keypoint_classifier.hdf5\n",
      "71/71 [==============================] - 0s 4ms/step - loss: 0.2986 - accuracy: 0.8922 - val_loss: 0.3428 - val_accuracy: 0.8907\n",
      "Epoch 83/1000\n",
      "54/71 [=====================>........] - ETA: 0s - loss: 0.3178 - accuracy: 0.8853\n",
      "Epoch 83: saving model to models\\keypoint_classifier.hdf5\n",
      "71/71 [==============================] - 0s 4ms/step - loss: 0.3121 - accuracy: 0.8871 - val_loss: 0.3568 - val_accuracy: 0.8713\n",
      "Epoch 84/1000\n",
      "71/71 [==============================] - ETA: 0s - loss: 0.3149 - accuracy: 0.8864\n",
      "Epoch 84: saving model to models\\keypoint_classifier.hdf5\n",
      "71/71 [==============================] - 0s 4ms/step - loss: 0.3149 - accuracy: 0.8864 - val_loss: 0.2069 - val_accuracy: 0.9380\n",
      "Epoch 85/1000\n",
      "71/71 [==============================] - ETA: 0s - loss: 0.3008 - accuracy: 0.8881\n",
      "Epoch 85: saving model to models\\keypoint_classifier.hdf5\n",
      "71/71 [==============================] - 0s 4ms/step - loss: 0.3008 - accuracy: 0.8881 - val_loss: 0.2620 - val_accuracy: 0.9127\n",
      "Epoch 86/1000\n",
      "69/71 [============================>.] - ETA: 0s - loss: 0.2948 - accuracy: 0.8904\n",
      "Epoch 86: saving model to models\\keypoint_classifier.hdf5\n",
      "71/71 [==============================] - 0s 4ms/step - loss: 0.2945 - accuracy: 0.8906 - val_loss: 0.2475 - val_accuracy: 0.9230\n",
      "Epoch 87/1000\n",
      "54/71 [=====================>........] - ETA: 0s - loss: 0.3144 - accuracy: 0.8821\n",
      "Epoch 87: saving model to models\\keypoint_classifier.hdf5\n",
      "71/71 [==============================] - 0s 4ms/step - loss: 0.3144 - accuracy: 0.8819 - val_loss: 0.1920 - val_accuracy: 0.9397\n",
      "Epoch 88/1000\n",
      "71/71 [==============================] - ETA: 0s - loss: 0.3058 - accuracy: 0.8901\n",
      "Epoch 88: saving model to models\\keypoint_classifier.hdf5\n",
      "71/71 [==============================] - 0s 4ms/step - loss: 0.3058 - accuracy: 0.8901 - val_loss: 0.4114 - val_accuracy: 0.8847\n",
      "Epoch 89/1000\n",
      "71/71 [==============================] - ETA: 0s - loss: 0.3009 - accuracy: 0.8873\n",
      "Epoch 89: saving model to models\\keypoint_classifier.hdf5\n",
      "71/71 [==============================] - 0s 4ms/step - loss: 0.3009 - accuracy: 0.8873 - val_loss: 0.3393 - val_accuracy: 0.8917\n",
      "Epoch 90/1000\n",
      "67/71 [===========================>..] - ETA: 0s - loss: 0.3042 - accuracy: 0.8938\n",
      "Epoch 90: saving model to models\\keypoint_classifier.hdf5\n",
      "71/71 [==============================] - 0s 4ms/step - loss: 0.3040 - accuracy: 0.8933 - val_loss: 0.2062 - val_accuracy: 0.9387\n",
      "Epoch 90: early stopping\n"
     ]
    },
    {
     "data": {
      "text/plain": [
       "<keras.src.callbacks.History at 0x1dbb80b8990>"
      ]
     },
     "execution_count": 12,
     "metadata": {},
     "output_type": "execute_result"
    }
   ],
   "source": [
    "model.fit(\n",
    "    X_train,\n",
    "    y_train,\n",
    "    epochs=1000,\n",
    "    batch_size=128,\n",
    "    validation_data=(X_test, y_test),\n",
    "    callbacks=[cp_callback, es_callback]\n",
    ")"
   ]
  },
  {
   "cell_type": "code",
   "execution_count": 13,
   "metadata": {},
   "outputs": [
    {
     "name": "stdout",
     "output_type": "stream",
     "text": [
      "24/24 [==============================] - 0s 2ms/step - loss: 0.2062 - accuracy: 0.9387\n"
     ]
    }
   ],
   "source": [
    "# Model evaluation\n",
    "val_loss, val_acc = model.evaluate(X_test, y_test, batch_size=128)"
   ]
  },
  {
   "cell_type": "code",
   "execution_count": 14,
   "metadata": {},
   "outputs": [],
   "source": [
    "# Loading the saved model\n",
    "model = tf.keras.models.load_model(model_save_path)"
   ]
  },
  {
   "cell_type": "code",
   "execution_count": 15,
   "metadata": {},
   "outputs": [
    {
     "name": "stdout",
     "output_type": "stream",
     "text": [
      "1/1 [==============================] - 0s 149ms/step\n",
      "[3.9572431e-14 9.9999571e-01 1.9292140e-13 7.2622185e-21 1.5421825e-11\n",
      " 8.6316140e-07 8.5198199e-14 3.2387034e-06 1.1829258e-12 1.6645775e-10\n",
      " 2.6623488e-07 2.4941982e-10]\n",
      "1\n"
     ]
    }
   ],
   "source": [
    "# Inference test\n",
    "predict_result = model.predict(np.array([X_test[0]]))\n",
    "print(np.squeeze(predict_result))\n",
    "print(np.argmax(np.squeeze(predict_result)))"
   ]
  },
  {
   "cell_type": "markdown",
   "metadata": {},
   "source": [
    "# Confusion matrix"
   ]
  },
  {
   "cell_type": "code",
   "execution_count": 16,
   "metadata": {},
   "outputs": [],
   "source": [
    "import seaborn as sns\n",
    "from sklearn.metrics import confusion_matrix, classification_report\n",
    "\n",
    "def print_confusion_matrix(y_true, y_pred, report=True):\n",
    "    labels = sorted(list(set(y_true)))\n",
    "    cmx_data = confusion_matrix(y_true, y_pred, labels=labels)\n",
    "    \n",
    "    df_cmx = pd.DataFrame(cmx_data, index=labels, columns=labels)\n",
    " \n",
    "    fig, ax = plt.subplots(figsize=(7, 6))\n",
    "    sns.heatmap(df_cmx, annot=True, fmt='g' ,square=False)\n",
    "    ax.set_ylim(len(set(y_true)), 0)\n",
    "    plt.show()\n",
    "    \n",
    "    if report:\n",
    "        print('Classification Report')\n",
    "        print(classification_report(y_test, y_pred))"
   ]
  },
  {
   "cell_type": "markdown",
   "metadata": {},
   "source": [
    "<a id=\"evaluation\"></a>\n",
    "\n",
    "### Evaluation "
   ]
  },
  {
   "cell_type": "code",
   "execution_count": 17,
   "metadata": {},
   "outputs": [
    {
     "name": "stdout",
     "output_type": "stream",
     "text": [
      "43/94 [============>.................] - ETA: 0s"
     ]
    },
    {
     "name": "stdout",
     "output_type": "stream",
     "text": [
      "94/94 [==============================] - 0s 1ms/step\n"
     ]
    },
    {
     "data": {
      "image/png": "[encoded data removed]",
      "text/plain": [
       "<Figure size 700x600 with 2 Axes>"
      ]
     },
     "metadata": {},
     "output_type": "display_data"
    },
    {
     "name": "stdout",
     "output_type": "stream",
     "text": [
      "Classification Report\n",
      "              precision    recall  f1-score   support\n",
      "\n",
      "           0       0.91      0.93      0.92       250\n",
      "           1       1.00      0.98      0.99       248\n",
      "           2       0.99      0.94      0.96       254\n",
      "           3       0.91      0.93      0.92       259\n",
      "           4       0.97      0.89      0.93       255\n",
      "           5       0.99      0.97      0.98       261\n",
      "           6       0.90      0.92      0.91       239\n",
      "           7       0.93      0.80      0.86       235\n",
      "           8       0.92      0.99      0.95       254\n",
      "           9       1.00      0.97      0.98       236\n",
      "          10       0.82      0.94      0.88       264\n",
      "          11       0.96      0.99      0.98       245\n",
      "\n",
      "    accuracy                           0.94      3000\n",
      "   macro avg       0.94      0.94      0.94      3000\n",
      "weighted avg       0.94      0.94      0.94      3000\n",
      "\n"
     ]
    }
   ],
   "source": [
    "Y_pred = model.predict(X_test)\n",
    "y_pred = np.argmax(Y_pred, axis=1)\n",
    "\n",
    "print_confusion_matrix(y_test, y_pred)"
   ]
  },
  {
   "cell_type": "markdown",
   "metadata": {},
   "source": [
    "## Convert to model for Tensorflow-Lite"
   ]
  },
  {
   "cell_type": "code",
   "execution_count": 18,
   "metadata": {},
   "outputs": [
    {
     "name": "stderr",
     "output_type": "stream",
     "text": [
      "c:\\Users\\Ian\\git\\553.806_Capstone_HandGesture\\.venv\\Lib\\site-packages\\keras\\src\\engine\\training.py:3103: UserWarning: You are saving your model as an HDF5 file via `model.save()`. This file format is considered legacy. We recommend using instead the native Keras format, e.g. `model.save('my_model.keras')`.\n",
      "  saving_api.save_model(\n"
     ]
    }
   ],
   "source": [
    "# Save as a model dedicated to inference\n",
    "model.save(model_save_path, include_optimizer=False)"
   ]
  },
  {
   "cell_type": "code",
   "execution_count": 19,
   "metadata": {},
   "outputs": [
    {
     "name": "stdout",
     "output_type": "stream",
     "text": [
      "INFO:tensorflow:Assets written to: C:\\Users\\Ian\\AppData\\Local\\Temp\\tmprn0ua7j3\\assets\n"
     ]
    },
    {
     "name": "stderr",
     "output_type": "stream",
     "text": [
      "INFO:tensorflow:Assets written to: C:\\Users\\Ian\\AppData\\Local\\Temp\\tmprn0ua7j3\\assets\n"
     ]
    },
    {
     "data": {
      "text/plain": [
       "40376"
      ]
     },
     "execution_count": 19,
     "metadata": {},
     "output_type": "execute_result"
    }
   ],
   "source": [
    "# Transform model (quantization)\n",
    "converter = tf.lite.TFLiteConverter.from_keras_model(model)\n",
    "converter.optimizations = [tf.lite.Optimize.DEFAULT]\n",
    "tflite_quantized_model = converter.convert()\n",
    "\n",
    "open(tflite_save_path, 'wb').write(tflite_quantized_model)"
   ]
  },
  {
   "cell_type": "markdown",
   "metadata": {},
   "source": [
    "### Inference test"
   ]
  },
  {
   "cell_type": "code",
   "execution_count": 20,
   "metadata": {},
   "outputs": [],
   "source": [
    "interpreter = tf.lite.Interpreter(model_path=tflite_save_path)\n",
    "interpreter.allocate_tensors()\n",
    "# Get I / O tensor\n",
    "input_details = interpreter.get_input_details()\n",
    "output_details = interpreter.get_output_details()"
   ]
  },
  {
   "cell_type": "code",
   "execution_count": 22,
   "metadata": {},
   "outputs": [],
   "source": [
    "interpreter.set_tensor(input_details[0]['index'], np.array([X_test[0]]))"
   ]
  },
  {
   "cell_type": "code",
   "execution_count": 23,
   "metadata": {},
   "outputs": [
    {
     "name": "stdout",
     "output_type": "stream",
     "text": [
      "[3.1299568e-14 9.9998367e-01 1.5300153e-13 7.3547447e-21 2.4668868e-11\n",
      " 4.3447096e-07 4.4855545e-13 1.4986591e-05 2.7478936e-11 8.2690194e-10\n",
      " 8.6011477e-07 5.8063637e-10]\n",
      "1\n",
      "CPU times: total: 0 ns\n",
      "Wall time: 1 ms\n"
     ]
    }
   ],
   "source": [
    "%%time\n",
    "# Inference implementation\n",
    "interpreter.invoke()\n",
    "tflite_results = interpreter.get_tensor(output_details[0]['index'])\n",
    "\n",
    "print(np.squeeze(tflite_results))\n",
    "print(np.argmax(np.squeeze(tflite_results)))"
   ]
  }
 ],
 "metadata": {
  "kernelspec": {
   "display_name": ".venv",
   "language": "python",
   "name": "python3"
  },
  "language_info": {
   "codemirror_mode": {
    "name": "ipython",
    "version": 3
   },
   "file_extension": ".py",
   "mimetype": "text/x-python",
   "name": "python",
   "nbconvert_exporter": "python",
   "pygments_lexer": "ipython3",
   "version": "3.11.8"
  }
 },
 "nbformat": 4,
 "nbformat_minor": 2
}
