{
 "cells": [
  {
   "cell_type": "markdown",
   "metadata": {},
   "source": [
    "# Gesture Classification\n",
    "\n",
    "This notebook is used to train classification models from csv dataset. \n",
    "\n",
    "> shift and rotation \n",
    "\n",
    "<a href=\"#evaluation\">Go to Evaluation Cell</a>"
   ]
  },
  {
   "cell_type": "code",
   "execution_count": 1,
   "metadata": {},
   "outputs": [
    {
     "name": "stdout",
     "output_type": "stream",
     "text": [
      "WARNING:tensorflow:From c:\\Users\\Ian\\git\\553.806_Capstone_HandGesture\\.venv\\Lib\\site-packages\\keras\\src\\losses.py:2976: The name tf.losses.sparse_softmax_cross_entropy is deprecated. Please use tf.compat.v1.losses.sparse_softmax_cross_entropy instead.\n",
      "\n"
     ]
    }
   ],
   "source": [
    "import numpy as np\n",
    "import pandas as pd\n",
    "import matplotlib.pyplot as plt\n",
    "\n",
    "import tensorflow as tf\n",
    "from sklearn.model_selection import train_test_split\n",
    "\n",
    "RANDOM_SEED = 42"
   ]
  },
  {
   "cell_type": "code",
   "execution_count": 2,
   "metadata": {},
   "outputs": [],
   "source": [
    "# set up\n",
    "dataset = 'datasets/HandLandmarks1000.csv'\n",
    "\n",
    "model_save_path = 'models/gesture_classifier.hdf5'\n",
    "tflite_save_path = 'models/gesture_classifier.tflite'\n",
    "\n",
    "LABELS = ['call', 'dislike', 'fist', 'like', 'mute', 'ok', 'one', 'palm', 'peace', 'rock', 'stop', 'stop_inverted'] \n",
    "NUM_CLASSES = len(LABELS)"
   ]
  },
  {
   "cell_type": "markdown",
   "metadata": {},
   "source": [
    "## Dataset Preparation"
   ]
  },
  {
   "cell_type": "code",
   "execution_count": 3,
   "metadata": {},
   "outputs": [],
   "source": [
    "# Load the datasets and apply train_test_split\n",
    "df = pd.read_csv(dataset, header=None, dtype='float32')\n",
    "\n",
    "y_dataset = df.iloc[:, 0].values.astype('int32')\n",
    "X_dataset = df.iloc[:, 1:].values"
   ]
  },
  {
   "cell_type": "code",
   "execution_count": 4,
   "metadata": {},
   "outputs": [
    {
     "data": {
      "text/plain": [
       "array([[ 1.        ,  0.7100702 ,  0.5840761 , ...,  0.6014862 ,\n",
       "         0.5510756 , -0.02362032],\n",
       "       [ 1.        ,  0.588869  ,  0.6737625 , ...,  0.5168103 ,\n",
       "         0.6284635 , -0.01756548],\n",
       "       [ 0.        ,  0.2995245 ,  0.5965276 , ...,  0.50682276,\n",
       "         0.61600465, -0.03615945],\n",
       "       ...,\n",
       "       [ 0.        ,  0.26178235,  0.51515234, ...,  0.30807483,\n",
       "         0.40605247, -0.02462914],\n",
       "       [ 1.        ,  0.6025023 ,  0.45756525, ...,  0.4871351 ,\n",
       "         0.23205534,  0.1230498 ],\n",
       "       [ 1.        ,  0.8320666 ,  0.4440706 , ...,  0.7311647 ,\n",
       "         0.21871707, -0.05081773]], dtype=float32)"
      ]
     },
     "execution_count": 4,
     "metadata": {},
     "output_type": "execute_result"
    }
   ],
   "source": [
    "X_dataset"
   ]
  },
  {
   "cell_type": "code",
   "execution_count": 5,
   "metadata": {},
   "outputs": [
    {
     "data": {
      "text/plain": [
       "array([[ 1.        ,  0.        ,  0.        , ..., -0.10858399,\n",
       "        -0.03300053, -0.02362013],\n",
       "       [ 1.        ,  0.        ,  0.        , ..., -0.07205868,\n",
       "        -0.04529899, -0.01756538],\n",
       "       [ 0.        ,  0.        ,  0.        , ...,  0.20729828,\n",
       "         0.01947707, -0.03615942],\n",
       "       ...,\n",
       "       [ 0.        ,  0.        ,  0.        , ...,  0.04629248,\n",
       "        -0.10909986, -0.02462909],\n",
       "       [ 1.        ,  0.        ,  0.        , ..., -0.11536717,\n",
       "        -0.22550991,  0.12304984],\n",
       "       [ 1.        ,  0.        ,  0.        , ..., -0.1009019 ,\n",
       "        -0.22535354, -0.05081779]], dtype=float32)"
      ]
     },
     "execution_count": 5,
     "metadata": {},
     "output_type": "execute_result"
    }
   ],
   "source": [
    "# shifting\n",
    "point0s = X_dataset[:, 1:4]\n",
    "shift = np.hstack((np.zeros((X_dataset.shape[0], 1)), np.hstack([point0s] * 21)))\n",
    "X_dataset_shifted = X_dataset - shift\n",
    "X_dataset_shifted = X_dataset_shifted.astype('float32')\n",
    "X_dataset_shifted"
   ]
  },
  {
   "cell_type": "code",
   "execution_count": 6,
   "metadata": {},
   "outputs": [
    {
     "data": {
      "text/plain": [
       "array([[ 1.        ,  0.        ,  0.        , ..., -0.09276759,\n",
       "        -0.06537347, -0.02362013],\n",
       "       [ 1.        ,  0.        ,  0.        , ..., -0.06434396,\n",
       "        -0.05571631, -0.01756538],\n",
       "       [ 0.        ,  0.        ,  0.        , ...,  0.14421225,\n",
       "        -0.15018243, -0.03615942],\n",
       "       ...,\n",
       "       [ 0.        ,  0.        ,  0.        , ...,  0.07331148,\n",
       "        -0.09311929, -0.02462909],\n",
       "       [ 1.        ,  0.        ,  0.        , ..., -0.13255759,\n",
       "        -0.21585363,  0.12304984],\n",
       "       [ 1.        ,  0.        ,  0.        , ..., -0.15520759,\n",
       "        -0.19203128, -0.05081779]], dtype=float32)"
      ]
     },
     "execution_count": 6,
     "metadata": {},
     "output_type": "execute_result"
    }
   ],
   "source": [
    "# rotation\n",
    "def rotate_around_point0(landmark_array):\n",
    "    landmarks_xy = landmark_array[1:].reshape(-1,3)[:,:2]\n",
    "    point5 = landmarks_xy[5]\n",
    "    dx, dy = point5\n",
    "    angle = np.arctan2(dy, dx) + np.pi / 2\n",
    "    rotation_matrix = np.array([[np.cos(angle), -np.sin(angle)], [np.sin(angle), np.cos(angle)]])\n",
    "    rotation_landmarks_xy = landmarks_xy.dot(rotation_matrix)\n",
    "    rotated_landmarks_array = np.append(landmark_array[0], np.hstack((rotation_landmarks_xy, landmark_array[1:].reshape(-1,3)[:,2:])).flatten())\n",
    "    return rotated_landmarks_array\n",
    "\n",
    "X_dataset_rotated = np.zeros_like(X_dataset_shifted)\n",
    "for idx, row in enumerate(X_dataset_shifted):\n",
    "    X_dataset_rotated[idx] = rotate_around_point0(row)\n",
    "\n",
    "X_dataset_rotated"
   ]
  },
  {
   "cell_type": "code",
   "execution_count": 7,
   "metadata": {},
   "outputs": [],
   "source": [
    "X_train, X_test, y_train, y_test = train_test_split(X_dataset_rotated, y_dataset, train_size=0.75, random_state=RANDOM_SEED)"
   ]
  },
  {
   "cell_type": "code",
   "execution_count": 8,
   "metadata": {},
   "outputs": [
    {
     "data": {
      "text/plain": [
       "array([11, 10,  4, ...,  5,  0,  7])"
      ]
     },
     "execution_count": 8,
     "metadata": {},
     "output_type": "execute_result"
    }
   ],
   "source": [
    "y_train"
   ]
  },
  {
   "cell_type": "code",
   "execution_count": 9,
   "metadata": {},
   "outputs": [
    {
     "data": {
      "text/plain": [
       "array([ 0.00000000e+00,  0.00000000e+00,  0.00000000e+00,  0.00000000e+00,\n",
       "       -1.46499854e-02, -3.03592104e-02, -3.53255053e-03, -1.74814723e-02,\n",
       "       -6.42406419e-02, -6.31396752e-03, -1.19725494e-02, -9.13958922e-02,\n",
       "       -9.34291910e-03, -6.73653604e-03, -1.13111168e-01, -1.21399956e-02,\n",
       "       -1.30653466e-09, -8.36642683e-02, -5.60127804e-03,  8.33551027e-03,\n",
       "       -1.24269284e-01, -1.21110268e-02,  1.37177566e-02, -1.47527412e-01,\n",
       "       -1.62667353e-02,  1.76510606e-02, -1.65475324e-01, -1.86763536e-02,\n",
       "        1.19873174e-02, -7.88757354e-02, -7.98934232e-03,  2.11700182e-02,\n",
       "       -1.21389315e-01, -1.36752427e-02,  2.63222661e-02, -1.48210704e-01,\n",
       "       -1.76365878e-02,  2.96483524e-02, -1.68908313e-01, -1.99946221e-02,\n",
       "        2.32459120e-02, -6.96625784e-02, -1.09539153e-02,  3.15008461e-02,\n",
       "       -1.10384054e-01, -1.59018431e-02,  3.60650048e-02, -1.35814428e-01,\n",
       "       -1.91632640e-02,  3.84291932e-02, -1.55357569e-01, -2.08177920e-02,\n",
       "        3.46085988e-02, -5.73580898e-02, -1.42806442e-02,  4.19312827e-02,\n",
       "       -8.76720548e-02, -1.82172656e-02,  4.48231436e-02, -1.07498646e-01,\n",
       "       -1.97483599e-02,  4.65345457e-02, -1.23488277e-01, -2.00849436e-02],\n",
       "      dtype=float32)"
      ]
     },
     "execution_count": 9,
     "metadata": {},
     "output_type": "execute_result"
    }
   ],
   "source": [
    "X_train[0]"
   ]
  },
  {
   "cell_type": "code",
   "execution_count": 10,
   "metadata": {},
   "outputs": [
    {
     "name": "stdout",
     "output_type": "stream",
     "text": [
      "(9000,) (9000, 64) (3000,) (3000, 64)\n"
     ]
    }
   ],
   "source": [
    "print(y_train.shape, X_train.shape, y_test.shape, X_test.shape)"
   ]
  },
  {
   "cell_type": "markdown",
   "metadata": {},
   "source": [
    "## Model Building"
   ]
  },
  {
   "cell_type": "code",
   "execution_count": 11,
   "metadata": {},
   "outputs": [
    {
     "name": "stdout",
     "output_type": "stream",
     "text": [
      "WARNING:tensorflow:From c:\\Users\\Ian\\git\\553.806_Capstone_HandGesture\\.venv\\Lib\\site-packages\\keras\\src\\backend.py:1398: The name tf.executing_eagerly_outside_functions is deprecated. Please use tf.compat.v1.executing_eagerly_outside_functions instead.\n",
      "\n"
     ]
    }
   ],
   "source": [
    "model = tf.keras.models.Sequential([\n",
    "    tf.keras.layers.Input((21 * 3 + 1, )),\n",
    "    tf.keras.layers.Dropout(0.1),\n",
    "    tf.keras.layers.Dense(128, activation='relu'),  # Increased units\n",
    "    tf.keras.layers.BatchNormalization(),  # Added Batch Normalization\n",
    "    tf.keras.layers.Dropout(0.1),  # Adjusted dropout rate\n",
    "    tf.keras.layers.Dense(128, activation='relu'),  # Increased units\n",
    "    tf.keras.layers.BatchNormalization(),  # Added Batch Normalization\n",
    "    tf.keras.layers.Dense(64, activation='relu'),  # Increased units\n",
    "    tf.keras.layers.Dense(NUM_CLASSES, activation='softmax')\n",
    "])"
   ]
  },
  {
   "cell_type": "code",
   "execution_count": 12,
   "metadata": {},
   "outputs": [
    {
     "name": "stdout",
     "output_type": "stream",
     "text": [
      "Model: \"sequential\"\n",
      "_________________________________________________________________\n",
      " Layer (type)                Output Shape              Param #   \n",
      "=================================================================\n",
      " dropout (Dropout)           (None, 64)                0         \n",
      "                                                                 \n",
      " dense (Dense)               (None, 128)               8320      \n",
      "                                                                 \n",
      " batch_normalization (Batch  (None, 128)               512       \n",
      " Normalization)                                                  \n",
      "                                                                 \n",
      " dropout_1 (Dropout)         (None, 128)               0         \n",
      "                                                                 \n",
      " dense_1 (Dense)             (None, 128)               16512     \n",
      "                                                                 \n",
      " batch_normalization_1 (Bat  (None, 128)               512       \n",
      " chNormalization)                                                \n",
      "                                                                 \n",
      " dense_2 (Dense)             (None, 64)                8256      \n",
      "                                                                 \n",
      " dense_3 (Dense)             (None, 12)                780       \n",
      "                                                                 \n",
      "=================================================================\n",
      "Total params: 34892 (136.30 KB)\n",
      "Trainable params: 34380 (134.30 KB)\n",
      "Non-trainable params: 512 (2.00 KB)\n",
      "_________________________________________________________________\n"
     ]
    }
   ],
   "source": [
    "model.summary()"
   ]
  },
  {
   "cell_type": "code",
   "execution_count": 13,
   "metadata": {},
   "outputs": [],
   "source": [
    "# Model checkpoint callback\n",
    "cp_callback = tf.keras.callbacks.ModelCheckpoint(\n",
    "    model_save_path, verbose=1, save_weights_only=False)\n",
    "# Callback for early stopping\n",
    "es_callback = tf.keras.callbacks.EarlyStopping(patience=30, verbose=1)"
   ]
  },
  {
   "cell_type": "code",
   "execution_count": 14,
   "metadata": {},
   "outputs": [
    {
     "name": "stdout",
     "output_type": "stream",
     "text": [
      "WARNING:tensorflow:From c:\\Users\\Ian\\git\\553.806_Capstone_HandGesture\\.venv\\Lib\\site-packages\\keras\\src\\optimizers\\__init__.py:309: The name tf.train.Optimizer is deprecated. Please use tf.compat.v1.train.Optimizer instead.\n",
      "\n"
     ]
    }
   ],
   "source": [
    "# Model compilation\n",
    "model.compile(\n",
    "    optimizer='adam',\n",
    "    loss='sparse_categorical_crossentropy',\n",
    "    metrics=['accuracy']\n",
    ")"
   ]
  },
  {
   "cell_type": "markdown",
   "metadata": {},
   "source": [
    "## Model Training"
   ]
  },
  {
   "cell_type": "code",
   "execution_count": 15,
   "metadata": {},
   "outputs": [
    {
     "data": {
      "text/plain": [
       "<keras.src.callbacks.EarlyStopping at 0x274bb3f5690>"
      ]
     },
     "execution_count": 15,
     "metadata": {},
     "output_type": "execute_result"
    }
   ],
   "source": [
    "es_callback"
   ]
  },
  {
   "cell_type": "code",
   "execution_count": 16,
   "metadata": {},
   "outputs": [
    {
     "name": "stdout",
     "output_type": "stream",
     "text": [
      "Epoch 1/1000\n",
      "WARNING:tensorflow:From c:\\Users\\Ian\\git\\553.806_Capstone_HandGesture\\.venv\\Lib\\site-packages\\keras\\src\\utils\\tf_utils.py:492: The name tf.ragged.RaggedTensorValue is deprecated. Please use tf.compat.v1.ragged.RaggedTensorValue instead.\n",
      "\n"
     ]
    },
    {
     "name": "stdout",
     "output_type": "stream",
     "text": [
      "WARNING:tensorflow:From c:\\Users\\Ian\\git\\553.806_Capstone_HandGesture\\.venv\\Lib\\site-packages\\keras\\src\\engine\\base_layer_utils.py:384: The name tf.executing_eagerly_outside_functions is deprecated. Please use tf.compat.v1.executing_eagerly_outside_functions instead.\n",
      "\n",
      "54/71 [=====================>........] - ETA: 0s - loss: 1.7143 - accuracy: 0.4579\n",
      "Epoch 1: saving model to models\\gesture_classifier.hdf5\n",
      "71/71 [==============================] - 3s 8ms/step - loss: 1.5521 - accuracy: 0.5114 - val_loss: 2.4054 - val_accuracy: 0.0890\n",
      "Epoch 2/1000\n",
      "50/71 [====================>.........] - ETA: 0s - loss: 0.7738 - accuracy: 0.7722"
     ]
    },
    {
     "name": "stderr",
     "output_type": "stream",
     "text": [
      "c:\\Users\\Ian\\git\\553.806_Capstone_HandGesture\\.venv\\Lib\\site-packages\\keras\\src\\engine\\training.py:3103: UserWarning: You are saving your model as an HDF5 file via `model.save()`. This file format is considered legacy. We recommend using instead the native Keras format, e.g. `model.save('my_model.keras')`.\n",
      "  saving_api.save_model(\n"
     ]
    },
    {
     "name": "stdout",
     "output_type": "stream",
     "text": [
      "67/71 [===========================>..] - ETA: 0s - loss: 0.7396 - accuracy: 0.7794\n",
      "Epoch 2: saving model to models\\gesture_classifier.hdf5\n",
      "71/71 [==============================] - 0s 5ms/step - loss: 0.7368 - accuracy: 0.7802 - val_loss: 2.2982 - val_accuracy: 0.1057\n",
      "Epoch 3/1000\n",
      "68/71 [===========================>..] - ETA: 0s - loss: 0.5280 - accuracy: 0.8358\n",
      "Epoch 3: saving model to models\\gesture_classifier.hdf5\n",
      "71/71 [==============================] - 0s 4ms/step - loss: 0.5266 - accuracy: 0.8368 - val_loss: 2.0310 - val_accuracy: 0.2490\n",
      "Epoch 4/1000\n",
      "68/71 [===========================>..] - ETA: 0s - loss: 0.4283 - accuracy: 0.8658\n",
      "Epoch 4: saving model to models\\gesture_classifier.hdf5\n",
      "71/71 [==============================] - 0s 4ms/step - loss: 0.4276 - accuracy: 0.8651 - val_loss: 1.6446 - val_accuracy: 0.5237\n",
      "Epoch 5/1000\n",
      "67/71 [===========================>..] - ETA: 0s - loss: 0.3595 - accuracy: 0.8872\n",
      "Epoch 5: saving model to models\\gesture_classifier.hdf5\n",
      "71/71 [==============================] - 0s 4ms/step - loss: 0.3604 - accuracy: 0.8871 - val_loss: 1.1633 - val_accuracy: 0.6947\n",
      "Epoch 6/1000\n",
      "63/71 [=========================>....] - ETA: 0s - loss: 0.3416 - accuracy: 0.8919\n",
      "Epoch 6: saving model to models\\gesture_classifier.hdf5\n",
      "71/71 [==============================] - 0s 5ms/step - loss: 0.3386 - accuracy: 0.8934 - val_loss: 0.7153 - val_accuracy: 0.8253\n",
      "Epoch 7/1000\n",
      "66/71 [==========================>...] - ETA: 0s - loss: 0.3145 - accuracy: 0.9008\n",
      "Epoch 7: saving model to models\\gesture_classifier.hdf5\n",
      "71/71 [==============================] - 0s 4ms/step - loss: 0.3134 - accuracy: 0.9013 - val_loss: 0.3564 - val_accuracy: 0.9337\n",
      "Epoch 8/1000\n",
      "67/71 [===========================>..] - ETA: 0s - loss: 0.2877 - accuracy: 0.9085\n",
      "Epoch 8: saving model to models\\gesture_classifier.hdf5\n",
      "71/71 [==============================] - 0s 5ms/step - loss: 0.2842 - accuracy: 0.9091 - val_loss: 0.2333 - val_accuracy: 0.9513\n",
      "Epoch 9/1000\n",
      "54/71 [=====================>........] - ETA: 0s - loss: 0.2689 - accuracy: 0.9170\n",
      "Epoch 9: saving model to models\\gesture_classifier.hdf5\n",
      "71/71 [==============================] - 0s 4ms/step - loss: 0.2694 - accuracy: 0.9149 - val_loss: 0.1587 - val_accuracy: 0.9650\n",
      "Epoch 10/1000\n",
      "70/71 [============================>.] - ETA: 0s - loss: 0.2529 - accuracy: 0.9217\n",
      "Epoch 10: saving model to models\\gesture_classifier.hdf5\n",
      "71/71 [==============================] - 0s 5ms/step - loss: 0.2525 - accuracy: 0.9218 - val_loss: 0.1422 - val_accuracy: 0.9670\n",
      "Epoch 11/1000\n",
      "69/71 [============================>.] - ETA: 0s - loss: 0.2420 - accuracy: 0.9231\n",
      "Epoch 11: saving model to models\\gesture_classifier.hdf5\n",
      "71/71 [==============================] - 0s 4ms/step - loss: 0.2418 - accuracy: 0.9233 - val_loss: 0.1420 - val_accuracy: 0.9620\n",
      "Epoch 12/1000\n",
      "70/71 [============================>.] - ETA: 0s - loss: 0.2218 - accuracy: 0.9292\n",
      "Epoch 12: saving model to models\\gesture_classifier.hdf5\n",
      "71/71 [==============================] - 0s 4ms/step - loss: 0.2216 - accuracy: 0.9292 - val_loss: 0.1142 - val_accuracy: 0.9707\n",
      "Epoch 13/1000\n",
      "71/71 [==============================] - ETA: 0s - loss: 0.2143 - accuracy: 0.9300\n",
      "Epoch 13: saving model to models\\gesture_classifier.hdf5\n",
      "71/71 [==============================] - 0s 4ms/step - loss: 0.2143 - accuracy: 0.9300 - val_loss: 0.1176 - val_accuracy: 0.9693\n",
      "Epoch 14/1000\n",
      "71/71 [==============================] - ETA: 0s - loss: 0.2108 - accuracy: 0.9293\n",
      "Epoch 14: saving model to models\\gesture_classifier.hdf5\n",
      "71/71 [==============================] - 0s 4ms/step - loss: 0.2108 - accuracy: 0.9293 - val_loss: 0.1347 - val_accuracy: 0.9613\n",
      "Epoch 15/1000\n",
      "54/71 [=====================>........] - ETA: 0s - loss: 0.2134 - accuracy: 0.9272\n",
      "Epoch 15: saving model to models\\gesture_classifier.hdf5\n",
      "71/71 [==============================] - 0s 4ms/step - loss: 0.2188 - accuracy: 0.9251 - val_loss: 0.1290 - val_accuracy: 0.9650\n",
      "Epoch 16/1000\n",
      "71/71 [==============================] - ETA: 0s - loss: 0.1981 - accuracy: 0.9338\n",
      "Epoch 16: saving model to models\\gesture_classifier.hdf5\n",
      "71/71 [==============================] - 0s 4ms/step - loss: 0.1981 - accuracy: 0.9338 - val_loss: 0.1085 - val_accuracy: 0.9723\n",
      "Epoch 17/1000\n",
      "54/71 [=====================>........] - ETA: 0s - loss: 0.1912 - accuracy: 0.9372\n",
      "Epoch 17: saving model to models\\gesture_classifier.hdf5\n",
      "71/71 [==============================] - 0s 4ms/step - loss: 0.1919 - accuracy: 0.9372 - val_loss: 0.1157 - val_accuracy: 0.9713\n",
      "Epoch 18/1000\n",
      "54/71 [=====================>........] - ETA: 0s - loss: 0.1911 - accuracy: 0.9388\n",
      "Epoch 18: saving model to models\\gesture_classifier.hdf5\n",
      "71/71 [==============================] - 0s 4ms/step - loss: 0.1881 - accuracy: 0.9394 - val_loss: 0.1175 - val_accuracy: 0.9707\n",
      "Epoch 19/1000\n",
      "54/71 [=====================>........] - ETA: 0s - loss: 0.1818 - accuracy: 0.9427\n",
      "Epoch 19: saving model to models\\gesture_classifier.hdf5\n",
      "71/71 [==============================] - 0s 4ms/step - loss: 0.1830 - accuracy: 0.9424 - val_loss: 0.1216 - val_accuracy: 0.9693\n",
      "Epoch 20/1000\n",
      "70/71 [============================>.] - ETA: 0s - loss: 0.1826 - accuracy: 0.9385\n",
      "Epoch 20: saving model to models\\gesture_classifier.hdf5\n",
      "71/71 [==============================] - 0s 4ms/step - loss: 0.1830 - accuracy: 0.9383 - val_loss: 0.1104 - val_accuracy: 0.9727\n",
      "Epoch 21/1000\n",
      "71/71 [==============================] - ETA: 0s - loss: 0.1690 - accuracy: 0.9454\n",
      "Epoch 21: saving model to models\\gesture_classifier.hdf5\n",
      "71/71 [==============================] - 0s 4ms/step - loss: 0.1690 - accuracy: 0.9454 - val_loss: 0.1129 - val_accuracy: 0.9680\n",
      "Epoch 22/1000\n",
      "54/71 [=====================>........] - ETA: 0s - loss: 0.1595 - accuracy: 0.9491\n",
      "Epoch 22: saving model to models\\gesture_classifier.hdf5\n",
      "71/71 [==============================] - 0s 4ms/step - loss: 0.1605 - accuracy: 0.9491 - val_loss: 0.1231 - val_accuracy: 0.9660\n",
      "Epoch 23/1000\n",
      "59/71 [=======================>......] - ETA: 0s - loss: 0.1719 - accuracy: 0.9429\n",
      "Epoch 23: saving model to models\\gesture_classifier.hdf5\n",
      "71/71 [==============================] - 0s 5ms/step - loss: 0.1696 - accuracy: 0.9437 - val_loss: 0.1142 - val_accuracy: 0.9713\n",
      "Epoch 24/1000\n",
      "67/71 [===========================>..] - ETA: 0s - loss: 0.1660 - accuracy: 0.9419\n",
      "Epoch 24: saving model to models\\gesture_classifier.hdf5\n",
      "71/71 [==============================] - 0s 4ms/step - loss: 0.1644 - accuracy: 0.9423 - val_loss: 0.1154 - val_accuracy: 0.9707\n",
      "Epoch 25/1000\n",
      "70/71 [============================>.] - ETA: 0s - loss: 0.1581 - accuracy: 0.9496\n",
      "Epoch 25: saving model to models\\gesture_classifier.hdf5\n",
      "71/71 [==============================] - 0s 5ms/step - loss: 0.1579 - accuracy: 0.9497 - val_loss: 0.1196 - val_accuracy: 0.9710\n",
      "Epoch 26/1000\n",
      "54/71 [=====================>........] - ETA: 0s - loss: 0.1511 - accuracy: 0.9523\n",
      "Epoch 26: saving model to models\\gesture_classifier.hdf5\n",
      "71/71 [==============================] - 0s 4ms/step - loss: 0.1543 - accuracy: 0.9504 - val_loss: 0.1095 - val_accuracy: 0.9710\n",
      "Epoch 27/1000\n",
      "70/71 [============================>.] - ETA: 0s - loss: 0.1509 - accuracy: 0.9503\n",
      "Epoch 27: saving model to models\\gesture_classifier.hdf5\n",
      "71/71 [==============================] - 0s 5ms/step - loss: 0.1509 - accuracy: 0.9504 - val_loss: 0.1137 - val_accuracy: 0.9697\n",
      "Epoch 28/1000\n",
      "66/71 [==========================>...] - ETA: 0s - loss: 0.1486 - accuracy: 0.9497\n",
      "Epoch 28: saving model to models\\gesture_classifier.hdf5\n",
      "71/71 [==============================] - 0s 4ms/step - loss: 0.1493 - accuracy: 0.9496 - val_loss: 0.1059 - val_accuracy: 0.9730\n",
      "Epoch 29/1000\n",
      "54/71 [=====================>........] - ETA: 0s - loss: 0.1506 - accuracy: 0.9495\n",
      "Epoch 29: saving model to models\\gesture_classifier.hdf5\n",
      "71/71 [==============================] - 0s 4ms/step - loss: 0.1531 - accuracy: 0.9486 - val_loss: 0.1140 - val_accuracy: 0.9730\n",
      "Epoch 30/1000\n",
      "54/71 [=====================>........] - ETA: 0s - loss: 0.1556 - accuracy: 0.9481\n",
      "Epoch 30: saving model to models\\gesture_classifier.hdf5\n",
      "71/71 [==============================] - 0s 4ms/step - loss: 0.1479 - accuracy: 0.9512 - val_loss: 0.0974 - val_accuracy: 0.9750\n",
      "Epoch 31/1000\n",
      "53/71 [=====================>........] - ETA: 0s - loss: 0.1348 - accuracy: 0.9547\n",
      "Epoch 31: saving model to models\\gesture_classifier.hdf5\n",
      "71/71 [==============================] - 0s 4ms/step - loss: 0.1379 - accuracy: 0.9539 - val_loss: 0.1338 - val_accuracy: 0.9653\n",
      "Epoch 32/1000\n",
      "54/71 [=====================>........] - ETA: 0s - loss: 0.1460 - accuracy: 0.9528\n",
      "Epoch 32: saving model to models\\gesture_classifier.hdf5\n",
      "71/71 [==============================] - 0s 4ms/step - loss: 0.1473 - accuracy: 0.9511 - val_loss: 0.1235 - val_accuracy: 0.9683\n",
      "Epoch 33/1000\n",
      "55/71 [======================>.......] - ETA: 0s - loss: 0.1411 - accuracy: 0.9558\n",
      "Epoch 33: saving model to models\\gesture_classifier.hdf5\n",
      "71/71 [==============================] - 0s 4ms/step - loss: 0.1368 - accuracy: 0.9556 - val_loss: 0.1009 - val_accuracy: 0.9743\n",
      "Epoch 34/1000\n",
      "54/71 [=====================>........] - ETA: 0s - loss: 0.1423 - accuracy: 0.9523\n",
      "Epoch 34: saving model to models\\gesture_classifier.hdf5\n",
      "71/71 [==============================] - 0s 4ms/step - loss: 0.1382 - accuracy: 0.9536 - val_loss: 0.1050 - val_accuracy: 0.9740\n",
      "Epoch 35/1000\n",
      "70/71 [============================>.] - ETA: 0s - loss: 0.1397 - accuracy: 0.9531\n",
      "Epoch 35: saving model to models\\gesture_classifier.hdf5\n",
      "71/71 [==============================] - 0s 4ms/step - loss: 0.1399 - accuracy: 0.9530 - val_loss: 0.1136 - val_accuracy: 0.9743\n",
      "Epoch 36/1000\n",
      "71/71 [==============================] - ETA: 0s - loss: 0.1328 - accuracy: 0.9579\n",
      "Epoch 36: saving model to models\\gesture_classifier.hdf5\n",
      "71/71 [==============================] - 0s 4ms/step - loss: 0.1328 - accuracy: 0.9579 - val_loss: 0.1057 - val_accuracy: 0.9727\n",
      "Epoch 37/1000\n",
      "71/71 [==============================] - ETA: 0s - loss: 0.1335 - accuracy: 0.9569\n",
      "Epoch 37: saving model to models\\gesture_classifier.hdf5\n",
      "71/71 [==============================] - 0s 4ms/step - loss: 0.1335 - accuracy: 0.9569 - val_loss: 0.1035 - val_accuracy: 0.9757\n",
      "Epoch 38/1000\n",
      "54/71 [=====================>........] - ETA: 0s - loss: 0.1370 - accuracy: 0.9534\n",
      "Epoch 38: saving model to models\\gesture_classifier.hdf5\n",
      "71/71 [==============================] - 0s 4ms/step - loss: 0.1350 - accuracy: 0.9553 - val_loss: 0.1045 - val_accuracy: 0.9727\n",
      "Epoch 39/1000\n",
      "68/71 [===========================>..] - ETA: 0s - loss: 0.1350 - accuracy: 0.9571\n",
      "Epoch 39: saving model to models\\gesture_classifier.hdf5\n",
      "71/71 [==============================] - 0s 4ms/step - loss: 0.1357 - accuracy: 0.9571 - val_loss: 0.1293 - val_accuracy: 0.9680\n",
      "Epoch 40/1000\n",
      "71/71 [==============================] - ETA: 0s - loss: 0.1276 - accuracy: 0.9567\n",
      "Epoch 40: saving model to models\\gesture_classifier.hdf5\n",
      "71/71 [==============================] - 0s 4ms/step - loss: 0.1276 - accuracy: 0.9567 - val_loss: 0.1196 - val_accuracy: 0.9690\n",
      "Epoch 41/1000\n",
      "54/71 [=====================>........] - ETA: 0s - loss: 0.1326 - accuracy: 0.9582\n",
      "Epoch 41: saving model to models\\gesture_classifier.hdf5\n",
      "71/71 [==============================] - 0s 4ms/step - loss: 0.1308 - accuracy: 0.9586 - val_loss: 0.1102 - val_accuracy: 0.9707\n",
      "Epoch 42/1000\n",
      "54/71 [=====================>........] - ETA: 0s - loss: 0.1340 - accuracy: 0.9575\n",
      "Epoch 42: saving model to models\\gesture_classifier.hdf5\n",
      "71/71 [==============================] - 0s 4ms/step - loss: 0.1337 - accuracy: 0.9573 - val_loss: 0.1105 - val_accuracy: 0.9733\n",
      "Epoch 43/1000\n",
      "53/71 [=====================>........] - ETA: 0s - loss: 0.1305 - accuracy: 0.9577\n",
      "Epoch 43: saving model to models\\gesture_classifier.hdf5\n",
      "71/71 [==============================] - 0s 4ms/step - loss: 0.1310 - accuracy: 0.9576 - val_loss: 0.1120 - val_accuracy: 0.9730\n",
      "Epoch 44/1000\n",
      "55/71 [======================>.......] - ETA: 0s - loss: 0.1178 - accuracy: 0.9615\n",
      "Epoch 44: saving model to models\\gesture_classifier.hdf5\n",
      "71/71 [==============================] - 0s 4ms/step - loss: 0.1165 - accuracy: 0.9618 - val_loss: 0.1057 - val_accuracy: 0.9770\n",
      "Epoch 45/1000\n",
      "54/71 [=====================>........] - ETA: 0s - loss: 0.1285 - accuracy: 0.9588\n",
      "Epoch 45: saving model to models\\gesture_classifier.hdf5\n",
      "71/71 [==============================] - 0s 4ms/step - loss: 0.1275 - accuracy: 0.9586 - val_loss: 0.0992 - val_accuracy: 0.9747\n",
      "Epoch 46/1000\n",
      "55/71 [======================>.......] - ETA: 0s - loss: 0.1294 - accuracy: 0.9575\n",
      "Epoch 46: saving model to models\\gesture_classifier.hdf5\n",
      "71/71 [==============================] - 0s 4ms/step - loss: 0.1266 - accuracy: 0.9580 - val_loss: 0.1077 - val_accuracy: 0.9753\n",
      "Epoch 47/1000\n",
      "61/71 [========================>.....] - ETA: 0s - loss: 0.1171 - accuracy: 0.9611\n",
      "Epoch 47: saving model to models\\gesture_classifier.hdf5\n",
      "71/71 [==============================] - 0s 5ms/step - loss: 0.1153 - accuracy: 0.9616 - val_loss: 0.1092 - val_accuracy: 0.9760\n",
      "Epoch 48/1000\n",
      "54/71 [=====================>........] - ETA: 0s - loss: 0.1171 - accuracy: 0.9617\n",
      "Epoch 48: saving model to models\\gesture_classifier.hdf5\n",
      "71/71 [==============================] - 0s 4ms/step - loss: 0.1183 - accuracy: 0.9614 - val_loss: 0.1103 - val_accuracy: 0.9740\n",
      "Epoch 49/1000\n",
      "70/71 [============================>.] - ETA: 0s - loss: 0.1186 - accuracy: 0.9619\n",
      "Epoch 49: saving model to models\\gesture_classifier.hdf5\n",
      "71/71 [==============================] - 0s 4ms/step - loss: 0.1183 - accuracy: 0.9621 - val_loss: 0.1045 - val_accuracy: 0.9740\n",
      "Epoch 50/1000\n",
      "68/71 [===========================>..] - ETA: 0s - loss: 0.1142 - accuracy: 0.9620\n",
      "Epoch 50: saving model to models\\gesture_classifier.hdf5\n",
      "71/71 [==============================] - 0s 4ms/step - loss: 0.1139 - accuracy: 0.9619 - val_loss: 0.1068 - val_accuracy: 0.9687\n",
      "Epoch 51/1000\n",
      "54/71 [=====================>........] - ETA: 0s - loss: 0.1213 - accuracy: 0.9618\n",
      "Epoch 51: saving model to models\\gesture_classifier.hdf5\n",
      "71/71 [==============================] - 0s 4ms/step - loss: 0.1221 - accuracy: 0.9612 - val_loss: 0.1117 - val_accuracy: 0.9753\n",
      "Epoch 52/1000\n",
      "54/71 [=====================>........] - ETA: 0s - loss: 0.1134 - accuracy: 0.9621\n",
      "Epoch 52: saving model to models\\gesture_classifier.hdf5\n",
      "71/71 [==============================] - 0s 4ms/step - loss: 0.1181 - accuracy: 0.9609 - val_loss: 0.1062 - val_accuracy: 0.9733\n",
      "Epoch 53/1000\n",
      "55/71 [======================>.......] - ETA: 0s - loss: 0.1097 - accuracy: 0.9629\n",
      "Epoch 53: saving model to models\\gesture_classifier.hdf5\n",
      "71/71 [==============================] - 0s 4ms/step - loss: 0.1118 - accuracy: 0.9620 - val_loss: 0.1139 - val_accuracy: 0.9737\n",
      "Epoch 54/1000\n",
      "68/71 [===========================>..] - ETA: 0s - loss: 0.1153 - accuracy: 0.9594\n",
      "Epoch 54: saving model to models\\gesture_classifier.hdf5\n",
      "71/71 [==============================] - 0s 4ms/step - loss: 0.1147 - accuracy: 0.9598 - val_loss: 0.1073 - val_accuracy: 0.9730\n",
      "Epoch 55/1000\n",
      "61/71 [========================>.....] - ETA: 0s - loss: 0.1138 - accuracy: 0.9608\n",
      "Epoch 55: saving model to models\\gesture_classifier.hdf5\n",
      "71/71 [==============================] - 0s 6ms/step - loss: 0.1120 - accuracy: 0.9614 - val_loss: 0.1189 - val_accuracy: 0.9723\n",
      "Epoch 56/1000\n",
      "58/71 [=======================>......] - ETA: 0s - loss: 0.1150 - accuracy: 0.9611\n",
      "Epoch 56: saving model to models\\gesture_classifier.hdf5\n",
      "71/71 [==============================] - 0s 5ms/step - loss: 0.1148 - accuracy: 0.9611 - val_loss: 0.1289 - val_accuracy: 0.9643\n",
      "Epoch 57/1000\n",
      "71/71 [==============================] - ETA: 0s - loss: 0.1148 - accuracy: 0.9608\n",
      "Epoch 57: saving model to models\\gesture_classifier.hdf5\n",
      "71/71 [==============================] - 0s 6ms/step - loss: 0.1148 - accuracy: 0.9608 - val_loss: 0.1072 - val_accuracy: 0.9770\n",
      "Epoch 58/1000\n",
      "63/71 [=========================>....] - ETA: 0s - loss: 0.1164 - accuracy: 0.9613\n",
      "Epoch 58: saving model to models\\gesture_classifier.hdf5\n",
      "71/71 [==============================] - 0s 5ms/step - loss: 0.1147 - accuracy: 0.9618 - val_loss: 0.1119 - val_accuracy: 0.9733\n",
      "Epoch 59/1000\n",
      "68/71 [===========================>..] - ETA: 0s - loss: 0.1135 - accuracy: 0.9602\n",
      "Epoch 59: saving model to models\\gesture_classifier.hdf5\n",
      "71/71 [==============================] - 0s 5ms/step - loss: 0.1148 - accuracy: 0.9599 - val_loss: 0.1102 - val_accuracy: 0.9720\n",
      "Epoch 60/1000\n",
      "60/71 [========================>.....] - ETA: 0s - loss: 0.1087 - accuracy: 0.9645\n",
      "Epoch 60: saving model to models\\gesture_classifier.hdf5\n",
      "71/71 [==============================] - 0s 5ms/step - loss: 0.1106 - accuracy: 0.9638 - val_loss: 0.1158 - val_accuracy: 0.9760\n",
      "Epoch 60: early stopping\n"
     ]
    },
    {
     "data": {
      "text/plain": [
       "<keras.src.callbacks.History at 0x274bb4886d0>"
      ]
     },
     "execution_count": 16,
     "metadata": {},
     "output_type": "execute_result"
    }
   ],
   "source": [
    "model.fit(\n",
    "    X_train,\n",
    "    y_train,\n",
    "    epochs=1000,\n",
    "    batch_size=128,\n",
    "    validation_data=(X_test, y_test),\n",
    "    callbacks=[cp_callback, es_callback]\n",
    ")"
   ]
  },
  {
   "cell_type": "code",
   "execution_count": 17,
   "metadata": {},
   "outputs": [
    {
     "name": "stdout",
     "output_type": "stream",
     "text": [
      "24/24 [==============================] - 0s 2ms/step - loss: 0.1158 - accuracy: 0.9760\n"
     ]
    }
   ],
   "source": [
    "# Model evaluation\n",
    "val_loss, val_acc = model.evaluate(X_test, y_test, batch_size=128)"
   ]
  },
  {
   "cell_type": "code",
   "execution_count": 18,
   "metadata": {},
   "outputs": [],
   "source": [
    "# Loading the saved model\n",
    "model = tf.keras.models.load_model(model_save_path)"
   ]
  },
  {
   "cell_type": "code",
   "execution_count": 19,
   "metadata": {},
   "outputs": [
    {
     "name": "stdout",
     "output_type": "stream",
     "text": [
      "1/1 [==============================] - 0s 164ms/step\n",
      "[9.0447393e-06 9.9907327e-01 6.7903347e-06 9.1091439e-04 2.0301969e-09\n",
      " 8.3273548e-09 5.3429674e-11 4.7215082e-10 3.7022501e-15 1.9989396e-12\n",
      " 1.4879914e-10 9.1912350e-15]\n",
      "1\n"
     ]
    }
   ],
   "source": [
    "# Inference test\n",
    "predict_result = model.predict(np.array([X_test[0]]))\n",
    "print(np.squeeze(predict_result))\n",
    "print(np.argmax(np.squeeze(predict_result)))"
   ]
  },
  {
   "cell_type": "markdown",
   "metadata": {},
   "source": [
    "# Confusion matrix"
   ]
  },
  {
   "cell_type": "code",
   "execution_count": 20,
   "metadata": {},
   "outputs": [],
   "source": [
    "import seaborn as sns\n",
    "from sklearn.metrics import confusion_matrix, classification_report\n",
    "\n",
    "def print_confusion_matrix(y_true, y_pred, report=True):\n",
    "    labels = sorted(list(set(y_true)))\n",
    "    cmx_data = confusion_matrix(y_true, y_pred, labels=labels)\n",
    "    \n",
    "    df_cmx = pd.DataFrame(cmx_data, index=labels, columns=labels)\n",
    " \n",
    "    fig, ax = plt.subplots(figsize=(7, 6))\n",
    "    sns.heatmap(df_cmx, annot=True, fmt='g' ,square=False)\n",
    "    ax.set_ylim(len(set(y_true)), 0)\n",
    "    plt.show()\n",
    "    \n",
    "    if report:\n",
    "        print('Classification Report')\n",
    "        print(classification_report(y_test, y_pred))"
   ]
  },
  {
   "cell_type": "markdown",
   "metadata": {},
   "source": [
    "<a id=\"evaluation\"></a>\n",
    "\n",
    "### Evaluation "
   ]
  },
  {
   "cell_type": "code",
   "execution_count": 21,
   "metadata": {},
   "outputs": [
    {
     "name": "stdout",
     "output_type": "stream",
     "text": [
      " 1/94 [..............................] - ETA: 2s"
     ]
    },
    {
     "name": "stdout",
     "output_type": "stream",
     "text": [
      "94/94 [==============================] - 0s 1ms/step\n"
     ]
    },
    {
     "data": {
      "image/png": "[encoded data removed]",
      "text/plain": [
       "<Figure size 700x600 with 2 Axes>"
      ]
     },
     "metadata": {},
     "output_type": "display_data"
    },
    {
     "name": "stdout",
     "output_type": "stream",
     "text": [
      "Classification Report\n",
      "              precision    recall  f1-score   support\n",
      "\n",
      "           0       1.00      0.95      0.97       250\n",
      "           1       0.98      0.97      0.98       248\n",
      "           2       0.96      0.98      0.97       254\n",
      "           3       0.94      1.00      0.97       259\n",
      "           4       0.96      0.97      0.97       255\n",
      "           5       1.00      0.98      0.99       261\n",
      "           6       0.96      0.94      0.95       239\n",
      "           7       1.00      0.97      0.98       235\n",
      "           8       0.98      0.99      0.99       254\n",
      "           9       1.00      0.97      0.98       236\n",
      "          10       0.96      1.00      0.98       264\n",
      "          11       1.00      0.97      0.99       245\n",
      "\n",
      "    accuracy                           0.98      3000\n",
      "   macro avg       0.98      0.98      0.98      3000\n",
      "weighted avg       0.98      0.98      0.98      3000\n",
      "\n"
     ]
    }
   ],
   "source": [
    "Y_pred = model.predict(X_test)\n",
    "y_pred = np.argmax(Y_pred, axis=1)\n",
    "\n",
    "print_confusion_matrix(y_test, y_pred)"
   ]
  },
  {
   "cell_type": "markdown",
   "metadata": {},
   "source": [
    "## Convert to model for Tensorflow-Lite"
   ]
  },
  {
   "cell_type": "code",
   "execution_count": 22,
   "metadata": {},
   "outputs": [
    {
     "name": "stderr",
     "output_type": "stream",
     "text": [
      "c:\\Users\\Ian\\git\\553.806_Capstone_HandGesture\\.venv\\Lib\\site-packages\\keras\\src\\engine\\training.py:3103: UserWarning: You are saving your model as an HDF5 file via `model.save()`. This file format is considered legacy. We recommend using instead the native Keras format, e.g. `model.save('my_model.keras')`.\n",
      "  saving_api.save_model(\n"
     ]
    }
   ],
   "source": [
    "# Save as a model dedicated to inference\n",
    "model.save(model_save_path, include_optimizer=False)"
   ]
  },
  {
   "cell_type": "code",
   "execution_count": 23,
   "metadata": {},
   "outputs": [
    {
     "name": "stdout",
     "output_type": "stream",
     "text": [
      "INFO:tensorflow:Assets written to: C:\\Users\\Ian\\AppData\\Local\\Temp\\tmpntbfai6v\\assets\n"
     ]
    },
    {
     "name": "stderr",
     "output_type": "stream",
     "text": [
      "INFO:tensorflow:Assets written to: C:\\Users\\Ian\\AppData\\Local\\Temp\\tmpntbfai6v\\assets\n"
     ]
    },
    {
     "data": {
      "text/plain": [
       "40376"
      ]
     },
     "execution_count": 23,
     "metadata": {},
     "output_type": "execute_result"
    }
   ],
   "source": [
    "# Transform model (quantization)\n",
    "converter = tf.lite.TFLiteConverter.from_keras_model(model)\n",
    "converter.optimizations = [tf.lite.Optimize.DEFAULT]\n",
    "tflite_quantized_model = converter.convert()\n",
    "\n",
    "open(tflite_save_path, 'wb').write(tflite_quantized_model)"
   ]
  },
  {
   "cell_type": "markdown",
   "metadata": {},
   "source": [
    "### Inference test"
   ]
  },
  {
   "cell_type": "code",
   "execution_count": 24,
   "metadata": {},
   "outputs": [],
   "source": [
    "interpreter = tf.lite.Interpreter(model_path=tflite_save_path)\n",
    "interpreter.allocate_tensors()\n",
    "# Get I / O tensor\n",
    "input_details = interpreter.get_input_details()\n",
    "output_details = interpreter.get_output_details()"
   ]
  },
  {
   "cell_type": "code",
   "execution_count": 25,
   "metadata": {},
   "outputs": [],
   "source": [
    "interpreter.set_tensor(input_details[0]['index'], np.array([X_test[0]]))"
   ]
  },
  {
   "cell_type": "code",
   "execution_count": 26,
   "metadata": {},
   "outputs": [
    {
     "data": {
      "text/plain": [
       "array([[ 0.00000000e+00,  0.00000000e+00,  0.00000000e+00,\n",
       "         0.00000000e+00,  4.14506793e-02, -5.43577522e-02,\n",
       "        -1.46347992e-02,  6.59199432e-02, -1.15286469e-01,\n",
       "        -1.70156863e-02,  8.57037231e-02, -1.61033705e-01,\n",
       "        -1.96216945e-02,  9.99393240e-02, -1.92838594e-01,\n",
       "        -1.70948412e-02, -3.36060513e-09, -1.45575985e-01,\n",
       "         4.36391449e-03, -4.97373333e-03, -1.83848634e-01,\n",
       "        -1.44664738e-02,  9.90142953e-03, -1.41694993e-01,\n",
       "        -2.19034087e-02,  1.13274688e-02, -1.16920479e-01,\n",
       "        -2.27735080e-02, -3.07963938e-02, -1.35485023e-01,\n",
       "         3.57175292e-03, -3.68962623e-02, -1.68193385e-01,\n",
       "        -1.68470759e-02, -1.48433419e-02, -1.16983324e-01,\n",
       "        -2.19514538e-02, -1.19802346e-02, -1.02016151e-01,\n",
       "        -2.11937707e-02, -5.97657189e-02, -1.17355824e-01,\n",
       "        -1.26007677e-03, -6.51483387e-02, -1.50020376e-01,\n",
       "        -2.25332472e-02, -4.14157175e-02, -1.04479782e-01,\n",
       "        -1.26723582e-02, -3.72686833e-02, -9.01516229e-02,\n",
       "        -1.04911556e-03, -8.95714387e-02, -9.51291323e-02,\n",
       "        -7.48157408e-03, -9.36592296e-02, -1.20817021e-01,\n",
       "        -1.75613221e-02, -7.09988698e-02, -9.45368931e-02,\n",
       "        -5.89624792e-03, -6.43282235e-02, -8.19200277e-02,\n",
       "         5.65960817e-03]], dtype=float32)"
      ]
     },
     "execution_count": 26,
     "metadata": {},
     "output_type": "execute_result"
    }
   ],
   "source": [
    "np.array([X_test[0]])"
   ]
  },
  {
   "cell_type": "code",
   "execution_count": 27,
   "metadata": {},
   "outputs": [
    {
     "name": "stdout",
     "output_type": "stream",
     "text": [
      "[9.62370541e-06 9.98950303e-01 5.43716487e-06 1.03475188e-03\n",
      " 1.89040161e-09 7.87852095e-09 4.97434940e-11 4.95633867e-10\n",
      " 3.51018055e-15 1.74731280e-12 1.41130149e-10 1.02891294e-14]\n",
      "1\n",
      "CPU times: total: 0 ns\n",
      "Wall time: 1 ms\n"
     ]
    }
   ],
   "source": [
    "%%time\n",
    "# Inference implementation\n",
    "interpreter.invoke()\n",
    "tflite_results = interpreter.get_tensor(output_details[0]['index'])\n",
    "\n",
    "print(np.squeeze(tflite_results))\n",
    "print(np.argmax(np.squeeze(tflite_results)))"
   ]
  }
 ],
 "metadata": {
  "kernelspec": {
   "display_name": ".venv",
   "language": "python",
   "name": "python3"
  },
  "language_info": {
   "codemirror_mode": {
    "name": "ipython",
    "version": 3
   },
   "file_extension": ".py",
   "mimetype": "text/x-python",
   "name": "python",
   "nbconvert_exporter": "python",
   "pygments_lexer": "ipython3",
   "version": "3.11.8"
  }
 },
 "nbformat": 4,
 "nbformat_minor": 2
}
