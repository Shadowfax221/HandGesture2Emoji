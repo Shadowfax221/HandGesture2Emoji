{
 "cells": [
  {
   "cell_type": "markdown",
   "metadata": {},
   "source": [
    "# Gesture Classification\n",
    "\n",
    "This notebook is used to train classification models from csv dataset. \n",
    "\n",
    "> shift and rotation \n",
    "\n",
    "<a href=\"#evaluation\">Go to Evaluation Cell</a>"
   ]
  },
  {
   "cell_type": "code",
   "execution_count": 132,
   "metadata": {},
   "outputs": [],
   "source": [
    "import numpy as np\n",
    "import pandas as pd\n",
    "import matplotlib.pyplot as plt\n",
    "\n",
    "import tensorflow as tf\n",
    "from sklearn.model_selection import train_test_split\n",
    "\n",
    "RANDOM_SEED = 42"
   ]
  },
  {
   "cell_type": "code",
   "execution_count": 133,
   "metadata": {},
   "outputs": [],
   "source": [
    "# set up\n",
    "dataset = 'datasets/HandLandmarks.csv'\n",
    "\n",
    "model_save_path = 'models/gesture_classifier.hdf5'\n",
    "tflite_save_path = 'models/gesture_classifier.tflite'\n",
    "\n",
    "LABELS = ['call', 'dislike', 'fist', 'like', 'mute', 'ok', 'one', 'palm', 'peace', 'rock', 'stop', 'stop_inverted'] \n",
    "NUM_CLASSES = len(LABELS)"
   ]
  },
  {
   "cell_type": "markdown",
   "metadata": {},
   "source": [
    "## Dataset Preparation"
   ]
  },
  {
   "cell_type": "code",
   "execution_count": 134,
   "metadata": {},
   "outputs": [],
   "source": [
    "# Load the datasets and apply train_test_split\n",
    "df = pd.read_csv(dataset, header=None, dtype='float32')\n",
    "\n",
    "y_dataset = df.iloc[:, 0].values.astype('int32')\n",
    "X_dataset = df.iloc[:, 1:].values"
   ]
  },
  {
   "cell_type": "code",
   "execution_count": 135,
   "metadata": {},
   "outputs": [
    {
     "data": {
      "text/plain": [
       "array([[ 1.        ,  0.        ,  0.        , ..., -0.10216434,\n",
       "        -0.13508339, -0.03064877],\n",
       "       [ 0.        ,  0.        ,  0.        , ...,  0.14574052,\n",
       "        -0.14397112, -0.05501493],\n",
       "       [ 0.        ,  0.        ,  0.        , ...,  0.11213671,\n",
       "        -0.14468998, -0.03186031],\n",
       "       ...,\n",
       "       [ 0.        ,  0.        ,  0.        , ...,  0.03444985,\n",
       "        -0.13605247, -0.00870891],\n",
       "       [ 1.        ,  0.        ,  0.        , ..., -0.08305884,\n",
       "        -0.10387042, -0.01509997],\n",
       "       [ 1.        ,  0.        ,  0.        , ..., -0.07646123,\n",
       "        -0.09891637, -0.00968494]], dtype=float32)"
      ]
     },
     "execution_count": 135,
     "metadata": {},
     "output_type": "execute_result"
    }
   ],
   "source": [
    "X_dataset"
   ]
  },
  {
   "cell_type": "code",
   "execution_count": 136,
   "metadata": {},
   "outputs": [],
   "source": [
    "X_train, X_test, y_train, y_test = train_test_split(X_dataset, y_dataset, train_size=0.75, random_state=RANDOM_SEED)"
   ]
  },
  {
   "cell_type": "code",
   "execution_count": 137,
   "metadata": {},
   "outputs": [
    {
     "data": {
      "text/plain": [
       "array([11, 10,  4, ...,  5,  0,  7])"
      ]
     },
     "execution_count": 137,
     "metadata": {},
     "output_type": "execute_result"
    }
   ],
   "source": [
    "y_train"
   ]
  },
  {
   "cell_type": "code",
   "execution_count": 138,
   "metadata": {},
   "outputs": [
    {
     "data": {
      "text/plain": [
       "array([ 0.00000000e+00,  0.00000000e+00,  0.00000000e+00,  0.00000000e+00,\n",
       "       -3.84705365e-02, -4.04734761e-02, -5.18343132e-03, -5.13279475e-02,\n",
       "       -7.90716410e-02, -8.85298010e-03, -4.31692600e-02, -1.11090571e-01,\n",
       "       -1.25077050e-02, -2.77799889e-02, -1.24602810e-01, -1.57617237e-02,\n",
       "        7.92261845e-18, -1.02456622e-01, -4.73904982e-03,  2.17009895e-02,\n",
       "       -1.41244307e-01, -1.19626960e-02,  3.50580178e-02, -1.62744284e-01,\n",
       "       -1.69818103e-02,  4.68660519e-02, -1.79199353e-01, -2.05787234e-02,\n",
       "        3.27351689e-02, -9.29414183e-02, -6.57391502e-03,  5.62498607e-02,\n",
       "       -1.37038067e-01, -1.24754729e-02,  6.82639554e-02, -1.62858278e-01,\n",
       "       -1.60586387e-02,  7.92608112e-02, -1.82582468e-01, -1.89216938e-02,\n",
       "        5.86342514e-02, -7.90141895e-02, -9.51563288e-03,  8.14785138e-02,\n",
       "       -1.20038964e-01, -1.52714122e-02,  9.30225775e-02, -1.44597679e-01,\n",
       "       -1.92355644e-02,  1.01017691e-01, -1.64029121e-01, -2.17267089e-02,\n",
       "        7.89035335e-02, -6.14919700e-02, -1.30737266e-02,  9.88399163e-02,\n",
       "       -9.11327228e-02, -1.56485997e-02,  1.07850499e-01, -1.09716140e-01,\n",
       "       -1.64962467e-02,  1.14126325e-01, -1.25828877e-01, -1.68874506e-02],\n",
       "      dtype=float32)"
      ]
     },
     "execution_count": 138,
     "metadata": {},
     "output_type": "execute_result"
    }
   ],
   "source": [
    "X_train[0]"
   ]
  },
  {
   "cell_type": "code",
   "execution_count": 139,
   "metadata": {},
   "outputs": [
    {
     "name": "stdout",
     "output_type": "stream",
     "text": [
      "(9000,) (9000, 64) (3000,) (3000, 64)\n"
     ]
    }
   ],
   "source": [
    "print(y_train.shape, X_train.shape, y_test.shape, X_test.shape)"
   ]
  },
  {
   "cell_type": "markdown",
   "metadata": {},
   "source": [
    "## Model Building"
   ]
  },
  {
   "cell_type": "code",
   "execution_count": 140,
   "metadata": {},
   "outputs": [],
   "source": [
    "model = tf.keras.models.Sequential([\n",
    "    tf.keras.layers.Input((21 * 3 + 1, )),\n",
    "    tf.keras.layers.Dropout(0.1),\n",
    "    tf.keras.layers.Dense(128, activation='relu'),  # Increased units\n",
    "    tf.keras.layers.BatchNormalization(),  # Added Batch Normalization\n",
    "    tf.keras.layers.Dropout(0.1),  # Adjusted dropout rate\n",
    "    # tf.keras.layers.Dense(128, activation='relu'),  # Increased units\n",
    "    # tf.keras.layers.BatchNormalization(),  # Added Batch Normalization\n",
    "    tf.keras.layers.Dense(64, activation='relu'),  # Increased units\n",
    "    tf.keras.layers.Dense(NUM_CLASSES, activation='softmax')\n",
    "])"
   ]
  },
  {
   "cell_type": "code",
   "execution_count": 141,
   "metadata": {},
   "outputs": [
    {
     "name": "stdout",
     "output_type": "stream",
     "text": [
      "Model: \"sequential_5\"\n",
      "_________________________________________________________________\n",
      " Layer (type)                Output Shape              Param #   \n",
      "=================================================================\n",
      " dropout_10 (Dropout)        (None, 64)                0         \n",
      "                                                                 \n",
      " dense_18 (Dense)            (None, 128)               8320      \n",
      "                                                                 \n",
      " batch_normalization_8 (Batc  (None, 128)              512       \n",
      " hNormalization)                                                 \n",
      "                                                                 \n",
      " dropout_11 (Dropout)        (None, 128)               0         \n",
      "                                                                 \n",
      " dense_19 (Dense)            (None, 64)                8256      \n",
      "                                                                 \n",
      " dense_20 (Dense)            (None, 12)                780       \n",
      "                                                                 \n",
      "=================================================================\n",
      "Total params: 17,868\n",
      "Trainable params: 17,612\n",
      "Non-trainable params: 256\n",
      "_________________________________________________________________\n"
     ]
    }
   ],
   "source": [
    "model.summary()"
   ]
  },
  {
   "cell_type": "code",
   "execution_count": 142,
   "metadata": {},
   "outputs": [],
   "source": [
    "# Model checkpoint callback\n",
    "cp_callback = tf.keras.callbacks.ModelCheckpoint(\n",
    "    model_save_path, verbose=1, save_weights_only=False)\n",
    "# Callback for early stopping\n",
    "es_callback = tf.keras.callbacks.EarlyStopping(patience=30, verbose=1)"
   ]
  },
  {
   "cell_type": "code",
   "execution_count": 143,
   "metadata": {},
   "outputs": [],
   "source": [
    "from tensorflow.keras.optimizers import Adam\n",
    "\n",
    "optimizer = Adam(\n",
    "    learning_rate=0.001,\n",
    "    beta_1=0.9,\n",
    "    beta_2=0.999,\n",
    "    epsilon=1e-07,\n",
    "    decay=0.0,\n",
    "    amsgrad=False\n",
    ")"
   ]
  },
  {
   "cell_type": "code",
   "execution_count": 144,
   "metadata": {},
   "outputs": [],
   "source": [
    "# Model compilation\n",
    "model.compile(\n",
    "    optimizer='adam',\n",
    "    loss='sparse_categorical_crossentropy',\n",
    "    metrics=['accuracy']\n",
    ")"
   ]
  },
  {
   "cell_type": "markdown",
   "metadata": {},
   "source": [
    "## Model Training"
   ]
  },
  {
   "cell_type": "code",
   "execution_count": 145,
   "metadata": {},
   "outputs": [
    {
     "data": {
      "text/plain": [
       "<keras.callbacks.EarlyStopping at 0x2ce572eb2b0>"
      ]
     },
     "execution_count": 145,
     "metadata": {},
     "output_type": "execute_result"
    }
   ],
   "source": [
    "es_callback"
   ]
  },
  {
   "cell_type": "code",
   "execution_count": 146,
   "metadata": {},
   "outputs": [
    {
     "name": "stdout",
     "output_type": "stream",
     "text": [
      "Epoch 1/1000\n"
     ]
    },
    {
     "name": "stdout",
     "output_type": "stream",
     "text": [
      "50/71 [====================>.........] - ETA: 0s - loss: 1.9254 - accuracy: 0.4016\n",
      "Epoch 1: saving model to models\\gesture_classifier.hdf5\n",
      "71/71 [==============================] - 1s 6ms/step - loss: 1.7476 - accuracy: 0.4699 - val_loss: 2.3039 - val_accuracy: 0.3780\n",
      "Epoch 2/1000\n",
      "70/71 [============================>.] - ETA: 0s - loss: 0.9075 - accuracy: 0.7533\n",
      "Epoch 2: saving model to models\\gesture_classifier.hdf5\n",
      "71/71 [==============================] - 0s 6ms/step - loss: 0.9064 - accuracy: 0.7537 - val_loss: 2.0402 - val_accuracy: 0.5177\n",
      "Epoch 3/1000\n",
      "67/71 [===========================>..] - ETA: 0s - loss: 0.6076 - accuracy: 0.8245\n",
      "Epoch 3: saving model to models\\gesture_classifier.hdf5\n",
      "71/71 [==============================] - 0s 5ms/step - loss: 0.6024 - accuracy: 0.8262 - val_loss: 1.7159 - val_accuracy: 0.6797\n",
      "Epoch 4/1000\n",
      "49/71 [===================>..........] - ETA: 0s - loss: 0.4961 - accuracy: 0.8498\n",
      "Epoch 4: saving model to models\\gesture_classifier.hdf5\n",
      "71/71 [==============================] - 0s 4ms/step - loss: 0.4812 - accuracy: 0.8546 - val_loss: 1.3691 - val_accuracy: 0.7747\n",
      "Epoch 5/1000\n",
      "71/71 [==============================] - ETA: 0s - loss: 0.4121 - accuracy: 0.8788\n",
      "Epoch 5: saving model to models\\gesture_classifier.hdf5\n",
      "71/71 [==============================] - 0s 5ms/step - loss: 0.4121 - accuracy: 0.8788 - val_loss: 0.9571 - val_accuracy: 0.8997\n",
      "Epoch 6/1000\n",
      "47/71 [==================>...........] - ETA: 0s - loss: 0.3690 - accuracy: 0.8853\n",
      "Epoch 6: saving model to models\\gesture_classifier.hdf5\n",
      "71/71 [==============================] - 0s 4ms/step - loss: 0.3615 - accuracy: 0.8889 - val_loss: 0.6247 - val_accuracy: 0.9337\n",
      "Epoch 7/1000\n",
      "70/71 [============================>.] - ETA: 0s - loss: 0.3262 - accuracy: 0.9025\n",
      "Epoch 7: saving model to models\\gesture_classifier.hdf5\n",
      "71/71 [==============================] - 0s 4ms/step - loss: 0.3271 - accuracy: 0.9022 - val_loss: 0.4050 - val_accuracy: 0.9463\n",
      "Epoch 8/1000\n",
      "68/71 [===========================>..] - ETA: 0s - loss: 0.3179 - accuracy: 0.9041\n",
      "Epoch 8: saving model to models\\gesture_classifier.hdf5\n",
      "71/71 [==============================] - 0s 5ms/step - loss: 0.3184 - accuracy: 0.9033 - val_loss: 0.2632 - val_accuracy: 0.9583\n",
      "Epoch 9/1000\n",
      "66/71 [==========================>...] - ETA: 0s - loss: 0.2908 - accuracy: 0.9118\n",
      "Epoch 9: saving model to models\\gesture_classifier.hdf5\n",
      "71/71 [==============================] - 0s 5ms/step - loss: 0.2885 - accuracy: 0.9130 - val_loss: 0.1925 - val_accuracy: 0.9680\n",
      "Epoch 10/1000\n",
      "68/71 [===========================>..] - ETA: 0s - loss: 0.2727 - accuracy: 0.9220\n",
      "Epoch 10: saving model to models\\gesture_classifier.hdf5\n",
      "71/71 [==============================] - 0s 5ms/step - loss: 0.2729 - accuracy: 0.9214 - val_loss: 0.1747 - val_accuracy: 0.9657\n",
      "Epoch 11/1000\n",
      "69/71 [============================>.] - ETA: 0s - loss: 0.2649 - accuracy: 0.9189\n",
      "Epoch 11: saving model to models\\gesture_classifier.hdf5\n",
      "71/71 [==============================] - 0s 5ms/step - loss: 0.2649 - accuracy: 0.9191 - val_loss: 0.1479 - val_accuracy: 0.9693\n",
      "Epoch 12/1000\n",
      "66/71 [==========================>...] - ETA: 0s - loss: 0.2627 - accuracy: 0.9200\n",
      "Epoch 12: saving model to models\\gesture_classifier.hdf5\n",
      "71/71 [==============================] - 0s 5ms/step - loss: 0.2597 - accuracy: 0.9213 - val_loss: 0.1450 - val_accuracy: 0.9677\n",
      "Epoch 13/1000\n",
      "67/71 [===========================>..] - ETA: 0s - loss: 0.2478 - accuracy: 0.9239\n",
      "Epoch 13: saving model to models\\gesture_classifier.hdf5\n",
      "71/71 [==============================] - 0s 4ms/step - loss: 0.2484 - accuracy: 0.9238 - val_loss: 0.1386 - val_accuracy: 0.9707\n",
      "Epoch 14/1000\n",
      "59/71 [=======================>......] - ETA: 0s - loss: 0.2345 - accuracy: 0.9257\n",
      "Epoch 14: saving model to models\\gesture_classifier.hdf5\n",
      "71/71 [==============================] - 0s 5ms/step - loss: 0.2374 - accuracy: 0.9238 - val_loss: 0.1405 - val_accuracy: 0.9660\n",
      "Epoch 15/1000\n",
      "63/71 [=========================>....] - ETA: 0s - loss: 0.2297 - accuracy: 0.9287\n",
      "Epoch 15: saving model to models\\gesture_classifier.hdf5\n",
      "71/71 [==============================] - 0s 5ms/step - loss: 0.2289 - accuracy: 0.9288 - val_loss: 0.1262 - val_accuracy: 0.9687\n",
      "Epoch 16/1000\n",
      "68/71 [===========================>..] - ETA: 0s - loss: 0.2174 - accuracy: 0.9303\n",
      "Epoch 16: saving model to models\\gesture_classifier.hdf5\n",
      "71/71 [==============================] - 0s 4ms/step - loss: 0.2202 - accuracy: 0.9297 - val_loss: 0.1299 - val_accuracy: 0.9680\n",
      "Epoch 17/1000\n",
      "70/71 [============================>.] - ETA: 0s - loss: 0.2144 - accuracy: 0.9336\n",
      "Epoch 17: saving model to models\\gesture_classifier.hdf5\n",
      "71/71 [==============================] - 0s 5ms/step - loss: 0.2145 - accuracy: 0.9334 - val_loss: 0.1352 - val_accuracy: 0.9670\n",
      "Epoch 18/1000\n",
      "68/71 [===========================>..] - ETA: 0s - loss: 0.2202 - accuracy: 0.9335\n",
      "Epoch 18: saving model to models\\gesture_classifier.hdf5\n",
      "71/71 [==============================] - 0s 4ms/step - loss: 0.2178 - accuracy: 0.9344 - val_loss: 0.1183 - val_accuracy: 0.9700\n",
      "Epoch 19/1000\n",
      "69/71 [============================>.] - ETA: 0s - loss: 0.2157 - accuracy: 0.9313\n",
      "Epoch 19: saving model to models\\gesture_classifier.hdf5\n",
      "71/71 [==============================] - 0s 4ms/step - loss: 0.2166 - accuracy: 0.9311 - val_loss: 0.1224 - val_accuracy: 0.9690\n",
      "Epoch 20/1000\n",
      "68/71 [===========================>..] - ETA: 0s - loss: 0.2045 - accuracy: 0.9346\n",
      "Epoch 20: saving model to models\\gesture_classifier.hdf5\n",
      "71/71 [==============================] - 0s 4ms/step - loss: 0.2034 - accuracy: 0.9351 - val_loss: 0.1202 - val_accuracy: 0.9700\n",
      "Epoch 21/1000\n",
      "54/71 [=====================>........] - ETA: 0s - loss: 0.2009 - accuracy: 0.9332\n",
      "Epoch 21: saving model to models\\gesture_classifier.hdf5\n",
      "71/71 [==============================] - 0s 5ms/step - loss: 0.2035 - accuracy: 0.9339 - val_loss: 0.1177 - val_accuracy: 0.9733\n",
      "Epoch 22/1000\n",
      "64/71 [==========================>...] - ETA: 0s - loss: 0.1930 - accuracy: 0.9393\n",
      "Epoch 22: saving model to models\\gesture_classifier.hdf5\n",
      "71/71 [==============================] - 0s 5ms/step - loss: 0.1930 - accuracy: 0.9389 - val_loss: 0.1213 - val_accuracy: 0.9717\n",
      "Epoch 23/1000\n",
      "63/71 [=========================>....] - ETA: 0s - loss: 0.1967 - accuracy: 0.9394\n",
      "Epoch 23: saving model to models\\gesture_classifier.hdf5\n",
      "71/71 [==============================] - 0s 4ms/step - loss: 0.1937 - accuracy: 0.9402 - val_loss: 0.1233 - val_accuracy: 0.9687\n",
      "Epoch 24/1000\n",
      "70/71 [============================>.] - ETA: 0s - loss: 0.2033 - accuracy: 0.9358\n",
      "Epoch 24: saving model to models\\gesture_classifier.hdf5\n",
      "71/71 [==============================] - 0s 4ms/step - loss: 0.2029 - accuracy: 0.9360 - val_loss: 0.1254 - val_accuracy: 0.9727\n",
      "Epoch 25/1000\n",
      "64/71 [==========================>...] - ETA: 0s - loss: 0.1914 - accuracy: 0.9382\n",
      "Epoch 25: saving model to models\\gesture_classifier.hdf5\n",
      "71/71 [==============================] - 0s 4ms/step - loss: 0.1929 - accuracy: 0.9380 - val_loss: 0.1094 - val_accuracy: 0.9740\n",
      "Epoch 26/1000\n",
      "64/71 [==========================>...] - ETA: 0s - loss: 0.1891 - accuracy: 0.9388\n",
      "Epoch 26: saving model to models\\gesture_classifier.hdf5\n",
      "71/71 [==============================] - 0s 4ms/step - loss: 0.1919 - accuracy: 0.9388 - val_loss: 0.1085 - val_accuracy: 0.9750\n",
      "Epoch 27/1000\n",
      "69/71 [============================>.] - ETA: 0s - loss: 0.1851 - accuracy: 0.9393\n",
      "Epoch 27: saving model to models\\gesture_classifier.hdf5\n",
      "71/71 [==============================] - 0s 4ms/step - loss: 0.1858 - accuracy: 0.9393 - val_loss: 0.1067 - val_accuracy: 0.9743\n",
      "Epoch 28/1000\n",
      "63/71 [=========================>....] - ETA: 0s - loss: 0.1763 - accuracy: 0.9444\n",
      "Epoch 28: saving model to models\\gesture_classifier.hdf5\n",
      "71/71 [==============================] - 0s 4ms/step - loss: 0.1801 - accuracy: 0.9431 - val_loss: 0.1039 - val_accuracy: 0.9727\n",
      "Epoch 29/1000\n",
      "47/71 [==================>...........] - ETA: 0s - loss: 0.1719 - accuracy: 0.9417\n",
      "Epoch 29: saving model to models\\gesture_classifier.hdf5\n",
      "71/71 [==============================] - 0s 3ms/step - loss: 0.1765 - accuracy: 0.9416 - val_loss: 0.1131 - val_accuracy: 0.9717\n",
      "Epoch 30/1000\n",
      "61/71 [========================>.....] - ETA: 0s - loss: 0.1745 - accuracy: 0.9448\n",
      "Epoch 30: saving model to models\\gesture_classifier.hdf5\n",
      "71/71 [==============================] - 0s 4ms/step - loss: 0.1743 - accuracy: 0.9443 - val_loss: 0.1229 - val_accuracy: 0.9693\n",
      "Epoch 31/1000\n",
      "66/71 [==========================>...] - ETA: 0s - loss: 0.1733 - accuracy: 0.9434\n",
      "Epoch 31: saving model to models\\gesture_classifier.hdf5\n",
      "71/71 [==============================] - 0s 4ms/step - loss: 0.1729 - accuracy: 0.9438 - val_loss: 0.1114 - val_accuracy: 0.9737\n",
      "Epoch 32/1000\n",
      "67/71 [===========================>..] - ETA: 0s - loss: 0.1725 - accuracy: 0.9453\n",
      "Epoch 32: saving model to models\\gesture_classifier.hdf5\n",
      "71/71 [==============================] - 0s 5ms/step - loss: 0.1713 - accuracy: 0.9453 - val_loss: 0.1067 - val_accuracy: 0.9743\n",
      "Epoch 33/1000\n",
      "62/71 [=========================>....] - ETA: 0s - loss: 0.1699 - accuracy: 0.9464\n",
      "Epoch 33: saving model to models\\gesture_classifier.hdf5\n",
      "71/71 [==============================] - 0s 4ms/step - loss: 0.1675 - accuracy: 0.9480 - val_loss: 0.1127 - val_accuracy: 0.9743\n",
      "Epoch 34/1000\n",
      "64/71 [==========================>...] - ETA: 0s - loss: 0.1721 - accuracy: 0.9487\n",
      "Epoch 34: saving model to models\\gesture_classifier.hdf5\n",
      "71/71 [==============================] - 0s 4ms/step - loss: 0.1722 - accuracy: 0.9481 - val_loss: 0.1127 - val_accuracy: 0.9717\n",
      "Epoch 35/1000\n",
      "63/71 [=========================>....] - ETA: 0s - loss: 0.1563 - accuracy: 0.9516\n",
      "Epoch 35: saving model to models\\gesture_classifier.hdf5\n",
      "71/71 [==============================] - 0s 5ms/step - loss: 0.1578 - accuracy: 0.9509 - val_loss: 0.1038 - val_accuracy: 0.9733\n",
      "Epoch 36/1000\n",
      "63/71 [=========================>....] - ETA: 0s - loss: 0.1621 - accuracy: 0.9498\n",
      "Epoch 36: saving model to models\\gesture_classifier.hdf5\n",
      "71/71 [==============================] - 0s 6ms/step - loss: 0.1626 - accuracy: 0.9497 - val_loss: 0.1202 - val_accuracy: 0.9700\n",
      "Epoch 37/1000\n",
      "62/71 [=========================>....] - ETA: 0s - loss: 0.1596 - accuracy: 0.9500\n",
      "Epoch 37: saving model to models\\gesture_classifier.hdf5\n",
      "71/71 [==============================] - 0s 6ms/step - loss: 0.1613 - accuracy: 0.9494 - val_loss: 0.1212 - val_accuracy: 0.9687\n",
      "Epoch 38/1000\n",
      "66/71 [==========================>...] - ETA: 0s - loss: 0.1533 - accuracy: 0.9512\n",
      "Epoch 38: saving model to models\\gesture_classifier.hdf5\n",
      "71/71 [==============================] - 0s 5ms/step - loss: 0.1511 - accuracy: 0.9522 - val_loss: 0.1083 - val_accuracy: 0.9693\n",
      "Epoch 39/1000\n",
      "63/71 [=========================>....] - ETA: 0s - loss: 0.1500 - accuracy: 0.9505\n",
      "Epoch 39: saving model to models\\gesture_classifier.hdf5\n",
      "71/71 [==============================] - 0s 5ms/step - loss: 0.1505 - accuracy: 0.9510 - val_loss: 0.1160 - val_accuracy: 0.9687\n",
      "Epoch 40/1000\n",
      "64/71 [==========================>...] - ETA: 0s - loss: 0.1571 - accuracy: 0.9498\n",
      "Epoch 40: saving model to models\\gesture_classifier.hdf5\n",
      "71/71 [==============================] - 0s 5ms/step - loss: 0.1580 - accuracy: 0.9494 - val_loss: 0.1130 - val_accuracy: 0.9703\n",
      "Epoch 41/1000\n",
      "69/71 [============================>.] - ETA: 0s - loss: 0.1504 - accuracy: 0.9527\n",
      "Epoch 41: saving model to models\\gesture_classifier.hdf5\n",
      "71/71 [==============================] - 0s 5ms/step - loss: 0.1501 - accuracy: 0.9527 - val_loss: 0.1008 - val_accuracy: 0.9743\n",
      "Epoch 42/1000\n",
      "70/71 [============================>.] - ETA: 0s - loss: 0.1428 - accuracy: 0.9561\n",
      "Epoch 42: saving model to models\\gesture_classifier.hdf5\n",
      "71/71 [==============================] - 0s 5ms/step - loss: 0.1430 - accuracy: 0.9562 - val_loss: 0.1017 - val_accuracy: 0.9750\n",
      "Epoch 43/1000\n",
      "70/71 [============================>.] - ETA: 0s - loss: 0.1453 - accuracy: 0.9529\n",
      "Epoch 43: saving model to models\\gesture_classifier.hdf5\n",
      "71/71 [==============================] - 0s 5ms/step - loss: 0.1450 - accuracy: 0.9530 - val_loss: 0.1208 - val_accuracy: 0.9687\n",
      "Epoch 44/1000\n",
      "46/71 [==================>...........] - ETA: 0s - loss: 0.1362 - accuracy: 0.9582\n",
      "Epoch 44: saving model to models\\gesture_classifier.hdf5\n",
      "71/71 [==============================] - 0s 5ms/step - loss: 0.1386 - accuracy: 0.9554 - val_loss: 0.1194 - val_accuracy: 0.9710\n",
      "Epoch 45/1000\n",
      "67/71 [===========================>..] - ETA: 0s - loss: 0.1386 - accuracy: 0.9579\n",
      "Epoch 45: saving model to models\\gesture_classifier.hdf5\n",
      "71/71 [==============================] - 0s 5ms/step - loss: 0.1388 - accuracy: 0.9578 - val_loss: 0.1009 - val_accuracy: 0.9727\n",
      "Epoch 46/1000\n",
      "61/71 [========================>.....] - ETA: 0s - loss: 0.1471 - accuracy: 0.9533\n",
      "Epoch 46: saving model to models\\gesture_classifier.hdf5\n",
      "71/71 [==============================] - 0s 6ms/step - loss: 0.1472 - accuracy: 0.9529 - val_loss: 0.1057 - val_accuracy: 0.9713\n",
      "Epoch 47/1000\n",
      "65/71 [==========================>...] - ETA: 0s - loss: 0.1424 - accuracy: 0.9565\n",
      "Epoch 47: saving model to models\\gesture_classifier.hdf5\n",
      "71/71 [==============================] - 0s 5ms/step - loss: 0.1450 - accuracy: 0.9553 - val_loss: 0.1111 - val_accuracy: 0.9730\n",
      "Epoch 48/1000\n",
      "68/71 [===========================>..] - ETA: 0s - loss: 0.1356 - accuracy: 0.9563\n",
      "Epoch 48: saving model to models\\gesture_classifier.hdf5\n",
      "71/71 [==============================] - 0s 5ms/step - loss: 0.1360 - accuracy: 0.9567 - val_loss: 0.0994 - val_accuracy: 0.9743\n",
      "Epoch 49/1000\n",
      "57/71 [=======================>......] - ETA: 0s - loss: 0.1360 - accuracy: 0.9593\n",
      "Epoch 49: saving model to models\\gesture_classifier.hdf5\n",
      "71/71 [==============================] - 0s 5ms/step - loss: 0.1353 - accuracy: 0.9593 - val_loss: 0.1032 - val_accuracy: 0.9733\n",
      "Epoch 50/1000\n",
      "68/71 [===========================>..] - ETA: 0s - loss: 0.1367 - accuracy: 0.9561\n",
      "Epoch 50: saving model to models\\gesture_classifier.hdf5\n",
      "71/71 [==============================] - 0s 5ms/step - loss: 0.1359 - accuracy: 0.9561 - val_loss: 0.1019 - val_accuracy: 0.9723\n",
      "Epoch 51/1000\n",
      "62/71 [=========================>....] - ETA: 0s - loss: 0.1312 - accuracy: 0.9583\n",
      "Epoch 51: saving model to models\\gesture_classifier.hdf5\n",
      "71/71 [==============================] - 0s 5ms/step - loss: 0.1354 - accuracy: 0.9572 - val_loss: 0.1066 - val_accuracy: 0.9737\n",
      "Epoch 52/1000\n",
      "66/71 [==========================>...] - ETA: 0s - loss: 0.1305 - accuracy: 0.9573\n",
      "Epoch 52: saving model to models\\gesture_classifier.hdf5\n",
      "71/71 [==============================] - 0s 5ms/step - loss: 0.1323 - accuracy: 0.9564 - val_loss: 0.1121 - val_accuracy: 0.9717\n",
      "Epoch 53/1000\n",
      "66/71 [==========================>...] - ETA: 0s - loss: 0.1270 - accuracy: 0.9594\n",
      "Epoch 53: saving model to models\\gesture_classifier.hdf5\n",
      "71/71 [==============================] - 0s 5ms/step - loss: 0.1275 - accuracy: 0.9594 - val_loss: 0.1007 - val_accuracy: 0.9760\n",
      "Epoch 54/1000\n",
      "66/71 [==========================>...] - ETA: 0s - loss: 0.1367 - accuracy: 0.9551\n",
      "Epoch 54: saving model to models\\gesture_classifier.hdf5\n",
      "71/71 [==============================] - 0s 4ms/step - loss: 0.1362 - accuracy: 0.9553 - val_loss: 0.1062 - val_accuracy: 0.9713\n",
      "Epoch 55/1000\n",
      "65/71 [==========================>...] - ETA: 0s - loss: 0.1202 - accuracy: 0.9631\n",
      "Epoch 55: saving model to models\\gesture_classifier.hdf5\n",
      "71/71 [==============================] - 0s 5ms/step - loss: 0.1187 - accuracy: 0.9641 - val_loss: 0.1094 - val_accuracy: 0.9733\n",
      "Epoch 56/1000\n",
      "54/71 [=====================>........] - ETA: 0s - loss: 0.1265 - accuracy: 0.9614\n",
      "Epoch 56: saving model to models\\gesture_classifier.hdf5\n",
      "71/71 [==============================] - 0s 4ms/step - loss: 0.1270 - accuracy: 0.9601 - val_loss: 0.1077 - val_accuracy: 0.9753\n",
      "Epoch 57/1000\n",
      "62/71 [=========================>....] - ETA: 0s - loss: 0.1414 - accuracy: 0.9554\n",
      "Epoch 57: saving model to models\\gesture_classifier.hdf5\n",
      "71/71 [==============================] - 0s 4ms/step - loss: 0.1386 - accuracy: 0.9563 - val_loss: 0.1107 - val_accuracy: 0.9723\n",
      "Epoch 58/1000\n",
      "68/71 [===========================>..] - ETA: 0s - loss: 0.1217 - accuracy: 0.9622\n",
      "Epoch 58: saving model to models\\gesture_classifier.hdf5\n",
      "71/71 [==============================] - 0s 4ms/step - loss: 0.1214 - accuracy: 0.9626 - val_loss: 0.1031 - val_accuracy: 0.9727\n",
      "Epoch 59/1000\n",
      "59/71 [=======================>......] - ETA: 0s - loss: 0.1340 - accuracy: 0.9570\n",
      "Epoch 59: saving model to models\\gesture_classifier.hdf5\n",
      "71/71 [==============================] - 0s 5ms/step - loss: 0.1316 - accuracy: 0.9576 - val_loss: 0.1093 - val_accuracy: 0.9700\n",
      "Epoch 60/1000\n",
      "60/71 [========================>.....] - ETA: 0s - loss: 0.1225 - accuracy: 0.9609\n",
      "Epoch 60: saving model to models\\gesture_classifier.hdf5\n",
      "71/71 [==============================] - 0s 4ms/step - loss: 0.1205 - accuracy: 0.9620 - val_loss: 0.1023 - val_accuracy: 0.9717\n",
      "Epoch 61/1000\n",
      "64/71 [==========================>...] - ETA: 0s - loss: 0.1295 - accuracy: 0.9609\n",
      "Epoch 61: saving model to models\\gesture_classifier.hdf5\n",
      "71/71 [==============================] - 0s 4ms/step - loss: 0.1286 - accuracy: 0.9599 - val_loss: 0.1003 - val_accuracy: 0.9757\n",
      "Epoch 62/1000\n",
      "66/71 [==========================>...] - ETA: 0s - loss: 0.1229 - accuracy: 0.9599\n",
      "Epoch 62: saving model to models\\gesture_classifier.hdf5\n",
      "71/71 [==============================] - 0s 4ms/step - loss: 0.1230 - accuracy: 0.9602 - val_loss: 0.1020 - val_accuracy: 0.9753\n",
      "Epoch 63/1000\n",
      "62/71 [=========================>....] - ETA: 0s - loss: 0.1208 - accuracy: 0.9608\n",
      "Epoch 63: saving model to models\\gesture_classifier.hdf5\n",
      "71/71 [==============================] - 0s 5ms/step - loss: 0.1234 - accuracy: 0.9609 - val_loss: 0.1013 - val_accuracy: 0.9760\n",
      "Epoch 64/1000\n",
      "58/71 [=======================>......] - ETA: 0s - loss: 0.1154 - accuracy: 0.9630\n",
      "Epoch 64: saving model to models\\gesture_classifier.hdf5\n",
      "71/71 [==============================] - 0s 6ms/step - loss: 0.1168 - accuracy: 0.9637 - val_loss: 0.0995 - val_accuracy: 0.9763\n",
      "Epoch 65/1000\n",
      "58/71 [=======================>......] - ETA: 0s - loss: 0.1222 - accuracy: 0.9626\n",
      "Epoch 65: saving model to models\\gesture_classifier.hdf5\n",
      "71/71 [==============================] - 1s 7ms/step - loss: 0.1213 - accuracy: 0.9622 - val_loss: 0.1053 - val_accuracy: 0.9750\n",
      "Epoch 66/1000\n",
      "59/71 [=======================>......] - ETA: 0s - loss: 0.1233 - accuracy: 0.9587\n",
      "Epoch 66: saving model to models\\gesture_classifier.hdf5\n",
      "71/71 [==============================] - 0s 5ms/step - loss: 0.1272 - accuracy: 0.9566 - val_loss: 0.1085 - val_accuracy: 0.9720\n",
      "Epoch 67/1000\n",
      "64/71 [==========================>...] - ETA: 0s - loss: 0.1206 - accuracy: 0.9613\n",
      "Epoch 67: saving model to models\\gesture_classifier.hdf5\n",
      "71/71 [==============================] - 0s 5ms/step - loss: 0.1212 - accuracy: 0.9609 - val_loss: 0.1058 - val_accuracy: 0.9733\n",
      "Epoch 68/1000\n",
      "64/71 [==========================>...] - ETA: 0s - loss: 0.1225 - accuracy: 0.9630\n",
      "Epoch 68: saving model to models\\gesture_classifier.hdf5\n",
      "71/71 [==============================] - 0s 5ms/step - loss: 0.1202 - accuracy: 0.9633 - val_loss: 0.1048 - val_accuracy: 0.9747\n",
      "Epoch 69/1000\n",
      "64/71 [==========================>...] - ETA: 0s - loss: 0.1224 - accuracy: 0.9611\n",
      "Epoch 69: saving model to models\\gesture_classifier.hdf5\n",
      "71/71 [==============================] - 0s 5ms/step - loss: 0.1251 - accuracy: 0.9606 - val_loss: 0.1084 - val_accuracy: 0.9727\n",
      "Epoch 70/1000\n",
      "54/71 [=====================>........] - ETA: 0s - loss: 0.1272 - accuracy: 0.9580\n",
      "Epoch 70: saving model to models\\gesture_classifier.hdf5\n",
      "71/71 [==============================] - 0s 5ms/step - loss: 0.1253 - accuracy: 0.9579 - val_loss: 0.1072 - val_accuracy: 0.9727\n",
      "Epoch 71/1000\n",
      "68/71 [===========================>..] - ETA: 0s - loss: 0.1184 - accuracy: 0.9600\n",
      "Epoch 71: saving model to models\\gesture_classifier.hdf5\n",
      "71/71 [==============================] - 0s 5ms/step - loss: 0.1189 - accuracy: 0.9598 - val_loss: 0.0996 - val_accuracy: 0.9770\n",
      "Epoch 72/1000\n",
      "56/71 [======================>.......] - ETA: 0s - loss: 0.1133 - accuracy: 0.9623\n",
      "Epoch 72: saving model to models\\gesture_classifier.hdf5\n",
      "71/71 [==============================] - 0s 6ms/step - loss: 0.1160 - accuracy: 0.9623 - val_loss: 0.0991 - val_accuracy: 0.9760\n",
      "Epoch 73/1000\n",
      "65/71 [==========================>...] - ETA: 0s - loss: 0.1184 - accuracy: 0.9626\n",
      "Epoch 73: saving model to models\\gesture_classifier.hdf5\n",
      "71/71 [==============================] - 0s 5ms/step - loss: 0.1182 - accuracy: 0.9621 - val_loss: 0.1052 - val_accuracy: 0.9743\n",
      "Epoch 74/1000\n",
      "64/71 [==========================>...] - ETA: 0s - loss: 0.1144 - accuracy: 0.9617\n",
      "Epoch 74: saving model to models\\gesture_classifier.hdf5\n",
      "71/71 [==============================] - 0s 6ms/step - loss: 0.1147 - accuracy: 0.9616 - val_loss: 0.1165 - val_accuracy: 0.9683\n",
      "Epoch 75/1000\n",
      "65/71 [==========================>...] - ETA: 0s - loss: 0.1166 - accuracy: 0.9657\n",
      "Epoch 75: saving model to models\\gesture_classifier.hdf5\n",
      "71/71 [==============================] - 0s 5ms/step - loss: 0.1157 - accuracy: 0.9651 - val_loss: 0.1074 - val_accuracy: 0.9723\n",
      "Epoch 76/1000\n",
      "56/71 [======================>.......] - ETA: 0s - loss: 0.1137 - accuracy: 0.9597\n",
      "Epoch 76: saving model to models\\gesture_classifier.hdf5\n",
      "71/71 [==============================] - 0s 6ms/step - loss: 0.1144 - accuracy: 0.9596 - val_loss: 0.1071 - val_accuracy: 0.9723\n",
      "Epoch 77/1000\n",
      "64/71 [==========================>...] - ETA: 0s - loss: 0.1151 - accuracy: 0.9612\n",
      "Epoch 77: saving model to models\\gesture_classifier.hdf5\n",
      "71/71 [==============================] - 0s 5ms/step - loss: 0.1154 - accuracy: 0.9616 - val_loss: 0.1071 - val_accuracy: 0.9750\n",
      "Epoch 78/1000\n",
      "62/71 [=========================>....] - ETA: 0s - loss: 0.1136 - accuracy: 0.9643\n",
      "Epoch 78: saving model to models\\gesture_classifier.hdf5\n",
      "71/71 [==============================] - 0s 4ms/step - loss: 0.1126 - accuracy: 0.9649 - val_loss: 0.1112 - val_accuracy: 0.9743\n",
      "Epoch 79/1000\n",
      "67/71 [===========================>..] - ETA: 0s - loss: 0.1137 - accuracy: 0.9640\n",
      "Epoch 79: saving model to models\\gesture_classifier.hdf5\n",
      "71/71 [==============================] - 0s 5ms/step - loss: 0.1147 - accuracy: 0.9634 - val_loss: 0.1031 - val_accuracy: 0.9760\n",
      "Epoch 80/1000\n",
      "65/71 [==========================>...] - ETA: 0s - loss: 0.1117 - accuracy: 0.9625\n",
      "Epoch 80: saving model to models\\gesture_classifier.hdf5\n",
      "71/71 [==============================] - 0s 5ms/step - loss: 0.1103 - accuracy: 0.9624 - val_loss: 0.1048 - val_accuracy: 0.9740\n",
      "Epoch 81/1000\n",
      "62/71 [=========================>....] - ETA: 0s - loss: 0.1198 - accuracy: 0.9614\n",
      "Epoch 81: saving model to models\\gesture_classifier.hdf5\n",
      "71/71 [==============================] - 0s 5ms/step - loss: 0.1182 - accuracy: 0.9620 - val_loss: 0.1104 - val_accuracy: 0.9713\n",
      "Epoch 82/1000\n",
      "64/71 [==========================>...] - ETA: 0s - loss: 0.1111 - accuracy: 0.9646\n",
      "Epoch 82: saving model to models\\gesture_classifier.hdf5\n",
      "71/71 [==============================] - 0s 6ms/step - loss: 0.1117 - accuracy: 0.9643 - val_loss: 0.1044 - val_accuracy: 0.9767\n",
      "Epoch 83/1000\n",
      "66/71 [==========================>...] - ETA: 0s - loss: 0.1051 - accuracy: 0.9683\n",
      "Epoch 83: saving model to models\\gesture_classifier.hdf5\n",
      "71/71 [==============================] - 0s 6ms/step - loss: 0.1077 - accuracy: 0.9677 - val_loss: 0.1059 - val_accuracy: 0.9727\n",
      "Epoch 84/1000\n",
      "61/71 [========================>.....] - ETA: 0s - loss: 0.1080 - accuracy: 0.9659\n",
      "Epoch 84: saving model to models\\gesture_classifier.hdf5\n",
      "71/71 [==============================] - 0s 5ms/step - loss: 0.1094 - accuracy: 0.9649 - val_loss: 0.1038 - val_accuracy: 0.9753\n",
      "Epoch 85/1000\n",
      "52/71 [====================>.........] - ETA: 0s - loss: 0.1196 - accuracy: 0.9617\n",
      "Epoch 85: saving model to models\\gesture_classifier.hdf5\n",
      "71/71 [==============================] - 0s 6ms/step - loss: 0.1162 - accuracy: 0.9638 - val_loss: 0.1008 - val_accuracy: 0.9767\n",
      "Epoch 86/1000\n",
      "67/71 [===========================>..] - ETA: 0s - loss: 0.1135 - accuracy: 0.9630\n",
      "Epoch 86: saving model to models\\gesture_classifier.hdf5\n",
      "71/71 [==============================] - 0s 5ms/step - loss: 0.1156 - accuracy: 0.9623 - val_loss: 0.1076 - val_accuracy: 0.9737\n",
      "Epoch 87/1000\n",
      "56/71 [======================>.......] - ETA: 0s - loss: 0.1130 - accuracy: 0.9629\n",
      "Epoch 87: saving model to models\\gesture_classifier.hdf5\n",
      "71/71 [==============================] - 0s 5ms/step - loss: 0.1097 - accuracy: 0.9643 - val_loss: 0.1008 - val_accuracy: 0.9773\n",
      "Epoch 88/1000\n",
      "68/71 [===========================>..] - ETA: 0s - loss: 0.1117 - accuracy: 0.9656\n",
      "Epoch 88: saving model to models\\gesture_classifier.hdf5\n",
      "71/71 [==============================] - 0s 4ms/step - loss: 0.1103 - accuracy: 0.9661 - val_loss: 0.0963 - val_accuracy: 0.9780\n",
      "Epoch 89/1000\n",
      "63/71 [=========================>....] - ETA: 0s - loss: 0.1078 - accuracy: 0.9656\n",
      "Epoch 89: saving model to models\\gesture_classifier.hdf5\n",
      "71/71 [==============================] - 0s 4ms/step - loss: 0.1062 - accuracy: 0.9664 - val_loss: 0.1097 - val_accuracy: 0.9723\n",
      "Epoch 90/1000\n",
      "68/71 [===========================>..] - ETA: 0s - loss: 0.1133 - accuracy: 0.9607\n",
      "Epoch 90: saving model to models\\gesture_classifier.hdf5\n",
      "71/71 [==============================] - 0s 4ms/step - loss: 0.1120 - accuracy: 0.9610 - val_loss: 0.1059 - val_accuracy: 0.9760\n",
      "Epoch 91/1000\n",
      "47/71 [==================>...........] - ETA: 0s - loss: 0.1068 - accuracy: 0.9651\n",
      "Epoch 91: saving model to models\\gesture_classifier.hdf5\n",
      "71/71 [==============================] - 0s 5ms/step - loss: 0.1087 - accuracy: 0.9644 - val_loss: 0.1096 - val_accuracy: 0.9717\n",
      "Epoch 92/1000\n",
      "69/71 [============================>.] - ETA: 0s - loss: 0.1028 - accuracy: 0.9668\n",
      "Epoch 92: saving model to models\\gesture_classifier.hdf5\n",
      "71/71 [==============================] - 0s 4ms/step - loss: 0.1028 - accuracy: 0.9669 - val_loss: 0.0993 - val_accuracy: 0.9753\n",
      "Epoch 93/1000\n",
      "63/71 [=========================>....] - ETA: 0s - loss: 0.1139 - accuracy: 0.9635\n",
      "Epoch 93: saving model to models\\gesture_classifier.hdf5\n",
      "71/71 [==============================] - 0s 4ms/step - loss: 0.1143 - accuracy: 0.9638 - val_loss: 0.1030 - val_accuracy: 0.9720\n",
      "Epoch 94/1000\n",
      "60/71 [========================>.....] - ETA: 0s - loss: 0.1078 - accuracy: 0.9632\n",
      "Epoch 94: saving model to models\\gesture_classifier.hdf5\n",
      "71/71 [==============================] - 0s 5ms/step - loss: 0.1070 - accuracy: 0.9634 - val_loss: 0.1019 - val_accuracy: 0.9753\n",
      "Epoch 95/1000\n",
      "54/71 [=====================>........] - ETA: 0s - loss: 0.1006 - accuracy: 0.9640\n",
      "Epoch 95: saving model to models\\gesture_classifier.hdf5\n",
      "71/71 [==============================] - 0s 5ms/step - loss: 0.1034 - accuracy: 0.9646 - val_loss: 0.1121 - val_accuracy: 0.9710\n",
      "Epoch 96/1000\n",
      "65/71 [==========================>...] - ETA: 0s - loss: 0.1080 - accuracy: 0.9649\n",
      "Epoch 96: saving model to models\\gesture_classifier.hdf5\n",
      "71/71 [==============================] - 0s 6ms/step - loss: 0.1075 - accuracy: 0.9651 - val_loss: 0.0993 - val_accuracy: 0.9773\n",
      "Epoch 97/1000\n",
      "56/71 [======================>.......] - ETA: 0s - loss: 0.1016 - accuracy: 0.9660\n",
      "Epoch 97: saving model to models\\gesture_classifier.hdf5\n",
      "71/71 [==============================] - 0s 6ms/step - loss: 0.1031 - accuracy: 0.9662 - val_loss: 0.1022 - val_accuracy: 0.9753\n",
      "Epoch 98/1000\n",
      "66/71 [==========================>...] - ETA: 0s - loss: 0.1049 - accuracy: 0.9660\n",
      "Epoch 98: saving model to models\\gesture_classifier.hdf5\n",
      "71/71 [==============================] - 0s 5ms/step - loss: 0.1051 - accuracy: 0.9663 - val_loss: 0.1185 - val_accuracy: 0.9727\n",
      "Epoch 99/1000\n",
      "59/71 [=======================>......] - ETA: 0s - loss: 0.1069 - accuracy: 0.9656\n",
      "Epoch 99: saving model to models\\gesture_classifier.hdf5\n",
      "71/71 [==============================] - 0s 5ms/step - loss: 0.1046 - accuracy: 0.9669 - val_loss: 0.1031 - val_accuracy: 0.9753\n",
      "Epoch 100/1000\n",
      "62/71 [=========================>....] - ETA: 0s - loss: 0.1142 - accuracy: 0.9633\n",
      "Epoch 100: saving model to models\\gesture_classifier.hdf5\n",
      "71/71 [==============================] - 0s 5ms/step - loss: 0.1110 - accuracy: 0.9638 - val_loss: 0.1025 - val_accuracy: 0.9717\n",
      "Epoch 101/1000\n",
      "70/71 [============================>.] - ETA: 0s - loss: 0.1000 - accuracy: 0.9681\n",
      "Epoch 101: saving model to models\\gesture_classifier.hdf5\n",
      "71/71 [==============================] - 0s 5ms/step - loss: 0.0997 - accuracy: 0.9682 - val_loss: 0.1074 - val_accuracy: 0.9730\n",
      "Epoch 102/1000\n",
      "67/71 [===========================>..] - ETA: 0s - loss: 0.0988 - accuracy: 0.9684\n",
      "Epoch 102: saving model to models\\gesture_classifier.hdf5\n",
      "71/71 [==============================] - 0s 5ms/step - loss: 0.1010 - accuracy: 0.9679 - val_loss: 0.1026 - val_accuracy: 0.9757\n",
      "Epoch 103/1000\n",
      "70/71 [============================>.] - ETA: 0s - loss: 0.1033 - accuracy: 0.9661\n",
      "Epoch 103: saving model to models\\gesture_classifier.hdf5\n",
      "71/71 [==============================] - 0s 5ms/step - loss: 0.1036 - accuracy: 0.9660 - val_loss: 0.1078 - val_accuracy: 0.9730\n",
      "Epoch 104/1000\n",
      "68/71 [===========================>..] - ETA: 0s - loss: 0.1052 - accuracy: 0.9650\n",
      "Epoch 104: saving model to models\\gesture_classifier.hdf5\n",
      "71/71 [==============================] - 0s 5ms/step - loss: 0.1045 - accuracy: 0.9653 - val_loss: 0.1073 - val_accuracy: 0.9727\n",
      "Epoch 105/1000\n",
      "67/71 [===========================>..] - ETA: 0s - loss: 0.1018 - accuracy: 0.9636\n",
      "Epoch 105: saving model to models\\gesture_classifier.hdf5\n",
      "71/71 [==============================] - 0s 5ms/step - loss: 0.1024 - accuracy: 0.9634 - val_loss: 0.0981 - val_accuracy: 0.9747\n",
      "Epoch 106/1000\n",
      "64/71 [==========================>...] - ETA: 0s - loss: 0.1059 - accuracy: 0.9658\n",
      "Epoch 106: saving model to models\\gesture_classifier.hdf5\n",
      "71/71 [==============================] - 0s 5ms/step - loss: 0.1050 - accuracy: 0.9662 - val_loss: 0.1038 - val_accuracy: 0.9753\n",
      "Epoch 107/1000\n",
      "46/71 [==================>...........] - ETA: 0s - loss: 0.1086 - accuracy: 0.9650\n",
      "Epoch 107: saving model to models\\gesture_classifier.hdf5\n",
      "71/71 [==============================] - 0s 5ms/step - loss: 0.1053 - accuracy: 0.9658 - val_loss: 0.1111 - val_accuracy: 0.9727\n",
      "Epoch 108/1000\n",
      "70/71 [============================>.] - ETA: 0s - loss: 0.0944 - accuracy: 0.9689\n",
      "Epoch 108: saving model to models\\gesture_classifier.hdf5\n",
      "71/71 [==============================] - 0s 4ms/step - loss: 0.0946 - accuracy: 0.9689 - val_loss: 0.1139 - val_accuracy: 0.9720\n",
      "Epoch 109/1000\n",
      "70/71 [============================>.] - ETA: 0s - loss: 0.1070 - accuracy: 0.9660\n",
      "Epoch 109: saving model to models\\gesture_classifier.hdf5\n",
      "71/71 [==============================] - 0s 4ms/step - loss: 0.1068 - accuracy: 0.9660 - val_loss: 0.1031 - val_accuracy: 0.9737\n",
      "Epoch 110/1000\n",
      "71/71 [==============================] - ETA: 0s - loss: 0.1015 - accuracy: 0.9667\n",
      "Epoch 110: saving model to models\\gesture_classifier.hdf5\n",
      "71/71 [==============================] - 0s 4ms/step - loss: 0.1015 - accuracy: 0.9667 - val_loss: 0.1175 - val_accuracy: 0.9707\n",
      "Epoch 111/1000\n",
      "62/71 [=========================>....] - ETA: 0s - loss: 0.1084 - accuracy: 0.9648\n",
      "Epoch 111: saving model to models\\gesture_classifier.hdf5\n",
      "71/71 [==============================] - 0s 5ms/step - loss: 0.1078 - accuracy: 0.9644 - val_loss: 0.1101 - val_accuracy: 0.9727\n",
      "Epoch 112/1000\n",
      "58/71 [=======================>......] - ETA: 0s - loss: 0.1024 - accuracy: 0.9673\n",
      "Epoch 112: saving model to models\\gesture_classifier.hdf5\n",
      "71/71 [==============================] - 0s 5ms/step - loss: 0.1043 - accuracy: 0.9660 - val_loss: 0.1000 - val_accuracy: 0.9750\n",
      "Epoch 113/1000\n",
      "71/71 [==============================] - ETA: 0s - loss: 0.0968 - accuracy: 0.9680\n",
      "Epoch 113: saving model to models\\gesture_classifier.hdf5\n",
      "71/71 [==============================] - 0s 5ms/step - loss: 0.0968 - accuracy: 0.9680 - val_loss: 0.1064 - val_accuracy: 0.9727\n",
      "Epoch 114/1000\n",
      "66/71 [==========================>...] - ETA: 0s - loss: 0.1013 - accuracy: 0.9658\n",
      "Epoch 114: saving model to models\\gesture_classifier.hdf5\n",
      "71/71 [==============================] - 0s 5ms/step - loss: 0.0999 - accuracy: 0.9662 - val_loss: 0.1055 - val_accuracy: 0.9737\n",
      "Epoch 115/1000\n",
      "70/71 [============================>.] - ETA: 0s - loss: 0.1038 - accuracy: 0.9673\n",
      "Epoch 115: saving model to models\\gesture_classifier.hdf5\n",
      "71/71 [==============================] - 0s 5ms/step - loss: 0.1040 - accuracy: 0.9673 - val_loss: 0.1121 - val_accuracy: 0.9707\n",
      "Epoch 116/1000\n",
      "64/71 [==========================>...] - ETA: 0s - loss: 0.1082 - accuracy: 0.9655\n",
      "Epoch 116: saving model to models\\gesture_classifier.hdf5\n",
      "71/71 [==============================] - 0s 5ms/step - loss: 0.1075 - accuracy: 0.9653 - val_loss: 0.0926 - val_accuracy: 0.9760\n",
      "Epoch 117/1000\n",
      "68/71 [===========================>..] - ETA: 0s - loss: 0.1011 - accuracy: 0.9665\n",
      "Epoch 117: saving model to models\\gesture_classifier.hdf5\n",
      "71/71 [==============================] - 0s 4ms/step - loss: 0.1022 - accuracy: 0.9661 - val_loss: 0.1015 - val_accuracy: 0.9753\n",
      "Epoch 118/1000\n",
      "70/71 [============================>.] - ETA: 0s - loss: 0.1063 - accuracy: 0.9663\n",
      "Epoch 118: saving model to models\\gesture_classifier.hdf5\n",
      "71/71 [==============================] - 0s 5ms/step - loss: 0.1058 - accuracy: 0.9664 - val_loss: 0.1057 - val_accuracy: 0.9737\n",
      "Epoch 119/1000\n",
      "71/71 [==============================] - ETA: 0s - loss: 0.0941 - accuracy: 0.9676\n",
      "Epoch 119: saving model to models\\gesture_classifier.hdf5\n",
      "71/71 [==============================] - 0s 4ms/step - loss: 0.0941 - accuracy: 0.9676 - val_loss: 0.1080 - val_accuracy: 0.9707\n",
      "Epoch 120/1000\n",
      "71/71 [==============================] - ETA: 0s - loss: 0.1055 - accuracy: 0.9659\n",
      "Epoch 120: saving model to models\\gesture_classifier.hdf5\n",
      "71/71 [==============================] - 0s 4ms/step - loss: 0.1055 - accuracy: 0.9659 - val_loss: 0.0990 - val_accuracy: 0.9737\n",
      "Epoch 121/1000\n",
      "48/71 [===================>..........] - ETA: 0s - loss: 0.1039 - accuracy: 0.9668\n",
      "Epoch 121: saving model to models\\gesture_classifier.hdf5\n",
      "71/71 [==============================] - 0s 4ms/step - loss: 0.1051 - accuracy: 0.9670 - val_loss: 0.1021 - val_accuracy: 0.9740\n",
      "Epoch 122/1000\n",
      "57/71 [=======================>......] - ETA: 0s - loss: 0.1049 - accuracy: 0.9677\n",
      "Epoch 122: saving model to models\\gesture_classifier.hdf5\n",
      "71/71 [==============================] - 0s 5ms/step - loss: 0.1040 - accuracy: 0.9678 - val_loss: 0.1021 - val_accuracy: 0.9753\n",
      "Epoch 123/1000\n",
      "61/71 [========================>.....] - ETA: 0s - loss: 0.0989 - accuracy: 0.9700\n",
      "Epoch 123: saving model to models\\gesture_classifier.hdf5\n",
      "71/71 [==============================] - 0s 5ms/step - loss: 0.0983 - accuracy: 0.9700 - val_loss: 0.1070 - val_accuracy: 0.9733\n",
      "Epoch 124/1000\n",
      "65/71 [==========================>...] - ETA: 0s - loss: 0.0889 - accuracy: 0.9698\n",
      "Epoch 124: saving model to models\\gesture_classifier.hdf5\n",
      "71/71 [==============================] - 0s 6ms/step - loss: 0.0893 - accuracy: 0.9700 - val_loss: 0.1031 - val_accuracy: 0.9737\n",
      "Epoch 125/1000\n",
      "56/71 [======================>.......] - ETA: 0s - loss: 0.1011 - accuracy: 0.9660\n",
      "Epoch 125: saving model to models\\gesture_classifier.hdf5\n",
      "71/71 [==============================] - 0s 6ms/step - loss: 0.1012 - accuracy: 0.9664 - val_loss: 0.1065 - val_accuracy: 0.9743\n",
      "Epoch 126/1000\n",
      "59/71 [=======================>......] - ETA: 0s - loss: 0.1000 - accuracy: 0.9699\n",
      "Epoch 126: saving model to models\\gesture_classifier.hdf5\n",
      "71/71 [==============================] - 0s 5ms/step - loss: 0.1009 - accuracy: 0.9693 - val_loss: 0.1063 - val_accuracy: 0.9747\n",
      "Epoch 127/1000\n",
      "47/71 [==================>...........] - ETA: 0s - loss: 0.0962 - accuracy: 0.9702\n",
      "Epoch 127: saving model to models\\gesture_classifier.hdf5\n",
      "71/71 [==============================] - 0s 5ms/step - loss: 0.0967 - accuracy: 0.9703 - val_loss: 0.0956 - val_accuracy: 0.9763\n",
      "Epoch 128/1000\n",
      "71/71 [==============================] - ETA: 0s - loss: 0.0980 - accuracy: 0.9673\n",
      "Epoch 128: saving model to models\\gesture_classifier.hdf5\n",
      "71/71 [==============================] - 0s 5ms/step - loss: 0.0980 - accuracy: 0.9673 - val_loss: 0.1028 - val_accuracy: 0.9763\n",
      "Epoch 129/1000\n",
      "58/71 [=======================>......] - ETA: 0s - loss: 0.0970 - accuracy: 0.9688\n",
      "Epoch 129: saving model to models\\gesture_classifier.hdf5\n",
      "71/71 [==============================] - 0s 5ms/step - loss: 0.0975 - accuracy: 0.9672 - val_loss: 0.1046 - val_accuracy: 0.9750\n",
      "Epoch 130/1000\n",
      "66/71 [==========================>...] - ETA: 0s - loss: 0.0927 - accuracy: 0.9702\n",
      "Epoch 130: saving model to models\\gesture_classifier.hdf5\n",
      "71/71 [==============================] - 0s 5ms/step - loss: 0.0941 - accuracy: 0.9693 - val_loss: 0.1015 - val_accuracy: 0.9753\n",
      "Epoch 131/1000\n",
      "67/71 [===========================>..] - ETA: 0s - loss: 0.0899 - accuracy: 0.9694\n",
      "Epoch 131: saving model to models\\gesture_classifier.hdf5\n",
      "71/71 [==============================] - 0s 5ms/step - loss: 0.0914 - accuracy: 0.9692 - val_loss: 0.1151 - val_accuracy: 0.9710\n",
      "Epoch 132/1000\n",
      "63/71 [=========================>....] - ETA: 0s - loss: 0.0942 - accuracy: 0.9700\n",
      "Epoch 132: saving model to models\\gesture_classifier.hdf5\n",
      "71/71 [==============================] - 0s 5ms/step - loss: 0.0948 - accuracy: 0.9699 - val_loss: 0.1150 - val_accuracy: 0.9707\n",
      "Epoch 133/1000\n",
      "66/71 [==========================>...] - ETA: 0s - loss: 0.0900 - accuracy: 0.9703\n",
      "Epoch 133: saving model to models\\gesture_classifier.hdf5\n",
      "71/71 [==============================] - 0s 5ms/step - loss: 0.0914 - accuracy: 0.9693 - val_loss: 0.1111 - val_accuracy: 0.9727\n",
      "Epoch 134/1000\n",
      "59/71 [=======================>......] - ETA: 0s - loss: 0.0952 - accuracy: 0.9688\n",
      "Epoch 134: saving model to models\\gesture_classifier.hdf5\n",
      "71/71 [==============================] - 0s 6ms/step - loss: 0.0979 - accuracy: 0.9686 - val_loss: 0.0967 - val_accuracy: 0.9750\n",
      "Epoch 135/1000\n",
      "65/71 [==========================>...] - ETA: 0s - loss: 0.0977 - accuracy: 0.9667\n",
      "Epoch 135: saving model to models\\gesture_classifier.hdf5\n",
      "71/71 [==============================] - 0s 6ms/step - loss: 0.0983 - accuracy: 0.9664 - val_loss: 0.1037 - val_accuracy: 0.9730\n",
      "Epoch 136/1000\n",
      "64/71 [==========================>...] - ETA: 0s - loss: 0.0979 - accuracy: 0.9690\n",
      "Epoch 136: saving model to models\\gesture_classifier.hdf5\n",
      "71/71 [==============================] - 0s 5ms/step - loss: 0.0964 - accuracy: 0.9698 - val_loss: 0.1074 - val_accuracy: 0.9720\n",
      "Epoch 137/1000\n",
      "48/71 [===================>..........] - ETA: 0s - loss: 0.0885 - accuracy: 0.9704\n",
      "Epoch 137: saving model to models\\gesture_classifier.hdf5\n",
      "71/71 [==============================] - 0s 5ms/step - loss: 0.0911 - accuracy: 0.9709 - val_loss: 0.1137 - val_accuracy: 0.9707\n",
      "Epoch 138/1000\n",
      "66/71 [==========================>...] - ETA: 0s - loss: 0.0955 - accuracy: 0.9693\n",
      "Epoch 138: saving model to models\\gesture_classifier.hdf5\n",
      "71/71 [==============================] - 0s 5ms/step - loss: 0.0951 - accuracy: 0.9696 - val_loss: 0.1141 - val_accuracy: 0.9730\n",
      "Epoch 139/1000\n",
      "69/71 [============================>.] - ETA: 0s - loss: 0.1013 - accuracy: 0.9650\n",
      "Epoch 139: saving model to models\\gesture_classifier.hdf5\n",
      "71/71 [==============================] - 0s 4ms/step - loss: 0.1023 - accuracy: 0.9649 - val_loss: 0.1072 - val_accuracy: 0.9733\n",
      "Epoch 140/1000\n",
      "66/71 [==========================>...] - ETA: 0s - loss: 0.0919 - accuracy: 0.9691\n",
      "Epoch 140: saving model to models\\gesture_classifier.hdf5\n",
      "71/71 [==============================] - 0s 4ms/step - loss: 0.0929 - accuracy: 0.9689 - val_loss: 0.1188 - val_accuracy: 0.9710\n",
      "Epoch 141/1000\n",
      "67/71 [===========================>..] - ETA: 0s - loss: 0.0954 - accuracy: 0.9676\n",
      "Epoch 141: saving model to models\\gesture_classifier.hdf5\n",
      "71/71 [==============================] - 0s 5ms/step - loss: 0.0952 - accuracy: 0.9674 - val_loss: 0.1065 - val_accuracy: 0.9737\n",
      "Epoch 142/1000\n",
      "66/71 [==========================>...] - ETA: 0s - loss: 0.0935 - accuracy: 0.9714\n",
      "Epoch 142: saving model to models\\gesture_classifier.hdf5\n",
      "71/71 [==============================] - 0s 5ms/step - loss: 0.0929 - accuracy: 0.9711 - val_loss: 0.1118 - val_accuracy: 0.9720\n",
      "Epoch 143/1000\n",
      "69/71 [============================>.] - ETA: 0s - loss: 0.0974 - accuracy: 0.9673\n",
      "Epoch 143: saving model to models\\gesture_classifier.hdf5\n",
      "71/71 [==============================] - 0s 5ms/step - loss: 0.0995 - accuracy: 0.9667 - val_loss: 0.1214 - val_accuracy: 0.9667\n",
      "Epoch 144/1000\n",
      "48/71 [===================>..........] - ETA: 0s - loss: 0.0996 - accuracy: 0.9684\n",
      "Epoch 144: saving model to models\\gesture_classifier.hdf5\n",
      "71/71 [==============================] - 0s 5ms/step - loss: 0.0986 - accuracy: 0.9674 - val_loss: 0.1126 - val_accuracy: 0.9710\n",
      "Epoch 145/1000\n",
      "65/71 [==========================>...] - ETA: 0s - loss: 0.0995 - accuracy: 0.9681\n",
      "Epoch 145: saving model to models\\gesture_classifier.hdf5\n",
      "71/71 [==============================] - 0s 4ms/step - loss: 0.1001 - accuracy: 0.9673 - val_loss: 0.1095 - val_accuracy: 0.9707\n",
      "Epoch 146/1000\n",
      "70/71 [============================>.] - ETA: 0s - loss: 0.0881 - accuracy: 0.9711\n",
      "Epoch 146: saving model to models\\gesture_classifier.hdf5\n",
      "71/71 [==============================] - 0s 5ms/step - loss: 0.0880 - accuracy: 0.9711 - val_loss: 0.1104 - val_accuracy: 0.9700\n",
      "Epoch 146: early stopping\n"
     ]
    }
   ],
   "source": [
    "history = model.fit(\n",
    "    X_train,\n",
    "    y_train,\n",
    "    epochs=1000,\n",
    "    batch_size=128,\n",
    "    validation_data=(X_test, y_test),\n",
    "    callbacks=[cp_callback, es_callback]\n",
    ")"
   ]
  },
  {
   "cell_type": "code",
   "execution_count": 147,
   "metadata": {},
   "outputs": [
    {
     "data": {
      "image/png": "[encoded data removed]",
      "text/plain": [
       "<Figure size 640x480 with 1 Axes>"
      ]
     },
     "metadata": {},
     "output_type": "display_data"
    }
   ],
   "source": [
    "# Plot training and validation loss\n",
    "plt.plot(history.history['loss'], label='Train Loss')\n",
    "plt.plot(history.history['val_loss'], label='Validation Loss')\n",
    "plt.title('Training and Validation Loss')\n",
    "plt.xlabel('Epoch')\n",
    "plt.ylabel('Loss')\n",
    "plt.legend()\n",
    "plt.show()"
   ]
  },
  {
   "cell_type": "code",
   "execution_count": 148,
   "metadata": {},
   "outputs": [
    {
     "name": "stdout",
     "output_type": "stream",
     "text": [
      "24/24 [==============================] - 0s 1ms/step - loss: 0.1104 - accuracy: 0.9700\n"
     ]
    }
   ],
   "source": [
    "# Model evaluation\n",
    "val_loss, val_acc = model.evaluate(X_test, y_test, batch_size=128)"
   ]
  },
  {
   "cell_type": "code",
   "execution_count": 149,
   "metadata": {},
   "outputs": [],
   "source": [
    "# Loading the saved model\n",
    "model = tf.keras.models.load_model(model_save_path)"
   ]
  },
  {
   "cell_type": "code",
   "execution_count": 150,
   "metadata": {},
   "outputs": [
    {
     "name": "stdout",
     "output_type": "stream",
     "text": [
      "1/1 [==============================] - 0s 56ms/step\n",
      "[5.27042539e-05 9.86003041e-01 1.38465278e-02 6.12883814e-05\n",
      " 5.89388037e-06 4.84452471e-07 1.87083278e-05 3.43357613e-07\n",
      " 9.15827147e-09 1.07042415e-05 4.20337187e-07 1.54364868e-10]\n",
      "1\n"
     ]
    }
   ],
   "source": [
    "# Inference test\n",
    "predict_result = model.predict(np.array([X_test[0]]))\n",
    "print(np.squeeze(predict_result))\n",
    "print(np.argmax(np.squeeze(predict_result)))"
   ]
  },
  {
   "cell_type": "markdown",
   "metadata": {},
   "source": [
    "# Confusion matrix"
   ]
  },
  {
   "cell_type": "code",
   "execution_count": 151,
   "metadata": {},
   "outputs": [],
   "source": [
    "import seaborn as sns\n",
    "from sklearn.metrics import confusion_matrix, classification_report\n",
    "\n",
    "def print_confusion_matrix(y_true, y_pred, report=True):\n",
    "    labels = sorted(list(set(y_true)))\n",
    "    cmx_data = confusion_matrix(y_true, y_pred, labels=labels)\n",
    "    \n",
    "    df_cmx = pd.DataFrame(cmx_data, index=labels, columns=labels)\n",
    " \n",
    "    fig, ax = plt.subplots(figsize=(7, 6))\n",
    "    sns.heatmap(df_cmx, annot=True, fmt='g' ,square=False)\n",
    "    ax.set_ylim(len(set(y_true)), 0)\n",
    "    plt.show()\n",
    "    \n",
    "    if report:\n",
    "        print('Classification Report')\n",
    "        print(classification_report(y_test, y_pred))"
   ]
  },
  {
   "cell_type": "markdown",
   "metadata": {},
   "source": [
    "<a id=\"evaluation\"></a>\n",
    "\n",
    "### Evaluation "
   ]
  },
  {
   "cell_type": "code",
   "execution_count": 152,
   "metadata": {},
   "outputs": [
    {
     "name": "stdout",
     "output_type": "stream",
     "text": [
      "94/94 [==============================] - 0s 758us/step\n"
     ]
    },
    {
     "data": {
      "image/png": "[encoded data removed]",
      "text/plain": [
       "<Figure size 700x600 with 2 Axes>"
      ]
     },
     "metadata": {},
     "output_type": "display_data"
    },
    {
     "name": "stdout",
     "output_type": "stream",
     "text": [
      "Classification Report\n",
      "              precision    recall  f1-score   support\n",
      "\n",
      "           0       1.00      0.98      0.99       250\n",
      "           1       0.88      0.98      0.93       248\n",
      "           2       0.98      0.91      0.94       254\n",
      "           3       0.99      0.97      0.98       259\n",
      "           4       0.95      0.98      0.97       255\n",
      "           5       1.00      1.00      1.00       261\n",
      "           6       0.97      0.93      0.95       239\n",
      "           7       0.99      0.95      0.97       235\n",
      "           8       1.00      0.98      0.99       254\n",
      "           9       0.97      0.98      0.98       236\n",
      "          10       0.93      1.00      0.96       264\n",
      "          11       1.00      0.97      0.98       245\n",
      "\n",
      "    accuracy                           0.97      3000\n",
      "   macro avg       0.97      0.97      0.97      3000\n",
      "weighted avg       0.97      0.97      0.97      3000\n",
      "\n"
     ]
    }
   ],
   "source": [
    "Y_pred = model.predict(X_test)\n",
    "y_pred = np.argmax(Y_pred, axis=1)\n",
    "\n",
    "print_confusion_matrix(y_test, y_pred)"
   ]
  },
  {
   "cell_type": "markdown",
   "metadata": {},
   "source": [
    "## Convert to model for Tensorflow-Lite"
   ]
  },
  {
   "cell_type": "code",
   "execution_count": 153,
   "metadata": {},
   "outputs": [],
   "source": [
    "# Save as a model dedicated to inference\n",
    "model.save(model_save_path, include_optimizer=False)"
   ]
  },
  {
   "cell_type": "code",
   "execution_count": 154,
   "metadata": {},
   "outputs": [
    {
     "name": "stdout",
     "output_type": "stream",
     "text": [
      "INFO:tensorflow:Assets written to: C:\\Users\\renyi\\AppData\\Local\\Temp\\tmpc4lp1yzq\\assets\n"
     ]
    },
    {
     "name": "stderr",
     "output_type": "stream",
     "text": [
      "INFO:tensorflow:Assets written to: C:\\Users\\renyi\\AppData\\Local\\Temp\\tmpc4lp1yzq\\assets\n"
     ]
    },
    {
     "data": {
      "text/plain": [
       "22848"
      ]
     },
     "execution_count": 154,
     "metadata": {},
     "output_type": "execute_result"
    }
   ],
   "source": [
    "# Transform model (quantization)\n",
    "converter = tf.lite.TFLiteConverter.from_keras_model(model)\n",
    "converter.optimizations = [tf.lite.Optimize.DEFAULT]\n",
    "tflite_quantized_model = converter.convert()\n",
    "\n",
    "open(tflite_save_path, 'wb').write(tflite_quantized_model)"
   ]
  },
  {
   "cell_type": "markdown",
   "metadata": {},
   "source": [
    "### Inference test"
   ]
  },
  {
   "cell_type": "code",
   "execution_count": 155,
   "metadata": {},
   "outputs": [],
   "source": [
    "interpreter = tf.lite.Interpreter(model_path=tflite_save_path)\n",
    "interpreter.allocate_tensors()\n",
    "# Get I / O tensor\n",
    "input_details = interpreter.get_input_details()\n",
    "output_details = interpreter.get_output_details()"
   ]
  },
  {
   "cell_type": "code",
   "execution_count": 156,
   "metadata": {},
   "outputs": [],
   "source": [
    "interpreter.set_tensor(input_details[0]['index'], np.array([X_test[0]]))"
   ]
  },
  {
   "cell_type": "code",
   "execution_count": 157,
   "metadata": {},
   "outputs": [
    {
     "data": {
      "text/plain": [
       "array([[ 1.00000000e+00,  0.00000000e+00,  0.00000000e+00,\n",
       "         0.00000000e+00, -9.98144783e-03, -2.23025344e-02,\n",
       "        -6.88415999e-03, -1.77429337e-02, -4.67161685e-02,\n",
       "        -1.12438109e-02, -2.39255875e-02, -6.48192242e-02,\n",
       "        -1.62647236e-02, -3.07960026e-02, -7.62352794e-02,\n",
       "        -1.95785016e-02,  3.75132959e-17, -6.53303191e-02,\n",
       "        -4.71468054e-04,  2.75991624e-04, -7.58573189e-02,\n",
       "        -9.61074326e-03, -3.19577032e-03, -5.69726638e-02,\n",
       "        -1.42947678e-02, -2.59770849e-03, -5.04614040e-02,\n",
       "        -1.66317876e-02,  1.11168632e-02, -6.28402531e-02,\n",
       "        -1.64122332e-03,  1.04519129e-02, -6.97992146e-02,\n",
       "        -1.06204376e-02,  4.95113898e-03, -4.94120605e-02,\n",
       "        -1.10188648e-02,  4.78710653e-03, -4.57057171e-02,\n",
       "        -9.86819528e-03,  2.06429958e-02, -5.75499795e-02,\n",
       "        -4.91535058e-03,  2.00364944e-02, -6.24663867e-02,\n",
       "        -1.36479540e-02,  1.37048271e-02, -4.45249192e-02,\n",
       "        -9.57841892e-03,  1.24939857e-02, -4.03831378e-02,\n",
       "        -5.21471398e-03,  2.87793446e-02, -5.05357943e-02,\n",
       "        -9.17651784e-03,  2.86700930e-02, -5.46022989e-02,\n",
       "        -1.21939685e-02,  2.26832815e-02, -4.29874659e-02,\n",
       "        -7.68101728e-03,  2.09192764e-02, -3.92488614e-02,\n",
       "        -3.64306546e-03]], dtype=float32)"
      ]
     },
     "execution_count": 157,
     "metadata": {},
     "output_type": "execute_result"
    }
   ],
   "source": [
    "np.array([X_test[0]])"
   ]
  },
  {
   "cell_type": "code",
   "execution_count": 158,
   "metadata": {},
   "outputs": [
    {
     "name": "stdout",
     "output_type": "stream",
     "text": [
      "[3.1180422e-05 9.5170462e-01 4.8054218e-02 8.2938561e-05 1.5534060e-05\n",
      " 1.2602637e-06 8.6062442e-05 6.4471982e-07 2.4838071e-08 2.2502882e-05\n",
      " 1.0153871e-06 3.5449479e-10]\n",
      "1\n",
      "CPU times: total: 0 ns\n",
      "Wall time: 997 µs\n"
     ]
    }
   ],
   "source": [
    "%%time\n",
    "# Inference implementation\n",
    "interpreter.invoke()\n",
    "tflite_results = interpreter.get_tensor(output_details[0]['index'])\n",
    "\n",
    "print(np.squeeze(tflite_results))\n",
    "print(np.argmax(np.squeeze(tflite_results)))"
   ]
  }
 ],
 "metadata": {
  "kernelspec": {
   "display_name": ".venv",
   "language": "python",
   "name": "python3"
  },
  "language_info": {
   "codemirror_mode": {
    "name": "ipython",
    "version": 3
   },
   "file_extension": ".py",
   "mimetype": "text/x-python",
   "name": "python",
   "nbconvert_exporter": "python",
   "pygments_lexer": "ipython3",
   "version": "3.9.13"
  }
 },
 "nbformat": 4,
 "nbformat_minor": 2
}
