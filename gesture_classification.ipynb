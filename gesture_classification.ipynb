{
 "cells": [
  {
   "cell_type": "markdown",
   "metadata": {},
   "source": [
    "# Gesture Classification\n",
    "\n",
    "This notebook is used to train classification models from csv dataset. \n",
    "\n",
    "> shift and rotation \n",
    "\n",
    "<a href=\"#evaluation\">Go to Evaluation Cell</a>"
   ]
  },
  {
   "cell_type": "code",
   "execution_count": 29,
   "metadata": {},
   "outputs": [],
   "source": [
    "import numpy as np\n",
    "import pandas as pd\n",
    "import matplotlib.pyplot as plt\n",
    "\n",
    "import tensorflow as tf\n",
    "from sklearn.model_selection import train_test_split\n",
    "\n",
    "RANDOM_SEED = 42"
   ]
  },
  {
   "cell_type": "code",
   "execution_count": 30,
   "metadata": {},
   "outputs": [],
   "source": [
    "# set up\n",
    "from DataPrepare import HandDataPrepare\n",
    "HandLandmarkPrepare = HandDataPrepare()\n",
    "\n",
    "dataset = 'datasets/HandLandmarks.csv'\n",
    "model_save_path = 'models/gesture_classifier.hdf5'\n",
    "tflite_save_path = 'models/gesture_classifier.tflite'\n",
    "\n",
    "LABELS = HandLandmarkPrepare.LABELS\n",
    "NUM_CLASSES = HandLandmarkPrepare.NUM_CLASSES"
   ]
  },
  {
   "cell_type": "markdown",
   "metadata": {},
   "source": [
    "## Dataset Preparation"
   ]
  },
  {
   "cell_type": "code",
   "execution_count": 31,
   "metadata": {},
   "outputs": [],
   "source": [
    "# Load the datasets and apply train_test_split\n",
    "df = pd.read_csv(dataset, header=None, dtype='float32')\n",
    "\n",
    "y_dataset = df.iloc[:, 0].values.astype('int32')\n",
    "X_dataset = df.iloc[:, 1:].values"
   ]
  },
  {
   "cell_type": "code",
   "execution_count": 32,
   "metadata": {},
   "outputs": [
    {
     "data": {
      "text/plain": [
       "array([[ 1.        ,  0.        ,  0.        , ..., -0.14635985,\n",
       "        -0.1572016 , -0.04949586],\n",
       "       [ 0.        ,  0.        ,  0.        , ...,  0.08369572,\n",
       "        -0.11977903, -0.02191895],\n",
       "       [ 0.        ,  0.        ,  0.        , ...,  0.08063158,\n",
       "        -0.08024994, -0.0584185 ],\n",
       "       ...,\n",
       "       [ 1.        ,  0.        ,  0.        , ..., -0.06896959,\n",
       "        -0.02961229,  0.02221191],\n",
       "       [ 1.        ,  0.        ,  0.        , ..., -0.07367362,\n",
       "        -0.04976007, -0.01578337],\n",
       "       [ 0.        ,  0.        ,  0.        , ...,  0.09230869,\n",
       "        -0.07786263,  0.02421767]], dtype=float32)"
      ]
     },
     "execution_count": 32,
     "metadata": {},
     "output_type": "execute_result"
    }
   ],
   "source": [
    "X_dataset"
   ]
  },
  {
   "cell_type": "code",
   "execution_count": 33,
   "metadata": {},
   "outputs": [],
   "source": [
    "X_train, X_test, y_train, y_test = train_test_split(X_dataset, y_dataset, train_size=0.75, random_state=RANDOM_SEED)"
   ]
  },
  {
   "cell_type": "code",
   "execution_count": 34,
   "metadata": {},
   "outputs": [
    {
     "data": {
      "text/plain": [
       "array([15, 17, 17, ...,  5,  0, 15])"
      ]
     },
     "execution_count": 34,
     "metadata": {},
     "output_type": "execute_result"
    }
   ],
   "source": [
    "y_train"
   ]
  },
  {
   "cell_type": "code",
   "execution_count": 35,
   "metadata": {},
   "outputs": [
    {
     "data": {
      "text/plain": [
       "array([ 0.00000000e+00,  0.00000000e+00,  0.00000000e+00,  0.00000000e+00,\n",
       "        4.13414203e-02, -4.54763100e-02, -2.65603457e-02,  5.81061393e-02,\n",
       "       -1.10490575e-01, -3.20240073e-02,  7.37368166e-02, -1.61537692e-01,\n",
       "       -3.67456116e-02,  9.92792174e-02, -1.98530942e-01, -4.20627408e-02,\n",
       "        1.45698336e-17, -1.25715956e-01, -1.79737080e-02, -5.02719637e-03,\n",
       "       -1.82447821e-01, -3.12963538e-02, -6.19568024e-03, -2.16056406e-01,\n",
       "       -3.89906392e-02, -9.72928759e-03, -2.45008841e-01, -4.50358428e-02,\n",
       "       -3.34548913e-02, -1.06711268e-01, -1.90593414e-02, -7.12594986e-02,\n",
       "       -1.53687000e-01, -4.11496684e-02, -9.15932581e-02, -1.85151294e-01,\n",
       "       -5.53851463e-02, -1.13570079e-01, -2.09756643e-01, -6.29772842e-02,\n",
       "       -5.98498508e-02, -7.87225813e-02, -2.32318621e-02, -6.98077977e-02,\n",
       "       -1.02155603e-01, -6.37801141e-02, -3.92142497e-02, -7.53470138e-02,\n",
       "       -7.24179000e-02, -1.83381848e-02, -5.48758619e-02, -6.69651479e-02,\n",
       "       -7.69788772e-02, -4.85754907e-02, -2.83966754e-02, -8.56259167e-02,\n",
       "       -6.73436522e-02, -6.40420839e-02, -6.02947995e-02, -5.22158332e-02,\n",
       "       -6.84008077e-02, -3.88100222e-02, -3.97970043e-02, -6.39916435e-02],\n",
       "      dtype=float32)"
      ]
     },
     "execution_count": 35,
     "metadata": {},
     "output_type": "execute_result"
    }
   ],
   "source": [
    "X_train[0]"
   ]
  },
  {
   "cell_type": "code",
   "execution_count": 36,
   "metadata": {},
   "outputs": [
    {
     "name": "stdout",
     "output_type": "stream",
     "text": [
      "(13500,) (13500, 64) (4500,) (4500, 64)\n"
     ]
    }
   ],
   "source": [
    "print(y_train.shape, X_train.shape, y_test.shape, X_test.shape)"
   ]
  },
  {
   "cell_type": "markdown",
   "metadata": {},
   "source": [
    "## Model Building"
   ]
  },
  {
   "cell_type": "code",
   "execution_count": 37,
   "metadata": {},
   "outputs": [],
   "source": [
    "model = tf.keras.models.Sequential([\n",
    "    tf.keras.layers.Input((21 * 3 + 1, )),\n",
    "    tf.keras.layers.Dropout(0.1),\n",
    "    tf.keras.layers.Dense(128, activation='relu'),  # Increased units\n",
    "    tf.keras.layers.BatchNormalization(),  # Added Batch Normalization\n",
    "    tf.keras.layers.Dropout(0.1),  # Adjusted dropout rate\n",
    "    tf.keras.layers.Dense(128, activation='relu'),  # Increased units\n",
    "    tf.keras.layers.BatchNormalization(),  # Added Batch Normalization\n",
    "    tf.keras.layers.Dense(64, activation='relu'),  # Increased units\n",
    "    tf.keras.layers.Dense(NUM_CLASSES, activation='softmax')\n",
    "])"
   ]
  },
  {
   "cell_type": "code",
   "execution_count": 38,
   "metadata": {},
   "outputs": [
    {
     "name": "stdout",
     "output_type": "stream",
     "text": [
      "Model: \"sequential_1\"\n",
      "_________________________________________________________________\n",
      " Layer (type)                Output Shape              Param #   \n",
      "=================================================================\n",
      " dropout_2 (Dropout)         (None, 64)                0         \n",
      "                                                                 \n",
      " dense_4 (Dense)             (None, 128)               8320      \n",
      "                                                                 \n",
      " batch_normalization_2 (Bat  (None, 128)               512       \n",
      " chNormalization)                                                \n",
      "                                                                 \n",
      " dropout_3 (Dropout)         (None, 128)               0         \n",
      "                                                                 \n",
      " dense_5 (Dense)             (None, 128)               16512     \n",
      "                                                                 \n",
      " batch_normalization_3 (Bat  (None, 128)               512       \n",
      " chNormalization)                                                \n",
      "                                                                 \n",
      " dense_6 (Dense)             (None, 64)                8256      \n",
      "                                                                 \n",
      " dense_7 (Dense)             (None, 18)                1170      \n",
      "                                                                 \n",
      "=================================================================\n",
      "Total params: 35282 (137.82 KB)\n",
      "Trainable params: 34770 (135.82 KB)\n",
      "Non-trainable params: 512 (2.00 KB)\n",
      "_________________________________________________________________\n"
     ]
    }
   ],
   "source": [
    "model.summary()"
   ]
  },
  {
   "cell_type": "code",
   "execution_count": 39,
   "metadata": {},
   "outputs": [],
   "source": [
    "# Model checkpoint callback\n",
    "cp_callback = tf.keras.callbacks.ModelCheckpoint(\n",
    "    model_save_path, verbose=1, save_weights_only=False)\n",
    "# Callback for early stopping\n",
    "es_callback = tf.keras.callbacks.EarlyStopping(patience=30, verbose=1)"
   ]
  },
  {
   "cell_type": "code",
   "execution_count": 40,
   "metadata": {},
   "outputs": [],
   "source": [
    "# Model compilation\n",
    "model.compile(\n",
    "    optimizer='adam',\n",
    "    loss='sparse_categorical_crossentropy',\n",
    "    metrics=['accuracy']\n",
    ")"
   ]
  },
  {
   "cell_type": "markdown",
   "metadata": {},
   "source": [
    "## Model Training"
   ]
  },
  {
   "cell_type": "code",
   "execution_count": 41,
   "metadata": {},
   "outputs": [
    {
     "data": {
      "text/plain": [
       "<keras.src.callbacks.EarlyStopping at 0x15ff4a09a50>"
      ]
     },
     "execution_count": 41,
     "metadata": {},
     "output_type": "execute_result"
    }
   ],
   "source": [
    "es_callback"
   ]
  },
  {
   "cell_type": "code",
   "execution_count": 42,
   "metadata": {},
   "outputs": [
    {
     "name": "stdout",
     "output_type": "stream",
     "text": [
      "Epoch 1/1000\n",
      "101/106 [===========================>..] - ETA: 0s - loss: 1.8077 - accuracy: 0.4702\n",
      "Epoch 1: saving model to models\\gesture_classifier.hdf5\n",
      "106/106 [==============================] - 3s 7ms/step - loss: 1.7802 - accuracy: 0.4779 - val_loss: 2.7809 - val_accuracy: 0.0911\n",
      "Epoch 2/1000\n",
      " 36/106 [=========>....................] - ETA: 0s - loss: 0.9405 - accuracy: 0.7138"
     ]
    },
    {
     "name": "stderr",
     "output_type": "stream",
     "text": [
      "c:\\Users\\Ian\\git\\553.806_Capstone_HandGesture\\.venv\\Lib\\site-packages\\keras\\src\\engine\\training.py:3103: UserWarning: You are saving your model as an HDF5 file via `model.save()`. This file format is considered legacy. We recommend using instead the native Keras format, e.g. `model.save('my_model.keras')`.\n",
      "  saving_api.save_model(\n"
     ]
    },
    {
     "name": "stdout",
     "output_type": "stream",
     "text": [
      " 90/106 [========================>.....] - ETA: 0s - loss: 0.8486 - accuracy: 0.7370\n",
      "Epoch 2: saving model to models\\gesture_classifier.hdf5\n",
      "106/106 [==============================] - 0s 4ms/step - loss: 0.8235 - accuracy: 0.7446 - val_loss: 2.4788 - val_accuracy: 0.1598\n",
      "Epoch 3/1000\n",
      " 89/106 [========================>.....] - ETA: 0s - loss: 0.5879 - accuracy: 0.8198\n",
      "Epoch 3: saving model to models\\gesture_classifier.hdf5\n",
      "106/106 [==============================] - 0s 4ms/step - loss: 0.5788 - accuracy: 0.8218 - val_loss: 1.7578 - val_accuracy: 0.5138\n",
      "Epoch 4/1000\n",
      " 90/106 [========================>.....] - ETA: 0s - loss: 0.4815 - accuracy: 0.8505\n",
      "Epoch 4: saving model to models\\gesture_classifier.hdf5\n",
      "106/106 [==============================] - 0s 4ms/step - loss: 0.4718 - accuracy: 0.8526 - val_loss: 0.9043 - val_accuracy: 0.8300\n",
      "Epoch 5/1000\n",
      " 92/106 [=========================>....] - ETA: 0s - loss: 0.4332 - accuracy: 0.8659\n",
      "Epoch 5: saving model to models\\gesture_classifier.hdf5\n",
      "106/106 [==============================] - 0s 4ms/step - loss: 0.4319 - accuracy: 0.8654 - val_loss: 0.4000 - val_accuracy: 0.9200\n",
      "Epoch 6/1000\n",
      " 90/106 [========================>.....] - ETA: 0s - loss: 0.4040 - accuracy: 0.8728\n",
      "Epoch 6: saving model to models\\gesture_classifier.hdf5\n",
      "106/106 [==============================] - 0s 4ms/step - loss: 0.4053 - accuracy: 0.8724 - val_loss: 0.2372 - val_accuracy: 0.9469\n",
      "Epoch 7/1000\n",
      " 91/106 [========================>.....] - ETA: 0s - loss: 0.3678 - accuracy: 0.8842\n",
      "Epoch 7: saving model to models\\gesture_classifier.hdf5\n",
      "106/106 [==============================] - 0s 4ms/step - loss: 0.3646 - accuracy: 0.8849 - val_loss: 0.1779 - val_accuracy: 0.9573\n",
      "Epoch 8/1000\n",
      " 90/106 [========================>.....] - ETA: 0s - loss: 0.3569 - accuracy: 0.8867\n",
      "Epoch 8: saving model to models\\gesture_classifier.hdf5\n",
      "106/106 [==============================] - 0s 4ms/step - loss: 0.3556 - accuracy: 0.8866 - val_loss: 0.1857 - val_accuracy: 0.9484\n",
      "Epoch 9/1000\n",
      " 90/106 [========================>.....] - ETA: 0s - loss: 0.3321 - accuracy: 0.8935\n",
      "Epoch 9: saving model to models\\gesture_classifier.hdf5\n",
      "106/106 [==============================] - 0s 4ms/step - loss: 0.3336 - accuracy: 0.8924 - val_loss: 0.1942 - val_accuracy: 0.9478\n",
      "Epoch 10/1000\n",
      " 91/106 [========================>.....] - ETA: 0s - loss: 0.3274 - accuracy: 0.8954\n",
      "Epoch 10: saving model to models\\gesture_classifier.hdf5\n",
      "106/106 [==============================] - 0s 4ms/step - loss: 0.3258 - accuracy: 0.8956 - val_loss: 0.1609 - val_accuracy: 0.9587\n",
      "Epoch 11/1000\n",
      "106/106 [==============================] - ETA: 0s - loss: 0.3103 - accuracy: 0.9030\n",
      "Epoch 11: saving model to models\\gesture_classifier.hdf5\n",
      "106/106 [==============================] - 0s 4ms/step - loss: 0.3103 - accuracy: 0.9030 - val_loss: 0.1533 - val_accuracy: 0.9600\n",
      "Epoch 12/1000\n",
      "106/106 [==============================] - ETA: 0s - loss: 0.2926 - accuracy: 0.9067\n",
      "Epoch 12: saving model to models\\gesture_classifier.hdf5\n",
      "106/106 [==============================] - 0s 4ms/step - loss: 0.2926 - accuracy: 0.9067 - val_loss: 0.1509 - val_accuracy: 0.9602\n",
      "Epoch 13/1000\n",
      "106/106 [==============================] - ETA: 0s - loss: 0.2911 - accuracy: 0.9084\n",
      "Epoch 13: saving model to models\\gesture_classifier.hdf5\n",
      "106/106 [==============================] - 0s 4ms/step - loss: 0.2911 - accuracy: 0.9084 - val_loss: 0.1447 - val_accuracy: 0.9616\n",
      "Epoch 14/1000\n",
      "105/106 [============================>.] - ETA: 0s - loss: 0.2763 - accuracy: 0.9098\n",
      "Epoch 14: saving model to models\\gesture_classifier.hdf5\n",
      "106/106 [==============================] - 0s 4ms/step - loss: 0.2759 - accuracy: 0.9101 - val_loss: 0.1612 - val_accuracy: 0.9553\n",
      "Epoch 15/1000\n",
      "100/106 [===========================>..] - ETA: 0s - loss: 0.2654 - accuracy: 0.9140\n",
      "Epoch 15: saving model to models\\gesture_classifier.hdf5\n",
      "106/106 [==============================] - 0s 4ms/step - loss: 0.2648 - accuracy: 0.9144 - val_loss: 0.1425 - val_accuracy: 0.9644\n",
      "Epoch 16/1000\n",
      " 89/106 [========================>.....] - ETA: 0s - loss: 0.2536 - accuracy: 0.9194\n",
      "Epoch 16: saving model to models\\gesture_classifier.hdf5\n",
      "106/106 [==============================] - 0s 4ms/step - loss: 0.2557 - accuracy: 0.9181 - val_loss: 0.1745 - val_accuracy: 0.9462\n",
      "Epoch 17/1000\n",
      "106/106 [==============================] - ETA: 0s - loss: 0.2572 - accuracy: 0.9181\n",
      "Epoch 17: saving model to models\\gesture_classifier.hdf5\n",
      "106/106 [==============================] - 0s 4ms/step - loss: 0.2572 - accuracy: 0.9181 - val_loss: 0.1417 - val_accuracy: 0.9624\n",
      "Epoch 18/1000\n",
      "104/106 [============================>.] - ETA: 0s - loss: 0.2313 - accuracy: 0.9239\n",
      "Epoch 18: saving model to models\\gesture_classifier.hdf5\n",
      "106/106 [==============================] - 0s 4ms/step - loss: 0.2310 - accuracy: 0.9239 - val_loss: 0.1446 - val_accuracy: 0.9640\n",
      "Epoch 19/1000\n",
      "104/106 [============================>.] - ETA: 0s - loss: 0.2376 - accuracy: 0.9226\n",
      "Epoch 19: saving model to models\\gesture_classifier.hdf5\n",
      "106/106 [==============================] - 0s 4ms/step - loss: 0.2381 - accuracy: 0.9229 - val_loss: 0.1722 - val_accuracy: 0.9491\n",
      "Epoch 20/1000\n",
      "106/106 [==============================] - ETA: 0s - loss: 0.2330 - accuracy: 0.9255\n",
      "Epoch 20: saving model to models\\gesture_classifier.hdf5\n",
      "106/106 [==============================] - 0s 4ms/step - loss: 0.2330 - accuracy: 0.9255 - val_loss: 0.1661 - val_accuracy: 0.9553\n",
      "Epoch 21/1000\n",
      "106/106 [==============================] - ETA: 0s - loss: 0.2325 - accuracy: 0.9239\n",
      "Epoch 21: saving model to models\\gesture_classifier.hdf5\n",
      "106/106 [==============================] - 0s 4ms/step - loss: 0.2325 - accuracy: 0.9239 - val_loss: 0.1443 - val_accuracy: 0.9651\n",
      "Epoch 22/1000\n",
      "105/106 [============================>.] - ETA: 0s - loss: 0.2254 - accuracy: 0.9275\n",
      "Epoch 22: saving model to models\\gesture_classifier.hdf5\n",
      "106/106 [==============================] - 0s 5ms/step - loss: 0.2255 - accuracy: 0.9276 - val_loss: 0.1395 - val_accuracy: 0.9618\n",
      "Epoch 23/1000\n",
      "104/106 [============================>.] - ETA: 0s - loss: 0.2249 - accuracy: 0.9282\n",
      "Epoch 23: saving model to models\\gesture_classifier.hdf5\n",
      "106/106 [==============================] - 0s 4ms/step - loss: 0.2253 - accuracy: 0.9282 - val_loss: 0.1429 - val_accuracy: 0.9627\n",
      "Epoch 24/1000\n",
      " 91/106 [========================>.....] - ETA: 0s - loss: 0.2220 - accuracy: 0.9278\n",
      "Epoch 24: saving model to models\\gesture_classifier.hdf5\n",
      "106/106 [==============================] - 0s 4ms/step - loss: 0.2233 - accuracy: 0.9284 - val_loss: 0.1373 - val_accuracy: 0.9647\n",
      "Epoch 25/1000\n",
      " 90/106 [========================>.....] - ETA: 0s - loss: 0.2210 - accuracy: 0.9293\n",
      "Epoch 25: saving model to models\\gesture_classifier.hdf5\n",
      "106/106 [==============================] - 0s 4ms/step - loss: 0.2196 - accuracy: 0.9292 - val_loss: 0.1324 - val_accuracy: 0.9662\n",
      "Epoch 26/1000\n",
      "103/106 [============================>.] - ETA: 0s - loss: 0.2054 - accuracy: 0.9330\n",
      "Epoch 26: saving model to models\\gesture_classifier.hdf5\n",
      "106/106 [==============================] - 0s 4ms/step - loss: 0.2055 - accuracy: 0.9329 - val_loss: 0.1360 - val_accuracy: 0.9653\n",
      "Epoch 27/1000\n",
      "104/106 [============================>.] - ETA: 0s - loss: 0.2114 - accuracy: 0.9292\n",
      "Epoch 27: saving model to models\\gesture_classifier.hdf5\n",
      "106/106 [==============================] - 0s 4ms/step - loss: 0.2123 - accuracy: 0.9288 - val_loss: 0.1513 - val_accuracy: 0.9636\n",
      "Epoch 28/1000\n",
      "106/106 [==============================] - ETA: 0s - loss: 0.2141 - accuracy: 0.9297\n",
      "Epoch 28: saving model to models\\gesture_classifier.hdf5\n",
      "106/106 [==============================] - 0s 4ms/step - loss: 0.2141 - accuracy: 0.9297 - val_loss: 0.1480 - val_accuracy: 0.9631\n",
      "Epoch 29/1000\n",
      "103/106 [============================>.] - ETA: 0s - loss: 0.2091 - accuracy: 0.9326\n",
      "Epoch 29: saving model to models\\gesture_classifier.hdf5\n",
      "106/106 [==============================] - 0s 4ms/step - loss: 0.2093 - accuracy: 0.9324 - val_loss: 0.1421 - val_accuracy: 0.9616\n",
      "Epoch 30/1000\n",
      "101/106 [===========================>..] - ETA: 0s - loss: 0.2003 - accuracy: 0.9341\n",
      "Epoch 30: saving model to models\\gesture_classifier.hdf5\n",
      "106/106 [==============================] - 0s 5ms/step - loss: 0.2005 - accuracy: 0.9341 - val_loss: 0.1340 - val_accuracy: 0.9653\n",
      "Epoch 31/1000\n",
      " 98/106 [==========================>...] - ETA: 0s - loss: 0.1997 - accuracy: 0.9369\n",
      "Epoch 31: saving model to models\\gesture_classifier.hdf5\n",
      "106/106 [==============================] - 0s 4ms/step - loss: 0.2016 - accuracy: 0.9364 - val_loss: 0.1453 - val_accuracy: 0.9598\n",
      "Epoch 32/1000\n",
      "104/106 [============================>.] - ETA: 0s - loss: 0.1937 - accuracy: 0.9360\n",
      "Epoch 32: saving model to models\\gesture_classifier.hdf5\n",
      "106/106 [==============================] - 0s 4ms/step - loss: 0.1939 - accuracy: 0.9359 - val_loss: 0.1463 - val_accuracy: 0.9609\n",
      "Epoch 33/1000\n",
      " 94/106 [=========================>....] - ETA: 0s - loss: 0.1902 - accuracy: 0.9376\n",
      "Epoch 33: saving model to models\\gesture_classifier.hdf5\n",
      "106/106 [==============================] - 0s 4ms/step - loss: 0.1926 - accuracy: 0.9366 - val_loss: 0.1507 - val_accuracy: 0.9616\n",
      "Epoch 34/1000\n",
      "104/106 [============================>.] - ETA: 0s - loss: 0.1905 - accuracy: 0.9375\n",
      "Epoch 34: saving model to models\\gesture_classifier.hdf5\n",
      "106/106 [==============================] - 0s 4ms/step - loss: 0.1916 - accuracy: 0.9372 - val_loss: 0.1243 - val_accuracy: 0.9680\n",
      "Epoch 35/1000\n",
      "105/106 [============================>.] - ETA: 0s - loss: 0.1872 - accuracy: 0.9400\n",
      "Epoch 35: saving model to models\\gesture_classifier.hdf5\n",
      "106/106 [==============================] - 0s 4ms/step - loss: 0.1869 - accuracy: 0.9400 - val_loss: 0.1316 - val_accuracy: 0.9676\n",
      "Epoch 36/1000\n",
      " 99/106 [===========================>..] - ETA: 0s - loss: 0.1872 - accuracy: 0.9388\n",
      "Epoch 36: saving model to models\\gesture_classifier.hdf5\n",
      "106/106 [==============================] - 0s 4ms/step - loss: 0.1904 - accuracy: 0.9378 - val_loss: 0.1361 - val_accuracy: 0.9653\n",
      "Epoch 37/1000\n",
      "104/106 [============================>.] - ETA: 0s - loss: 0.1859 - accuracy: 0.9401\n",
      "Epoch 37: saving model to models\\gesture_classifier.hdf5\n",
      "106/106 [==============================] - 0s 4ms/step - loss: 0.1849 - accuracy: 0.9403 - val_loss: 0.1317 - val_accuracy: 0.9671\n",
      "Epoch 38/1000\n",
      "105/106 [============================>.] - ETA: 0s - loss: 0.1904 - accuracy: 0.9405\n",
      "Epoch 38: saving model to models\\gesture_classifier.hdf5\n",
      "106/106 [==============================] - 0s 4ms/step - loss: 0.1902 - accuracy: 0.9404 - val_loss: 0.1361 - val_accuracy: 0.9653\n",
      "Epoch 39/1000\n",
      "105/106 [============================>.] - ETA: 0s - loss: 0.1840 - accuracy: 0.9407\n",
      "Epoch 39: saving model to models\\gesture_classifier.hdf5\n",
      "106/106 [==============================] - 0s 4ms/step - loss: 0.1839 - accuracy: 0.9407 - val_loss: 0.1514 - val_accuracy: 0.9618\n",
      "Epoch 40/1000\n",
      "105/106 [============================>.] - ETA: 0s - loss: 0.1823 - accuracy: 0.9424\n",
      "Epoch 40: saving model to models\\gesture_classifier.hdf5\n",
      "106/106 [==============================] - 0s 4ms/step - loss: 0.1822 - accuracy: 0.9423 - val_loss: 0.1380 - val_accuracy: 0.9662\n",
      "Epoch 41/1000\n",
      "102/106 [===========================>..] - ETA: 0s - loss: 0.1754 - accuracy: 0.9436\n",
      "Epoch 41: saving model to models\\gesture_classifier.hdf5\n",
      "106/106 [==============================] - 0s 5ms/step - loss: 0.1745 - accuracy: 0.9439 - val_loss: 0.1334 - val_accuracy: 0.9662\n",
      "Epoch 42/1000\n",
      " 89/106 [========================>.....] - ETA: 0s - loss: 0.1907 - accuracy: 0.9388\n",
      "Epoch 42: saving model to models\\gesture_classifier.hdf5\n",
      "106/106 [==============================] - 0s 4ms/step - loss: 0.1905 - accuracy: 0.9393 - val_loss: 0.1440 - val_accuracy: 0.9649\n",
      "Epoch 43/1000\n",
      "106/106 [==============================] - ETA: 0s - loss: 0.1739 - accuracy: 0.9447\n",
      "Epoch 43: saving model to models\\gesture_classifier.hdf5\n",
      "106/106 [==============================] - 0s 4ms/step - loss: 0.1739 - accuracy: 0.9447 - val_loss: 0.1305 - val_accuracy: 0.9680\n",
      "Epoch 44/1000\n",
      "105/106 [============================>.] - ETA: 0s - loss: 0.1736 - accuracy: 0.9429\n",
      "Epoch 44: saving model to models\\gesture_classifier.hdf5\n",
      "106/106 [==============================] - 0s 4ms/step - loss: 0.1740 - accuracy: 0.9426 - val_loss: 0.1408 - val_accuracy: 0.9640\n",
      "Epoch 45/1000\n",
      "104/106 [============================>.] - ETA: 0s - loss: 0.1750 - accuracy: 0.9423\n",
      "Epoch 45: saving model to models\\gesture_classifier.hdf5\n",
      "106/106 [==============================] - 0s 4ms/step - loss: 0.1745 - accuracy: 0.9424 - val_loss: 0.1322 - val_accuracy: 0.9664\n",
      "Epoch 46/1000\n",
      "105/106 [============================>.] - ETA: 0s - loss: 0.1693 - accuracy: 0.9449\n",
      "Epoch 46: saving model to models\\gesture_classifier.hdf5\n",
      "106/106 [==============================] - 0s 4ms/step - loss: 0.1688 - accuracy: 0.9450 - val_loss: 0.1576 - val_accuracy: 0.9553\n",
      "Epoch 47/1000\n",
      "105/106 [============================>.] - ETA: 0s - loss: 0.1721 - accuracy: 0.9447\n",
      "Epoch 47: saving model to models\\gesture_classifier.hdf5\n",
      "106/106 [==============================] - 0s 4ms/step - loss: 0.1726 - accuracy: 0.9446 - val_loss: 0.1412 - val_accuracy: 0.9633\n",
      "Epoch 48/1000\n",
      "102/106 [===========================>..] - ETA: 0s - loss: 0.1699 - accuracy: 0.9444\n",
      "Epoch 48: saving model to models\\gesture_classifier.hdf5\n",
      "106/106 [==============================] - 0s 4ms/step - loss: 0.1704 - accuracy: 0.9447 - val_loss: 0.1392 - val_accuracy: 0.9638\n",
      "Epoch 49/1000\n",
      "103/106 [============================>.] - ETA: 0s - loss: 0.1678 - accuracy: 0.9446\n",
      "Epoch 49: saving model to models\\gesture_classifier.hdf5\n",
      "106/106 [==============================] - 0s 4ms/step - loss: 0.1679 - accuracy: 0.9445 - val_loss: 0.1294 - val_accuracy: 0.9702\n",
      "Epoch 50/1000\n",
      "104/106 [============================>.] - ETA: 0s - loss: 0.1652 - accuracy: 0.9462\n",
      "Epoch 50: saving model to models\\gesture_classifier.hdf5\n",
      "106/106 [==============================] - 0s 4ms/step - loss: 0.1658 - accuracy: 0.9460 - val_loss: 0.1368 - val_accuracy: 0.9664\n",
      "Epoch 51/1000\n",
      "103/106 [============================>.] - ETA: 0s - loss: 0.1711 - accuracy: 0.9478\n",
      "Epoch 51: saving model to models\\gesture_classifier.hdf5\n",
      "106/106 [==============================] - 0s 4ms/step - loss: 0.1718 - accuracy: 0.9476 - val_loss: 0.1405 - val_accuracy: 0.9664\n",
      "Epoch 52/1000\n",
      "104/106 [============================>.] - ETA: 0s - loss: 0.1667 - accuracy: 0.9453\n",
      "Epoch 52: saving model to models\\gesture_classifier.hdf5\n",
      "106/106 [==============================] - 0s 4ms/step - loss: 0.1671 - accuracy: 0.9451 - val_loss: 0.1324 - val_accuracy: 0.9684\n",
      "Epoch 53/1000\n",
      "104/106 [============================>.] - ETA: 0s - loss: 0.1562 - accuracy: 0.9484\n",
      "Epoch 53: saving model to models\\gesture_classifier.hdf5\n",
      "106/106 [==============================] - 0s 4ms/step - loss: 0.1562 - accuracy: 0.9484 - val_loss: 0.1316 - val_accuracy: 0.9673\n",
      "Epoch 54/1000\n",
      "105/106 [============================>.] - ETA: 0s - loss: 0.1641 - accuracy: 0.9469\n",
      "Epoch 54: saving model to models\\gesture_classifier.hdf5\n",
      "106/106 [==============================] - 0s 4ms/step - loss: 0.1640 - accuracy: 0.9470 - val_loss: 0.1609 - val_accuracy: 0.9611\n",
      "Epoch 55/1000\n",
      "105/106 [============================>.] - ETA: 0s - loss: 0.1661 - accuracy: 0.9464\n",
      "Epoch 55: saving model to models\\gesture_classifier.hdf5\n",
      "106/106 [==============================] - 0s 4ms/step - loss: 0.1663 - accuracy: 0.9462 - val_loss: 0.1635 - val_accuracy: 0.9569\n",
      "Epoch 56/1000\n",
      " 89/106 [========================>.....] - ETA: 0s - loss: 0.1697 - accuracy: 0.9454\n",
      "Epoch 56: saving model to models\\gesture_classifier.hdf5\n",
      "106/106 [==============================] - 0s 4ms/step - loss: 0.1656 - accuracy: 0.9467 - val_loss: 0.1480 - val_accuracy: 0.9653\n",
      "Epoch 57/1000\n",
      " 90/106 [========================>.....] - ETA: 0s - loss: 0.1708 - accuracy: 0.9455\n",
      "Epoch 57: saving model to models\\gesture_classifier.hdf5\n",
      "106/106 [==============================] - 0s 4ms/step - loss: 0.1685 - accuracy: 0.9459 - val_loss: 0.1587 - val_accuracy: 0.9596\n",
      "Epoch 58/1000\n",
      " 91/106 [========================>.....] - ETA: 0s - loss: 0.1612 - accuracy: 0.9470\n",
      "Epoch 58: saving model to models\\gesture_classifier.hdf5\n",
      "106/106 [==============================] - 0s 4ms/step - loss: 0.1608 - accuracy: 0.9473 - val_loss: 0.1413 - val_accuracy: 0.9662\n",
      "Epoch 59/1000\n",
      "104/106 [============================>.] - ETA: 0s - loss: 0.1617 - accuracy: 0.9478\n",
      "Epoch 59: saving model to models\\gesture_classifier.hdf5\n",
      "106/106 [==============================] - 0s 4ms/step - loss: 0.1617 - accuracy: 0.9478 - val_loss: 0.1360 - val_accuracy: 0.9658\n",
      "Epoch 60/1000\n",
      " 89/106 [========================>.....] - ETA: 0s - loss: 0.1590 - accuracy: 0.9499\n",
      "Epoch 60: saving model to models\\gesture_classifier.hdf5\n",
      "106/106 [==============================] - 0s 4ms/step - loss: 0.1564 - accuracy: 0.9509 - val_loss: 0.1323 - val_accuracy: 0.9682\n",
      "Epoch 61/1000\n",
      " 91/106 [========================>.....] - ETA: 0s - loss: 0.1630 - accuracy: 0.9476\n",
      "Epoch 61: saving model to models\\gesture_classifier.hdf5\n",
      "106/106 [==============================] - 0s 4ms/step - loss: 0.1625 - accuracy: 0.9472 - val_loss: 0.1461 - val_accuracy: 0.9627\n",
      "Epoch 62/1000\n",
      " 90/106 [========================>.....] - ETA: 0s - loss: 0.1554 - accuracy: 0.9512\n",
      "Epoch 62: saving model to models\\gesture_classifier.hdf5\n",
      "106/106 [==============================] - 0s 4ms/step - loss: 0.1565 - accuracy: 0.9507 - val_loss: 0.1367 - val_accuracy: 0.9658\n",
      "Epoch 63/1000\n",
      "106/106 [==============================] - ETA: 0s - loss: 0.1583 - accuracy: 0.9473\n",
      "Epoch 63: saving model to models\\gesture_classifier.hdf5\n",
      "106/106 [==============================] - 0s 4ms/step - loss: 0.1583 - accuracy: 0.9473 - val_loss: 0.1365 - val_accuracy: 0.9676\n",
      "Epoch 64/1000\n",
      " 90/106 [========================>.....] - ETA: 0s - loss: 0.1580 - accuracy: 0.9471\n",
      "Epoch 64: saving model to models\\gesture_classifier.hdf5\n",
      "106/106 [==============================] - 0s 4ms/step - loss: 0.1566 - accuracy: 0.9478 - val_loss: 0.1492 - val_accuracy: 0.9636\n",
      "Epoch 64: early stopping\n"
     ]
    },
    {
     "data": {
      "text/plain": [
       "<keras.src.callbacks.History at 0x15febe9fb10>"
      ]
     },
     "execution_count": 42,
     "metadata": {},
     "output_type": "execute_result"
    }
   ],
   "source": [
    "model.fit(\n",
    "    X_train,\n",
    "    y_train,\n",
    "    epochs=1000,\n",
    "    batch_size=128,\n",
    "    validation_data=(X_test, y_test),\n",
    "    callbacks=[cp_callback, es_callback]\n",
    ")"
   ]
  },
  {
   "cell_type": "code",
   "execution_count": 43,
   "metadata": {},
   "outputs": [
    {
     "name": "stdout",
     "output_type": "stream",
     "text": [
      "36/36 [==============================] - 0s 2ms/step - loss: 0.1492 - accuracy: 0.9636\n"
     ]
    }
   ],
   "source": [
    "# Model evaluation\n",
    "val_loss, val_acc = model.evaluate(X_test, y_test, batch_size=128)"
   ]
  },
  {
   "cell_type": "code",
   "execution_count": 44,
   "metadata": {},
   "outputs": [],
   "source": [
    "# Loading the saved model\n",
    "model = tf.keras.models.load_model(model_save_path)"
   ]
  },
  {
   "cell_type": "code",
   "execution_count": 45,
   "metadata": {},
   "outputs": [
    {
     "name": "stdout",
     "output_type": "stream",
     "text": [
      "1/1 [==============================] - 0s 123ms/step\n",
      "[1.4255357e-10 2.0693610e-03 9.9790925e-01 2.1218602e-09 5.3085608e-07\n",
      " 8.1199710e-07 1.3303290e-08 1.8114788e-05 1.3483956e-11 1.1361016e-06\n",
      " 2.3606578e-10 4.3372148e-07 4.9368215e-10 5.0499433e-14 1.8664753e-07\n",
      " 8.0974322e-10 1.1312780e-07 5.1962828e-10]\n",
      "2\n"
     ]
    }
   ],
   "source": [
    "# Inference test\n",
    "predict_result = model.predict(np.array([X_test[0]]))\n",
    "print(np.squeeze(predict_result))\n",
    "print(np.argmax(np.squeeze(predict_result)))"
   ]
  },
  {
   "cell_type": "markdown",
   "metadata": {},
   "source": [
    "# Confusion matrix"
   ]
  },
  {
   "cell_type": "code",
   "execution_count": 46,
   "metadata": {},
   "outputs": [],
   "source": [
    "import seaborn as sns\n",
    "from sklearn.metrics import confusion_matrix, classification_report\n",
    "\n",
    "def print_confusion_matrix(y_true, y_pred, report=True):\n",
    "    labels = sorted(list(set(y_true)))\n",
    "    cmx_data = confusion_matrix(y_true, y_pred, labels=labels)\n",
    "    \n",
    "    df_cmx = pd.DataFrame(cmx_data, index=labels, columns=labels)\n",
    " \n",
    "    fig, ax = plt.subplots(figsize=(7, 6))\n",
    "    sns.heatmap(df_cmx, annot=True, fmt='g' ,square=False)\n",
    "    ax.set_ylim(len(set(y_true)), 0)\n",
    "    plt.show()\n",
    "    \n",
    "    if report:\n",
    "        print('Classification Report')\n",
    "        print(classification_report(y_test, y_pred))"
   ]
  },
  {
   "cell_type": "markdown",
   "metadata": {},
   "source": [
    "<a id=\"evaluation\"></a>\n",
    "\n",
    "### Evaluation "
   ]
  },
  {
   "cell_type": "code",
   "execution_count": 47,
   "metadata": {},
   "outputs": [
    {
     "name": "stdout",
     "output_type": "stream",
     "text": [
      "141/141 [==============================] - 0s 1ms/step\n"
     ]
    },
    {
     "data": {
      "image/png": "[encoded data removed]",
      "text/plain": [
       "<Figure size 700x600 with 2 Axes>"
      ]
     },
     "metadata": {},
     "output_type": "display_data"
    },
    {
     "name": "stdout",
     "output_type": "stream",
     "text": [
      "Classification Report\n",
      "              precision    recall  f1-score   support\n",
      "\n",
      "           0       0.99      0.98      0.98       230\n",
      "           1       0.97      0.94      0.96       243\n",
      "           2       0.94      1.00      0.97       258\n",
      "           3       0.97      0.96      0.97       242\n",
      "           4       0.95      0.98      0.96       263\n",
      "           5       0.96      0.96      0.96       240\n",
      "           6       0.98      1.00      0.99       256\n",
      "           7       0.98      0.91      0.94       257\n",
      "           8       0.99      0.96      0.97       255\n",
      "           9       0.98      0.91      0.94       259\n",
      "          10       1.00      0.90      0.95       243\n",
      "          11       1.00      0.97      0.98       245\n",
      "          12       0.94      0.97      0.95       258\n",
      "          13       0.96      0.99      0.98       268\n",
      "          14       0.98      0.95      0.97       250\n",
      "          15       0.99      1.00      1.00       251\n",
      "          16       0.91      0.98      0.95       236\n",
      "          17       0.89      0.99      0.93       246\n",
      "\n",
      "    accuracy                           0.96      4500\n",
      "   macro avg       0.96      0.96      0.96      4500\n",
      "weighted avg       0.96      0.96      0.96      4500\n",
      "\n"
     ]
    }
   ],
   "source": [
    "Y_pred = model.predict(X_test)\n",
    "y_pred = np.argmax(Y_pred, axis=1)\n",
    "\n",
    "print_confusion_matrix(y_test, y_pred)"
   ]
  },
  {
   "cell_type": "markdown",
   "metadata": {},
   "source": [
    "## Convert to model for Tensorflow-Lite"
   ]
  },
  {
   "cell_type": "code",
   "execution_count": 48,
   "metadata": {},
   "outputs": [
    {
     "name": "stderr",
     "output_type": "stream",
     "text": [
      "c:\\Users\\Ian\\git\\553.806_Capstone_HandGesture\\.venv\\Lib\\site-packages\\keras\\src\\engine\\training.py:3103: UserWarning: You are saving your model as an HDF5 file via `model.save()`. This file format is considered legacy. We recommend using instead the native Keras format, e.g. `model.save('my_model.keras')`.\n",
      "  saving_api.save_model(\n"
     ]
    }
   ],
   "source": [
    "# Save as a model dedicated to inference\n",
    "model.save(model_save_path, include_optimizer=False)"
   ]
  },
  {
   "cell_type": "code",
   "execution_count": 49,
   "metadata": {},
   "outputs": [
    {
     "name": "stdout",
     "output_type": "stream",
     "text": [
      "INFO:tensorflow:Assets written to: C:\\Users\\Ian\\AppData\\Local\\Temp\\tmpsosjuelo\\assets\n"
     ]
    },
    {
     "name": "stderr",
     "output_type": "stream",
     "text": [
      "INFO:tensorflow:Assets written to: C:\\Users\\Ian\\AppData\\Local\\Temp\\tmpsosjuelo\\assets\n"
     ]
    },
    {
     "data": {
      "text/plain": [
       "38608"
      ]
     },
     "execution_count": 49,
     "metadata": {},
     "output_type": "execute_result"
    }
   ],
   "source": [
    "# Transform model (quantization)\n",
    "converter = tf.lite.TFLiteConverter.from_keras_model(model)\n",
    "converter.optimizations = [tf.lite.Optimize.DEFAULT]\n",
    "tflite_quantized_model = converter.convert()\n",
    "\n",
    "open(tflite_save_path, 'wb').write(tflite_quantized_model)"
   ]
  },
  {
   "cell_type": "markdown",
   "metadata": {},
   "source": [
    "### Inference test"
   ]
  },
  {
   "cell_type": "code",
   "execution_count": 50,
   "metadata": {},
   "outputs": [],
   "source": [
    "interpreter = tf.lite.Interpreter(model_path=tflite_save_path)\n",
    "interpreter.allocate_tensors()\n",
    "# Get I / O tensor\n",
    "input_details = interpreter.get_input_details()\n",
    "output_details = interpreter.get_output_details()"
   ]
  },
  {
   "cell_type": "code",
   "execution_count": 51,
   "metadata": {},
   "outputs": [],
   "source": [
    "interpreter.set_tensor(input_details[0]['index'], np.array([X_test[0]]))"
   ]
  },
  {
   "cell_type": "code",
   "execution_count": 52,
   "metadata": {},
   "outputs": [
    {
     "data": {
      "text/plain": [
       "array([[ 0.00000000e+00,  0.00000000e+00,  0.00000000e+00,\n",
       "         0.00000000e+00,  1.99099388e-02, -2.41483971e-02,\n",
       "        -1.54375145e-02,  2.39135642e-02, -6.26356155e-02,\n",
       "        -1.91490427e-02, -3.98712931e-03, -8.55632350e-02,\n",
       "        -2.00938787e-02, -2.91798506e-02, -8.10021311e-02,\n",
       "        -1.77233256e-02,  5.50141447e-18, -8.94276127e-02,\n",
       "        -8.16768035e-03, -1.62761025e-02, -1.09593287e-01,\n",
       "        -2.11114436e-02, -5.79045014e-03, -8.07730630e-02,\n",
       "        -2.66316850e-02,  3.23471334e-03, -7.17237592e-02,\n",
       "        -2.86693592e-02, -1.84570067e-02, -8.33197460e-02,\n",
       "        -6.19823486e-03, -3.28780822e-02, -1.02508478e-01,\n",
       "        -1.88707262e-02, -1.64903663e-02, -6.87060580e-02,\n",
       "        -1.99374296e-02, -1.02171022e-02, -6.31176010e-02,\n",
       "        -1.76238585e-02, -3.49727608e-02, -7.50619620e-02,\n",
       "        -7.07816007e-03, -4.93596643e-02, -9.18483362e-02,\n",
       "        -2.29614191e-02, -2.99078990e-02, -5.78949973e-02,\n",
       "        -1.91795137e-02, -2.19379980e-02, -5.19322641e-02,\n",
       "        -1.24614686e-02, -5.09762280e-02, -6.30399957e-02,\n",
       "        -9.03567206e-03, -6.02433160e-02, -7.62574151e-02,\n",
       "        -1.77564919e-02, -4.45920862e-02, -5.48452884e-02,\n",
       "        -1.27081610e-02, -3.86703834e-02, -4.71131951e-02,\n",
       "        -6.64931722e-03]], dtype=float32)"
      ]
     },
     "execution_count": 52,
     "metadata": {},
     "output_type": "execute_result"
    }
   ],
   "source": [
    "np.array([X_test[0]])"
   ]
  },
  {
   "cell_type": "code",
   "execution_count": 53,
   "metadata": {},
   "outputs": [
    {
     "name": "stdout",
     "output_type": "stream",
     "text": [
      "[1.75663095e-10 2.44797184e-03 9.97525990e-01 2.19297469e-09\n",
      " 5.96208508e-07 1.05250047e-06 1.26161614e-08 2.23817606e-05\n",
      " 1.41370917e-11 1.27656949e-06 2.72140782e-10 5.16100954e-07\n",
      " 5.82142168e-10 6.03028369e-14 1.75916853e-07 9.30981126e-10\n",
      " 1.68522490e-07 7.04599046e-10]\n",
      "2\n",
      "CPU times: total: 0 ns\n",
      "Wall time: 3 ms\n"
     ]
    }
   ],
   "source": [
    "%%time\n",
    "# Inference implementation\n",
    "interpreter.invoke()\n",
    "tflite_results = interpreter.get_tensor(output_details[0]['index'])\n",
    "\n",
    "print(np.squeeze(tflite_results))\n",
    "print(np.argmax(np.squeeze(tflite_results)))"
   ]
  }
 ],
 "metadata": {
  "kernelspec": {
   "display_name": ".venv",
   "language": "python",
   "name": "python3"
  },
  "language_info": {
   "codemirror_mode": {
    "name": "ipython",
    "version": 3
   },
   "file_extension": ".py",
   "mimetype": "text/x-python",
   "name": "python",
   "nbconvert_exporter": "python",
   "pygments_lexer": "ipython3",
   "version": "3.11.8"
  }
 },
 "nbformat": 4,
 "nbformat_minor": 2
}
