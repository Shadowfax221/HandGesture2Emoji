{
 "cells": [
  {
   "cell_type": "markdown",
   "metadata": {},
   "source": [
    "# Gesture Classification\n",
    "\n",
    "This notebook is used to train classification models from csv dataset. \n",
    "\n",
    "> shift dataset to match point0 to (0, 0, 0)\n",
    "\n",
    "<a href=\"#evaluation\">Go to Evaluation Cell</a>"
   ]
  },
  {
   "cell_type": "code",
   "execution_count": 1,
   "metadata": {},
   "outputs": [
    {
     "name": "stdout",
     "output_type": "stream",
     "text": [
      "WARNING:tensorflow:From c:\\Users\\Ian\\git\\553.806_Capstone_HandGesture\\.venv\\Lib\\site-packages\\keras\\src\\losses.py:2976: The name tf.losses.sparse_softmax_cross_entropy is deprecated. Please use tf.compat.v1.losses.sparse_softmax_cross_entropy instead.\n",
      "\n"
     ]
    }
   ],
   "source": [
    "import numpy as np\n",
    "import pandas as pd\n",
    "import matplotlib.pyplot as plt\n",
    "\n",
    "import tensorflow as tf\n",
    "from sklearn.model_selection import train_test_split\n",
    "\n",
    "RANDOM_SEED = 42"
   ]
  },
  {
   "cell_type": "code",
   "execution_count": 2,
   "metadata": {},
   "outputs": [],
   "source": [
    "# set up\n",
    "dataset = 'datasets/HandLandmarks1000.csv'\n",
    "\n",
    "model_save_path = 'models/gesture_classifier.hdf5'\n",
    "tflite_save_path = 'models/gesture_classifier.tflite'\n",
    "\n",
    "LABELS = ['call', 'dislike', 'fist', 'like', 'mute', 'ok', 'one', 'palm', 'peace', 'rock', 'stop', 'stop_inverted'] \n",
    "NUM_CLASSES = len(LABELS)"
   ]
  },
  {
   "cell_type": "markdown",
   "metadata": {},
   "source": [
    "## Dataset Preparation"
   ]
  },
  {
   "cell_type": "code",
   "execution_count": 3,
   "metadata": {},
   "outputs": [],
   "source": [
    "# Load the datasets and apply train_test_split\n",
    "df = pd.read_csv(dataset, header=None, dtype='float32')\n",
    "\n",
    "y_dataset = df.iloc[:, 0].values.astype('int32')\n",
    "X_dataset = df.iloc[:, 1:].values"
   ]
  },
  {
   "cell_type": "code",
   "execution_count": 4,
   "metadata": {},
   "outputs": [
    {
     "data": {
      "text/plain": [
       "array([[ 1.        ,  0.7100702 ,  0.5840761 , ...,  0.6014862 ,\n",
       "         0.5510756 , -0.02362032],\n",
       "       [ 1.        ,  0.588869  ,  0.6737625 , ...,  0.5168103 ,\n",
       "         0.6284635 , -0.01756548],\n",
       "       [ 0.        ,  0.2995245 ,  0.5965276 , ...,  0.50682276,\n",
       "         0.61600465, -0.03615945],\n",
       "       ...,\n",
       "       [ 0.        ,  0.26178235,  0.51515234, ...,  0.30807483,\n",
       "         0.40605247, -0.02462914],\n",
       "       [ 1.        ,  0.6025023 ,  0.45756525, ...,  0.4871351 ,\n",
       "         0.23205534,  0.1230498 ],\n",
       "       [ 1.        ,  0.8320666 ,  0.4440706 , ...,  0.7311647 ,\n",
       "         0.21871707, -0.05081773]], dtype=float32)"
      ]
     },
     "execution_count": 4,
     "metadata": {},
     "output_type": "execute_result"
    }
   ],
   "source": [
    "X_dataset"
   ]
  },
  {
   "cell_type": "code",
   "execution_count": 5,
   "metadata": {},
   "outputs": [
    {
     "data": {
      "text/plain": [
       "array([[ 1.        ,  0.        ,  0.        , ..., -0.10858399,\n",
       "        -0.03300053, -0.02362013],\n",
       "       [ 1.        ,  0.        ,  0.        , ..., -0.07205868,\n",
       "        -0.04529899, -0.01756538],\n",
       "       [ 0.        ,  0.        ,  0.        , ...,  0.20729828,\n",
       "         0.01947707, -0.03615942],\n",
       "       ...,\n",
       "       [ 0.        ,  0.        ,  0.        , ...,  0.04629248,\n",
       "        -0.10909986, -0.02462909],\n",
       "       [ 1.        ,  0.        ,  0.        , ..., -0.11536717,\n",
       "        -0.22550991,  0.12304984],\n",
       "       [ 1.        ,  0.        ,  0.        , ..., -0.1009019 ,\n",
       "        -0.22535354, -0.05081779]], dtype=float32)"
      ]
     },
     "execution_count": 5,
     "metadata": {},
     "output_type": "execute_result"
    }
   ],
   "source": [
    "point0s = X_dataset[:, 1:4]\n",
    "shift = np.hstack((np.zeros((X_dataset.shape[0], 1)), np.hstack([point0s] * 21)))\n",
    "X_dataset_shifted = X_dataset - shift\n",
    "X_dataset_shifted = X_dataset_shifted.astype('float32')\n",
    "X_dataset_shifted"
   ]
  },
  {
   "cell_type": "code",
   "execution_count": 6,
   "metadata": {},
   "outputs": [],
   "source": [
    "X_train, X_test, y_train, y_test = train_test_split(X_dataset_shifted, y_dataset, train_size=0.75, random_state=RANDOM_SEED)"
   ]
  },
  {
   "cell_type": "code",
   "execution_count": 7,
   "metadata": {},
   "outputs": [
    {
     "data": {
      "text/plain": [
       "array([11, 10,  4, ...,  5,  0,  7])"
      ]
     },
     "execution_count": 7,
     "metadata": {},
     "output_type": "execute_result"
    }
   ],
   "source": [
    "y_train"
   ]
  },
  {
   "cell_type": "code",
   "execution_count": 8,
   "metadata": {},
   "outputs": [
    {
     "data": {
      "text/plain": [
       "array([ 0.        ,  0.        ,  0.        ,  0.        , -0.01952717,\n",
       "       -0.02747715, -0.00353255, -0.02799258, -0.06040594, -0.00631397,\n",
       "       -0.02710897, -0.08810025, -0.00934292, -0.02558342, -0.11038572,\n",
       "       -0.01214   , -0.01401073, -0.08248278, -0.00560128, -0.01259279,\n",
       "       -0.12391028, -0.01211103, -0.01118144, -0.14774129, -0.01626674,\n",
       "       -0.01030931, -0.16609444, -0.01867635, -0.00139078, -0.07976931,\n",
       "       -0.00798934,  0.00054276, -0.12322029, -0.01367524,  0.00113064,\n",
       "       -0.15052573, -0.01763659,  0.00094366, -0.17148805, -0.01999462,\n",
       "        0.01125169, -0.07257167, -0.01095392,  0.01257068, -0.11410049,\n",
       "       -0.01590184,  0.01281172, -0.13993607, -0.01916326,  0.01186976,\n",
       "       -0.15959914, -0.02081779,  0.02451447, -0.06234378, -0.01428064,\n",
       "        0.02665725, -0.09345594, -0.01821727,  0.02618805, -0.11348683,\n",
       "       -0.01974836,  0.0251976 , -0.12953725, -0.02008494], dtype=float32)"
      ]
     },
     "execution_count": 8,
     "metadata": {},
     "output_type": "execute_result"
    }
   ],
   "source": [
    "X_train[0]"
   ]
  },
  {
   "cell_type": "code",
   "execution_count": 9,
   "metadata": {},
   "outputs": [
    {
     "name": "stdout",
     "output_type": "stream",
     "text": [
      "(9000,) (9000, 64) (3000,) (3000, 64)\n"
     ]
    }
   ],
   "source": [
    "print(y_train.shape, X_train.shape, y_test.shape, X_test.shape)"
   ]
  },
  {
   "cell_type": "markdown",
   "metadata": {},
   "source": [
    "## Model Building"
   ]
  },
  {
   "cell_type": "code",
   "execution_count": 10,
   "metadata": {},
   "outputs": [
    {
     "name": "stdout",
     "output_type": "stream",
     "text": [
      "WARNING:tensorflow:From c:\\Users\\Ian\\git\\553.806_Capstone_HandGesture\\.venv\\Lib\\site-packages\\keras\\src\\backend.py:1398: The name tf.executing_eagerly_outside_functions is deprecated. Please use tf.compat.v1.executing_eagerly_outside_functions instead.\n",
      "\n"
     ]
    }
   ],
   "source": [
    "model = tf.keras.models.Sequential([\n",
    "    tf.keras.layers.Input((21 * 3 + 1, )),\n",
    "    tf.keras.layers.Dropout(0.1),\n",
    "    tf.keras.layers.Dense(128, activation='relu'),  # Increased units\n",
    "    tf.keras.layers.BatchNormalization(),  # Added Batch Normalization\n",
    "    tf.keras.layers.Dropout(0.1),  # Adjusted dropout rate\n",
    "    tf.keras.layers.Dense(128, activation='relu'),  # Increased units\n",
    "    tf.keras.layers.BatchNormalization(),  # Added Batch Normalization\n",
    "    tf.keras.layers.Dense(64, activation='relu'),  # Increased units\n",
    "    tf.keras.layers.Dense(NUM_CLASSES, activation='softmax')\n",
    "])"
   ]
  },
  {
   "cell_type": "code",
   "execution_count": 11,
   "metadata": {},
   "outputs": [
    {
     "name": "stdout",
     "output_type": "stream",
     "text": [
      "Model: \"sequential\"\n",
      "_________________________________________________________________\n",
      " Layer (type)                Output Shape              Param #   \n",
      "=================================================================\n",
      " dropout (Dropout)           (None, 64)                0         \n",
      "                                                                 \n",
      " dense (Dense)               (None, 128)               8320      \n",
      "                                                                 \n",
      " batch_normalization (Batch  (None, 128)               512       \n",
      " Normalization)                                                  \n",
      "                                                                 \n",
      " dropout_1 (Dropout)         (None, 128)               0         \n",
      "                                                                 \n",
      " dense_1 (Dense)             (None, 128)               16512     \n",
      "                                                                 \n",
      " batch_normalization_1 (Bat  (None, 128)               512       \n",
      " chNormalization)                                                \n",
      "                                                                 \n",
      " dense_2 (Dense)             (None, 64)                8256      \n",
      "                                                                 \n",
      " dense_3 (Dense)             (None, 12)                780       \n",
      "                                                                 \n",
      "=================================================================\n",
      "Total params: 34892 (136.30 KB)\n",
      "Trainable params: 34380 (134.30 KB)\n",
      "Non-trainable params: 512 (2.00 KB)\n",
      "_________________________________________________________________\n"
     ]
    }
   ],
   "source": [
    "model.summary()"
   ]
  },
  {
   "cell_type": "code",
   "execution_count": 12,
   "metadata": {},
   "outputs": [],
   "source": [
    "# Model checkpoint callback\n",
    "cp_callback = tf.keras.callbacks.ModelCheckpoint(\n",
    "    model_save_path, verbose=1, save_weights_only=False)\n",
    "# Callback for early stopping\n",
    "es_callback = tf.keras.callbacks.EarlyStopping(patience=30, verbose=1)"
   ]
  },
  {
   "cell_type": "code",
   "execution_count": 13,
   "metadata": {},
   "outputs": [
    {
     "name": "stdout",
     "output_type": "stream",
     "text": [
      "WARNING:tensorflow:From c:\\Users\\Ian\\git\\553.806_Capstone_HandGesture\\.venv\\Lib\\site-packages\\keras\\src\\optimizers\\__init__.py:309: The name tf.train.Optimizer is deprecated. Please use tf.compat.v1.train.Optimizer instead.\n",
      "\n"
     ]
    }
   ],
   "source": [
    "# Model compilation\n",
    "model.compile(\n",
    "    optimizer='adam',\n",
    "    loss='sparse_categorical_crossentropy',\n",
    "    metrics=['accuracy']\n",
    ")"
   ]
  },
  {
   "cell_type": "markdown",
   "metadata": {},
   "source": [
    "## Model Training"
   ]
  },
  {
   "cell_type": "code",
   "execution_count": 14,
   "metadata": {},
   "outputs": [
    {
     "data": {
      "text/plain": [
       "<keras.src.callbacks.EarlyStopping at 0x234d38d5d50>"
      ]
     },
     "execution_count": 14,
     "metadata": {},
     "output_type": "execute_result"
    }
   ],
   "source": [
    "es_callback"
   ]
  },
  {
   "cell_type": "code",
   "execution_count": 15,
   "metadata": {},
   "outputs": [
    {
     "name": "stdout",
     "output_type": "stream",
     "text": [
      "Epoch 1/1000\n",
      "WARNING:tensorflow:From c:\\Users\\Ian\\git\\553.806_Capstone_HandGesture\\.venv\\Lib\\site-packages\\keras\\src\\utils\\tf_utils.py:492: The name tf.ragged.RaggedTensorValue is deprecated. Please use tf.compat.v1.ragged.RaggedTensorValue instead.\n",
      "\n"
     ]
    },
    {
     "name": "stdout",
     "output_type": "stream",
     "text": [
      "WARNING:tensorflow:From c:\\Users\\Ian\\git\\553.806_Capstone_HandGesture\\.venv\\Lib\\site-packages\\keras\\src\\engine\\base_layer_utils.py:384: The name tf.executing_eagerly_outside_functions is deprecated. Please use tf.compat.v1.executing_eagerly_outside_functions instead.\n",
      "\n",
      "70/71 [============================>.] - ETA: 0s - loss: 1.3024 - accuracy: 0.5953\n",
      "Epoch 1: saving model to models\\gesture_classifier.hdf5\n",
      "71/71 [==============================] - 3s 9ms/step - loss: 1.2997 - accuracy: 0.5964 - val_loss: 2.3128 - val_accuracy: 0.2700\n",
      "Epoch 2/1000\n",
      "52/71 [====================>.........] - ETA: 0s - loss: 0.6256 - accuracy: 0.7985"
     ]
    },
    {
     "name": "stderr",
     "output_type": "stream",
     "text": [
      "c:\\Users\\Ian\\git\\553.806_Capstone_HandGesture\\.venv\\Lib\\site-packages\\keras\\src\\engine\\training.py:3103: UserWarning: You are saving your model as an HDF5 file via `model.save()`. This file format is considered legacy. We recommend using instead the native Keras format, e.g. `model.save('my_model.keras')`.\n",
      "  saving_api.save_model(\n"
     ]
    },
    {
     "name": "stdout",
     "output_type": "stream",
     "text": [
      "70/71 [============================>.] - ETA: 0s - loss: 0.5993 - accuracy: 0.8054\n",
      "Epoch 2: saving model to models\\gesture_classifier.hdf5\n",
      "71/71 [==============================] - 0s 4ms/step - loss: 0.5995 - accuracy: 0.8051 - val_loss: 2.1283 - val_accuracy: 0.3170\n",
      "Epoch 3/1000\n",
      "56/71 [======================>.......] - ETA: 0s - loss: 0.4875 - accuracy: 0.8340\n",
      "Epoch 3: saving model to models\\gesture_classifier.hdf5\n",
      "71/71 [==============================] - 0s 4ms/step - loss: 0.4723 - accuracy: 0.8398 - val_loss: 1.7825 - val_accuracy: 0.5107\n",
      "Epoch 4/1000\n",
      "54/71 [=====================>........] - ETA: 0s - loss: 0.4024 - accuracy: 0.8614\n",
      "Epoch 4: saving model to models\\gesture_classifier.hdf5\n",
      "71/71 [==============================] - 0s 4ms/step - loss: 0.3978 - accuracy: 0.8630 - val_loss: 1.3289 - val_accuracy: 0.6627\n",
      "Epoch 5/1000\n",
      "53/71 [=====================>........] - ETA: 0s - loss: 0.3559 - accuracy: 0.8807\n",
      "Epoch 5: saving model to models\\gesture_classifier.hdf5\n",
      "71/71 [==============================] - 0s 4ms/step - loss: 0.3598 - accuracy: 0.8783 - val_loss: 0.8936 - val_accuracy: 0.7640\n",
      "Epoch 6/1000\n",
      "56/71 [======================>.......] - ETA: 0s - loss: 0.3395 - accuracy: 0.8906\n",
      "Epoch 6: saving model to models\\gesture_classifier.hdf5\n",
      "71/71 [==============================] - 0s 4ms/step - loss: 0.3375 - accuracy: 0.8883 - val_loss: 0.5682 - val_accuracy: 0.8587\n",
      "Epoch 7/1000\n",
      "54/71 [=====================>........] - ETA: 0s - loss: 0.3153 - accuracy: 0.8942\n",
      "Epoch 7: saving model to models\\gesture_classifier.hdf5\n",
      "71/71 [==============================] - 0s 4ms/step - loss: 0.3117 - accuracy: 0.8948 - val_loss: 0.3453 - val_accuracy: 0.9100\n",
      "Epoch 8/1000\n",
      "67/71 [===========================>..] - ETA: 0s - loss: 0.2870 - accuracy: 0.9000\n",
      "Epoch 8: saving model to models\\gesture_classifier.hdf5\n",
      "71/71 [==============================] - 0s 5ms/step - loss: 0.2856 - accuracy: 0.8999 - val_loss: 0.2153 - val_accuracy: 0.9420\n",
      "Epoch 9/1000\n",
      "66/71 [==========================>...] - ETA: 0s - loss: 0.2746 - accuracy: 0.9040\n",
      "Epoch 9: saving model to models\\gesture_classifier.hdf5\n",
      "71/71 [==============================] - 0s 4ms/step - loss: 0.2792 - accuracy: 0.9028 - val_loss: 0.1662 - val_accuracy: 0.9580\n",
      "Epoch 10/1000\n",
      "69/71 [============================>.] - ETA: 0s - loss: 0.2605 - accuracy: 0.9133\n",
      "Epoch 10: saving model to models\\gesture_classifier.hdf5\n",
      "71/71 [==============================] - 0s 4ms/step - loss: 0.2602 - accuracy: 0.9132 - val_loss: 0.1368 - val_accuracy: 0.9620\n",
      "Epoch 11/1000\n",
      "68/71 [===========================>..] - ETA: 0s - loss: 0.2388 - accuracy: 0.9202\n",
      "Epoch 11: saving model to models\\gesture_classifier.hdf5\n",
      "71/71 [==============================] - 0s 4ms/step - loss: 0.2378 - accuracy: 0.9208 - val_loss: 0.1022 - val_accuracy: 0.9723\n",
      "Epoch 12/1000\n",
      "71/71 [==============================] - ETA: 0s - loss: 0.2362 - accuracy: 0.9178\n",
      "Epoch 12: saving model to models\\gesture_classifier.hdf5\n",
      "71/71 [==============================] - 0s 4ms/step - loss: 0.2362 - accuracy: 0.9178 - val_loss: 0.1134 - val_accuracy: 0.9647\n",
      "Epoch 13/1000\n",
      "54/71 [=====================>........] - ETA: 0s - loss: 0.2115 - accuracy: 0.9285\n",
      "Epoch 13: saving model to models\\gesture_classifier.hdf5\n",
      "71/71 [==============================] - 0s 4ms/step - loss: 0.2079 - accuracy: 0.9296 - val_loss: 0.1009 - val_accuracy: 0.9710\n",
      "Epoch 14/1000\n",
      "56/71 [======================>.......] - ETA: 0s - loss: 0.1927 - accuracy: 0.9347\n",
      "Epoch 14: saving model to models\\gesture_classifier.hdf5\n",
      "71/71 [==============================] - 0s 4ms/step - loss: 0.1895 - accuracy: 0.9358 - val_loss: 0.0886 - val_accuracy: 0.9770\n",
      "Epoch 15/1000\n",
      "56/71 [======================>.......] - ETA: 0s - loss: 0.1905 - accuracy: 0.9355\n",
      "Epoch 15: saving model to models\\gesture_classifier.hdf5\n",
      "71/71 [==============================] - 0s 4ms/step - loss: 0.1925 - accuracy: 0.9354 - val_loss: 0.0926 - val_accuracy: 0.9737\n",
      "Epoch 16/1000\n",
      "56/71 [======================>.......] - ETA: 0s - loss: 0.1939 - accuracy: 0.9329\n",
      "Epoch 16: saving model to models\\gesture_classifier.hdf5\n",
      "71/71 [==============================] - 0s 4ms/step - loss: 0.1871 - accuracy: 0.9348 - val_loss: 0.0888 - val_accuracy: 0.9760\n",
      "Epoch 17/1000\n",
      "54/71 [=====================>........] - ETA: 0s - loss: 0.1773 - accuracy: 0.9400\n",
      "Epoch 17: saving model to models\\gesture_classifier.hdf5\n",
      "71/71 [==============================] - 0s 4ms/step - loss: 0.1791 - accuracy: 0.9389 - val_loss: 0.1018 - val_accuracy: 0.9680\n",
      "Epoch 18/1000\n",
      "69/71 [============================>.] - ETA: 0s - loss: 0.1697 - accuracy: 0.9444\n",
      "Epoch 18: saving model to models\\gesture_classifier.hdf5\n",
      "71/71 [==============================] - 0s 4ms/step - loss: 0.1725 - accuracy: 0.9436 - val_loss: 0.0886 - val_accuracy: 0.9767\n",
      "Epoch 19/1000\n",
      "67/71 [===========================>..] - ETA: 0s - loss: 0.1676 - accuracy: 0.9441\n",
      "Epoch 19: saving model to models\\gesture_classifier.hdf5\n",
      "71/71 [==============================] - 0s 4ms/step - loss: 0.1672 - accuracy: 0.9449 - val_loss: 0.0904 - val_accuracy: 0.9740\n",
      "Epoch 20/1000\n",
      "65/71 [==========================>...] - ETA: 0s - loss: 0.1666 - accuracy: 0.9453\n",
      "Epoch 20: saving model to models\\gesture_classifier.hdf5\n",
      "71/71 [==============================] - 0s 5ms/step - loss: 0.1674 - accuracy: 0.9451 - val_loss: 0.0909 - val_accuracy: 0.9743\n",
      "Epoch 21/1000\n",
      "54/71 [=====================>........] - ETA: 0s - loss: 0.1492 - accuracy: 0.9489\n",
      "Epoch 21: saving model to models\\gesture_classifier.hdf5\n",
      "71/71 [==============================] - 0s 4ms/step - loss: 0.1500 - accuracy: 0.9489 - val_loss: 0.0929 - val_accuracy: 0.9697\n",
      "Epoch 22/1000\n",
      "70/71 [============================>.] - ETA: 0s - loss: 0.1491 - accuracy: 0.9493\n",
      "Epoch 22: saving model to models\\gesture_classifier.hdf5\n",
      "71/71 [==============================] - 0s 4ms/step - loss: 0.1493 - accuracy: 0.9492 - val_loss: 0.0884 - val_accuracy: 0.9713\n",
      "Epoch 23/1000\n",
      "54/71 [=====================>........] - ETA: 0s - loss: 0.1546 - accuracy: 0.9470\n",
      "Epoch 23: saving model to models\\gesture_classifier.hdf5\n",
      "71/71 [==============================] - 0s 4ms/step - loss: 0.1546 - accuracy: 0.9476 - val_loss: 0.0819 - val_accuracy: 0.9777\n",
      "Epoch 24/1000\n",
      "66/71 [==========================>...] - ETA: 0s - loss: 0.1409 - accuracy: 0.9540\n",
      "Epoch 24: saving model to models\\gesture_classifier.hdf5\n",
      "71/71 [==============================] - 0s 4ms/step - loss: 0.1413 - accuracy: 0.9532 - val_loss: 0.0798 - val_accuracy: 0.9787\n",
      "Epoch 25/1000\n",
      "71/71 [==============================] - ETA: 0s - loss: 0.1432 - accuracy: 0.9508\n",
      "Epoch 25: saving model to models\\gesture_classifier.hdf5\n",
      "71/71 [==============================] - 0s 4ms/step - loss: 0.1432 - accuracy: 0.9508 - val_loss: 0.0979 - val_accuracy: 0.9700\n",
      "Epoch 26/1000\n",
      "65/71 [==========================>...] - ETA: 0s - loss: 0.1314 - accuracy: 0.9558\n",
      "Epoch 26: saving model to models\\gesture_classifier.hdf5\n",
      "71/71 [==============================] - 0s 5ms/step - loss: 0.1336 - accuracy: 0.9556 - val_loss: 0.1013 - val_accuracy: 0.9657\n",
      "Epoch 27/1000\n",
      "54/71 [=====================>........] - ETA: 0s - loss: 0.1343 - accuracy: 0.9557\n",
      "Epoch 27: saving model to models\\gesture_classifier.hdf5\n",
      "71/71 [==============================] - 0s 4ms/step - loss: 0.1372 - accuracy: 0.9560 - val_loss: 0.0853 - val_accuracy: 0.9750\n",
      "Epoch 28/1000\n",
      "71/71 [==============================] - ETA: 0s - loss: 0.1308 - accuracy: 0.9558\n",
      "Epoch 28: saving model to models\\gesture_classifier.hdf5\n",
      "71/71 [==============================] - 0s 4ms/step - loss: 0.1308 - accuracy: 0.9558 - val_loss: 0.0909 - val_accuracy: 0.9733\n",
      "Epoch 29/1000\n",
      "55/71 [======================>.......] - ETA: 0s - loss: 0.1389 - accuracy: 0.9506\n",
      "Epoch 29: saving model to models\\gesture_classifier.hdf5\n",
      "71/71 [==============================] - 0s 4ms/step - loss: 0.1382 - accuracy: 0.9506 - val_loss: 0.0836 - val_accuracy: 0.9763\n",
      "Epoch 30/1000\n",
      "71/71 [==============================] - ETA: 0s - loss: 0.1255 - accuracy: 0.9592\n",
      "Epoch 30: saving model to models\\gesture_classifier.hdf5\n",
      "71/71 [==============================] - 0s 4ms/step - loss: 0.1255 - accuracy: 0.9592 - val_loss: 0.0862 - val_accuracy: 0.9747\n",
      "Epoch 31/1000\n",
      "55/71 [======================>.......] - ETA: 0s - loss: 0.1316 - accuracy: 0.9567\n",
      "Epoch 31: saving model to models\\gesture_classifier.hdf5\n",
      "71/71 [==============================] - 0s 4ms/step - loss: 0.1319 - accuracy: 0.9556 - val_loss: 0.0931 - val_accuracy: 0.9730\n",
      "Epoch 32/1000\n",
      "54/71 [=====================>........] - ETA: 0s - loss: 0.1371 - accuracy: 0.9520\n",
      "Epoch 32: saving model to models\\gesture_classifier.hdf5\n",
      "71/71 [==============================] - 0s 4ms/step - loss: 0.1343 - accuracy: 0.9531 - val_loss: 0.0813 - val_accuracy: 0.9773\n",
      "Epoch 33/1000\n",
      "54/71 [=====================>........] - ETA: 0s - loss: 0.1211 - accuracy: 0.9588\n",
      "Epoch 33: saving model to models\\gesture_classifier.hdf5\n",
      "71/71 [==============================] - 0s 4ms/step - loss: 0.1205 - accuracy: 0.9581 - val_loss: 0.0867 - val_accuracy: 0.9750\n",
      "Epoch 34/1000\n",
      "54/71 [=====================>........] - ETA: 0s - loss: 0.1205 - accuracy: 0.9580\n",
      "Epoch 34: saving model to models\\gesture_classifier.hdf5\n",
      "71/71 [==============================] - 0s 4ms/step - loss: 0.1180 - accuracy: 0.9597 - val_loss: 0.0868 - val_accuracy: 0.9747\n",
      "Epoch 35/1000\n",
      "55/71 [======================>.......] - ETA: 0s - loss: 0.1223 - accuracy: 0.9604\n",
      "Epoch 35: saving model to models\\gesture_classifier.hdf5\n",
      "71/71 [==============================] - 0s 4ms/step - loss: 0.1200 - accuracy: 0.9604 - val_loss: 0.0890 - val_accuracy: 0.9730\n",
      "Epoch 36/1000\n",
      "54/71 [=====================>........] - ETA: 0s - loss: 0.1223 - accuracy: 0.9580\n",
      "Epoch 36: saving model to models\\gesture_classifier.hdf5\n",
      "71/71 [==============================] - 0s 4ms/step - loss: 0.1235 - accuracy: 0.9577 - val_loss: 0.0836 - val_accuracy: 0.9763\n",
      "Epoch 37/1000\n",
      "55/71 [======================>.......] - ETA: 0s - loss: 0.1194 - accuracy: 0.9581\n",
      "Epoch 37: saving model to models\\gesture_classifier.hdf5\n",
      "71/71 [==============================] - 0s 4ms/step - loss: 0.1201 - accuracy: 0.9580 - val_loss: 0.0839 - val_accuracy: 0.9773\n",
      "Epoch 38/1000\n",
      "55/71 [======================>.......] - ETA: 0s - loss: 0.1132 - accuracy: 0.9609\n",
      "Epoch 38: saving model to models\\gesture_classifier.hdf5\n",
      "71/71 [==============================] - 0s 4ms/step - loss: 0.1194 - accuracy: 0.9586 - val_loss: 0.0982 - val_accuracy: 0.9717\n",
      "Epoch 39/1000\n",
      "55/71 [======================>.......] - ETA: 0s - loss: 0.1132 - accuracy: 0.9638\n",
      "Epoch 39: saving model to models\\gesture_classifier.hdf5\n",
      "71/71 [==============================] - 0s 4ms/step - loss: 0.1140 - accuracy: 0.9637 - val_loss: 0.0902 - val_accuracy: 0.9763\n",
      "Epoch 40/1000\n",
      "55/71 [======================>.......] - ETA: 0s - loss: 0.1119 - accuracy: 0.9608\n",
      "Epoch 40: saving model to models\\gesture_classifier.hdf5\n",
      "71/71 [==============================] - 0s 4ms/step - loss: 0.1135 - accuracy: 0.9601 - val_loss: 0.0787 - val_accuracy: 0.9760\n",
      "Epoch 41/1000\n",
      "55/71 [======================>.......] - ETA: 0s - loss: 0.1146 - accuracy: 0.9589\n",
      "Epoch 41: saving model to models\\gesture_classifier.hdf5\n",
      "71/71 [==============================] - 0s 4ms/step - loss: 0.1118 - accuracy: 0.9613 - val_loss: 0.0805 - val_accuracy: 0.9757\n",
      "Epoch 42/1000\n",
      "55/71 [======================>.......] - ETA: 0s - loss: 0.1166 - accuracy: 0.9618\n",
      "Epoch 42: saving model to models\\gesture_classifier.hdf5\n",
      "71/71 [==============================] - 0s 4ms/step - loss: 0.1181 - accuracy: 0.9611 - val_loss: 0.0938 - val_accuracy: 0.9707\n",
      "Epoch 43/1000\n",
      "54/71 [=====================>........] - ETA: 0s - loss: 0.1190 - accuracy: 0.9622\n",
      "Epoch 43: saving model to models\\gesture_classifier.hdf5\n",
      "71/71 [==============================] - 0s 4ms/step - loss: 0.1134 - accuracy: 0.9631 - val_loss: 0.0884 - val_accuracy: 0.9743\n",
      "Epoch 44/1000\n",
      "64/71 [==========================>...] - ETA: 0s - loss: 0.1081 - accuracy: 0.9648\n",
      "Epoch 44: saving model to models\\gesture_classifier.hdf5\n",
      "71/71 [==============================] - 0s 6ms/step - loss: 0.1061 - accuracy: 0.9653 - val_loss: 0.0909 - val_accuracy: 0.9720\n",
      "Epoch 45/1000\n",
      "64/71 [==========================>...] - ETA: 0s - loss: 0.1057 - accuracy: 0.9634\n",
      "Epoch 45: saving model to models\\gesture_classifier.hdf5\n",
      "71/71 [==============================] - 0s 5ms/step - loss: 0.1034 - accuracy: 0.9640 - val_loss: 0.0815 - val_accuracy: 0.9773\n",
      "Epoch 46/1000\n",
      "54/71 [=====================>........] - ETA: 0s - loss: 0.1077 - accuracy: 0.9608\n",
      "Epoch 46: saving model to models\\gesture_classifier.hdf5\n",
      "71/71 [==============================] - 0s 4ms/step - loss: 0.1082 - accuracy: 0.9614 - val_loss: 0.0820 - val_accuracy: 0.9790\n",
      "Epoch 47/1000\n",
      "54/71 [=====================>........] - ETA: 0s - loss: 0.1044 - accuracy: 0.9646\n",
      "Epoch 47: saving model to models\\gesture_classifier.hdf5\n",
      "71/71 [==============================] - 0s 4ms/step - loss: 0.1063 - accuracy: 0.9634 - val_loss: 0.0983 - val_accuracy: 0.9753\n",
      "Epoch 48/1000\n",
      "56/71 [======================>.......] - ETA: 0s - loss: 0.1083 - accuracy: 0.9632\n",
      "Epoch 48: saving model to models\\gesture_classifier.hdf5\n",
      "71/71 [==============================] - 0s 4ms/step - loss: 0.1076 - accuracy: 0.9633 - val_loss: 0.0773 - val_accuracy: 0.9787\n",
      "Epoch 49/1000\n",
      "71/71 [==============================] - ETA: 0s - loss: 0.1023 - accuracy: 0.9644\n",
      "Epoch 49: saving model to models\\gesture_classifier.hdf5\n",
      "71/71 [==============================] - 0s 4ms/step - loss: 0.1023 - accuracy: 0.9644 - val_loss: 0.0932 - val_accuracy: 0.9720\n",
      "Epoch 50/1000\n",
      "70/71 [============================>.] - ETA: 0s - loss: 0.0988 - accuracy: 0.9671\n",
      "Epoch 50: saving model to models\\gesture_classifier.hdf5\n",
      "71/71 [==============================] - 0s 4ms/step - loss: 0.0986 - accuracy: 0.9672 - val_loss: 0.0919 - val_accuracy: 0.9760\n",
      "Epoch 51/1000\n",
      "54/71 [=====================>........] - ETA: 0s - loss: 0.0989 - accuracy: 0.9647\n",
      "Epoch 51: saving model to models\\gesture_classifier.hdf5\n",
      "71/71 [==============================] - 0s 4ms/step - loss: 0.0998 - accuracy: 0.9649 - val_loss: 0.0747 - val_accuracy: 0.9777\n",
      "Epoch 52/1000\n",
      "55/71 [======================>.......] - ETA: 0s - loss: 0.1105 - accuracy: 0.9614\n",
      "Epoch 52: saving model to models\\gesture_classifier.hdf5\n",
      "71/71 [==============================] - 0s 4ms/step - loss: 0.1081 - accuracy: 0.9619 - val_loss: 0.0907 - val_accuracy: 0.9743\n",
      "Epoch 53/1000\n",
      "55/71 [======================>.......] - ETA: 0s - loss: 0.0976 - accuracy: 0.9652\n",
      "Epoch 53: saving model to models\\gesture_classifier.hdf5\n",
      "71/71 [==============================] - 0s 4ms/step - loss: 0.1014 - accuracy: 0.9643 - val_loss: 0.0703 - val_accuracy: 0.9780\n",
      "Epoch 54/1000\n",
      "54/71 [=====================>........] - ETA: 0s - loss: 0.1092 - accuracy: 0.9622\n",
      "Epoch 54: saving model to models\\gesture_classifier.hdf5\n",
      "71/71 [==============================] - 0s 4ms/step - loss: 0.1044 - accuracy: 0.9632 - val_loss: 0.0826 - val_accuracy: 0.9753\n",
      "Epoch 55/1000\n",
      "56/71 [======================>.......] - ETA: 0s - loss: 0.1001 - accuracy: 0.9639\n",
      "Epoch 55: saving model to models\\gesture_classifier.hdf5\n",
      "71/71 [==============================] - 0s 4ms/step - loss: 0.1019 - accuracy: 0.9634 - val_loss: 0.0795 - val_accuracy: 0.9777\n",
      "Epoch 56/1000\n",
      "54/71 [=====================>........] - ETA: 0s - loss: 0.0897 - accuracy: 0.9673\n",
      "Epoch 56: saving model to models\\gesture_classifier.hdf5\n",
      "71/71 [==============================] - 0s 4ms/step - loss: 0.0915 - accuracy: 0.9663 - val_loss: 0.0739 - val_accuracy: 0.9807\n",
      "Epoch 57/1000\n",
      "55/71 [======================>.......] - ETA: 0s - loss: 0.0992 - accuracy: 0.9629\n",
      "Epoch 57: saving model to models\\gesture_classifier.hdf5\n",
      "71/71 [==============================] - 0s 4ms/step - loss: 0.0996 - accuracy: 0.9629 - val_loss: 0.0768 - val_accuracy: 0.9787\n",
      "Epoch 58/1000\n",
      "55/71 [======================>.......] - ETA: 0s - loss: 0.1002 - accuracy: 0.9659\n",
      "Epoch 58: saving model to models\\gesture_classifier.hdf5\n",
      "71/71 [==============================] - 0s 4ms/step - loss: 0.1000 - accuracy: 0.9668 - val_loss: 0.0867 - val_accuracy: 0.9737\n",
      "Epoch 59/1000\n",
      "66/71 [==========================>...] - ETA: 0s - loss: 0.0933 - accuracy: 0.9682\n",
      "Epoch 59: saving model to models\\gesture_classifier.hdf5\n",
      "71/71 [==============================] - 0s 4ms/step - loss: 0.0935 - accuracy: 0.9682 - val_loss: 0.0723 - val_accuracy: 0.9790\n",
      "Epoch 60/1000\n",
      "56/71 [======================>.......] - ETA: 0s - loss: 0.0859 - accuracy: 0.9721\n",
      "Epoch 60: saving model to models\\gesture_classifier.hdf5\n",
      "71/71 [==============================] - 0s 4ms/step - loss: 0.0895 - accuracy: 0.9710 - val_loss: 0.0873 - val_accuracy: 0.9770\n",
      "Epoch 61/1000\n",
      "56/71 [======================>.......] - ETA: 0s - loss: 0.0925 - accuracy: 0.9664\n",
      "Epoch 61: saving model to models\\gesture_classifier.hdf5\n",
      "71/71 [==============================] - 0s 4ms/step - loss: 0.0922 - accuracy: 0.9674 - val_loss: 0.0752 - val_accuracy: 0.9793\n",
      "Epoch 62/1000\n",
      "55/71 [======================>.......] - ETA: 0s - loss: 0.0965 - accuracy: 0.9695\n",
      "Epoch 62: saving model to models\\gesture_classifier.hdf5\n",
      "71/71 [==============================] - 0s 4ms/step - loss: 0.0974 - accuracy: 0.9676 - val_loss: 0.1002 - val_accuracy: 0.9680\n",
      "Epoch 63/1000\n",
      "56/71 [======================>.......] - ETA: 0s - loss: 0.0939 - accuracy: 0.9681\n",
      "Epoch 63: saving model to models\\gesture_classifier.hdf5\n",
      "71/71 [==============================] - 0s 4ms/step - loss: 0.0948 - accuracy: 0.9680 - val_loss: 0.0744 - val_accuracy: 0.9790\n",
      "Epoch 64/1000\n",
      "55/71 [======================>.......] - ETA: 0s - loss: 0.0985 - accuracy: 0.9666\n",
      "Epoch 64: saving model to models\\gesture_classifier.hdf5\n",
      "71/71 [==============================] - 0s 4ms/step - loss: 0.0990 - accuracy: 0.9651 - val_loss: 0.0852 - val_accuracy: 0.9763\n",
      "Epoch 65/1000\n",
      "55/71 [======================>.......] - ETA: 0s - loss: 0.0929 - accuracy: 0.9693\n",
      "Epoch 65: saving model to models\\gesture_classifier.hdf5\n",
      "71/71 [==============================] - 0s 4ms/step - loss: 0.0901 - accuracy: 0.9708 - val_loss: 0.0889 - val_accuracy: 0.9763\n",
      "Epoch 66/1000\n",
      "54/71 [=====================>........] - ETA: 0s - loss: 0.0883 - accuracy: 0.9693\n",
      "Epoch 66: saving model to models\\gesture_classifier.hdf5\n",
      "71/71 [==============================] - 0s 4ms/step - loss: 0.0916 - accuracy: 0.9680 - val_loss: 0.1026 - val_accuracy: 0.9697\n",
      "Epoch 67/1000\n",
      "56/71 [======================>.......] - ETA: 0s - loss: 0.0918 - accuracy: 0.9688\n",
      "Epoch 67: saving model to models\\gesture_classifier.hdf5\n",
      "71/71 [==============================] - 0s 4ms/step - loss: 0.0941 - accuracy: 0.9681 - val_loss: 0.0799 - val_accuracy: 0.9783\n",
      "Epoch 68/1000\n",
      "71/71 [==============================] - ETA: 0s - loss: 0.0929 - accuracy: 0.9680\n",
      "Epoch 68: saving model to models\\gesture_classifier.hdf5\n",
      "71/71 [==============================] - 0s 4ms/step - loss: 0.0929 - accuracy: 0.9680 - val_loss: 0.0931 - val_accuracy: 0.9710\n",
      "Epoch 69/1000\n",
      "53/71 [=====================>........] - ETA: 0s - loss: 0.0935 - accuracy: 0.9665\n",
      "Epoch 69: saving model to models\\gesture_classifier.hdf5\n",
      "71/71 [==============================] - 0s 4ms/step - loss: 0.0935 - accuracy: 0.9676 - val_loss: 0.1006 - val_accuracy: 0.9710\n",
      "Epoch 70/1000\n",
      "55/71 [======================>.......] - ETA: 0s - loss: 0.0903 - accuracy: 0.9700\n",
      "Epoch 70: saving model to models\\gesture_classifier.hdf5\n",
      "71/71 [==============================] - 0s 4ms/step - loss: 0.0907 - accuracy: 0.9692 - val_loss: 0.0706 - val_accuracy: 0.9760\n",
      "Epoch 71/1000\n",
      "55/71 [======================>.......] - ETA: 0s - loss: 0.0899 - accuracy: 0.9686\n",
      "Epoch 71: saving model to models\\gesture_classifier.hdf5\n",
      "71/71 [==============================] - 0s 4ms/step - loss: 0.0917 - accuracy: 0.9689 - val_loss: 0.0803 - val_accuracy: 0.9763\n",
      "Epoch 72/1000\n",
      "57/71 [=======================>......] - ETA: 0s - loss: 0.0908 - accuracy: 0.9683\n",
      "Epoch 72: saving model to models\\gesture_classifier.hdf5\n",
      "71/71 [==============================] - 0s 6ms/step - loss: 0.0906 - accuracy: 0.9676 - val_loss: 0.0924 - val_accuracy: 0.9740\n",
      "Epoch 73/1000\n",
      "55/71 [======================>.......] - ETA: 0s - loss: 0.0925 - accuracy: 0.9707\n",
      "Epoch 73: saving model to models\\gesture_classifier.hdf5\n",
      "71/71 [==============================] - 0s 4ms/step - loss: 0.0938 - accuracy: 0.9692 - val_loss: 0.0811 - val_accuracy: 0.9770\n",
      "Epoch 74/1000\n",
      "54/71 [=====================>........] - ETA: 0s - loss: 0.0896 - accuracy: 0.9657\n",
      "Epoch 74: saving model to models\\gesture_classifier.hdf5\n",
      "71/71 [==============================] - 0s 4ms/step - loss: 0.0874 - accuracy: 0.9668 - val_loss: 0.0779 - val_accuracy: 0.9790\n",
      "Epoch 75/1000\n",
      "55/71 [======================>.......] - ETA: 0s - loss: 0.0865 - accuracy: 0.9688\n",
      "Epoch 75: saving model to models\\gesture_classifier.hdf5\n",
      "71/71 [==============================] - 0s 5ms/step - loss: 0.0875 - accuracy: 0.9688 - val_loss: 0.0772 - val_accuracy: 0.9783\n",
      "Epoch 76/1000\n",
      "60/71 [========================>.....] - ETA: 0s - loss: 0.0892 - accuracy: 0.9699\n",
      "Epoch 76: saving model to models\\gesture_classifier.hdf5\n",
      "71/71 [==============================] - 0s 5ms/step - loss: 0.0896 - accuracy: 0.9698 - val_loss: 0.0837 - val_accuracy: 0.9770\n",
      "Epoch 77/1000\n",
      "55/71 [======================>.......] - ETA: 0s - loss: 0.0888 - accuracy: 0.9703\n",
      "Epoch 77: saving model to models\\gesture_classifier.hdf5\n",
      "71/71 [==============================] - 0s 4ms/step - loss: 0.0886 - accuracy: 0.9700 - val_loss: 0.0872 - val_accuracy: 0.9740\n",
      "Epoch 78/1000\n",
      "56/71 [======================>.......] - ETA: 0s - loss: 0.0815 - accuracy: 0.9710\n",
      "Epoch 78: saving model to models\\gesture_classifier.hdf5\n",
      "71/71 [==============================] - 0s 4ms/step - loss: 0.0838 - accuracy: 0.9710 - val_loss: 0.0768 - val_accuracy: 0.9773\n",
      "Epoch 79/1000\n",
      "55/71 [======================>.......] - ETA: 0s - loss: 0.0898 - accuracy: 0.9707\n",
      "Epoch 79: saving model to models\\gesture_classifier.hdf5\n",
      "71/71 [==============================] - 0s 4ms/step - loss: 0.0865 - accuracy: 0.9716 - val_loss: 0.0786 - val_accuracy: 0.9773\n",
      "Epoch 80/1000\n",
      "55/71 [======================>.......] - ETA: 0s - loss: 0.0881 - accuracy: 0.9686\n",
      "Epoch 80: saving model to models\\gesture_classifier.hdf5\n",
      "71/71 [==============================] - 0s 4ms/step - loss: 0.0886 - accuracy: 0.9688 - val_loss: 0.0836 - val_accuracy: 0.9770\n",
      "Epoch 81/1000\n",
      "55/71 [======================>.......] - ETA: 0s - loss: 0.0834 - accuracy: 0.9707\n",
      "Epoch 81: saving model to models\\gesture_classifier.hdf5\n",
      "71/71 [==============================] - 0s 4ms/step - loss: 0.0834 - accuracy: 0.9710 - val_loss: 0.0867 - val_accuracy: 0.9780\n",
      "Epoch 82/1000\n",
      "56/71 [======================>.......] - ETA: 0s - loss: 0.0885 - accuracy: 0.9688\n",
      "Epoch 82: saving model to models\\gesture_classifier.hdf5\n",
      "71/71 [==============================] - 0s 4ms/step - loss: 0.0913 - accuracy: 0.9682 - val_loss: 0.0758 - val_accuracy: 0.9757\n",
      "Epoch 83/1000\n",
      "55/71 [======================>.......] - ETA: 0s - loss: 0.0851 - accuracy: 0.9686\n",
      "Epoch 83: saving model to models\\gesture_classifier.hdf5\n",
      "71/71 [==============================] - 0s 4ms/step - loss: 0.0842 - accuracy: 0.9696 - val_loss: 0.0816 - val_accuracy: 0.9747\n",
      "Epoch 83: early stopping\n"
     ]
    },
    {
     "data": {
      "text/plain": [
       "<keras.src.callbacks.History at 0x234d36c0cd0>"
      ]
     },
     "execution_count": 15,
     "metadata": {},
     "output_type": "execute_result"
    }
   ],
   "source": [
    "model.fit(\n",
    "    X_train,\n",
    "    y_train,\n",
    "    epochs=1000,\n",
    "    batch_size=128,\n",
    "    validation_data=(X_test, y_test),\n",
    "    callbacks=[cp_callback, es_callback]\n",
    ")"
   ]
  },
  {
   "cell_type": "code",
   "execution_count": 16,
   "metadata": {},
   "outputs": [
    {
     "name": "stdout",
     "output_type": "stream",
     "text": [
      "24/24 [==============================] - 0s 2ms/step - loss: 0.0816 - accuracy: 0.9747\n"
     ]
    }
   ],
   "source": [
    "# Model evaluation\n",
    "val_loss, val_acc = model.evaluate(X_test, y_test, batch_size=128)"
   ]
  },
  {
   "cell_type": "code",
   "execution_count": 17,
   "metadata": {},
   "outputs": [],
   "source": [
    "# Loading the saved model\n",
    "model = tf.keras.models.load_model(model_save_path)"
   ]
  },
  {
   "cell_type": "code",
   "execution_count": 18,
   "metadata": {},
   "outputs": [
    {
     "name": "stdout",
     "output_type": "stream",
     "text": [
      "1/1 [==============================] - 0s 199ms/step\n",
      "[9.6249397e-13 1.0000000e+00 3.8836729e-11 1.6811516e-13 1.2689240e-14\n",
      " 6.0704697e-16 8.2303558e-17 1.5273113e-13 3.9924486e-20 1.0058732e-14\n",
      " 2.4774313e-16 5.6170480e-17]\n",
      "1\n"
     ]
    }
   ],
   "source": [
    "# Inference test\n",
    "predict_result = model.predict(np.array([X_test[0]]))\n",
    "print(np.squeeze(predict_result))\n",
    "print(np.argmax(np.squeeze(predict_result)))"
   ]
  },
  {
   "cell_type": "markdown",
   "metadata": {},
   "source": [
    "# Confusion matrix"
   ]
  },
  {
   "cell_type": "code",
   "execution_count": 19,
   "metadata": {},
   "outputs": [],
   "source": [
    "import seaborn as sns\n",
    "from sklearn.metrics import confusion_matrix, classification_report\n",
    "\n",
    "def print_confusion_matrix(y_true, y_pred, report=True):\n",
    "    labels = sorted(list(set(y_true)))\n",
    "    cmx_data = confusion_matrix(y_true, y_pred, labels=labels)\n",
    "    \n",
    "    df_cmx = pd.DataFrame(cmx_data, index=labels, columns=labels)\n",
    " \n",
    "    fig, ax = plt.subplots(figsize=(7, 6))\n",
    "    sns.heatmap(df_cmx, annot=True, fmt='g' ,square=False)\n",
    "    ax.set_ylim(len(set(y_true)), 0)\n",
    "    plt.show()\n",
    "    \n",
    "    if report:\n",
    "        print('Classification Report')\n",
    "        print(classification_report(y_test, y_pred))"
   ]
  },
  {
   "cell_type": "markdown",
   "metadata": {},
   "source": [
    "<a id=\"evaluation\"></a>\n",
    "\n",
    "### Evaluation "
   ]
  },
  {
   "cell_type": "code",
   "execution_count": 20,
   "metadata": {},
   "outputs": [
    {
     "name": "stdout",
     "output_type": "stream",
     "text": [
      " 1/94 [..............................] - ETA: 2s"
     ]
    },
    {
     "name": "stdout",
     "output_type": "stream",
     "text": [
      "94/94 [==============================] - 0s 1ms/step\n"
     ]
    },
    {
     "data": {
      "image/png": "[encoded data removed]",
      "text/plain": [
       "<Figure size 700x600 with 2 Axes>"
      ]
     },
     "metadata": {},
     "output_type": "display_data"
    },
    {
     "name": "stdout",
     "output_type": "stream",
     "text": [
      "Classification Report\n",
      "              precision    recall  f1-score   support\n",
      "\n",
      "           0       1.00      0.97      0.99       250\n",
      "           1       0.99      1.00      0.99       248\n",
      "           2       0.97      1.00      0.98       254\n",
      "           3       0.97      1.00      0.98       259\n",
      "           4       0.96      0.94      0.95       255\n",
      "           5       0.99      0.99      0.99       261\n",
      "           6       0.91      0.94      0.93       239\n",
      "           7       0.99      0.92      0.96       235\n",
      "           8       0.99      0.98      0.99       254\n",
      "           9       1.00      0.97      0.99       236\n",
      "          10       0.93      1.00      0.96       264\n",
      "          11       1.00      0.99      0.99       245\n",
      "\n",
      "    accuracy                           0.97      3000\n",
      "   macro avg       0.98      0.97      0.97      3000\n",
      "weighted avg       0.98      0.97      0.97      3000\n",
      "\n"
     ]
    }
   ],
   "source": [
    "Y_pred = model.predict(X_test)\n",
    "y_pred = np.argmax(Y_pred, axis=1)\n",
    "\n",
    "print_confusion_matrix(y_test, y_pred)"
   ]
  },
  {
   "cell_type": "markdown",
   "metadata": {},
   "source": [
    "## Convert to model for Tensorflow-Lite"
   ]
  },
  {
   "cell_type": "code",
   "execution_count": 21,
   "metadata": {},
   "outputs": [
    {
     "name": "stderr",
     "output_type": "stream",
     "text": [
      "c:\\Users\\Ian\\git\\553.806_Capstone_HandGesture\\.venv\\Lib\\site-packages\\keras\\src\\engine\\training.py:3103: UserWarning: You are saving your model as an HDF5 file via `model.save()`. This file format is considered legacy. We recommend using instead the native Keras format, e.g. `model.save('my_model.keras')`.\n",
      "  saving_api.save_model(\n"
     ]
    }
   ],
   "source": [
    "# Save as a model dedicated to inference\n",
    "model.save(model_save_path, include_optimizer=False)"
   ]
  },
  {
   "cell_type": "code",
   "execution_count": 22,
   "metadata": {},
   "outputs": [
    {
     "name": "stdout",
     "output_type": "stream",
     "text": [
      "INFO:tensorflow:Assets written to: C:\\Users\\Ian\\AppData\\Local\\Temp\\tmp25flds9l\\assets\n"
     ]
    },
    {
     "name": "stderr",
     "output_type": "stream",
     "text": [
      "INFO:tensorflow:Assets written to: C:\\Users\\Ian\\AppData\\Local\\Temp\\tmp25flds9l\\assets\n"
     ]
    },
    {
     "data": {
      "text/plain": [
       "40376"
      ]
     },
     "execution_count": 22,
     "metadata": {},
     "output_type": "execute_result"
    }
   ],
   "source": [
    "# Transform model (quantization)\n",
    "converter = tf.lite.TFLiteConverter.from_keras_model(model)\n",
    "converter.optimizations = [tf.lite.Optimize.DEFAULT]\n",
    "tflite_quantized_model = converter.convert()\n",
    "\n",
    "open(tflite_save_path, 'wb').write(tflite_quantized_model)"
   ]
  },
  {
   "cell_type": "markdown",
   "metadata": {},
   "source": [
    "### Inference test"
   ]
  },
  {
   "cell_type": "code",
   "execution_count": 23,
   "metadata": {},
   "outputs": [],
   "source": [
    "interpreter = tf.lite.Interpreter(model_path=tflite_save_path)\n",
    "interpreter.allocate_tensors()\n",
    "# Get I / O tensor\n",
    "input_details = interpreter.get_input_details()\n",
    "output_details = interpreter.get_output_details()"
   ]
  },
  {
   "cell_type": "code",
   "execution_count": 24,
   "metadata": {},
   "outputs": [],
   "source": [
    "interpreter.set_tensor(input_details[0]['index'], np.array([X_test[0]]))"
   ]
  },
  {
   "cell_type": "code",
   "execution_count": 25,
   "metadata": {},
   "outputs": [
    {
     "data": {
      "text/plain": [
       "array([[ 0.        ,  0.        ,  0.        ,  0.        ,  0.02218488,\n",
       "         0.06465876, -0.0146348 ,  0.05926496,  0.11884475, -0.01701569,\n",
       "         0.08632201,  0.16070312, -0.01962169,  0.10486561,  0.19020462,\n",
       "        -0.01709484,  0.12106305,  0.08084619,  0.00436391,  0.1556533 ,\n",
       "         0.09796482, -0.01446647,  0.11233675,  0.08692503, -0.02190341,\n",
       "         0.09094197,  0.07435232, -0.02277351,  0.12977415,  0.04963142,\n",
       "         0.00357175,  0.16036248,  0.0627234 , -0.01684708,  0.1055283 ,\n",
       "         0.05262321, -0.02195145,  0.09149134,  0.04669213, -0.02119377,\n",
       "         0.13078588,  0.01547199, -0.00126008,  0.16093946,  0.02913612,\n",
       "        -0.02253325,  0.10988724,  0.02358136, -0.01267236,  0.09566867,\n",
       "         0.01907289, -0.00104912,  0.12885457, -0.02165854, -0.00748157,\n",
       "         0.15248716, -0.01079214, -0.01756132,  0.11804771, -0.00654224,\n",
       "        -0.00589625,  0.10385078, -0.00800166,  0.00565961]],\n",
       "      dtype=float32)"
      ]
     },
     "execution_count": 25,
     "metadata": {},
     "output_type": "execute_result"
    }
   ],
   "source": [
    "np.array([X_test[0]])"
   ]
  },
  {
   "cell_type": "code",
   "execution_count": 26,
   "metadata": {},
   "outputs": [
    {
     "name": "stdout",
     "output_type": "stream",
     "text": [
      "[9.31254531e-13 1.00000000e+00 3.78083467e-11 1.34717121e-13\n",
      " 1.25710294e-14 5.99576507e-16 8.17076171e-17 1.39158772e-13\n",
      " 3.56757570e-20 1.12221405e-14 2.32914314e-16 5.92694827e-17]\n",
      "1\n",
      "CPU times: total: 0 ns\n",
      "Wall time: 1 ms\n"
     ]
    }
   ],
   "source": [
    "%%time\n",
    "# Inference implementation\n",
    "interpreter.invoke()\n",
    "tflite_results = interpreter.get_tensor(output_details[0]['index'])\n",
    "\n",
    "print(np.squeeze(tflite_results))\n",
    "print(np.argmax(np.squeeze(tflite_results)))"
   ]
  }
 ],
 "metadata": {
  "kernelspec": {
   "display_name": ".venv",
   "language": "python",
   "name": "python3"
  },
  "language_info": {
   "codemirror_mode": {
    "name": "ipython",
    "version": 3
   },
   "file_extension": ".py",
   "mimetype": "text/x-python",
   "name": "python",
   "nbconvert_exporter": "python",
   "pygments_lexer": "ipython3",
   "version": "3.11.8"
  }
 },
 "nbformat": 4,
 "nbformat_minor": 2
}
