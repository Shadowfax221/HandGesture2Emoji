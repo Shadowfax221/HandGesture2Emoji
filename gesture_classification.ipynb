{
 "cells": [
  {
   "cell_type": "markdown",
   "metadata": {},
   "source": [
    "# Gesture Classification\n",
    "\n",
    "This notebook is used to train classification models from csv dataset. "
   ]
  },
  {
   "cell_type": "code",
   "execution_count": 1,
   "metadata": {},
   "outputs": [
    {
     "name": "stdout",
     "output_type": "stream",
     "text": [
      "WARNING:tensorflow:From c:\\Users\\Ian\\git\\553.806_Capstone_HandGesture\\.venv\\Lib\\site-packages\\keras\\src\\losses.py:2976: The name tf.losses.sparse_softmax_cross_entropy is deprecated. Please use tf.compat.v1.losses.sparse_softmax_cross_entropy instead.\n",
      "\n"
     ]
    }
   ],
   "source": [
    "import numpy as np\n",
    "import pandas as pd\n",
    "import matplotlib.pyplot as plt\n",
    "\n",
    "import tensorflow as tf\n",
    "from sklearn.model_selection import train_test_split\n",
    "\n",
    "RANDOM_SEED = 42"
   ]
  },
  {
   "cell_type": "code",
   "execution_count": 2,
   "metadata": {},
   "outputs": [],
   "source": [
    "# set up\n",
    "dataset = 'datasets/HandLandmarks1000.csv'\n",
    "\n",
    "model_save_path = 'models/keypoint_classifier.hdf5'\n",
    "tflite_save_path = 'models/keypoint_classifier.tflite'\n",
    "\n",
    "LABELS = ['call', 'dislike', 'fist', 'like', 'mute', 'ok', 'one', 'palm', 'peace', 'rock', 'stop', 'stop_inverted'] \n",
    "NUM_CLASSES = len(LABELS)"
   ]
  },
  {
   "cell_type": "markdown",
   "metadata": {},
   "source": [
    "## Dataset Preparation"
   ]
  },
  {
   "cell_type": "code",
   "execution_count": 3,
   "metadata": {},
   "outputs": [],
   "source": [
    "# Load the datasets and apply train_test_split\n",
    "df = pd.read_csv(dataset, header=None, dtype='float32')\n",
    "\n",
    "y_dataset = df.iloc[:, 0].values.astype('int32')\n",
    "X_dataset = df.iloc[:, 1:].values\n",
    "\n",
    "X_train, X_test, y_train, y_test = train_test_split(X_dataset, y_dataset, train_size=0.75, random_state=RANDOM_SEED)"
   ]
  },
  {
   "cell_type": "code",
   "execution_count": 4,
   "metadata": {},
   "outputs": [
    {
     "data": {
      "text/plain": [
       "array([11, 10,  4, ...,  5,  0,  7])"
      ]
     },
     "execution_count": 4,
     "metadata": {},
     "output_type": "execute_result"
    }
   ],
   "source": [
    "y_train"
   ]
  },
  {
   "cell_type": "code",
   "execution_count": 5,
   "metadata": {},
   "outputs": [
    {
     "data": {
      "text/plain": [
       "array([[ 0.        ,  0.37109262,  0.37854972, ...,  0.3962902 ,\n",
       "         0.24901247, -0.02008493],\n",
       "       [ 1.        ,  0.75501627,  0.43193364, ...,  0.7827449 ,\n",
       "         0.32504714, -0.0193696 ],\n",
       "       [ 1.        ,  0.5183266 ,  0.70544964, ...,  0.39134496,\n",
       "         0.6377189 , -0.05509105],\n",
       "       ...,\n",
       "       [ 1.        ,  0.68599534,  0.68687624, ...,  0.7628145 ,\n",
       "         0.5603018 , -0.05664702],\n",
       "       [ 0.        ,  0.39546585,  0.6009588 , ...,  0.506768  ,\n",
       "         0.7457703 , -0.02445626],\n",
       "       [ 1.        ,  0.75015366,  0.48553923, ...,  0.8280829 ,\n",
       "         0.37854958, -0.03483592]], dtype=float32)"
      ]
     },
     "execution_count": 5,
     "metadata": {},
     "output_type": "execute_result"
    }
   ],
   "source": [
    "X_train"
   ]
  },
  {
   "cell_type": "code",
   "execution_count": 6,
   "metadata": {},
   "outputs": [
    {
     "name": "stdout",
     "output_type": "stream",
     "text": [
      "(9000,) (9000, 64) (3000,) (3000, 64)\n"
     ]
    }
   ],
   "source": [
    "print(y_train.shape, X_train.shape, y_test.shape, X_test.shape)"
   ]
  },
  {
   "cell_type": "markdown",
   "metadata": {},
   "source": [
    "## Model Building"
   ]
  },
  {
   "cell_type": "code",
   "execution_count": 7,
   "metadata": {},
   "outputs": [
    {
     "name": "stdout",
     "output_type": "stream",
     "text": [
      "WARNING:tensorflow:From c:\\Users\\Ian\\git\\553.806_Capstone_HandGesture\\.venv\\Lib\\site-packages\\keras\\src\\backend.py:1398: The name tf.executing_eagerly_outside_functions is deprecated. Please use tf.compat.v1.executing_eagerly_outside_functions instead.\n",
      "\n"
     ]
    }
   ],
   "source": [
    "model = tf.keras.models.Sequential([\n",
    "    tf.keras.layers.Input((21 * 3 + 1, )),\n",
    "    tf.keras.layers.Dropout(0.1),\n",
    "    tf.keras.layers.Dense(128, activation='relu'),  # Increased units\n",
    "    tf.keras.layers.BatchNormalization(),  # Added Batch Normalization\n",
    "    tf.keras.layers.Dropout(0.1),  # Adjusted dropout rate\n",
    "    tf.keras.layers.Dense(128, activation='relu'),  # Increased units\n",
    "    tf.keras.layers.BatchNormalization(),  # Added Batch Normalization\n",
    "    tf.keras.layers.Dense(64, activation='relu'),  # Increased units\n",
    "    tf.keras.layers.Dense(NUM_CLASSES, activation='softmax')\n",
    "])"
   ]
  },
  {
   "cell_type": "code",
   "execution_count": 8,
   "metadata": {},
   "outputs": [
    {
     "name": "stdout",
     "output_type": "stream",
     "text": [
      "Model: \"sequential\"\n",
      "_________________________________________________________________\n",
      " Layer (type)                Output Shape              Param #   \n",
      "=================================================================\n",
      " dropout (Dropout)           (None, 64)                0         \n",
      "                                                                 \n",
      " dense (Dense)               (None, 128)               8320      \n",
      "                                                                 \n",
      " batch_normalization (Batch  (None, 128)               512       \n",
      " Normalization)                                                  \n",
      "                                                                 \n",
      " dropout_1 (Dropout)         (None, 128)               0         \n",
      "                                                                 \n",
      " dense_1 (Dense)             (None, 128)               16512     \n",
      "                                                                 \n",
      " batch_normalization_1 (Bat  (None, 128)               512       \n",
      " chNormalization)                                                \n",
      "                                                                 \n",
      " dense_2 (Dense)             (None, 64)                8256      \n",
      "                                                                 \n",
      " dense_3 (Dense)             (None, 12)                780       \n",
      "                                                                 \n",
      "=================================================================\n",
      "Total params: 34892 (136.30 KB)\n",
      "Trainable params: 34380 (134.30 KB)\n",
      "Non-trainable params: 512 (2.00 KB)\n",
      "_________________________________________________________________\n"
     ]
    }
   ],
   "source": [
    "model.summary()"
   ]
  },
  {
   "cell_type": "code",
   "execution_count": 9,
   "metadata": {},
   "outputs": [],
   "source": [
    "# Model checkpoint callback\n",
    "cp_callback = tf.keras.callbacks.ModelCheckpoint(\n",
    "    model_save_path, verbose=1, save_weights_only=False)\n",
    "# Callback for early stopping\n",
    "es_callback = tf.keras.callbacks.EarlyStopping(patience=30, verbose=1)"
   ]
  },
  {
   "cell_type": "code",
   "execution_count": 10,
   "metadata": {},
   "outputs": [
    {
     "name": "stdout",
     "output_type": "stream",
     "text": [
      "WARNING:tensorflow:From c:\\Users\\Ian\\git\\553.806_Capstone_HandGesture\\.venv\\Lib\\site-packages\\keras\\src\\optimizers\\__init__.py:309: The name tf.train.Optimizer is deprecated. Please use tf.compat.v1.train.Optimizer instead.\n",
      "\n"
     ]
    }
   ],
   "source": [
    "# Model compilation\n",
    "model.compile(\n",
    "    optimizer='adam',\n",
    "    loss='sparse_categorical_crossentropy',\n",
    "    metrics=['accuracy']\n",
    ")"
   ]
  },
  {
   "cell_type": "markdown",
   "metadata": {},
   "source": [
    "## Model Training"
   ]
  },
  {
   "cell_type": "code",
   "execution_count": 11,
   "metadata": {},
   "outputs": [
    {
     "data": {
      "text/plain": [
       "<keras.src.callbacks.EarlyStopping at 0x1c26eef2d50>"
      ]
     },
     "execution_count": 11,
     "metadata": {},
     "output_type": "execute_result"
    }
   ],
   "source": [
    "es_callback"
   ]
  },
  {
   "cell_type": "code",
   "execution_count": 12,
   "metadata": {},
   "outputs": [
    {
     "name": "stdout",
     "output_type": "stream",
     "text": [
      "Epoch 1/1000\n"
     ]
    },
    {
     "name": "stdout",
     "output_type": "stream",
     "text": [
      "WARNING:tensorflow:From c:\\Users\\Ian\\git\\553.806_Capstone_HandGesture\\.venv\\Lib\\site-packages\\keras\\src\\utils\\tf_utils.py:492: The name tf.ragged.RaggedTensorValue is deprecated. Please use tf.compat.v1.ragged.RaggedTensorValue instead.\n",
      "\n",
      "WARNING:tensorflow:From c:\\Users\\Ian\\git\\553.806_Capstone_HandGesture\\.venv\\Lib\\site-packages\\keras\\src\\engine\\base_layer_utils.py:384: The name tf.executing_eagerly_outside_functions is deprecated. Please use tf.compat.v1.executing_eagerly_outside_functions instead.\n",
      "\n",
      "64/71 [==========================>...] - ETA: 0s - loss: 2.4232 - accuracy: 0.1810\n",
      "Epoch 1: saving model to models\\keypoint_classifier.hdf5\n",
      "71/71 [==============================] - 3s 9ms/step - loss: 2.4021 - accuracy: 0.1870 - val_loss: 2.4413 - val_accuracy: 0.1707\n",
      "Epoch 2/1000\n",
      "49/71 [===================>..........] - ETA: 0s - loss: 2.0318 - accuracy: 0.3033"
     ]
    },
    {
     "name": "stderr",
     "output_type": "stream",
     "text": [
      "c:\\Users\\Ian\\git\\553.806_Capstone_HandGesture\\.venv\\Lib\\site-packages\\keras\\src\\engine\\training.py:3103: UserWarning: You are saving your model as an HDF5 file via `model.save()`. This file format is considered legacy. We recommend using instead the native Keras format, e.g. `model.save('my_model.keras')`.\n",
      "  saving_api.save_model(\n"
     ]
    },
    {
     "name": "stdout",
     "output_type": "stream",
     "text": [
      "66/71 [==========================>...] - ETA: 0s - loss: 2.0180 - accuracy: 0.3093\n",
      "Epoch 2: saving model to models\\keypoint_classifier.hdf5\n",
      "71/71 [==============================] - 0s 5ms/step - loss: 2.0083 - accuracy: 0.3136 - val_loss: 2.2936 - val_accuracy: 0.2257\n",
      "Epoch 3/1000\n",
      "62/71 [=========================>....] - ETA: 0s - loss: 1.8410 - accuracy: 0.3643\n",
      "Epoch 3: saving model to models\\keypoint_classifier.hdf5\n",
      "71/71 [==============================] - 0s 5ms/step - loss: 1.8322 - accuracy: 0.3691 - val_loss: 1.9539 - val_accuracy: 0.3757\n",
      "Epoch 4/1000\n",
      "60/71 [========================>.....] - ETA: 0s - loss: 1.7203 - accuracy: 0.4128\n",
      "Epoch 4: saving model to models\\keypoint_classifier.hdf5\n",
      "71/71 [==============================] - 0s 5ms/step - loss: 1.7115 - accuracy: 0.4159 - val_loss: 1.6015 - val_accuracy: 0.5000\n",
      "Epoch 5/1000\n",
      "62/71 [=========================>....] - ETA: 0s - loss: 1.5808 - accuracy: 0.4608\n",
      "Epoch 5: saving model to models\\keypoint_classifier.hdf5\n",
      "71/71 [==============================] - 0s 5ms/step - loss: 1.5767 - accuracy: 0.4626 - val_loss: 1.4561 - val_accuracy: 0.5210\n",
      "Epoch 6/1000\n",
      "70/71 [============================>.] - ETA: 0s - loss: 1.4156 - accuracy: 0.5185\n",
      "Epoch 6: saving model to models\\keypoint_classifier.hdf5\n",
      "71/71 [==============================] - 0s 4ms/step - loss: 1.4166 - accuracy: 0.5183 - val_loss: 1.2124 - val_accuracy: 0.6067\n",
      "Epoch 7/1000\n",
      "71/71 [==============================] - ETA: 0s - loss: 1.2932 - accuracy: 0.5617\n",
      "Epoch 7: saving model to models\\keypoint_classifier.hdf5\n",
      "71/71 [==============================] - 0s 4ms/step - loss: 1.2932 - accuracy: 0.5617 - val_loss: 0.8934 - val_accuracy: 0.7517\n",
      "Epoch 8/1000\n",
      "71/71 [==============================] - ETA: 0s - loss: 1.1763 - accuracy: 0.5954\n",
      "Epoch 8: saving model to models\\keypoint_classifier.hdf5\n",
      "71/71 [==============================] - 0s 4ms/step - loss: 1.1763 - accuracy: 0.5954 - val_loss: 0.8349 - val_accuracy: 0.7557\n",
      "Epoch 9/1000\n",
      "55/71 [======================>.......] - ETA: 0s - loss: 1.0741 - accuracy: 0.6305\n",
      "Epoch 9: saving model to models\\keypoint_classifier.hdf5\n",
      "71/71 [==============================] - 0s 4ms/step - loss: 1.0589 - accuracy: 0.6339 - val_loss: 0.6703 - val_accuracy: 0.7657\n",
      "Epoch 10/1000\n",
      "55/71 [======================>.......] - ETA: 0s - loss: 0.9835 - accuracy: 0.6621\n",
      "Epoch 10: saving model to models\\keypoint_classifier.hdf5\n",
      "71/71 [==============================] - 0s 4ms/step - loss: 0.9721 - accuracy: 0.6633 - val_loss: 0.5238 - val_accuracy: 0.8390\n",
      "Epoch 11/1000\n",
      "71/71 [==============================] - ETA: 0s - loss: 0.8939 - accuracy: 0.6904\n",
      "Epoch 11: saving model to models\\keypoint_classifier.hdf5\n",
      "71/71 [==============================] - 0s 4ms/step - loss: 0.8939 - accuracy: 0.6904 - val_loss: 0.5251 - val_accuracy: 0.8520\n",
      "Epoch 12/1000\n",
      "55/71 [======================>.......] - ETA: 0s - loss: 0.8387 - accuracy: 0.7068\n",
      "Epoch 12: saving model to models\\keypoint_classifier.hdf5\n",
      "71/71 [==============================] - 0s 4ms/step - loss: 0.8360 - accuracy: 0.7098 - val_loss: 0.3379 - val_accuracy: 0.9083\n",
      "Epoch 13/1000\n",
      "57/71 [=======================>......] - ETA: 0s - loss: 0.7668 - accuracy: 0.7379\n",
      "Epoch 13: saving model to models\\keypoint_classifier.hdf5\n",
      "71/71 [==============================] - 0s 4ms/step - loss: 0.7618 - accuracy: 0.7383 - val_loss: 0.3348 - val_accuracy: 0.9023\n",
      "Epoch 14/1000\n",
      "57/71 [=======================>......] - ETA: 0s - loss: 0.7136 - accuracy: 0.7574\n",
      "Epoch 14: saving model to models\\keypoint_classifier.hdf5\n",
      "71/71 [==============================] - 0s 4ms/step - loss: 0.7116 - accuracy: 0.7559 - val_loss: 0.3626 - val_accuracy: 0.8797\n",
      "Epoch 15/1000\n",
      "66/71 [==========================>...] - ETA: 0s - loss: 0.6702 - accuracy: 0.7680\n",
      "Epoch 15: saving model to models\\keypoint_classifier.hdf5\n",
      "71/71 [==============================] - 0s 4ms/step - loss: 0.6731 - accuracy: 0.7658 - val_loss: 0.3649 - val_accuracy: 0.8910\n",
      "Epoch 16/1000\n",
      "57/71 [=======================>......] - ETA: 0s - loss: 0.6610 - accuracy: 0.7688\n",
      "Epoch 16: saving model to models\\keypoint_classifier.hdf5\n",
      "71/71 [==============================] - 0s 4ms/step - loss: 0.6544 - accuracy: 0.7726 - val_loss: 0.3237 - val_accuracy: 0.9117\n",
      "Epoch 17/1000\n",
      "56/71 [======================>.......] - ETA: 0s - loss: 0.6320 - accuracy: 0.7771\n",
      "Epoch 17: saving model to models\\keypoint_classifier.hdf5\n",
      "71/71 [==============================] - 0s 4ms/step - loss: 0.6264 - accuracy: 0.7803 - val_loss: 0.4111 - val_accuracy: 0.8507\n",
      "Epoch 18/1000\n",
      "56/71 [======================>.......] - ETA: 0s - loss: 0.6050 - accuracy: 0.7885\n",
      "Epoch 18: saving model to models\\keypoint_classifier.hdf5\n",
      "71/71 [==============================] - 0s 4ms/step - loss: 0.5989 - accuracy: 0.7913 - val_loss: 0.3073 - val_accuracy: 0.9033\n",
      "Epoch 19/1000\n",
      "55/71 [======================>.......] - ETA: 0s - loss: 0.5589 - accuracy: 0.8003\n",
      "Epoch 19: saving model to models\\keypoint_classifier.hdf5\n",
      "71/71 [==============================] - 0s 4ms/step - loss: 0.5645 - accuracy: 0.7989 - val_loss: 0.3477 - val_accuracy: 0.8850\n",
      "Epoch 20/1000\n",
      "55/71 [======================>.......] - ETA: 0s - loss: 0.5642 - accuracy: 0.7986\n",
      "Epoch 20: saving model to models\\keypoint_classifier.hdf5\n",
      "71/71 [==============================] - 0s 4ms/step - loss: 0.5559 - accuracy: 0.8009 - val_loss: 0.2644 - val_accuracy: 0.9260\n",
      "Epoch 21/1000\n",
      "58/71 [=======================>......] - ETA: 0s - loss: 0.5483 - accuracy: 0.8044\n",
      "Epoch 21: saving model to models\\keypoint_classifier.hdf5\n",
      "71/71 [==============================] - 0s 4ms/step - loss: 0.5470 - accuracy: 0.8067 - val_loss: 0.3227 - val_accuracy: 0.9040\n",
      "Epoch 22/1000\n",
      "55/71 [======================>.......] - ETA: 0s - loss: 0.4973 - accuracy: 0.8260\n",
      "Epoch 22: saving model to models\\keypoint_classifier.hdf5\n",
      "71/71 [==============================] - 0s 4ms/step - loss: 0.5051 - accuracy: 0.8230 - val_loss: 0.2504 - val_accuracy: 0.9273\n",
      "Epoch 23/1000\n",
      "55/71 [======================>.......] - ETA: 0s - loss: 0.5155 - accuracy: 0.8141\n",
      "Epoch 23: saving model to models\\keypoint_classifier.hdf5\n",
      "71/71 [==============================] - 0s 4ms/step - loss: 0.5149 - accuracy: 0.8150 - val_loss: 0.2567 - val_accuracy: 0.9190\n",
      "Epoch 24/1000\n",
      "56/71 [======================>.......] - ETA: 0s - loss: 0.5005 - accuracy: 0.8192\n",
      "Epoch 24: saving model to models\\keypoint_classifier.hdf5\n",
      "71/71 [==============================] - 0s 4ms/step - loss: 0.4971 - accuracy: 0.8203 - val_loss: 0.2567 - val_accuracy: 0.9113\n",
      "Epoch 25/1000\n",
      "55/71 [======================>.......] - ETA: 0s - loss: 0.4872 - accuracy: 0.8250\n",
      "Epoch 25: saving model to models\\keypoint_classifier.hdf5\n",
      "71/71 [==============================] - 0s 4ms/step - loss: 0.4767 - accuracy: 0.8286 - val_loss: 0.4912 - val_accuracy: 0.8360\n",
      "Epoch 26/1000\n",
      "57/71 [=======================>......] - ETA: 0s - loss: 0.4716 - accuracy: 0.8340\n",
      "Epoch 26: saving model to models\\keypoint_classifier.hdf5\n",
      "71/71 [==============================] - 0s 4ms/step - loss: 0.4732 - accuracy: 0.8347 - val_loss: 0.2217 - val_accuracy: 0.9260\n",
      "Epoch 27/1000\n",
      "57/71 [=======================>......] - ETA: 0s - loss: 0.4638 - accuracy: 0.8354\n",
      "Epoch 27: saving model to models\\keypoint_classifier.hdf5\n",
      "71/71 [==============================] - 0s 4ms/step - loss: 0.4613 - accuracy: 0.8356 - val_loss: 0.2459 - val_accuracy: 0.9223\n",
      "Epoch 28/1000\n",
      "58/71 [=======================>......] - ETA: 0s - loss: 0.4560 - accuracy: 0.8326\n",
      "Epoch 28: saving model to models\\keypoint_classifier.hdf5\n",
      "71/71 [==============================] - 0s 4ms/step - loss: 0.4569 - accuracy: 0.8326 - val_loss: 0.2841 - val_accuracy: 0.8870\n",
      "Epoch 29/1000\n",
      "57/71 [=======================>......] - ETA: 0s - loss: 0.4761 - accuracy: 0.8347\n",
      "Epoch 29: saving model to models\\keypoint_classifier.hdf5\n",
      "71/71 [==============================] - 0s 4ms/step - loss: 0.4672 - accuracy: 0.8369 - val_loss: 0.2707 - val_accuracy: 0.9100\n",
      "Epoch 30/1000\n",
      "58/71 [=======================>......] - ETA: 0s - loss: 0.4394 - accuracy: 0.8448\n",
      "Epoch 30: saving model to models\\keypoint_classifier.hdf5\n",
      "71/71 [==============================] - 0s 4ms/step - loss: 0.4393 - accuracy: 0.8453 - val_loss: 0.3160 - val_accuracy: 0.8877\n",
      "Epoch 31/1000\n",
      "58/71 [=======================>......] - ETA: 0s - loss: 0.4337 - accuracy: 0.8467\n",
      "Epoch 31: saving model to models\\keypoint_classifier.hdf5\n",
      "71/71 [==============================] - 0s 4ms/step - loss: 0.4327 - accuracy: 0.8454 - val_loss: 0.2276 - val_accuracy: 0.9240\n",
      "Epoch 32/1000\n",
      "58/71 [=======================>......] - ETA: 0s - loss: 0.4192 - accuracy: 0.8481\n",
      "Epoch 32: saving model to models\\keypoint_classifier.hdf5\n",
      "71/71 [==============================] - 0s 4ms/step - loss: 0.4237 - accuracy: 0.8471 - val_loss: 0.2082 - val_accuracy: 0.9327\n",
      "Epoch 33/1000\n",
      "59/71 [=======================>......] - ETA: 0s - loss: 0.4117 - accuracy: 0.8520\n",
      "Epoch 33: saving model to models\\keypoint_classifier.hdf5\n",
      "71/71 [==============================] - 0s 4ms/step - loss: 0.4171 - accuracy: 0.8504 - val_loss: 0.2375 - val_accuracy: 0.9383\n",
      "Epoch 34/1000\n",
      "58/71 [=======================>......] - ETA: 0s - loss: 0.4253 - accuracy: 0.8486\n",
      "Epoch 34: saving model to models\\keypoint_classifier.hdf5\n",
      "71/71 [==============================] - 0s 4ms/step - loss: 0.4190 - accuracy: 0.8506 - val_loss: 0.3776 - val_accuracy: 0.8420\n",
      "Epoch 35/1000\n",
      "58/71 [=======================>......] - ETA: 0s - loss: 0.4237 - accuracy: 0.8491\n",
      "Epoch 35: saving model to models\\keypoint_classifier.hdf5\n",
      "71/71 [==============================] - 0s 4ms/step - loss: 0.4175 - accuracy: 0.8506 - val_loss: 0.2154 - val_accuracy: 0.9263\n",
      "Epoch 36/1000\n",
      "58/71 [=======================>......] - ETA: 0s - loss: 0.3943 - accuracy: 0.8567\n",
      "Epoch 36: saving model to models\\keypoint_classifier.hdf5\n",
      "71/71 [==============================] - 0s 4ms/step - loss: 0.4025 - accuracy: 0.8542 - val_loss: 0.2541 - val_accuracy: 0.9167\n",
      "Epoch 37/1000\n",
      "59/71 [=======================>......] - ETA: 0s - loss: 0.3927 - accuracy: 0.8581\n",
      "Epoch 37: saving model to models\\keypoint_classifier.hdf5\n",
      "71/71 [==============================] - 0s 4ms/step - loss: 0.3921 - accuracy: 0.8592 - val_loss: 0.2446 - val_accuracy: 0.9143\n",
      "Epoch 38/1000\n",
      "58/71 [=======================>......] - ETA: 0s - loss: 0.3887 - accuracy: 0.8626\n",
      "Epoch 38: saving model to models\\keypoint_classifier.hdf5\n",
      "71/71 [==============================] - 0s 4ms/step - loss: 0.3876 - accuracy: 0.8618 - val_loss: 0.3438 - val_accuracy: 0.8923\n",
      "Epoch 39/1000\n",
      "58/71 [=======================>......] - ETA: 0s - loss: 0.3902 - accuracy: 0.8666\n",
      "Epoch 39: saving model to models\\keypoint_classifier.hdf5\n",
      "71/71 [==============================] - 0s 4ms/step - loss: 0.3884 - accuracy: 0.8656 - val_loss: 0.2134 - val_accuracy: 0.9247\n",
      "Epoch 40/1000\n",
      "58/71 [=======================>......] - ETA: 0s - loss: 0.3748 - accuracy: 0.8734\n",
      "Epoch 40: saving model to models\\keypoint_classifier.hdf5\n",
      "71/71 [==============================] - 0s 4ms/step - loss: 0.3749 - accuracy: 0.8728 - val_loss: 0.3662 - val_accuracy: 0.8660\n",
      "Epoch 41/1000\n",
      "58/71 [=======================>......] - ETA: 0s - loss: 0.3768 - accuracy: 0.8649\n",
      "Epoch 41: saving model to models\\keypoint_classifier.hdf5\n",
      "71/71 [==============================] - 0s 4ms/step - loss: 0.3796 - accuracy: 0.8652 - val_loss: 0.2844 - val_accuracy: 0.9023\n",
      "Epoch 42/1000\n",
      "57/71 [=======================>......] - ETA: 0s - loss: 0.3855 - accuracy: 0.8564\n",
      "Epoch 42: saving model to models\\keypoint_classifier.hdf5\n",
      "71/71 [==============================] - 0s 4ms/step - loss: 0.3757 - accuracy: 0.8613 - val_loss: 0.2111 - val_accuracy: 0.9340\n",
      "Epoch 43/1000\n",
      "56/71 [======================>.......] - ETA: 0s - loss: 0.3613 - accuracy: 0.8664\n",
      "Epoch 43: saving model to models\\keypoint_classifier.hdf5\n",
      "71/71 [==============================] - 0s 4ms/step - loss: 0.3615 - accuracy: 0.8683 - val_loss: 0.1943 - val_accuracy: 0.9453\n",
      "Epoch 44/1000\n",
      "63/71 [=========================>....] - ETA: 0s - loss: 0.3657 - accuracy: 0.8695\n",
      "Epoch 44: saving model to models\\keypoint_classifier.hdf5\n",
      "71/71 [==============================] - 0s 5ms/step - loss: 0.3648 - accuracy: 0.8697 - val_loss: 0.2276 - val_accuracy: 0.9330\n",
      "Epoch 45/1000\n",
      "70/71 [============================>.] - ETA: 0s - loss: 0.3636 - accuracy: 0.8653\n",
      "Epoch 45: saving model to models\\keypoint_classifier.hdf5\n",
      "71/71 [==============================] - 0s 4ms/step - loss: 0.3635 - accuracy: 0.8654 - val_loss: 0.2818 - val_accuracy: 0.8937\n",
      "Epoch 46/1000\n",
      "56/71 [======================>.......] - ETA: 0s - loss: 0.3530 - accuracy: 0.8733\n",
      "Epoch 46: saving model to models\\keypoint_classifier.hdf5\n",
      "71/71 [==============================] - 0s 4ms/step - loss: 0.3497 - accuracy: 0.8743 - val_loss: 0.2968 - val_accuracy: 0.8983\n",
      "Epoch 47/1000\n",
      "58/71 [=======================>......] - ETA: 0s - loss: 0.3597 - accuracy: 0.8718\n",
      "Epoch 47: saving model to models\\keypoint_classifier.hdf5\n",
      "71/71 [==============================] - 0s 5ms/step - loss: 0.3625 - accuracy: 0.8699 - val_loss: 0.1852 - val_accuracy: 0.9463\n",
      "Epoch 48/1000\n",
      "53/71 [=====================>........] - ETA: 0s - loss: 0.3657 - accuracy: 0.8703\n",
      "Epoch 48: saving model to models\\keypoint_classifier.hdf5\n",
      "71/71 [==============================] - 0s 4ms/step - loss: 0.3631 - accuracy: 0.8702 - val_loss: 0.2328 - val_accuracy: 0.9327\n",
      "Epoch 49/1000\n",
      "55/71 [======================>.......] - ETA: 0s - loss: 0.3521 - accuracy: 0.8726\n",
      "Epoch 49: saving model to models\\keypoint_classifier.hdf5\n",
      "71/71 [==============================] - 0s 4ms/step - loss: 0.3508 - accuracy: 0.8733 - val_loss: 0.1937 - val_accuracy: 0.9350\n",
      "Epoch 50/1000\n",
      "65/71 [==========================>...] - ETA: 0s - loss: 0.3233 - accuracy: 0.8834\n",
      "Epoch 50: saving model to models\\keypoint_classifier.hdf5\n",
      "71/71 [==============================] - 0s 5ms/step - loss: 0.3242 - accuracy: 0.8832 - val_loss: 0.2655 - val_accuracy: 0.9153\n",
      "Epoch 51/1000\n",
      "58/71 [=======================>......] - ETA: 0s - loss: 0.3386 - accuracy: 0.8766\n",
      "Epoch 51: saving model to models\\keypoint_classifier.hdf5\n",
      "71/71 [==============================] - 0s 4ms/step - loss: 0.3330 - accuracy: 0.8786 - val_loss: 0.2213 - val_accuracy: 0.9293\n",
      "Epoch 52/1000\n",
      "58/71 [=======================>......] - ETA: 0s - loss: 0.3206 - accuracy: 0.8881\n",
      "Epoch 52: saving model to models\\keypoint_classifier.hdf5\n",
      "71/71 [==============================] - 0s 4ms/step - loss: 0.3205 - accuracy: 0.8886 - val_loss: 0.2032 - val_accuracy: 0.9383\n",
      "Epoch 53/1000\n",
      "58/71 [=======================>......] - ETA: 0s - loss: 0.3414 - accuracy: 0.8768\n",
      "Epoch 53: saving model to models\\keypoint_classifier.hdf5\n",
      "71/71 [==============================] - 0s 4ms/step - loss: 0.3419 - accuracy: 0.8772 - val_loss: 0.2399 - val_accuracy: 0.9217\n",
      "Epoch 54/1000\n",
      "57/71 [=======================>......] - ETA: 0s - loss: 0.3315 - accuracy: 0.8832\n",
      "Epoch 54: saving model to models\\keypoint_classifier.hdf5\n",
      "71/71 [==============================] - 0s 4ms/step - loss: 0.3261 - accuracy: 0.8850 - val_loss: 0.2078 - val_accuracy: 0.9327\n",
      "Epoch 55/1000\n",
      "57/71 [=======================>......] - ETA: 0s - loss: 0.3249 - accuracy: 0.8834\n",
      "Epoch 55: saving model to models\\keypoint_classifier.hdf5\n",
      "71/71 [==============================] - 0s 4ms/step - loss: 0.3273 - accuracy: 0.8833 - val_loss: 0.1872 - val_accuracy: 0.9390\n",
      "Epoch 56/1000\n",
      "56/71 [======================>.......] - ETA: 0s - loss: 0.3268 - accuracy: 0.8852\n",
      "Epoch 56: saving model to models\\keypoint_classifier.hdf5\n",
      "71/71 [==============================] - 0s 4ms/step - loss: 0.3302 - accuracy: 0.8839 - val_loss: 0.2548 - val_accuracy: 0.9117\n",
      "Epoch 57/1000\n",
      "57/71 [=======================>......] - ETA: 0s - loss: 0.3328 - accuracy: 0.8801\n",
      "Epoch 57: saving model to models\\keypoint_classifier.hdf5\n",
      "71/71 [==============================] - 0s 4ms/step - loss: 0.3346 - accuracy: 0.8789 - val_loss: 0.2557 - val_accuracy: 0.9057\n",
      "Epoch 58/1000\n",
      "57/71 [=======================>......] - ETA: 0s - loss: 0.3228 - accuracy: 0.8899\n",
      "Epoch 58: saving model to models\\keypoint_classifier.hdf5\n",
      "71/71 [==============================] - 0s 4ms/step - loss: 0.3152 - accuracy: 0.8919 - val_loss: 0.1744 - val_accuracy: 0.9543\n",
      "Epoch 59/1000\n",
      "58/71 [=======================>......] - ETA: 0s - loss: 0.3142 - accuracy: 0.8883\n",
      "Epoch 59: saving model to models\\keypoint_classifier.hdf5\n",
      "71/71 [==============================] - 0s 4ms/step - loss: 0.3182 - accuracy: 0.8882 - val_loss: 0.3141 - val_accuracy: 0.9013\n",
      "Epoch 60/1000\n",
      "58/71 [=======================>......] - ETA: 0s - loss: 0.3182 - accuracy: 0.8831\n",
      "Epoch 60: saving model to models\\keypoint_classifier.hdf5\n",
      "71/71 [==============================] - 0s 4ms/step - loss: 0.3187 - accuracy: 0.8839 - val_loss: 0.1847 - val_accuracy: 0.9433\n",
      "Epoch 61/1000\n",
      "57/71 [=======================>......] - ETA: 0s - loss: 0.3088 - accuracy: 0.8906\n",
      "Epoch 61: saving model to models\\keypoint_classifier.hdf5\n",
      "71/71 [==============================] - 0s 4ms/step - loss: 0.3126 - accuracy: 0.8909 - val_loss: 0.2155 - val_accuracy: 0.9347\n",
      "Epoch 62/1000\n",
      "57/71 [=======================>......] - ETA: 0s - loss: 0.3162 - accuracy: 0.8886\n",
      "Epoch 62: saving model to models\\keypoint_classifier.hdf5\n",
      "71/71 [==============================] - 0s 4ms/step - loss: 0.3123 - accuracy: 0.8900 - val_loss: 0.1907 - val_accuracy: 0.9410\n",
      "Epoch 63/1000\n",
      "58/71 [=======================>......] - ETA: 0s - loss: 0.3019 - accuracy: 0.8916\n",
      "Epoch 63: saving model to models\\keypoint_classifier.hdf5\n",
      "71/71 [==============================] - 0s 4ms/step - loss: 0.3003 - accuracy: 0.8917 - val_loss: 0.2155 - val_accuracy: 0.9383\n",
      "Epoch 64/1000\n",
      "58/71 [=======================>......] - ETA: 0s - loss: 0.3062 - accuracy: 0.8924\n",
      "Epoch 64: saving model to models\\keypoint_classifier.hdf5\n",
      "71/71 [==============================] - 0s 4ms/step - loss: 0.3005 - accuracy: 0.8932 - val_loss: 0.1982 - val_accuracy: 0.9353\n",
      "Epoch 65/1000\n",
      "58/71 [=======================>......] - ETA: 0s - loss: 0.2968 - accuracy: 0.8959\n",
      "Epoch 65: saving model to models\\keypoint_classifier.hdf5\n",
      "71/71 [==============================] - 0s 4ms/step - loss: 0.2992 - accuracy: 0.8944 - val_loss: 0.1937 - val_accuracy: 0.9427\n",
      "Epoch 66/1000\n",
      "58/71 [=======================>......] - ETA: 0s - loss: 0.2970 - accuracy: 0.8968\n",
      "Epoch 66: saving model to models\\keypoint_classifier.hdf5\n",
      "71/71 [==============================] - 0s 4ms/step - loss: 0.3000 - accuracy: 0.8967 - val_loss: 0.2740 - val_accuracy: 0.9203\n",
      "Epoch 67/1000\n",
      "58/71 [=======================>......] - ETA: 0s - loss: 0.2977 - accuracy: 0.8935\n",
      "Epoch 67: saving model to models\\keypoint_classifier.hdf5\n",
      "71/71 [==============================] - 0s 4ms/step - loss: 0.2931 - accuracy: 0.8942 - val_loss: 0.1914 - val_accuracy: 0.9427\n",
      "Epoch 68/1000\n",
      "57/71 [=======================>......] - ETA: 0s - loss: 0.2950 - accuracy: 0.8964\n",
      "Epoch 68: saving model to models\\keypoint_classifier.hdf5\n",
      "71/71 [==============================] - 0s 4ms/step - loss: 0.2947 - accuracy: 0.8967 - val_loss: 0.2308 - val_accuracy: 0.9343\n",
      "Epoch 69/1000\n",
      "58/71 [=======================>......] - ETA: 0s - loss: 0.2951 - accuracy: 0.8936\n",
      "Epoch 69: saving model to models\\keypoint_classifier.hdf5\n",
      "71/71 [==============================] - 0s 4ms/step - loss: 0.2948 - accuracy: 0.8939 - val_loss: 0.2961 - val_accuracy: 0.9047\n",
      "Epoch 70/1000\n",
      "57/71 [=======================>......] - ETA: 0s - loss: 0.2811 - accuracy: 0.8973\n",
      "Epoch 70: saving model to models\\keypoint_classifier.hdf5\n",
      "71/71 [==============================] - 0s 4ms/step - loss: 0.2822 - accuracy: 0.8986 - val_loss: 0.2573 - val_accuracy: 0.9210\n",
      "Epoch 71/1000\n",
      "57/71 [=======================>......] - ETA: 0s - loss: 0.2836 - accuracy: 0.8928\n",
      "Epoch 71: saving model to models\\keypoint_classifier.hdf5\n",
      "71/71 [==============================] - 0s 4ms/step - loss: 0.2861 - accuracy: 0.8936 - val_loss: 0.3126 - val_accuracy: 0.8780\n",
      "Epoch 72/1000\n",
      "57/71 [=======================>......] - ETA: 0s - loss: 0.2919 - accuracy: 0.8949\n",
      "Epoch 72: saving model to models\\keypoint_classifier.hdf5\n",
      "71/71 [==============================] - 0s 4ms/step - loss: 0.2956 - accuracy: 0.8946 - val_loss: 0.1549 - val_accuracy: 0.9550\n",
      "Epoch 73/1000\n",
      "70/71 [============================>.] - ETA: 0s - loss: 0.2900 - accuracy: 0.8942\n",
      "Epoch 73: saving model to models\\keypoint_classifier.hdf5\n",
      "71/71 [==============================] - 0s 4ms/step - loss: 0.2911 - accuracy: 0.8939 - val_loss: 0.2407 - val_accuracy: 0.9197\n",
      "Epoch 74/1000\n",
      "58/71 [=======================>......] - ETA: 0s - loss: 0.2702 - accuracy: 0.9053\n",
      "Epoch 74: saving model to models\\keypoint_classifier.hdf5\n",
      "71/71 [==============================] - 0s 4ms/step - loss: 0.2761 - accuracy: 0.9031 - val_loss: 0.2429 - val_accuracy: 0.9180\n",
      "Epoch 75/1000\n",
      "58/71 [=======================>......] - ETA: 0s - loss: 0.2766 - accuracy: 0.8992\n",
      "Epoch 75: saving model to models\\keypoint_classifier.hdf5\n",
      "71/71 [==============================] - 0s 4ms/step - loss: 0.2784 - accuracy: 0.8978 - val_loss: 0.3068 - val_accuracy: 0.9037\n",
      "Epoch 76/1000\n",
      "64/71 [==========================>...] - ETA: 0s - loss: 0.2862 - accuracy: 0.8987\n",
      "Epoch 76: saving model to models\\keypoint_classifier.hdf5\n",
      "71/71 [==============================] - 0s 5ms/step - loss: 0.2895 - accuracy: 0.8968 - val_loss: 0.2385 - val_accuracy: 0.9167\n",
      "Epoch 77/1000\n",
      "57/71 [=======================>......] - ETA: 0s - loss: 0.2978 - accuracy: 0.8943\n",
      "Epoch 77: saving model to models\\keypoint_classifier.hdf5\n",
      "71/71 [==============================] - 0s 4ms/step - loss: 0.3003 - accuracy: 0.8931 - val_loss: 0.1949 - val_accuracy: 0.9387\n",
      "Epoch 78/1000\n",
      "56/71 [======================>.......] - ETA: 0s - loss: 0.2760 - accuracy: 0.8991\n",
      "Epoch 78: saving model to models\\keypoint_classifier.hdf5\n",
      "71/71 [==============================] - 0s 4ms/step - loss: 0.2753 - accuracy: 0.8989 - val_loss: 0.1845 - val_accuracy: 0.9460\n",
      "Epoch 79/1000\n",
      "57/71 [=======================>......] - ETA: 0s - loss: 0.2702 - accuracy: 0.9021\n",
      "Epoch 79: saving model to models\\keypoint_classifier.hdf5\n",
      "71/71 [==============================] - 0s 4ms/step - loss: 0.2671 - accuracy: 0.9038 - val_loss: 0.3339 - val_accuracy: 0.8777\n",
      "Epoch 80/1000\n",
      "58/71 [=======================>......] - ETA: 0s - loss: 0.2756 - accuracy: 0.9060\n",
      "Epoch 80: saving model to models\\keypoint_classifier.hdf5\n",
      "71/71 [==============================] - 0s 4ms/step - loss: 0.2696 - accuracy: 0.9068 - val_loss: 0.2222 - val_accuracy: 0.9307\n",
      "Epoch 81/1000\n",
      "57/71 [=======================>......] - ETA: 0s - loss: 0.2592 - accuracy: 0.9069\n",
      "Epoch 81: saving model to models\\keypoint_classifier.hdf5\n",
      "71/71 [==============================] - 0s 4ms/step - loss: 0.2691 - accuracy: 0.9051 - val_loss: 0.2907 - val_accuracy: 0.9063\n",
      "Epoch 82/1000\n",
      "59/71 [=======================>......] - ETA: 0s - loss: 0.2625 - accuracy: 0.9060\n",
      "Epoch 82: saving model to models\\keypoint_classifier.hdf5\n",
      "71/71 [==============================] - 0s 4ms/step - loss: 0.2681 - accuracy: 0.9043 - val_loss: 0.1828 - val_accuracy: 0.9433\n",
      "Epoch 83/1000\n",
      "58/71 [=======================>......] - ETA: 0s - loss: 0.2683 - accuracy: 0.9030\n",
      "Epoch 83: saving model to models\\keypoint_classifier.hdf5\n",
      "71/71 [==============================] - 0s 4ms/step - loss: 0.2691 - accuracy: 0.9026 - val_loss: 0.2455 - val_accuracy: 0.9197\n",
      "Epoch 84/1000\n",
      "58/71 [=======================>......] - ETA: 0s - loss: 0.2665 - accuracy: 0.9017\n",
      "Epoch 84: saving model to models\\keypoint_classifier.hdf5\n",
      "71/71 [==============================] - 0s 4ms/step - loss: 0.2665 - accuracy: 0.9024 - val_loss: 0.2432 - val_accuracy: 0.9190\n",
      "Epoch 85/1000\n",
      "57/71 [=======================>......] - ETA: 0s - loss: 0.2604 - accuracy: 0.9084\n",
      "Epoch 85: saving model to models\\keypoint_classifier.hdf5\n",
      "71/71 [==============================] - 0s 4ms/step - loss: 0.2629 - accuracy: 0.9077 - val_loss: 0.2963 - val_accuracy: 0.8950\n",
      "Epoch 86/1000\n",
      "57/71 [=======================>......] - ETA: 0s - loss: 0.2642 - accuracy: 0.9057\n",
      "Epoch 86: saving model to models\\keypoint_classifier.hdf5\n",
      "71/71 [==============================] - 0s 4ms/step - loss: 0.2623 - accuracy: 0.9067 - val_loss: 0.2599 - val_accuracy: 0.9050\n",
      "Epoch 87/1000\n",
      "58/71 [=======================>......] - ETA: 0s - loss: 0.2634 - accuracy: 0.9054\n",
      "Epoch 87: saving model to models\\keypoint_classifier.hdf5\n",
      "71/71 [==============================] - 0s 4ms/step - loss: 0.2652 - accuracy: 0.9053 - val_loss: 0.1559 - val_accuracy: 0.9523\n",
      "Epoch 88/1000\n",
      "58/71 [=======================>......] - ETA: 0s - loss: 0.2587 - accuracy: 0.9079\n",
      "Epoch 88: saving model to models\\keypoint_classifier.hdf5\n",
      "71/71 [==============================] - 0s 4ms/step - loss: 0.2591 - accuracy: 0.9080 - val_loss: 0.1702 - val_accuracy: 0.9550\n",
      "Epoch 89/1000\n",
      "57/71 [=======================>......] - ETA: 0s - loss: 0.2612 - accuracy: 0.9035\n",
      "Epoch 89: saving model to models\\keypoint_classifier.hdf5\n",
      "71/71 [==============================] - 0s 4ms/step - loss: 0.2601 - accuracy: 0.9047 - val_loss: 0.2154 - val_accuracy: 0.9343\n",
      "Epoch 90/1000\n",
      "58/71 [=======================>......] - ETA: 0s - loss: 0.2629 - accuracy: 0.9071\n",
      "Epoch 90: saving model to models\\keypoint_classifier.hdf5\n",
      "71/71 [==============================] - 0s 4ms/step - loss: 0.2626 - accuracy: 0.9089 - val_loss: 0.1601 - val_accuracy: 0.9543\n",
      "Epoch 91/1000\n",
      "58/71 [=======================>......] - ETA: 0s - loss: 0.2596 - accuracy: 0.9079\n",
      "Epoch 91: saving model to models\\keypoint_classifier.hdf5\n",
      "71/71 [==============================] - 0s 4ms/step - loss: 0.2526 - accuracy: 0.9099 - val_loss: 0.2776 - val_accuracy: 0.9133\n",
      "Epoch 92/1000\n",
      "59/71 [=======================>......] - ETA: 0s - loss: 0.2692 - accuracy: 0.9056\n",
      "Epoch 92: saving model to models\\keypoint_classifier.hdf5\n",
      "71/71 [==============================] - 0s 4ms/step - loss: 0.2657 - accuracy: 0.9060 - val_loss: 0.2204 - val_accuracy: 0.9300\n",
      "Epoch 93/1000\n",
      "57/71 [=======================>......] - ETA: 0s - loss: 0.2499 - accuracy: 0.9104\n",
      "Epoch 93: saving model to models\\keypoint_classifier.hdf5\n",
      "71/71 [==============================] - 0s 4ms/step - loss: 0.2493 - accuracy: 0.9116 - val_loss: 0.2146 - val_accuracy: 0.9300\n",
      "Epoch 94/1000\n",
      "58/71 [=======================>......] - ETA: 0s - loss: 0.2557 - accuracy: 0.9077\n",
      "Epoch 94: saving model to models\\keypoint_classifier.hdf5\n",
      "71/71 [==============================] - 0s 4ms/step - loss: 0.2558 - accuracy: 0.9076 - val_loss: 0.3184 - val_accuracy: 0.8960\n",
      "Epoch 95/1000\n",
      "57/71 [=======================>......] - ETA: 0s - loss: 0.2477 - accuracy: 0.9119\n",
      "Epoch 95: saving model to models\\keypoint_classifier.hdf5\n",
      "71/71 [==============================] - 0s 4ms/step - loss: 0.2484 - accuracy: 0.9117 - val_loss: 0.1726 - val_accuracy: 0.9433\n",
      "Epoch 96/1000\n",
      "57/71 [=======================>......] - ETA: 0s - loss: 0.2579 - accuracy: 0.9104\n",
      "Epoch 96: saving model to models\\keypoint_classifier.hdf5\n",
      "71/71 [==============================] - 0s 4ms/step - loss: 0.2593 - accuracy: 0.9109 - val_loss: 0.1676 - val_accuracy: 0.9473\n",
      "Epoch 97/1000\n",
      "61/71 [========================>.....] - ETA: 0s - loss: 0.2616 - accuracy: 0.9046\n",
      "Epoch 97: saving model to models\\keypoint_classifier.hdf5\n",
      "71/71 [==============================] - 0s 5ms/step - loss: 0.2640 - accuracy: 0.9040 - val_loss: 0.1868 - val_accuracy: 0.9430\n",
      "Epoch 98/1000\n",
      "65/71 [==========================>...] - ETA: 0s - loss: 0.2524 - accuracy: 0.9087\n",
      "Epoch 98: saving model to models\\keypoint_classifier.hdf5\n",
      "71/71 [==============================] - 0s 5ms/step - loss: 0.2508 - accuracy: 0.9097 - val_loss: 0.1611 - val_accuracy: 0.9557\n",
      "Epoch 99/1000\n",
      "57/71 [=======================>......] - ETA: 0s - loss: 0.2508 - accuracy: 0.9104\n",
      "Epoch 99: saving model to models\\keypoint_classifier.hdf5\n",
      "71/71 [==============================] - 0s 4ms/step - loss: 0.2534 - accuracy: 0.9104 - val_loss: 0.1699 - val_accuracy: 0.9483\n",
      "Epoch 100/1000\n",
      "57/71 [=======================>......] - ETA: 0s - loss: 0.2476 - accuracy: 0.9115\n",
      "Epoch 100: saving model to models\\keypoint_classifier.hdf5\n",
      "71/71 [==============================] - 0s 4ms/step - loss: 0.2504 - accuracy: 0.9101 - val_loss: 0.1519 - val_accuracy: 0.9573\n",
      "Epoch 101/1000\n",
      "58/71 [=======================>......] - ETA: 0s - loss: 0.2559 - accuracy: 0.9099\n",
      "Epoch 101: saving model to models\\keypoint_classifier.hdf5\n",
      "71/71 [==============================] - 0s 4ms/step - loss: 0.2562 - accuracy: 0.9099 - val_loss: 0.1419 - val_accuracy: 0.9587\n",
      "Epoch 102/1000\n",
      "57/71 [=======================>......] - ETA: 0s - loss: 0.2469 - accuracy: 0.9095\n",
      "Epoch 102: saving model to models\\keypoint_classifier.hdf5\n",
      "71/71 [==============================] - 0s 4ms/step - loss: 0.2467 - accuracy: 0.9111 - val_loss: 0.1872 - val_accuracy: 0.9400\n",
      "Epoch 103/1000\n",
      "57/71 [=======================>......] - ETA: 0s - loss: 0.2493 - accuracy: 0.9106\n",
      "Epoch 103: saving model to models\\keypoint_classifier.hdf5\n",
      "71/71 [==============================] - 0s 4ms/step - loss: 0.2578 - accuracy: 0.9073 - val_loss: 0.1613 - val_accuracy: 0.9557\n",
      "Epoch 104/1000\n",
      "58/71 [=======================>......] - ETA: 0s - loss: 0.2446 - accuracy: 0.9102\n",
      "Epoch 104: saving model to models\\keypoint_classifier.hdf5\n",
      "71/71 [==============================] - 0s 4ms/step - loss: 0.2503 - accuracy: 0.9086 - val_loss: 0.2325 - val_accuracy: 0.9153\n",
      "Epoch 105/1000\n",
      "58/71 [=======================>......] - ETA: 0s - loss: 0.2538 - accuracy: 0.9111\n",
      "Epoch 105: saving model to models\\keypoint_classifier.hdf5\n",
      "71/71 [==============================] - 0s 4ms/step - loss: 0.2565 - accuracy: 0.9090 - val_loss: 0.1610 - val_accuracy: 0.9533\n",
      "Epoch 106/1000\n",
      "58/71 [=======================>......] - ETA: 0s - loss: 0.2589 - accuracy: 0.9052\n",
      "Epoch 106: saving model to models\\keypoint_classifier.hdf5\n",
      "71/71 [==============================] - 0s 4ms/step - loss: 0.2563 - accuracy: 0.9060 - val_loss: 0.2055 - val_accuracy: 0.9327\n",
      "Epoch 107/1000\n",
      "57/71 [=======================>......] - ETA: 0s - loss: 0.2501 - accuracy: 0.9091\n",
      "Epoch 107: saving model to models\\keypoint_classifier.hdf5\n",
      "71/71 [==============================] - 0s 4ms/step - loss: 0.2550 - accuracy: 0.9077 - val_loss: 0.1850 - val_accuracy: 0.9413\n",
      "Epoch 108/1000\n",
      "70/71 [============================>.] - ETA: 0s - loss: 0.2465 - accuracy: 0.9077\n",
      "Epoch 108: saving model to models\\keypoint_classifier.hdf5\n",
      "71/71 [==============================] - 0s 4ms/step - loss: 0.2473 - accuracy: 0.9073 - val_loss: 0.2012 - val_accuracy: 0.9297\n",
      "Epoch 109/1000\n",
      "58/71 [=======================>......] - ETA: 0s - loss: 0.2461 - accuracy: 0.9100\n",
      "Epoch 109: saving model to models\\keypoint_classifier.hdf5\n",
      "71/71 [==============================] - 0s 4ms/step - loss: 0.2461 - accuracy: 0.9116 - val_loss: 0.1617 - val_accuracy: 0.9520\n",
      "Epoch 110/1000\n",
      "58/71 [=======================>......] - ETA: 0s - loss: 0.2410 - accuracy: 0.9120\n",
      "Epoch 110: saving model to models\\keypoint_classifier.hdf5\n",
      "71/71 [==============================] - 0s 4ms/step - loss: 0.2380 - accuracy: 0.9132 - val_loss: 0.1987 - val_accuracy: 0.9313\n",
      "Epoch 111/1000\n",
      "57/71 [=======================>......] - ETA: 0s - loss: 0.2307 - accuracy: 0.9176\n",
      "Epoch 111: saving model to models\\keypoint_classifier.hdf5\n",
      "71/71 [==============================] - 0s 4ms/step - loss: 0.2335 - accuracy: 0.9162 - val_loss: 0.3453 - val_accuracy: 0.8713\n",
      "Epoch 112/1000\n",
      "57/71 [=======================>......] - ETA: 0s - loss: 0.2450 - accuracy: 0.9091\n",
      "Epoch 112: saving model to models\\keypoint_classifier.hdf5\n",
      "71/71 [==============================] - 0s 4ms/step - loss: 0.2484 - accuracy: 0.9074 - val_loss: 0.3396 - val_accuracy: 0.8943\n",
      "Epoch 113/1000\n",
      "58/71 [=======================>......] - ETA: 0s - loss: 0.2440 - accuracy: 0.9133\n",
      "Epoch 113: saving model to models\\keypoint_classifier.hdf5\n",
      "71/71 [==============================] - 0s 4ms/step - loss: 0.2471 - accuracy: 0.9112 - val_loss: 0.2079 - val_accuracy: 0.9310\n",
      "Epoch 114/1000\n",
      "58/71 [=======================>......] - ETA: 0s - loss: 0.2480 - accuracy: 0.9135\n",
      "Epoch 114: saving model to models\\keypoint_classifier.hdf5\n",
      "71/71 [==============================] - 0s 4ms/step - loss: 0.2476 - accuracy: 0.9128 - val_loss: 0.1931 - val_accuracy: 0.9330\n",
      "Epoch 115/1000\n",
      "57/71 [=======================>......] - ETA: 0s - loss: 0.2555 - accuracy: 0.9098\n",
      "Epoch 115: saving model to models\\keypoint_classifier.hdf5\n",
      "71/71 [==============================] - 0s 4ms/step - loss: 0.2515 - accuracy: 0.9104 - val_loss: 0.2559 - val_accuracy: 0.9177\n",
      "Epoch 116/1000\n",
      "61/71 [========================>.....] - ETA: 0s - loss: 0.2291 - accuracy: 0.9169\n",
      "Epoch 116: saving model to models\\keypoint_classifier.hdf5\n",
      "71/71 [==============================] - 0s 5ms/step - loss: 0.2367 - accuracy: 0.9140 - val_loss: 0.2483 - val_accuracy: 0.9127\n",
      "Epoch 117/1000\n",
      "57/71 [=======================>......] - ETA: 0s - loss: 0.2187 - accuracy: 0.9216\n",
      "Epoch 117: saving model to models\\keypoint_classifier.hdf5\n",
      "71/71 [==============================] - 0s 4ms/step - loss: 0.2300 - accuracy: 0.9177 - val_loss: 0.3186 - val_accuracy: 0.9050\n",
      "Epoch 118/1000\n",
      "57/71 [=======================>......] - ETA: 0s - loss: 0.2441 - accuracy: 0.9112\n",
      "Epoch 118: saving model to models\\keypoint_classifier.hdf5\n",
      "71/71 [==============================] - 0s 4ms/step - loss: 0.2517 - accuracy: 0.9081 - val_loss: 0.2268 - val_accuracy: 0.9150\n",
      "Epoch 119/1000\n",
      "58/71 [=======================>......] - ETA: 0s - loss: 0.2497 - accuracy: 0.9127\n",
      "Epoch 119: saving model to models\\keypoint_classifier.hdf5\n",
      "71/71 [==============================] - 0s 4ms/step - loss: 0.2481 - accuracy: 0.9123 - val_loss: 0.2047 - val_accuracy: 0.9250\n",
      "Epoch 120/1000\n",
      "57/71 [=======================>......] - ETA: 0s - loss: 0.2433 - accuracy: 0.9123\n",
      "Epoch 120: saving model to models\\keypoint_classifier.hdf5\n",
      "71/71 [==============================] - 0s 4ms/step - loss: 0.2394 - accuracy: 0.9140 - val_loss: 0.1769 - val_accuracy: 0.9480\n",
      "Epoch 121/1000\n",
      "58/71 [=======================>......] - ETA: 0s - loss: 0.2410 - accuracy: 0.9107\n",
      "Epoch 121: saving model to models\\keypoint_classifier.hdf5\n",
      "71/71 [==============================] - 0s 4ms/step - loss: 0.2364 - accuracy: 0.9121 - val_loss: 0.1559 - val_accuracy: 0.9510\n",
      "Epoch 122/1000\n",
      "58/71 [=======================>......] - ETA: 0s - loss: 0.2399 - accuracy: 0.9124\n",
      "Epoch 122: saving model to models\\keypoint_classifier.hdf5\n",
      "71/71 [==============================] - 0s 4ms/step - loss: 0.2424 - accuracy: 0.9131 - val_loss: 0.1640 - val_accuracy: 0.9433\n",
      "Epoch 123/1000\n",
      "58/71 [=======================>......] - ETA: 0s - loss: 0.2294 - accuracy: 0.9165\n",
      "Epoch 123: saving model to models\\keypoint_classifier.hdf5\n",
      "71/71 [==============================] - 0s 4ms/step - loss: 0.2373 - accuracy: 0.9144 - val_loss: 0.3159 - val_accuracy: 0.8947\n",
      "Epoch 124/1000\n",
      "57/71 [=======================>......] - ETA: 0s - loss: 0.2392 - accuracy: 0.9153\n",
      "Epoch 124: saving model to models\\keypoint_classifier.hdf5\n",
      "71/71 [==============================] - 0s 4ms/step - loss: 0.2357 - accuracy: 0.9167 - val_loss: 0.2249 - val_accuracy: 0.9230\n",
      "Epoch 125/1000\n",
      "55/71 [======================>.......] - ETA: 0s - loss: 0.2373 - accuracy: 0.9143\n",
      "Epoch 125: saving model to models\\keypoint_classifier.hdf5\n",
      "71/71 [==============================] - 0s 4ms/step - loss: 0.2360 - accuracy: 0.9143 - val_loss: 0.1622 - val_accuracy: 0.9553\n",
      "Epoch 126/1000\n",
      "58/71 [=======================>......] - ETA: 0s - loss: 0.2163 - accuracy: 0.9232\n",
      "Epoch 126: saving model to models\\keypoint_classifier.hdf5\n",
      "71/71 [==============================] - 0s 4ms/step - loss: 0.2191 - accuracy: 0.9221 - val_loss: 0.1495 - val_accuracy: 0.9533\n",
      "Epoch 127/1000\n",
      "58/71 [=======================>......] - ETA: 0s - loss: 0.2312 - accuracy: 0.9135\n",
      "Epoch 127: saving model to models\\keypoint_classifier.hdf5\n",
      "71/71 [==============================] - 0s 4ms/step - loss: 0.2303 - accuracy: 0.9138 - val_loss: 0.2014 - val_accuracy: 0.9330\n",
      "Epoch 128/1000\n",
      "57/71 [=======================>......] - ETA: 0s - loss: 0.2401 - accuracy: 0.9163\n",
      "Epoch 128: saving model to models\\keypoint_classifier.hdf5\n",
      "71/71 [==============================] - 0s 4ms/step - loss: 0.2349 - accuracy: 0.9178 - val_loss: 0.2586 - val_accuracy: 0.9227\n",
      "Epoch 129/1000\n",
      "57/71 [=======================>......] - ETA: 0s - loss: 0.2379 - accuracy: 0.9101\n",
      "Epoch 129: saving model to models\\keypoint_classifier.hdf5\n",
      "71/71 [==============================] - 0s 4ms/step - loss: 0.2369 - accuracy: 0.9121 - val_loss: 0.1857 - val_accuracy: 0.9450\n",
      "Epoch 130/1000\n",
      "58/71 [=======================>......] - ETA: 0s - loss: 0.2429 - accuracy: 0.9124\n",
      "Epoch 130: saving model to models\\keypoint_classifier.hdf5\n",
      "71/71 [==============================] - 0s 4ms/step - loss: 0.2436 - accuracy: 0.9128 - val_loss: 0.1885 - val_accuracy: 0.9380\n",
      "Epoch 131/1000\n",
      "57/71 [=======================>......] - ETA: 0s - loss: 0.2396 - accuracy: 0.9168\n",
      "Epoch 131: saving model to models\\keypoint_classifier.hdf5\n",
      "71/71 [==============================] - 0s 4ms/step - loss: 0.2420 - accuracy: 0.9166 - val_loss: 0.1985 - val_accuracy: 0.9347\n",
      "Epoch 131: early stopping\n"
     ]
    },
    {
     "data": {
      "text/plain": [
       "<keras.src.callbacks.History at 0x1c26fb4ee10>"
      ]
     },
     "execution_count": 12,
     "metadata": {},
     "output_type": "execute_result"
    }
   ],
   "source": [
    "model.fit(\n",
    "    X_train,\n",
    "    y_train,\n",
    "    epochs=1000,\n",
    "    batch_size=128,\n",
    "    validation_data=(X_test, y_test),\n",
    "    callbacks=[cp_callback, es_callback]\n",
    ")"
   ]
  },
  {
   "cell_type": "code",
   "execution_count": 13,
   "metadata": {},
   "outputs": [
    {
     "name": "stdout",
     "output_type": "stream",
     "text": [
      " 1/24 [>.............................] - ETA: 0s - loss: 0.2477 - accuracy: 0.9219"
     ]
    },
    {
     "name": "stdout",
     "output_type": "stream",
     "text": [
      "24/24 [==============================] - 0s 2ms/step - loss: 0.1985 - accuracy: 0.9347\n"
     ]
    }
   ],
   "source": [
    "# Model evaluation\n",
    "val_loss, val_acc = model.evaluate(X_test, y_test, batch_size=128)"
   ]
  },
  {
   "cell_type": "code",
   "execution_count": 14,
   "metadata": {},
   "outputs": [],
   "source": [
    "# Loading the saved model\n",
    "model = tf.keras.models.load_model(model_save_path)"
   ]
  },
  {
   "cell_type": "code",
   "execution_count": 15,
   "metadata": {},
   "outputs": [
    {
     "name": "stdout",
     "output_type": "stream",
     "text": [
      "1/1 [==============================] - 0s 148ms/step\n",
      "[4.3832174e-11 9.9999952e-01 3.1827077e-10 7.9174404e-16 5.7388778e-09\n",
      " 1.1045242e-07 8.2777625e-11 3.5960826e-07 1.9512841e-10 4.3591757e-09\n",
      " 2.4940958e-08 3.5822074e-12]\n",
      "1\n"
     ]
    }
   ],
   "source": [
    "# Inference test\n",
    "predict_result = model.predict(np.array([X_test[0]]))\n",
    "print(np.squeeze(predict_result))\n",
    "print(np.argmax(np.squeeze(predict_result)))"
   ]
  },
  {
   "cell_type": "markdown",
   "metadata": {},
   "source": [
    "# Confusion matrix"
   ]
  },
  {
   "cell_type": "code",
   "execution_count": 16,
   "metadata": {},
   "outputs": [],
   "source": [
    "import seaborn as sns\n",
    "from sklearn.metrics import confusion_matrix, classification_report\n",
    "\n",
    "def print_confusion_matrix(y_true, y_pred, report=True):\n",
    "    labels = sorted(list(set(y_true)))\n",
    "    cmx_data = confusion_matrix(y_true, y_pred, labels=labels)\n",
    "    \n",
    "    df_cmx = pd.DataFrame(cmx_data, index=labels, columns=labels)\n",
    " \n",
    "    fig, ax = plt.subplots(figsize=(7, 6))\n",
    "    sns.heatmap(df_cmx, annot=True, fmt='g' ,square=False)\n",
    "    ax.set_ylim(len(set(y_true)), 0)\n",
    "    plt.show()\n",
    "    \n",
    "    if report:\n",
    "        print('Classification Report')\n",
    "        print(classification_report(y_test, y_pred))"
   ]
  },
  {
   "cell_type": "code",
   "execution_count": 17,
   "metadata": {},
   "outputs": [
    {
     "name": "stdout",
     "output_type": "stream",
     "text": [
      " 1/94 [..............................] - ETA: 2s"
     ]
    },
    {
     "name": "stdout",
     "output_type": "stream",
     "text": [
      "94/94 [==============================] - 0s 1ms/step\n"
     ]
    },
    {
     "data": {
      "image/png": "[encoded data removed]",
      "text/plain": [
       "<Figure size 700x600 with 2 Axes>"
      ]
     },
     "metadata": {},
     "output_type": "display_data"
    },
    {
     "name": "stdout",
     "output_type": "stream",
     "text": [
      "Classification Report\n",
      "              precision    recall  f1-score   support\n",
      "\n",
      "           0       1.00      0.83      0.90       250\n",
      "           1       1.00      0.97      0.98       248\n",
      "           2       0.91      0.99      0.95       254\n",
      "           3       0.85      0.98      0.91       259\n",
      "           4       0.89      0.94      0.91       255\n",
      "           5       1.00      0.94      0.97       261\n",
      "           6       0.89      0.91      0.90       239\n",
      "           7       0.98      0.75      0.85       235\n",
      "           8       0.96      0.99      0.97       254\n",
      "           9       0.99      0.96      0.98       236\n",
      "          10       0.83      0.95      0.89       264\n",
      "          11       0.99      0.99      0.99       245\n",
      "\n",
      "    accuracy                           0.93      3000\n",
      "   macro avg       0.94      0.93      0.93      3000\n",
      "weighted avg       0.94      0.93      0.93      3000\n",
      "\n"
     ]
    }
   ],
   "source": [
    "Y_pred = model.predict(X_test)\n",
    "y_pred = np.argmax(Y_pred, axis=1)\n",
    "\n",
    "print_confusion_matrix(y_test, y_pred)"
   ]
  }
 ],
 "metadata": {
  "kernelspec": {
   "display_name": ".venv",
   "language": "python",
   "name": "python3"
  },
  "language_info": {
   "codemirror_mode": {
    "name": "ipython",
    "version": 3
   },
   "file_extension": ".py",
   "mimetype": "text/x-python",
   "name": "python",
   "nbconvert_exporter": "python",
   "pygments_lexer": "ipython3",
   "version": "3.11.8"
  }
 },
 "nbformat": 4,
 "nbformat_minor": 2
}
